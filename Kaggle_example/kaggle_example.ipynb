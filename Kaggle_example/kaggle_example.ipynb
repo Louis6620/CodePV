{
 "cells": [
  {
   "cell_type": "code",
   "execution_count": null,
   "metadata": {},
   "outputs": [],
   "source": []
  }
 ],
 "metadata": {
  "kernelspec": {
   "display_name": "Python 3",
   "language": "python",
   "name": "python3"
  },
  "language_info": {
   "name": "python",
   "version": "3.11.2"
  },
  "orig_nbformat": 4,
  "vscode": {
   "interpreter": {
    "hash": "d2c42360af0a73f7634d15f85d9ae7a0db6c0a8a466cec6cf9ccc5376f75db8d"
   }
  }
 },
 "nbformat": 4,
 "nbformat_minor": 2
}
