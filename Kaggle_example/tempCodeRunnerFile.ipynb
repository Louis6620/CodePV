# Loading packages
library(tidyverse)
library(lubridate)
library(dplyr)
library(ggplot2)
library(patchwork)
library(scales)
library(ggcorrplot)
library(broom)

# Sizing the plots
options(repr.plot.width = 7, repr.plot.height = 5)

# Importing Generation Data
p1_gen <- read_csv("../Plant_1_Generation_Data.csv")
p2_gen <- read_csv("../Plant_2_Generation_Data.csv")

# Preparing Plant Generation Data
p1_gen <- 
    p1_gen %>%
        mutate(
            DATE_TIME = lubridate::dmy_hm(DATE_TIME),
            PLANT = "Plant 1"
        )

p2_gen <-
    p2_gen %>%
        mutate(PLANT = "Plant 2")

# Unioning Generation Data
data_gen <- union(p1_gen, p2_gen)

# Preparing Generation Data
data_gen <- 
    data_gen %>%
        mutate(
            DAY = lubridate::day(DATE_TIME),
            MONTH = lubridate::month(DATE_TIME),
            YEAR = lubridate::year(DATE_TIME)
        )

# Importing Generation Data
p1_wthr <- read_csv("../Plant_1_Weather_Sensor_Data.csv")
p2_wthr <- read_csv("../Plant_2_Weather_Sensor_Data.csv")

# Preparing Plant Weather Data
p1_wthr <-
    p1_wthr %>%
        mutate(PLANT = "Plant 1")

p2_wthr <-
    p2_wthr %>%
        mutate(PLANT = "Plant 2")

# Unioning Weather Data
data_wthr  <- union(p1_wthr, p2_wthr)

# Preparing Weather Data
data_wthr <- 
    data_wthr %>%
        mutate(
            DAY = lubridate::day(DATE_TIME),
            MONTH = lubridate::month(DATE_TIME),
            YEAR = lubridate::year(DATE_TIME)
        )