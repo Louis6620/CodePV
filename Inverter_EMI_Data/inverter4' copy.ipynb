{
 "cells": [
  {
   "cell_type": "code",
   "execution_count": 1,
   "metadata": {},
   "outputs": [],
   "source": [
    "import numpy as np # linear algebra\n",
    "import pandas as pd # data processing, CSV file I/O (e.g. pd.read_csv)\n",
    "import matplotlib.pyplot as plt\n",
    "import seaborn as sns\n",
    "from scipy.stats import stats\n",
    "from datetime import datetime\n",
    "dateparse = lambda x: datetime.strptime(x, '%m/%d/%Y %H:%M')\n",
    "import plotly.express as px\n",
    "import plotly.graph_objects as go\n",
    "from mpl_toolkits import mplot3d\n",
    "from sklearn import preprocessing, svm \n",
    "from sklearn.model_selection import train_test_split \n",
    "from sklearn.linear_model import LinearRegression "
   ]
  },
  {
   "cell_type": "code",
   "execution_count": 2,
   "metadata": {},
   "outputs": [],
   "source": [
    "df = pd.read_csv('./inv4_emi_data_t345678.csv',\n",
    "                encoding=\"utf-8-sig\",\n",
    "                header=0,\n",
    "                infer_datetime_format=True,\n",
    "                parse_dates={'datetime':[5]},\n",
    "                index_col=['datetime']\n",
    "                )\n",
    "df1 = pd.read_csv('./inv5_emi_data_t345678.csv',\n",
    "                encoding=\"utf-8-sig\",\n",
    "                header=0,\n",
    "                infer_datetime_format=True,\n",
    "                parse_dates={'datetime':[5]},\n",
    "                index_col=['datetime']\n",
    "                )\n",
    "df2 = pd.read_csv('./inv6_emi_data_t345678.csv',\n",
    "                encoding=\"utf-8-sig\",\n",
    "                header=0,\n",
    "                infer_datetime_format=True,\n",
    "                parse_dates={'datetime':[5]},\n",
    "                index_col=['datetime']\n",
    "                )\n",
    "df3 = pd.read_csv('./inv7_emi_data_t345678.csv',\n",
    "                encoding=\"utf-8-sig\",\n",
    "                header=0,\n",
    "                infer_datetime_format=True,\n",
    "                parse_dates={'datetime':[5]},\n",
    "                index_col=['datetime']\n",
    "                )"
   ]
  },
  {
   "cell_type": "code",
   "execution_count": 3,
   "metadata": {},
   "outputs": [
    {
     "name": "stdout",
     "output_type": "stream",
     "text": [
      "Số lượng mỗi trạng thái của inverter 4:\n",
      "Grid connected                               24089\n",
      "OFF : unexpected shutdown                     1600\n",
      "Standby : initialization                       537\n",
      "Standby : sunlight detection                   396\n",
      "Grid connected : power limited                 264\n",
      "Standby :  no sunlight                         167\n",
      "Standby : insulation resistance detection       23\n",
      "Communication interrupted                        5\n",
      "Starting                                         2\n",
      "Name: Inverter status, dtype: int64\n",
      "Tần số xuất hiện của từng trạng thái có Total Input power >0:\n",
      "Grid connected                               24006\n",
      "Grid connected : power limited                 252\n",
      "Standby : sunlight detection                     9\n",
      "Communication interrupted                        4\n",
      "Standby : insulation resistance detection        4\n",
      "Starting                                         2\n",
      "Name: Inverter status, dtype: int64\n"
     ]
    }
   ],
   "source": [
    "# Đếm số lượng mỗi trạng thái của inverter\n",
    "status_counts = df['Inverter status'].value_counts()\n",
    "\n",
    "# Tính tần số xuất hiện của từng trạng thái có Total Input power >0\n",
    "status_counts_with_power = df[df['Total input power(kW)'] > 0]['Inverter status'].value_counts()\n",
    "\n",
    "# In kết quả\n",
    "print('Số lượng mỗi trạng thái của inverter 4:')\n",
    "print(status_counts)\n",
    "print('Tần số xuất hiện của từng trạng thái có Total Input power >0:')\n",
    "print(status_counts_with_power)\n"
   ]
  },
  {
   "cell_type": "code",
   "execution_count": 4,
   "metadata": {},
   "outputs": [
    {
     "name": "stdout",
     "output_type": "stream",
     "text": [
      "Số lượng mỗi trạng thái của inverter 5:\n",
      "Grid connected                               24720\n",
      "OFF : unexpected shutdown                      789\n",
      "Standby : initialization                       552\n",
      "Standby : sunlight detection                   521\n",
      "Grid connected : power limited                 292\n",
      "Standby :  no sunlight                         168\n",
      "Standby : insulation resistance detection       22\n",
      "Communication interrupted                        7\n",
      "Starting                                         4\n",
      "Name: Inverter status, dtype: int64\n",
      "Tần số xuất hiện của từng trạng thái có Total Input power >0:\n",
      "Grid connected                               24541\n",
      "Grid connected : power limited                 274\n",
      "Standby : sunlight detection                    14\n",
      "Communication interrupted                        4\n",
      "Starting                                         3\n",
      "Standby : insulation resistance detection        2\n",
      "Name: Inverter status, dtype: int64\n"
     ]
    }
   ],
   "source": [
    "# Đếm số lượng mỗi trạng thái của inverter\n",
    "status_counts = df1['Inverter status'].value_counts()\n",
    "\n",
    "# Tính tần số xuất hiện của từng trạng thái có Total Input power >0\n",
    "status_counts_with_power = df1[df1['Total input power(kW)'] > 0]['Inverter status'].value_counts()\n",
    "\n",
    "# In kết quả\n",
    "print('Số lượng mỗi trạng thái của inverter 5:')\n",
    "print(status_counts)\n",
    "print('Tần số xuất hiện của từng trạng thái có Total Input power >0:')\n",
    "print(status_counts_with_power)"
   ]
  },
  {
   "cell_type": "code",
   "execution_count": 5,
   "metadata": {},
   "outputs": [
    {
     "name": "stdout",
     "output_type": "stream",
     "text": [
      "Số lượng mỗi trạng thái của inverter 6:\n",
      "Grid connected                               23356\n",
      "Grid connected : self derating                1472\n",
      "OFF : unexpected shutdown                      812\n",
      "Standby : sunlight detection                   545\n",
      "Standby : initialization                       538\n",
      "Standby :  no sunlight                         170\n",
      "Grid connected : power limited                 137\n",
      "Starting                                         8\n",
      "Standby : insulation resistance detection        8\n",
      "Communication interrupted                        4\n",
      "Name: Inverter status, dtype: int64\n",
      "Tần số xuất hiện của từng trạng thái có Total Input power >0:\n",
      "Grid connected                               23169\n",
      "Grid connected : self derating                1470\n",
      "Grid connected : power limited                 121\n",
      "Standby : sunlight detection                    12\n",
      "Starting                                         7\n",
      "Communication interrupted                        2\n",
      "Standby : insulation resistance detection        2\n",
      "Name: Inverter status, dtype: int64\n"
     ]
    }
   ],
   "source": [
    "# Đếm số lượng mỗi trạng thái của inverter\n",
    "status_counts = df2['Inverter status'].value_counts()\n",
    "\n",
    "# Tính tần số xuất hiện của từng trạng thái có Total Input power >0\n",
    "status_counts_with_power = df2[df2['Total input power(kW)'] > 0]['Inverter status'].value_counts()\n",
    "\n",
    "# In kết quả\n",
    "print('Số lượng mỗi trạng thái của inverter 6:')\n",
    "print(status_counts)\n",
    "print('Tần số xuất hiện của từng trạng thái có Total Input power >0:')\n",
    "print(status_counts_with_power)"
   ]
  },
  {
   "cell_type": "code",
   "execution_count": 6,
   "metadata": {},
   "outputs": [
    {
     "name": "stdout",
     "output_type": "stream",
     "text": [
      "Số lượng mỗi trạng thái của inverter 7:\n",
      "Grid connected                               20159\n",
      "OFF : unexpected shutdown                      785\n",
      "Standby : initialization                       472\n",
      "Standby : sunlight detection                   336\n",
      "Grid connected : power limited                 161\n",
      "Standby :  no sunlight                         132\n",
      "Standby : insulation resistance detection       24\n",
      "Communication interrupted                        7\n",
      "Starting                                         2\n",
      "Name: Inverter status, dtype: int64\n",
      "Tần số xuất hiện của từng trạng thái có Total Input power >0:\n",
      "Grid connected                               19917\n",
      "Grid connected : power limited                 154\n",
      "Standby : sunlight detection                    10\n",
      "Communication interrupted                        6\n",
      "Standby : insulation resistance detection        4\n",
      "Starting                                         2\n",
      "Name: Inverter status, dtype: int64\n"
     ]
    }
   ],
   "source": [
    "# Đếm số lượng mỗi trạng thái của inverter\n",
    "status_counts = df3['Inverter status'].value_counts()\n",
    "\n",
    "# Tính tần số xuất hiện của từng trạng thái có Total Input power >0\n",
    "status_counts_with_power = df3[df3['Total input power(kW)'] > 0]['Inverter status'].value_counts()\n",
    "\n",
    "# In kết quả\n",
    "print('Số lượng mỗi trạng thái của inverter 7:')\n",
    "print(status_counts)\n",
    "print('Tần số xuất hiện của từng trạng thái có Total Input power >0:')\n",
    "print(status_counts_with_power)"
   ]
  }
 ],
 "metadata": {
  "kernelspec": {
   "display_name": ".venv",
   "language": "python",
   "name": "python3"
  },
  "language_info": {
   "codemirror_mode": {
    "name": "ipython",
    "version": 3
   },
   "file_extension": ".py",
   "mimetype": "text/x-python",
   "name": "python",
   "nbconvert_exporter": "python",
   "pygments_lexer": "ipython3",
   "version": "3.11.2"
  },
  "orig_nbformat": 4
 },
 "nbformat": 4,
 "nbformat_minor": 2
}
