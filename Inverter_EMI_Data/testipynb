df3_1=df3.groupby(['day','month'])['Total input power(kW)'].mean()
df3_1=df3_1.reset_index()
df3_2=df3.groupby(['day','month'])['Total input power(kW)'].max()
df3_2=df3_2.reset_index()
print(df3_1)
print(df3_2)
fig = go.Figure()
from plotly.subplots import make_subplots
fig = make_subplots(rows=1, cols=2)
fig.add_trace(go.Bar(
    x=df3_1.index,
    y=df3_1['Total input power(kW)'],
    text=round(df3_1['Total input power(kW)']),  # Set the text to the values of y
    textposition='auto',
    name="Sản lượng điện trung bình theo khung giờ",
), row=1, col=1)
fig . update_traces (
    showlegend = True 
    )
fig.update_xaxes(
    rangeslider_visible=True,
)
fig.add_trace(go.Bar(
    x=df3_2.index,
    y=df3_2['Total input power(kW)'],
    name="Sản lượng điện cao nhất theo khung giờ",
    text=round(df3_2['Total input power(kW)']),  # Set the text to the values of y
    textposition='auto',
) ,row=1, col=2)
fig . update_traces (
    showlegend = True 
    )
fig.update_xaxes(
    rangeslider_visible=True,
)
fig.show()