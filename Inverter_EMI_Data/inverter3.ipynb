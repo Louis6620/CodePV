{
 "cells": [
  {
   "cell_type": "code",
   "execution_count": 59,
   "metadata": {},
   "outputs": [],
   "source": [
    "import numpy as np # linear algebra\n",
    "import pandas as pd # data processing, CSV file I/O (e.g. pd.read_csv)\n",
    "import matplotlib.pyplot as plt\n",
    "import seaborn as sns\n",
    "from scipy.stats import stats\n",
    "from datetime import datetime\n",
    "dateparse = lambda x: datetime.strptime(x, '%m/%d/%Y %H:%M')\n",
    "import plotly.express as px\n",
    "import plotly.graph_objects as go\n",
    "from mpl_toolkits import mplot3d\n",
    "from sklearn import preprocessing, svm \n",
    "from sklearn.model_selection import train_test_split \n",
    "from sklearn.linear_model import LinearRegression \n",
    "import random"
   ]
  },
  {
   "cell_type": "code",
   "execution_count": 60,
   "metadata": {},
   "outputs": [],
   "source": [
    "df = pd.read_csv('./inv3_emi_data_t345678.csv',\n",
    "                encoding=\"utf-8-sig\",\n",
    "                header=0,\n",
    "                infer_datetime_format=True,\n",
    "                parse_dates={'datetime':[5]},\n",
    "                index_col=['datetime']\n",
    "                )"
   ]
  },
  {
   "cell_type": "code",
   "execution_count": 61,
   "metadata": {},
   "outputs": [
    {
     "data": {
      "text/html": [
       "<div>\n",
       "<style scoped>\n",
       "    .dataframe tbody tr th:only-of-type {\n",
       "        vertical-align: middle;\n",
       "    }\n",
       "\n",
       "    .dataframe tbody tr th {\n",
       "        vertical-align: top;\n",
       "    }\n",
       "\n",
       "    .dataframe thead th {\n",
       "        text-align: right;\n",
       "    }\n",
       "</style>\n",
       "<table border=\"1\" class=\"dataframe\">\n",
       "  <thead>\n",
       "    <tr style=\"text-align: right;\">\n",
       "      <th></th>\n",
       "      <th>Unnamed: 0.1</th>\n",
       "      <th>Unnamed: 0</th>\n",
       "      <th>Site Name</th>\n",
       "      <th>Management Domain</th>\n",
       "      <th>ManageObject_x</th>\n",
       "      <th>Ambient temperature(℃)</th>\n",
       "      <th>PV Temperature(℃)</th>\n",
       "      <th>Wind speed(m/s)</th>\n",
       "      <th>Wind direction(°)</th>\n",
       "      <th>Daily irradiation(MJ/㎡)</th>\n",
       "      <th>...</th>\n",
       "      <th>time</th>\n",
       "      <th>year</th>\n",
       "      <th>month</th>\n",
       "      <th>day</th>\n",
       "      <th>hour</th>\n",
       "      <th>dayofweek</th>\n",
       "      <th>dayname</th>\n",
       "      <th>hourofweek</th>\n",
       "      <th>hourofmonth</th>\n",
       "      <th>date</th>\n",
       "    </tr>\n",
       "    <tr>\n",
       "      <th>datetime</th>\n",
       "      <th></th>\n",
       "      <th></th>\n",
       "      <th></th>\n",
       "      <th></th>\n",
       "      <th></th>\n",
       "      <th></th>\n",
       "      <th></th>\n",
       "      <th></th>\n",
       "      <th></th>\n",
       "      <th></th>\n",
       "      <th></th>\n",
       "      <th></th>\n",
       "      <th></th>\n",
       "      <th></th>\n",
       "      <th></th>\n",
       "      <th></th>\n",
       "      <th></th>\n",
       "      <th></th>\n",
       "      <th></th>\n",
       "      <th></th>\n",
       "      <th></th>\n",
       "    </tr>\n",
       "  </thead>\n",
       "  <tbody>\n",
       "    <tr>\n",
       "      <th>2022-03-03 14:10:00</th>\n",
       "      <td>0</td>\n",
       "      <td>0</td>\n",
       "      <td>VNM - Đà Nẵng - Nhà Máy</td>\n",
       "      <td>/BCG Energy</td>\n",
       "      <td>1020C0058922/EM001020C0058922</td>\n",
       "      <td>25.1</td>\n",
       "      <td>32.1</td>\n",
       "      <td>4.6</td>\n",
       "      <td>NaN</td>\n",
       "      <td>0.043</td>\n",
       "      <td>...</td>\n",
       "      <td>2022-03-03 14:10:00</td>\n",
       "      <td>2022</td>\n",
       "      <td>3</td>\n",
       "      <td>3</td>\n",
       "      <td>14</td>\n",
       "      <td>3</td>\n",
       "      <td>Thursday</td>\n",
       "      <td>86</td>\n",
       "      <td>62</td>\n",
       "      <td>2022-03-03</td>\n",
       "    </tr>\n",
       "    <tr>\n",
       "      <th>2022-03-03 14:15:00</th>\n",
       "      <td>1</td>\n",
       "      <td>1</td>\n",
       "      <td>VNM - Đà Nẵng - Nhà Máy</td>\n",
       "      <td>/BCG Energy</td>\n",
       "      <td>1020C0058922/EM001020C0058922</td>\n",
       "      <td>25.0</td>\n",
       "      <td>31.1</td>\n",
       "      <td>1.8</td>\n",
       "      <td>NaN</td>\n",
       "      <td>0.124</td>\n",
       "      <td>...</td>\n",
       "      <td>2022-03-03 14:15:00</td>\n",
       "      <td>2022</td>\n",
       "      <td>3</td>\n",
       "      <td>3</td>\n",
       "      <td>14</td>\n",
       "      <td>3</td>\n",
       "      <td>Thursday</td>\n",
       "      <td>86</td>\n",
       "      <td>62</td>\n",
       "      <td>2022-03-03</td>\n",
       "    </tr>\n",
       "    <tr>\n",
       "      <th>2022-03-03 14:20:00</th>\n",
       "      <td>2</td>\n",
       "      <td>2</td>\n",
       "      <td>VNM - Đà Nẵng - Nhà Máy</td>\n",
       "      <td>/BCG Energy</td>\n",
       "      <td>1020C0058922/EM001020C0058922</td>\n",
       "      <td>24.7</td>\n",
       "      <td>31.0</td>\n",
       "      <td>3.1</td>\n",
       "      <td>NaN</td>\n",
       "      <td>0.208</td>\n",
       "      <td>...</td>\n",
       "      <td>2022-03-03 14:20:00</td>\n",
       "      <td>2022</td>\n",
       "      <td>3</td>\n",
       "      <td>3</td>\n",
       "      <td>14</td>\n",
       "      <td>3</td>\n",
       "      <td>Thursday</td>\n",
       "      <td>86</td>\n",
       "      <td>62</td>\n",
       "      <td>2022-03-03</td>\n",
       "    </tr>\n",
       "    <tr>\n",
       "      <th>2022-03-03 14:25:00</th>\n",
       "      <td>3</td>\n",
       "      <td>3</td>\n",
       "      <td>VNM - Đà Nẵng - Nhà Máy</td>\n",
       "      <td>/BCG Energy</td>\n",
       "      <td>1020C0058922/EM001020C0058922</td>\n",
       "      <td>24.6</td>\n",
       "      <td>29.6</td>\n",
       "      <td>1.0</td>\n",
       "      <td>NaN</td>\n",
       "      <td>0.275</td>\n",
       "      <td>...</td>\n",
       "      <td>2022-03-03 14:25:00</td>\n",
       "      <td>2022</td>\n",
       "      <td>3</td>\n",
       "      <td>3</td>\n",
       "      <td>14</td>\n",
       "      <td>3</td>\n",
       "      <td>Thursday</td>\n",
       "      <td>86</td>\n",
       "      <td>62</td>\n",
       "      <td>2022-03-03</td>\n",
       "    </tr>\n",
       "    <tr>\n",
       "      <th>2022-03-03 14:35:00</th>\n",
       "      <td>5</td>\n",
       "      <td>5</td>\n",
       "      <td>VNM - Đà Nẵng - Nhà Máy</td>\n",
       "      <td>/BCG Energy</td>\n",
       "      <td>1020C0058922/EM001020C0058922</td>\n",
       "      <td>24.7</td>\n",
       "      <td>29.5</td>\n",
       "      <td>2.5</td>\n",
       "      <td>NaN</td>\n",
       "      <td>0.390</td>\n",
       "      <td>...</td>\n",
       "      <td>2022-03-03 14:35:00</td>\n",
       "      <td>2022</td>\n",
       "      <td>3</td>\n",
       "      <td>3</td>\n",
       "      <td>14</td>\n",
       "      <td>3</td>\n",
       "      <td>Thursday</td>\n",
       "      <td>86</td>\n",
       "      <td>62</td>\n",
       "      <td>2022-03-03</td>\n",
       "    </tr>\n",
       "  </tbody>\n",
       "</table>\n",
       "<p>5 rows × 99 columns</p>\n",
       "</div>"
      ],
      "text/plain": [
       "                     Unnamed: 0.1  Unnamed: 0                Site Name  \\\n",
       "datetime                                                                 \n",
       "2022-03-03 14:10:00             0           0  VNM - Đà Nẵng - Nhà Máy   \n",
       "2022-03-03 14:15:00             1           1  VNM - Đà Nẵng - Nhà Máy   \n",
       "2022-03-03 14:20:00             2           2  VNM - Đà Nẵng - Nhà Máy   \n",
       "2022-03-03 14:25:00             3           3  VNM - Đà Nẵng - Nhà Máy   \n",
       "2022-03-03 14:35:00             5           5  VNM - Đà Nẵng - Nhà Máy   \n",
       "\n",
       "                    Management Domain                 ManageObject_x  \\\n",
       "datetime                                                               \n",
       "2022-03-03 14:10:00       /BCG Energy  1020C0058922/EM001020C0058922   \n",
       "2022-03-03 14:15:00       /BCG Energy  1020C0058922/EM001020C0058922   \n",
       "2022-03-03 14:20:00       /BCG Energy  1020C0058922/EM001020C0058922   \n",
       "2022-03-03 14:25:00       /BCG Energy  1020C0058922/EM001020C0058922   \n",
       "2022-03-03 14:35:00       /BCG Energy  1020C0058922/EM001020C0058922   \n",
       "\n",
       "                     Ambient temperature(℃)  PV Temperature(℃)  \\\n",
       "datetime                                                         \n",
       "2022-03-03 14:10:00                    25.1               32.1   \n",
       "2022-03-03 14:15:00                    25.0               31.1   \n",
       "2022-03-03 14:20:00                    24.7               31.0   \n",
       "2022-03-03 14:25:00                    24.6               29.6   \n",
       "2022-03-03 14:35:00                    24.7               29.5   \n",
       "\n",
       "                     Wind speed(m/s)  Wind direction(°)  \\\n",
       "datetime                                                  \n",
       "2022-03-03 14:10:00              4.6                NaN   \n",
       "2022-03-03 14:15:00              1.8                NaN   \n",
       "2022-03-03 14:20:00              3.1                NaN   \n",
       "2022-03-03 14:25:00              1.0                NaN   \n",
       "2022-03-03 14:35:00              2.5                NaN   \n",
       "\n",
       "                     Daily irradiation(MJ/㎡)  ...                time  year  \\\n",
       "datetime                                      ...                             \n",
       "2022-03-03 14:10:00                    0.043  ... 2022-03-03 14:10:00  2022   \n",
       "2022-03-03 14:15:00                    0.124  ... 2022-03-03 14:15:00  2022   \n",
       "2022-03-03 14:20:00                    0.208  ... 2022-03-03 14:20:00  2022   \n",
       "2022-03-03 14:25:00                    0.275  ... 2022-03-03 14:25:00  2022   \n",
       "2022-03-03 14:35:00                    0.390  ... 2022-03-03 14:35:00  2022   \n",
       "\n",
       "                    month day  hour  dayofweek   dayname  hourofweek  \\\n",
       "datetime                                                               \n",
       "2022-03-03 14:10:00     3   3    14          3  Thursday          86   \n",
       "2022-03-03 14:15:00     3   3    14          3  Thursday          86   \n",
       "2022-03-03 14:20:00     3   3    14          3  Thursday          86   \n",
       "2022-03-03 14:25:00     3   3    14          3  Thursday          86   \n",
       "2022-03-03 14:35:00     3   3    14          3  Thursday          86   \n",
       "\n",
       "                     hourofmonth        date  \n",
       "datetime                                      \n",
       "2022-03-03 14:10:00           62  2022-03-03  \n",
       "2022-03-03 14:15:00           62  2022-03-03  \n",
       "2022-03-03 14:20:00           62  2022-03-03  \n",
       "2022-03-03 14:25:00           62  2022-03-03  \n",
       "2022-03-03 14:35:00           62  2022-03-03  \n",
       "\n",
       "[5 rows x 99 columns]"
      ]
     },
     "execution_count": 61,
     "metadata": {},
     "output_type": "execute_result"
    }
   ],
   "source": [
    "df['time'] = df.index\n",
    "df.loc[:,'year'] = pd.Series(df.index.year, df.index)\n",
    "df.loc[:,'month'] = pd.Series(df.index.month, df.index)\n",
    "df.loc[:,'day'] = pd.Series(df.index.day, df.index)\n",
    "df.loc[:,'hour'] = pd.Series(df.index.hour, df.index)\n",
    "df.loc[:,'dayofweek'] = pd.Series(df.index.dayofweek, df.index)\n",
    "df.loc[:,'dayname'] = pd.Series(df.index.day_name(), df.index)\n",
    "df.loc[:,'hourofweek'] = pd.Series((df.hour+24*df.dayofweek), df.index)\n",
    "df.loc[:,'hourofmonth'] = pd.Series((df.hour+24*(df.day-1)), df.index)\n",
    "df.loc[:,'date'] = pd.Series(df.index.date, df.index)\n",
    "df=df[(df['Inverter status']=='Grid connected')|(df['Inverter status']=='Grid connected : power limited')]\n",
    "df.head()"
   ]
  },
  {
   "cell_type": "code",
   "execution_count": 62,
   "metadata": {},
   "outputs": [
    {
     "name": "stderr",
     "output_type": "stream",
     "text": [
      "C:\\Users\\ADMIN\\AppData\\Local\\Temp\\ipykernel_8136\\2902039425.py:2: SettingWithCopyWarning:\n",
      "\n",
      "\n",
      "A value is trying to be set on a copy of a slice from a DataFrame.\n",
      "Try using .loc[row_indexer,col_indexer] = value instead\n",
      "\n",
      "See the caveats in the documentation: https://pandas.pydata.org/pandas-docs/stable/user_guide/indexing.html#returning-a-view-versus-a-copy\n",
      "\n",
      "C:\\Users\\ADMIN\\AppData\\Local\\Temp\\ipykernel_8136\\2902039425.py:3: SettingWithCopyWarning:\n",
      "\n",
      "\n",
      "A value is trying to be set on a copy of a slice from a DataFrame.\n",
      "Try using .loc[row_indexer,col_indexer] = value instead\n",
      "\n",
      "See the caveats in the documentation: https://pandas.pydata.org/pandas-docs/stable/user_guide/indexing.html#returning-a-view-versus-a-copy\n",
      "\n",
      "C:\\Users\\ADMIN\\AppData\\Local\\Temp\\ipykernel_8136\\2902039425.py:4: SettingWithCopyWarning:\n",
      "\n",
      "\n",
      "A value is trying to be set on a copy of a slice from a DataFrame.\n",
      "Try using .loc[row_indexer,col_indexer] = value instead\n",
      "\n",
      "See the caveats in the documentation: https://pandas.pydata.org/pandas-docs/stable/user_guide/indexing.html#returning-a-view-versus-a-copy\n",
      "\n"
     ]
    },
    {
     "data": {
      "application/vnd.plotly.v1+json": {
       "config": {
        "plotlyServerURL": "https://plot.ly"
       },
       "data": [
        {
         "name": "Sản lượng điện cao nhất mỗi ngày inverter 3 ",
         "showlegend": true,
         "type": "scatter",
         "x": [
          "2022-03-22",
          "2022-03-23",
          "2022-03-24",
          "2022-03-25",
          "2022-03-26",
          "2022-03-28",
          "2022-03-29",
          "2022-03-30",
          "2022-04-03",
          "2022-04-04",
          "2022-04-06",
          "2022-04-07",
          "2022-04-08",
          "2022-04-09",
          "2022-04-11",
          "2022-04-12",
          "2022-04-13",
          "2022-04-15",
          "2022-04-16",
          "2022-04-17",
          "2022-04-18",
          "2022-04-21",
          "2022-04-22",
          "2022-04-23",
          "2022-04-24",
          "2022-04-25",
          "2022-04-26",
          "2022-04-27",
          "2022-04-28",
          "2022-04-29",
          "2022-05-05",
          "2022-05-06",
          "2022-05-07",
          "2022-05-09",
          "2022-05-10",
          "2022-05-11",
          "2022-05-13",
          "2022-05-14",
          "2022-05-16",
          "2022-05-17",
          "2022-05-18",
          "2022-05-19",
          "2022-05-20",
          "2022-05-21",
          "2022-05-22",
          "2022-05-23",
          "2022-05-24",
          "2022-05-25",
          "2022-05-27",
          "2022-05-28",
          "2022-05-29",
          "2022-05-30",
          "2022-06-01",
          "2022-06-02",
          "2022-06-03",
          "2022-06-04",
          "2022-06-05",
          "2022-06-06",
          "2022-06-07",
          "2022-06-08",
          "2022-06-09",
          "2022-06-10",
          "2022-06-11",
          "2022-06-12",
          "2022-06-13",
          "2022-06-14",
          "2022-06-15",
          "2022-06-16",
          "2022-06-17",
          "2022-06-18",
          "2022-06-19",
          "2022-06-20",
          "2022-06-21",
          "2022-06-22",
          "2022-06-23",
          "2022-06-24",
          "2022-06-25",
          "2022-06-27",
          "2022-06-28",
          "2022-06-29",
          "2022-06-30",
          "2022-07-03",
          "2022-07-04",
          "2022-07-05",
          "2022-07-06",
          "2022-07-07",
          "2022-07-08",
          "2022-07-09",
          "2022-07-11",
          "2022-07-12",
          "2022-07-13",
          "2022-07-14",
          "2022-07-15",
          "2022-07-16",
          "2022-07-17",
          "2022-07-18",
          "2022-07-19",
          "2022-07-20",
          "2022-07-21",
          "2022-07-22",
          "2022-07-23",
          "2022-07-24",
          "2022-07-25",
          "2022-07-26",
          "2022-07-27",
          "2022-07-28",
          "2022-07-29",
          "2022-07-30",
          "2022-07-31",
          "2022-08-01",
          "2022-08-02",
          "2022-08-03",
          "2022-08-04",
          "2022-08-05",
          "2022-08-06",
          "2022-08-10",
          "2022-08-12",
          "2022-08-13",
          "2022-08-14",
          "2022-08-15",
          "2022-08-16",
          "2022-08-18",
          "2022-08-19",
          "2022-08-22",
          "2022-08-23",
          "2022-08-24"
         ],
         "y": [
          102.939,
          104.619,
          108.218,
          105.363,
          99.79,
          111.574,
          112.543,
          112.509,
          112.362,
          83.563,
          111.74,
          108.226,
          103.382,
          104.378,
          89.192,
          90.288,
          90.091,
          97.98,
          102.78,
          91.842,
          90.402,
          105.445,
          106.061,
          81.939,
          99.581,
          94.624,
          94.983,
          96.627,
          102.783,
          87.546,
          112.211,
          109.544,
          108.982,
          100.498,
          110.153,
          85.289,
          110.449,
          106.203,
          85.202,
          111.406,
          101.39,
          112.096,
          102.619,
          104.915,
          105.706,
          108.172,
          104.551,
          94.559,
          98.256,
          104.719,
          94.261,
          92.132,
          102.851,
          81.127,
          101.553,
          101.174,
          90.405,
          101.762,
          102.843,
          101.866,
          104.695,
          87.262,
          95.214,
          102.828,
          94.853,
          101.133,
          80.972,
          101.603,
          96.872,
          95.599,
          101.302,
          97.05,
          100.983,
          100.164,
          88.617,
          102.064,
          105.022,
          99.969,
          84.062,
          97.991,
          100.377,
          95.625,
          112.119,
          93.958,
          103.389,
          103.713,
          97.906,
          103.57,
          103.173,
          104.266,
          105.886,
          104.995,
          103.883,
          102.75,
          100.419,
          100.793,
          111.897,
          104.765,
          106.215,
          103.198,
          105.416,
          99.56,
          99.561,
          101.59,
          104.67,
          101.811,
          100.862,
          100.861,
          106.143,
          108.005,
          102.811,
          90.022,
          103.699,
          104.106,
          90.296,
          89.23,
          103.033,
          101.148,
          104.007,
          101.741,
          98.803,
          103.049,
          110.007,
          102.157,
          99.56,
          92.965
         ]
        },
        {
         "name": "Hiệu suất cao nhất mỗi ngày inverter 3 ",
         "showlegend": true,
         "type": "scatter",
         "x": [
          "2022-03-22",
          "2022-03-23",
          "2022-03-24",
          "2022-03-25",
          "2022-03-26",
          "2022-03-28",
          "2022-03-29",
          "2022-03-30",
          "2022-04-03",
          "2022-04-04",
          "2022-04-06",
          "2022-04-07",
          "2022-04-08",
          "2022-04-09",
          "2022-04-11",
          "2022-04-12",
          "2022-04-13",
          "2022-04-15",
          "2022-04-16",
          "2022-04-17",
          "2022-04-18",
          "2022-04-21",
          "2022-04-22",
          "2022-04-23",
          "2022-04-24",
          "2022-04-25",
          "2022-04-26",
          "2022-04-27",
          "2022-04-28",
          "2022-04-29",
          "2022-05-05",
          "2022-05-06",
          "2022-05-07",
          "2022-05-09",
          "2022-05-10",
          "2022-05-11",
          "2022-05-13",
          "2022-05-14",
          "2022-05-16",
          "2022-05-17",
          "2022-05-18",
          "2022-05-19",
          "2022-05-20",
          "2022-05-21",
          "2022-05-22",
          "2022-05-23",
          "2022-05-24",
          "2022-05-25",
          "2022-05-27",
          "2022-05-28",
          "2022-05-29",
          "2022-05-30",
          "2022-06-01",
          "2022-06-02",
          "2022-06-03",
          "2022-06-04",
          "2022-06-05",
          "2022-06-06",
          "2022-06-07",
          "2022-06-08",
          "2022-06-09",
          "2022-06-10",
          "2022-06-11",
          "2022-06-12",
          "2022-06-13",
          "2022-06-14",
          "2022-06-15",
          "2022-06-16",
          "2022-06-17",
          "2022-06-18",
          "2022-06-19",
          "2022-06-20",
          "2022-06-21",
          "2022-06-22",
          "2022-06-23",
          "2022-06-24",
          "2022-06-25",
          "2022-06-27",
          "2022-06-28",
          "2022-06-29",
          "2022-06-30",
          "2022-07-03",
          "2022-07-04",
          "2022-07-05",
          "2022-07-06",
          "2022-07-07",
          "2022-07-08",
          "2022-07-09",
          "2022-07-11",
          "2022-07-12",
          "2022-07-13",
          "2022-07-14",
          "2022-07-15",
          "2022-07-16",
          "2022-07-17",
          "2022-07-18",
          "2022-07-19",
          "2022-07-20",
          "2022-07-21",
          "2022-07-22",
          "2022-07-23",
          "2022-07-24",
          "2022-07-25",
          "2022-07-26",
          "2022-07-27",
          "2022-07-28",
          "2022-07-29",
          "2022-07-30",
          "2022-07-31",
          "2022-08-01",
          "2022-08-02",
          "2022-08-03",
          "2022-08-04",
          "2022-08-05",
          "2022-08-06",
          "2022-08-10",
          "2022-08-12",
          "2022-08-13",
          "2022-08-14",
          "2022-08-15",
          "2022-08-16",
          "2022-08-18",
          "2022-08-19",
          "2022-08-22",
          "2022-08-23",
          "2022-08-24"
         ],
         "y": [
          76.59748774357766,
          73.87457024697198,
          66.85535731483459,
          73.85444532614268,
          75.57265986787719,
          75.66151943309613,
          68.07112605627192,
          70.26690795866087,
          61.80350796760345,
          65.26402560002558,
          62.704548035262384,
          75.67287576763214,
          76.84702462223116,
          76.04417463873429,
          68.94570387038532,
          76.77829379955574,
          77.79091295879334,
          77.38593090087595,
          79.61679926650632,
          61.446438067457734,
          50.20545775244256,
          75.505110268627,
          76.46419300462935,
          58.17542252595279,
          76.10579767762677,
          72.55877168552732,
          74.92248735708222,
          75.86187326785408,
          75.34200547604219,
          62.90293783562533,
          64.63816993147852,
          61.64122663845026,
          76.6646517282236,
          56.62597819470506,
          65.96202183297358,
          56.33228182832315,
          65.41922049557002,
          65.60112730899488,
          56.88246437969256,
          74.14968155052958,
          58.38713602758262,
          65.52161556193994,
          60.80785473925695,
          70.05167909303609,
          79.95518911352714,
          57.84506629470382,
          68.33898574242598,
          68.0819601156634,
          75.30704952973744,
          65.76017598774453,
          61.705005866756004,
          67.45271047734391,
          76.29034709206555,
          58.66032121930246,
          74.58739584130808,
          73.39644959657129,
          66.28056391373244,
          75.00580713000382,
          73.7733392372067,
          67.5558983162863,
          66.18258231969529,
          79.17631860874785,
          74.84783897057035,
          74.56099055806585,
          69.9755897567507,
          73.83597270395735,
          61.17990439646746,
          74.96406853651773,
          72.41308350019567,
          70.3016030817641,
          73.79270497831307,
          73.1656381769966,
          74.35123383726832,
          67.40302677974348,
          65.18017056464193,
          73.80790036488511,
          73.31199639096504,
          74.18806862395074,
          65.43402244876482,
          73.35662226503665,
          74.34957207665694,
          76.29329478086967,
          73.98141152152195,
          63.891725840795175,
          75.45433072260477,
          74.49583424481675,
          74.56685716032115,
          74.20522536778932,
          62.72200704067208,
          74.22781510980002,
          69.71811210770502,
          74.6077205842509,
          74.75083638360208,
          75.18676968924117,
          74.97259117657157,
          75.174974975075,
          70.64937665337752,
          67.36683449053807,
          59.00820856575033,
          74.27552049038894,
          71.11698617528675,
          72.46993714058691,
          72.65779820797583,
          74.50488969260584,
          72.34068752199212,
          69.5460368784487,
          75.29096434787041,
          73.33877303876915,
          68.97591342401856,
          73.80920324474141,
          74.00348611860524,
          49.70988541321243,
          73.32731086721944,
          66.98093355908111,
          76.67597226037127,
          75.00197176184517,
          70.41571395786313,
          72.0088105963055,
          73.90381118576208,
          70.53701714704849,
          65.90822759096096,
          67.68173778501844,
          73.07349128723547,
          73.24311491810668,
          74.65886027900272,
          57.83787038103293
         ]
        }
       ],
       "layout": {
        "template": {
         "data": {
          "bar": [
           {
            "error_x": {
             "color": "#2a3f5f"
            },
            "error_y": {
             "color": "#2a3f5f"
            },
            "marker": {
             "line": {
              "color": "#E5ECF6",
              "width": 0.5
             },
             "pattern": {
              "fillmode": "overlay",
              "size": 10,
              "solidity": 0.2
             }
            },
            "type": "bar"
           }
          ],
          "barpolar": [
           {
            "marker": {
             "line": {
              "color": "#E5ECF6",
              "width": 0.5
             },
             "pattern": {
              "fillmode": "overlay",
              "size": 10,
              "solidity": 0.2
             }
            },
            "type": "barpolar"
           }
          ],
          "carpet": [
           {
            "aaxis": {
             "endlinecolor": "#2a3f5f",
             "gridcolor": "white",
             "linecolor": "white",
             "minorgridcolor": "white",
             "startlinecolor": "#2a3f5f"
            },
            "baxis": {
             "endlinecolor": "#2a3f5f",
             "gridcolor": "white",
             "linecolor": "white",
             "minorgridcolor": "white",
             "startlinecolor": "#2a3f5f"
            },
            "type": "carpet"
           }
          ],
          "choropleth": [
           {
            "colorbar": {
             "outlinewidth": 0,
             "ticks": ""
            },
            "type": "choropleth"
           }
          ],
          "contour": [
           {
            "colorbar": {
             "outlinewidth": 0,
             "ticks": ""
            },
            "colorscale": [
             [
              0,
              "#0d0887"
             ],
             [
              0.1111111111111111,
              "#46039f"
             ],
             [
              0.2222222222222222,
              "#7201a8"
             ],
             [
              0.3333333333333333,
              "#9c179e"
             ],
             [
              0.4444444444444444,
              "#bd3786"
             ],
             [
              0.5555555555555556,
              "#d8576b"
             ],
             [
              0.6666666666666666,
              "#ed7953"
             ],
             [
              0.7777777777777778,
              "#fb9f3a"
             ],
             [
              0.8888888888888888,
              "#fdca26"
             ],
             [
              1,
              "#f0f921"
             ]
            ],
            "type": "contour"
           }
          ],
          "contourcarpet": [
           {
            "colorbar": {
             "outlinewidth": 0,
             "ticks": ""
            },
            "type": "contourcarpet"
           }
          ],
          "heatmap": [
           {
            "colorbar": {
             "outlinewidth": 0,
             "ticks": ""
            },
            "colorscale": [
             [
              0,
              "#0d0887"
             ],
             [
              0.1111111111111111,
              "#46039f"
             ],
             [
              0.2222222222222222,
              "#7201a8"
             ],
             [
              0.3333333333333333,
              "#9c179e"
             ],
             [
              0.4444444444444444,
              "#bd3786"
             ],
             [
              0.5555555555555556,
              "#d8576b"
             ],
             [
              0.6666666666666666,
              "#ed7953"
             ],
             [
              0.7777777777777778,
              "#fb9f3a"
             ],
             [
              0.8888888888888888,
              "#fdca26"
             ],
             [
              1,
              "#f0f921"
             ]
            ],
            "type": "heatmap"
           }
          ],
          "heatmapgl": [
           {
            "colorbar": {
             "outlinewidth": 0,
             "ticks": ""
            },
            "colorscale": [
             [
              0,
              "#0d0887"
             ],
             [
              0.1111111111111111,
              "#46039f"
             ],
             [
              0.2222222222222222,
              "#7201a8"
             ],
             [
              0.3333333333333333,
              "#9c179e"
             ],
             [
              0.4444444444444444,
              "#bd3786"
             ],
             [
              0.5555555555555556,
              "#d8576b"
             ],
             [
              0.6666666666666666,
              "#ed7953"
             ],
             [
              0.7777777777777778,
              "#fb9f3a"
             ],
             [
              0.8888888888888888,
              "#fdca26"
             ],
             [
              1,
              "#f0f921"
             ]
            ],
            "type": "heatmapgl"
           }
          ],
          "histogram": [
           {
            "marker": {
             "pattern": {
              "fillmode": "overlay",
              "size": 10,
              "solidity": 0.2
             }
            },
            "type": "histogram"
           }
          ],
          "histogram2d": [
           {
            "colorbar": {
             "outlinewidth": 0,
             "ticks": ""
            },
            "colorscale": [
             [
              0,
              "#0d0887"
             ],
             [
              0.1111111111111111,
              "#46039f"
             ],
             [
              0.2222222222222222,
              "#7201a8"
             ],
             [
              0.3333333333333333,
              "#9c179e"
             ],
             [
              0.4444444444444444,
              "#bd3786"
             ],
             [
              0.5555555555555556,
              "#d8576b"
             ],
             [
              0.6666666666666666,
              "#ed7953"
             ],
             [
              0.7777777777777778,
              "#fb9f3a"
             ],
             [
              0.8888888888888888,
              "#fdca26"
             ],
             [
              1,
              "#f0f921"
             ]
            ],
            "type": "histogram2d"
           }
          ],
          "histogram2dcontour": [
           {
            "colorbar": {
             "outlinewidth": 0,
             "ticks": ""
            },
            "colorscale": [
             [
              0,
              "#0d0887"
             ],
             [
              0.1111111111111111,
              "#46039f"
             ],
             [
              0.2222222222222222,
              "#7201a8"
             ],
             [
              0.3333333333333333,
              "#9c179e"
             ],
             [
              0.4444444444444444,
              "#bd3786"
             ],
             [
              0.5555555555555556,
              "#d8576b"
             ],
             [
              0.6666666666666666,
              "#ed7953"
             ],
             [
              0.7777777777777778,
              "#fb9f3a"
             ],
             [
              0.8888888888888888,
              "#fdca26"
             ],
             [
              1,
              "#f0f921"
             ]
            ],
            "type": "histogram2dcontour"
           }
          ],
          "mesh3d": [
           {
            "colorbar": {
             "outlinewidth": 0,
             "ticks": ""
            },
            "type": "mesh3d"
           }
          ],
          "parcoords": [
           {
            "line": {
             "colorbar": {
              "outlinewidth": 0,
              "ticks": ""
             }
            },
            "type": "parcoords"
           }
          ],
          "pie": [
           {
            "automargin": true,
            "type": "pie"
           }
          ],
          "scatter": [
           {
            "fillpattern": {
             "fillmode": "overlay",
             "size": 10,
             "solidity": 0.2
            },
            "type": "scatter"
           }
          ],
          "scatter3d": [
           {
            "line": {
             "colorbar": {
              "outlinewidth": 0,
              "ticks": ""
             }
            },
            "marker": {
             "colorbar": {
              "outlinewidth": 0,
              "ticks": ""
             }
            },
            "type": "scatter3d"
           }
          ],
          "scattercarpet": [
           {
            "marker": {
             "colorbar": {
              "outlinewidth": 0,
              "ticks": ""
             }
            },
            "type": "scattercarpet"
           }
          ],
          "scattergeo": [
           {
            "marker": {
             "colorbar": {
              "outlinewidth": 0,
              "ticks": ""
             }
            },
            "type": "scattergeo"
           }
          ],
          "scattergl": [
           {
            "marker": {
             "colorbar": {
              "outlinewidth": 0,
              "ticks": ""
             }
            },
            "type": "scattergl"
           }
          ],
          "scattermapbox": [
           {
            "marker": {
             "colorbar": {
              "outlinewidth": 0,
              "ticks": ""
             }
            },
            "type": "scattermapbox"
           }
          ],
          "scatterpolar": [
           {
            "marker": {
             "colorbar": {
              "outlinewidth": 0,
              "ticks": ""
             }
            },
            "type": "scatterpolar"
           }
          ],
          "scatterpolargl": [
           {
            "marker": {
             "colorbar": {
              "outlinewidth": 0,
              "ticks": ""
             }
            },
            "type": "scatterpolargl"
           }
          ],
          "scatterternary": [
           {
            "marker": {
             "colorbar": {
              "outlinewidth": 0,
              "ticks": ""
             }
            },
            "type": "scatterternary"
           }
          ],
          "surface": [
           {
            "colorbar": {
             "outlinewidth": 0,
             "ticks": ""
            },
            "colorscale": [
             [
              0,
              "#0d0887"
             ],
             [
              0.1111111111111111,
              "#46039f"
             ],
             [
              0.2222222222222222,
              "#7201a8"
             ],
             [
              0.3333333333333333,
              "#9c179e"
             ],
             [
              0.4444444444444444,
              "#bd3786"
             ],
             [
              0.5555555555555556,
              "#d8576b"
             ],
             [
              0.6666666666666666,
              "#ed7953"
             ],
             [
              0.7777777777777778,
              "#fb9f3a"
             ],
             [
              0.8888888888888888,
              "#fdca26"
             ],
             [
              1,
              "#f0f921"
             ]
            ],
            "type": "surface"
           }
          ],
          "table": [
           {
            "cells": {
             "fill": {
              "color": "#EBF0F8"
             },
             "line": {
              "color": "white"
             }
            },
            "header": {
             "fill": {
              "color": "#C8D4E3"
             },
             "line": {
              "color": "white"
             }
            },
            "type": "table"
           }
          ]
         },
         "layout": {
          "annotationdefaults": {
           "arrowcolor": "#2a3f5f",
           "arrowhead": 0,
           "arrowwidth": 1
          },
          "autotypenumbers": "strict",
          "coloraxis": {
           "colorbar": {
            "outlinewidth": 0,
            "ticks": ""
           }
          },
          "colorscale": {
           "diverging": [
            [
             0,
             "#8e0152"
            ],
            [
             0.1,
             "#c51b7d"
            ],
            [
             0.2,
             "#de77ae"
            ],
            [
             0.3,
             "#f1b6da"
            ],
            [
             0.4,
             "#fde0ef"
            ],
            [
             0.5,
             "#f7f7f7"
            ],
            [
             0.6,
             "#e6f5d0"
            ],
            [
             0.7,
             "#b8e186"
            ],
            [
             0.8,
             "#7fbc41"
            ],
            [
             0.9,
             "#4d9221"
            ],
            [
             1,
             "#276419"
            ]
           ],
           "sequential": [
            [
             0,
             "#0d0887"
            ],
            [
             0.1111111111111111,
             "#46039f"
            ],
            [
             0.2222222222222222,
             "#7201a8"
            ],
            [
             0.3333333333333333,
             "#9c179e"
            ],
            [
             0.4444444444444444,
             "#bd3786"
            ],
            [
             0.5555555555555556,
             "#d8576b"
            ],
            [
             0.6666666666666666,
             "#ed7953"
            ],
            [
             0.7777777777777778,
             "#fb9f3a"
            ],
            [
             0.8888888888888888,
             "#fdca26"
            ],
            [
             1,
             "#f0f921"
            ]
           ],
           "sequentialminus": [
            [
             0,
             "#0d0887"
            ],
            [
             0.1111111111111111,
             "#46039f"
            ],
            [
             0.2222222222222222,
             "#7201a8"
            ],
            [
             0.3333333333333333,
             "#9c179e"
            ],
            [
             0.4444444444444444,
             "#bd3786"
            ],
            [
             0.5555555555555556,
             "#d8576b"
            ],
            [
             0.6666666666666666,
             "#ed7953"
            ],
            [
             0.7777777777777778,
             "#fb9f3a"
            ],
            [
             0.8888888888888888,
             "#fdca26"
            ],
            [
             1,
             "#f0f921"
            ]
           ]
          },
          "colorway": [
           "#636efa",
           "#EF553B",
           "#00cc96",
           "#ab63fa",
           "#FFA15A",
           "#19d3f3",
           "#FF6692",
           "#B6E880",
           "#FF97FF",
           "#FECB52"
          ],
          "font": {
           "color": "#2a3f5f"
          },
          "geo": {
           "bgcolor": "white",
           "lakecolor": "white",
           "landcolor": "#E5ECF6",
           "showlakes": true,
           "showland": true,
           "subunitcolor": "white"
          },
          "hoverlabel": {
           "align": "left"
          },
          "hovermode": "closest",
          "mapbox": {
           "style": "light"
          },
          "paper_bgcolor": "white",
          "plot_bgcolor": "#E5ECF6",
          "polar": {
           "angularaxis": {
            "gridcolor": "white",
            "linecolor": "white",
            "ticks": ""
           },
           "bgcolor": "#E5ECF6",
           "radialaxis": {
            "gridcolor": "white",
            "linecolor": "white",
            "ticks": ""
           }
          },
          "scene": {
           "xaxis": {
            "backgroundcolor": "#E5ECF6",
            "gridcolor": "white",
            "gridwidth": 2,
            "linecolor": "white",
            "showbackground": true,
            "ticks": "",
            "zerolinecolor": "white"
           },
           "yaxis": {
            "backgroundcolor": "#E5ECF6",
            "gridcolor": "white",
            "gridwidth": 2,
            "linecolor": "white",
            "showbackground": true,
            "ticks": "",
            "zerolinecolor": "white"
           },
           "zaxis": {
            "backgroundcolor": "#E5ECF6",
            "gridcolor": "white",
            "gridwidth": 2,
            "linecolor": "white",
            "showbackground": true,
            "ticks": "",
            "zerolinecolor": "white"
           }
          },
          "shapedefaults": {
           "line": {
            "color": "#2a3f5f"
           }
          },
          "ternary": {
           "aaxis": {
            "gridcolor": "white",
            "linecolor": "white",
            "ticks": ""
           },
           "baxis": {
            "gridcolor": "white",
            "linecolor": "white",
            "ticks": ""
           },
           "bgcolor": "#E5ECF6",
           "caxis": {
            "gridcolor": "white",
            "linecolor": "white",
            "ticks": ""
           }
          },
          "title": {
           "x": 0.05
          },
          "xaxis": {
           "automargin": true,
           "gridcolor": "white",
           "linecolor": "white",
           "ticks": "",
           "title": {
            "standoff": 15
           },
           "zerolinecolor": "white",
           "zerolinewidth": 2
          },
          "yaxis": {
           "automargin": true,
           "gridcolor": "white",
           "linecolor": "white",
           "ticks": "",
           "title": {
            "standoff": 15
           },
           "zerolinecolor": "white",
           "zerolinewidth": 2
          }
         }
        },
        "xaxis": {
         "rangeslider": {
          "visible": true
         }
        }
       }
      }
     },
     "metadata": {},
     "output_type": "display_data"
    }
   ],
   "source": [
    "df1=df[df.groupby(['month','date'])['Irradiance(W/㎡)'].transform(max)==df['Irradiance(W/㎡)']]\n",
    "df1.loc[:,'Tcell']=pd.Series((df1['Ambient temperature(℃)']+df1['Irradiance(W/㎡)']/800*(25-20)), df1.index)\n",
    "df1.loc[:,'Pm']=pd.Series((2.172*1.303*220*2*590*df1['Irradiance(W/㎡)']/1000*(1-0.0045*(df1['Tcell']-25))*20.5/100), df1.index)\n",
    "df1.loc[:,'Hieu suat']=pd.Series((df1['Total input power(kW)']*1000/df1['Pm']*100), df1.index)\n",
    "df1=df1[df1['Ambient temperature(℃)']>6]\n",
    "df1=df1[df1['Irradiance(W/㎡)']>300]\n",
    "df1=df1[df1['Total input power(kW)']>80]\n",
    "df1=df1[df1['Hieu suat']<80]\n",
    "fig = go.Figure()\n",
    "fig.add_trace(go.Scatter(\n",
    "    x=df1['date'],\n",
    "    y=df1['Total input power(kW)'],\n",
    "    name=\"Sản lượng điện cao nhất mỗi ngày inverter 3 \"))\n",
    "fig.add_trace(go.Scatter(\n",
    "    x=df1['date'],\n",
    "    y=df1['Hieu suat'],\n",
    "    name=\"Hiệu suất cao nhất mỗi ngày inverter 3 \"))\n",
    "fig . update_traces (\n",
    "    showlegend = True \n",
    "    )\n",
    "fig.update_xaxes(\n",
    "    rangeslider_visible=True,\n",
    ")\n",
    "fig.show()"
   ]
  },
  {
   "cell_type": "code",
   "execution_count": 63,
   "metadata": {},
   "outputs": [],
   "source": [
    "def estimate_coef(x, y): \n",
    "    # number of observations/points \n",
    "    n = np.size(x) \n",
    "  \n",
    "    # mean of x and y vector \n",
    "    m_x, m_y = np.mean(x), np.mean(y) \n",
    "  \n",
    "    # calculating cross-deviation and deviation about x \n",
    "    SS_xy = np.sum(y*x) - n*m_y*m_x \n",
    "    SS_xx = np.sum(x*x) - n*m_x*m_x \n",
    "  \n",
    "    # calculating regression coefficients \n",
    "    b_1 = SS_xy / SS_xx \n",
    "    b_0 = m_y - b_1*m_x \n",
    "  \n",
    "    return(b_0, b_1) \n",
    "  \n",
    "def plot_regression_line(x, y, b): \n",
    "    # plotting the actual points as scatter plot \n",
    "    plt.scatter(x, y, color = \"m\", \n",
    "               marker = \"o\", s = 30) \n",
    "  \n",
    "    # predicted response vector \n",
    "    y_pred = b[0] + b[1]*x \n",
    "  \n",
    "    # plotting the regression line \n",
    "    plt.plot(x, y_pred, color = \"g\") \n",
    "  \n",
    "    # putting labels \n",
    "    plt.xlabel('x') \n",
    "    plt.ylabel('y') \n",
    "  \n",
    "    # function to show plot \n",
    "    plt.show() "
   ]
  },
  {
   "cell_type": "code",
   "execution_count": 64,
   "metadata": {},
   "outputs": [
    {
     "name": "stdout",
     "output_type": "stream",
     "text": [
      "               datetime  Hieu suat  month  stt\n",
      "0   2022-03-22 12:45:00  76.597488      3    0\n",
      "1   2022-03-23 12:25:00  73.874570      3    1\n",
      "2   2022-03-24 12:25:00  66.855357      3    2\n",
      "3   2022-03-25 12:10:00  73.854445      3    3\n",
      "4   2022-03-26 12:00:00  75.572660      3    4\n",
      "..                  ...        ...    ...  ...\n",
      "121 2022-08-18 12:20:00  67.681738      8  121\n",
      "122 2022-08-19 11:35:00  73.073491      8  122\n",
      "123 2022-08-22 13:00:00  73.243115      8  123\n",
      "124 2022-08-23 11:45:00  74.658860      8  124\n",
      "125 2022-08-24 11:10:00  57.837870      8  125\n",
      "\n",
      "[126 rows x 4 columns]\n",
      "Estimated coefficients:\n",
      "b_0 = 69.48897492766784\n",
      "b_1 = 0.013017988675492904\n"
     ]
    },
    {
     "data": {
      "image/png": "[encoded data removed]",
      "text/plain": [
       "<Figure size 640x480 with 1 Axes>"
      ]
     },
     "metadata": {},
     "output_type": "display_data"
    },
    {
     "data": {
      "application/vnd.plotly.v1+json": {
       "config": {
        "plotlyServerURL": "https://plot.ly"
       },
       "data": [
        {
         "name": "Sản lượng điện cao nhất mỗi ngày inverter 3 ",
         "showlegend": true,
         "type": "scatter",
         "x": [
          "2022-03-22",
          "2022-03-23",
          "2022-03-24",
          "2022-03-25",
          "2022-03-26",
          "2022-03-28",
          "2022-03-29",
          "2022-03-30",
          "2022-04-03",
          "2022-04-04",
          "2022-04-06",
          "2022-04-07",
          "2022-04-08",
          "2022-04-09",
          "2022-04-11",
          "2022-04-12",
          "2022-04-13",
          "2022-04-15",
          "2022-04-16",
          "2022-04-17",
          "2022-04-18",
          "2022-04-21",
          "2022-04-22",
          "2022-04-23",
          "2022-04-24",
          "2022-04-25",
          "2022-04-26",
          "2022-04-27",
          "2022-04-28",
          "2022-04-29",
          "2022-05-05",
          "2022-05-06",
          "2022-05-07",
          "2022-05-09",
          "2022-05-10",
          "2022-05-11",
          "2022-05-13",
          "2022-05-14",
          "2022-05-16",
          "2022-05-17",
          "2022-05-18",
          "2022-05-19",
          "2022-05-20",
          "2022-05-21",
          "2022-05-22",
          "2022-05-23",
          "2022-05-24",
          "2022-05-25",
          "2022-05-27",
          "2022-05-28",
          "2022-05-29",
          "2022-05-30",
          "2022-06-01",
          "2022-06-02",
          "2022-06-03",
          "2022-06-04",
          "2022-06-05",
          "2022-06-06",
          "2022-06-07",
          "2022-06-08",
          "2022-06-09",
          "2022-06-10",
          "2022-06-11",
          "2022-06-12",
          "2022-06-13",
          "2022-06-14",
          "2022-06-15",
          "2022-06-16",
          "2022-06-17",
          "2022-06-18",
          "2022-06-19",
          "2022-06-20",
          "2022-06-21",
          "2022-06-22",
          "2022-06-23",
          "2022-06-24",
          "2022-06-25",
          "2022-06-27",
          "2022-06-28",
          "2022-06-29",
          "2022-06-30",
          "2022-07-03",
          "2022-07-04",
          "2022-07-05",
          "2022-07-06",
          "2022-07-07",
          "2022-07-08",
          "2022-07-09",
          "2022-07-11",
          "2022-07-12",
          "2022-07-13",
          "2022-07-14",
          "2022-07-15",
          "2022-07-16",
          "2022-07-17",
          "2022-07-18",
          "2022-07-19",
          "2022-07-20",
          "2022-07-21",
          "2022-07-22",
          "2022-07-23",
          "2022-07-24",
          "2022-07-25",
          "2022-07-26",
          "2022-07-27",
          "2022-07-28",
          "2022-07-29",
          "2022-07-30",
          "2022-07-31",
          "2022-08-01",
          "2022-08-02",
          "2022-08-03",
          "2022-08-04",
          "2022-08-05",
          "2022-08-06",
          "2022-08-10",
          "2022-08-12",
          "2022-08-13",
          "2022-08-14",
          "2022-08-15",
          "2022-08-16",
          "2022-08-18",
          "2022-08-19",
          "2022-08-22",
          "2022-08-23",
          "2022-08-24"
         ],
         "y": [
          102.939,
          104.619,
          108.218,
          105.363,
          99.79,
          111.574,
          112.543,
          112.509,
          112.362,
          83.563,
          111.74,
          108.226,
          103.382,
          104.378,
          89.192,
          90.288,
          90.091,
          97.98,
          102.78,
          91.842,
          90.402,
          105.445,
          106.061,
          81.939,
          99.581,
          94.624,
          94.983,
          96.627,
          102.783,
          87.546,
          112.211,
          109.544,
          108.982,
          100.498,
          110.153,
          85.289,
          110.449,
          106.203,
          85.202,
          111.406,
          101.39,
          112.096,
          102.619,
          104.915,
          105.706,
          108.172,
          104.551,
          94.559,
          98.256,
          104.719,
          94.261,
          92.132,
          102.851,
          81.127,
          101.553,
          101.174,
          90.405,
          101.762,
          102.843,
          101.866,
          104.695,
          87.262,
          95.214,
          102.828,
          94.853,
          101.133,
          80.972,
          101.603,
          96.872,
          95.599,
          101.302,
          97.05,
          100.983,
          100.164,
          88.617,
          102.064,
          105.022,
          99.969,
          84.062,
          97.991,
          100.377,
          95.625,
          112.119,
          93.958,
          103.389,
          103.713,
          97.906,
          103.57,
          103.173,
          104.266,
          105.886,
          104.995,
          103.883,
          102.75,
          100.419,
          100.793,
          111.897,
          104.765,
          106.215,
          103.198,
          105.416,
          99.56,
          99.561,
          101.59,
          104.67,
          101.811,
          100.862,
          100.861,
          106.143,
          108.005,
          102.811,
          90.022,
          103.699,
          104.106,
          90.296,
          89.23,
          103.033,
          101.148,
          104.007,
          101.741,
          98.803,
          103.049,
          110.007,
          102.157,
          99.56,
          92.965
         ]
        },
        {
         "name": "Hiệu suất cao nhất mỗi ngày inverter 3 ",
         "showlegend": true,
         "type": "scatter",
         "x": [
          "2022-03-22",
          "2022-03-23",
          "2022-03-24",
          "2022-03-25",
          "2022-03-26",
          "2022-03-28",
          "2022-03-29",
          "2022-03-30",
          "2022-04-03",
          "2022-04-04",
          "2022-04-06",
          "2022-04-07",
          "2022-04-08",
          "2022-04-09",
          "2022-04-11",
          "2022-04-12",
          "2022-04-13",
          "2022-04-15",
          "2022-04-16",
          "2022-04-17",
          "2022-04-18",
          "2022-04-21",
          "2022-04-22",
          "2022-04-23",
          "2022-04-24",
          "2022-04-25",
          "2022-04-26",
          "2022-04-27",
          "2022-04-28",
          "2022-04-29",
          "2022-05-05",
          "2022-05-06",
          "2022-05-07",
          "2022-05-09",
          "2022-05-10",
          "2022-05-11",
          "2022-05-13",
          "2022-05-14",
          "2022-05-16",
          "2022-05-17",
          "2022-05-18",
          "2022-05-19",
          "2022-05-20",
          "2022-05-21",
          "2022-05-22",
          "2022-05-23",
          "2022-05-24",
          "2022-05-25",
          "2022-05-27",
          "2022-05-28",
          "2022-05-29",
          "2022-05-30",
          "2022-06-01",
          "2022-06-02",
          "2022-06-03",
          "2022-06-04",
          "2022-06-05",
          "2022-06-06",
          "2022-06-07",
          "2022-06-08",
          "2022-06-09",
          "2022-06-10",
          "2022-06-11",
          "2022-06-12",
          "2022-06-13",
          "2022-06-14",
          "2022-06-15",
          "2022-06-16",
          "2022-06-17",
          "2022-06-18",
          "2022-06-19",
          "2022-06-20",
          "2022-06-21",
          "2022-06-22",
          "2022-06-23",
          "2022-06-24",
          "2022-06-25",
          "2022-06-27",
          "2022-06-28",
          "2022-06-29",
          "2022-06-30",
          "2022-07-03",
          "2022-07-04",
          "2022-07-05",
          "2022-07-06",
          "2022-07-07",
          "2022-07-08",
          "2022-07-09",
          "2022-07-11",
          "2022-07-12",
          "2022-07-13",
          "2022-07-14",
          "2022-07-15",
          "2022-07-16",
          "2022-07-17",
          "2022-07-18",
          "2022-07-19",
          "2022-07-20",
          "2022-07-21",
          "2022-07-22",
          "2022-07-23",
          "2022-07-24",
          "2022-07-25",
          "2022-07-26",
          "2022-07-27",
          "2022-07-28",
          "2022-07-29",
          "2022-07-30",
          "2022-07-31",
          "2022-08-01",
          "2022-08-02",
          "2022-08-03",
          "2022-08-04",
          "2022-08-05",
          "2022-08-06",
          "2022-08-10",
          "2022-08-12",
          "2022-08-13",
          "2022-08-14",
          "2022-08-15",
          "2022-08-16",
          "2022-08-18",
          "2022-08-19",
          "2022-08-22",
          "2022-08-23",
          "2022-08-24"
         ],
         "y": [
          76.59748774357766,
          73.87457024697198,
          66.85535731483459,
          73.85444532614268,
          75.57265986787719,
          75.66151943309613,
          68.07112605627192,
          70.26690795866087,
          61.80350796760345,
          65.26402560002558,
          62.704548035262384,
          75.67287576763214,
          76.84702462223116,
          76.04417463873429,
          68.94570387038532,
          76.77829379955574,
          77.79091295879334,
          77.38593090087595,
          79.61679926650632,
          61.446438067457734,
          50.20545775244256,
          75.505110268627,
          76.46419300462935,
          58.17542252595279,
          76.10579767762677,
          72.55877168552732,
          74.92248735708222,
          75.86187326785408,
          75.34200547604219,
          62.90293783562533,
          64.63816993147852,
          61.64122663845026,
          76.6646517282236,
          56.62597819470506,
          65.96202183297358,
          56.33228182832315,
          65.41922049557002,
          65.60112730899488,
          56.88246437969256,
          74.14968155052958,
          58.38713602758262,
          65.52161556193994,
          60.80785473925695,
          70.05167909303609,
          79.95518911352714,
          57.84506629470382,
          68.33898574242598,
          68.0819601156634,
          75.30704952973744,
          65.76017598774453,
          61.705005866756004,
          67.45271047734391,
          76.29034709206555,
          58.66032121930246,
          74.58739584130808,
          73.39644959657129,
          66.28056391373244,
          75.00580713000382,
          73.7733392372067,
          67.5558983162863,
          66.18258231969529,
          79.17631860874785,
          74.84783897057035,
          74.56099055806585,
          69.9755897567507,
          73.83597270395735,
          61.17990439646746,
          74.96406853651773,
          72.41308350019567,
          70.3016030817641,
          73.79270497831307,
          73.1656381769966,
          74.35123383726832,
          67.40302677974348,
          65.18017056464193,
          73.80790036488511,
          73.31199639096504,
          74.18806862395074,
          65.43402244876482,
          73.35662226503665,
          74.34957207665694,
          76.29329478086967,
          73.98141152152195,
          63.891725840795175,
          75.45433072260477,
          74.49583424481675,
          74.56685716032115,
          74.20522536778932,
          62.72200704067208,
          74.22781510980002,
          69.71811210770502,
          74.6077205842509,
          74.75083638360208,
          75.18676968924117,
          74.97259117657157,
          75.174974975075,
          70.64937665337752,
          67.36683449053807,
          59.00820856575033,
          74.27552049038894,
          71.11698617528675,
          72.46993714058691,
          72.65779820797583,
          74.50488969260584,
          72.34068752199212,
          69.5460368784487,
          75.29096434787041,
          73.33877303876915,
          68.97591342401856,
          73.80920324474141,
          74.00348611860524,
          49.70988541321243,
          73.32731086721944,
          66.98093355908111,
          76.67597226037127,
          75.00197176184517,
          70.41571395786313,
          72.0088105963055,
          73.90381118576208,
          70.53701714704849,
          65.90822759096096,
          67.68173778501844,
          73.07349128723547,
          73.24311491810668,
          74.65886027900272,
          57.83787038103293
         ]
        },
        {
         "name": "Hiệu suất tuyến tính inverter 3 ",
         "type": "scatter",
         "x": [
          "2022-03-22",
          "2022-03-23",
          "2022-03-24",
          "2022-03-25",
          "2022-03-26",
          "2022-03-28",
          "2022-03-29",
          "2022-03-30",
          "2022-04-03",
          "2022-04-04",
          "2022-04-06",
          "2022-04-07",
          "2022-04-08",
          "2022-04-09",
          "2022-04-11",
          "2022-04-12",
          "2022-04-13",
          "2022-04-15",
          "2022-04-16",
          "2022-04-17",
          "2022-04-18",
          "2022-04-21",
          "2022-04-22",
          "2022-04-23",
          "2022-04-24",
          "2022-04-25",
          "2022-04-26",
          "2022-04-27",
          "2022-04-28",
          "2022-04-29",
          "2022-05-05",
          "2022-05-06",
          "2022-05-07",
          "2022-05-09",
          "2022-05-10",
          "2022-05-11",
          "2022-05-13",
          "2022-05-14",
          "2022-05-16",
          "2022-05-17",
          "2022-05-18",
          "2022-05-19",
          "2022-05-20",
          "2022-05-21",
          "2022-05-22",
          "2022-05-23",
          "2022-05-24",
          "2022-05-25",
          "2022-05-27",
          "2022-05-28",
          "2022-05-29",
          "2022-05-30",
          "2022-06-01",
          "2022-06-02",
          "2022-06-03",
          "2022-06-04",
          "2022-06-05",
          "2022-06-06",
          "2022-06-07",
          "2022-06-08",
          "2022-06-09",
          "2022-06-10",
          "2022-06-11",
          "2022-06-12",
          "2022-06-13",
          "2022-06-14",
          "2022-06-15",
          "2022-06-16",
          "2022-06-17",
          "2022-06-18",
          "2022-06-19",
          "2022-06-20",
          "2022-06-21",
          "2022-06-22",
          "2022-06-23",
          "2022-06-24",
          "2022-06-25",
          "2022-06-27",
          "2022-06-28",
          "2022-06-29",
          "2022-06-30",
          "2022-07-03",
          "2022-07-04",
          "2022-07-05",
          "2022-07-06",
          "2022-07-07",
          "2022-07-08",
          "2022-07-09",
          "2022-07-11",
          "2022-07-12",
          "2022-07-13",
          "2022-07-14",
          "2022-07-15",
          "2022-07-16",
          "2022-07-17",
          "2022-07-18",
          "2022-07-19",
          "2022-07-20",
          "2022-07-21",
          "2022-07-22",
          "2022-07-23",
          "2022-07-24",
          "2022-07-25",
          "2022-07-26",
          "2022-07-27",
          "2022-07-28",
          "2022-07-29",
          "2022-07-30",
          "2022-07-31",
          "2022-08-01",
          "2022-08-02",
          "2022-08-03",
          "2022-08-04",
          "2022-08-05",
          "2022-08-06",
          "2022-08-10",
          "2022-08-12",
          "2022-08-13",
          "2022-08-14",
          "2022-08-15",
          "2022-08-16",
          "2022-08-18",
          "2022-08-19",
          "2022-08-22",
          "2022-08-23",
          "2022-08-24"
         ],
         "y": [
          69.48897492766784,
          69.50199291634333,
          69.51501090501883,
          69.52802889369431,
          69.54104688236981,
          69.5540648710453,
          69.5670828597208,
          69.58010084839628,
          69.59311883707178,
          69.60613682574727,
          69.61915481442277,
          69.63217280309826,
          69.64519079177376,
          69.65820878044924,
          69.67122676912474,
          69.68424475780023,
          69.69726274647573,
          69.71028073515122,
          69.72329872382672,
          69.7363167125022,
          69.7493347011777,
          69.76235268985319,
          69.77537067852869,
          69.78838866720417,
          69.80140665587967,
          69.81442464455516,
          69.82744263323066,
          69.84046062190615,
          69.85347861058165,
          69.86649659925713,
          69.87951458793263,
          69.89253257660812,
          69.90555056528362,
          69.9185685539591,
          69.9315865426346,
          69.94460453131009,
          69.95762251998559,
          69.97064050866108,
          69.98365849733658,
          69.99667648601206,
          70.00969447468755,
          70.02271246336305,
          70.03573045203854,
          70.04874844071404,
          70.06176642938952,
          70.07478441806502,
          70.08780240674051,
          70.10082039541601,
          70.1138383840915,
          70.126856372767,
          70.13987436144248,
          70.15289235011798,
          70.16591033879347,
          70.17892832746897,
          70.19194631614445,
          70.20496430481995,
          70.21798229349544,
          70.23100028217094,
          70.24401827084642,
          70.25703625952193,
          70.27005424819741,
          70.28307223687291,
          70.2960902255484,
          70.3091082142239,
          70.32212620289938,
          70.33514419157488,
          70.34816218025037,
          70.36118016892587,
          70.37419815760136,
          70.38721614627686,
          70.40023413495234,
          70.41325212362784,
          70.42627011230333,
          70.43928810097883,
          70.45230608965431,
          70.46532407832981,
          70.4783420670053,
          70.4913600556808,
          70.50437804435629,
          70.51739603303177,
          70.53041402170727,
          70.54343201038276,
          70.55644999905826,
          70.56946798773374,
          70.58248597640925,
          70.59550396508473,
          70.60852195376023,
          70.62153994243572,
          70.63455793111122,
          70.6475759197867,
          70.6605939084622,
          70.67361189713769,
          70.68662988581319,
          70.69964787448868,
          70.71266586316418,
          70.72568385183966,
          70.73870184051516,
          70.75171982919065,
          70.76473781786615,
          70.77775580654163,
          70.79077379521713,
          70.80379178389262,
          70.81680977256812,
          70.8298277612436,
          70.8428457499191,
          70.85586373859459,
          70.8688817272701,
          70.88189971594558,
          70.89491770462108,
          70.90793569329657,
          70.92095368197207,
          70.93397167064755,
          70.94698965932305,
          70.96000764799854,
          70.97302563667404,
          70.98604362534952,
          70.99906161402502,
          71.01207960270051,
          71.025097591376,
          71.0381155800515,
          71.05113356872698,
          71.06415155740248,
          71.07716954607797,
          71.09018753475347,
          71.10320552342895,
          71.11622351210445
         ]
        }
       ],
       "layout": {
        "template": {
         "data": {
          "bar": [
           {
            "error_x": {
             "color": "#2a3f5f"
            },
            "error_y": {
             "color": "#2a3f5f"
            },
            "marker": {
             "line": {
              "color": "#E5ECF6",
              "width": 0.5
             },
             "pattern": {
              "fillmode": "overlay",
              "size": 10,
              "solidity": 0.2
             }
            },
            "type": "bar"
           }
          ],
          "barpolar": [
           {
            "marker": {
             "line": {
              "color": "#E5ECF6",
              "width": 0.5
             },
             "pattern": {
              "fillmode": "overlay",
              "size": 10,
              "solidity": 0.2
             }
            },
            "type": "barpolar"
           }
          ],
          "carpet": [
           {
            "aaxis": {
             "endlinecolor": "#2a3f5f",
             "gridcolor": "white",
             "linecolor": "white",
             "minorgridcolor": "white",
             "startlinecolor": "#2a3f5f"
            },
            "baxis": {
             "endlinecolor": "#2a3f5f",
             "gridcolor": "white",
             "linecolor": "white",
             "minorgridcolor": "white",
             "startlinecolor": "#2a3f5f"
            },
            "type": "carpet"
           }
          ],
          "choropleth": [
           {
            "colorbar": {
             "outlinewidth": 0,
             "ticks": ""
            },
            "type": "choropleth"
           }
          ],
          "contour": [
           {
            "colorbar": {
             "outlinewidth": 0,
             "ticks": ""
            },
            "colorscale": [
             [
              0,
              "#0d0887"
             ],
             [
              0.1111111111111111,
              "#46039f"
             ],
             [
              0.2222222222222222,
              "#7201a8"
             ],
             [
              0.3333333333333333,
              "#9c179e"
             ],
             [
              0.4444444444444444,
              "#bd3786"
             ],
             [
              0.5555555555555556,
              "#d8576b"
             ],
             [
              0.6666666666666666,
              "#ed7953"
             ],
             [
              0.7777777777777778,
              "#fb9f3a"
             ],
             [
              0.8888888888888888,
              "#fdca26"
             ],
             [
              1,
              "#f0f921"
             ]
            ],
            "type": "contour"
           }
          ],
          "contourcarpet": [
           {
            "colorbar": {
             "outlinewidth": 0,
             "ticks": ""
            },
            "type": "contourcarpet"
           }
          ],
          "heatmap": [
           {
            "colorbar": {
             "outlinewidth": 0,
             "ticks": ""
            },
            "colorscale": [
             [
              0,
              "#0d0887"
             ],
             [
              0.1111111111111111,
              "#46039f"
             ],
             [
              0.2222222222222222,
              "#7201a8"
             ],
             [
              0.3333333333333333,
              "#9c179e"
             ],
             [
              0.4444444444444444,
              "#bd3786"
             ],
             [
              0.5555555555555556,
              "#d8576b"
             ],
             [
              0.6666666666666666,
              "#ed7953"
             ],
             [
              0.7777777777777778,
              "#fb9f3a"
             ],
             [
              0.8888888888888888,
              "#fdca26"
             ],
             [
              1,
              "#f0f921"
             ]
            ],
            "type": "heatmap"
           }
          ],
          "heatmapgl": [
           {
            "colorbar": {
             "outlinewidth": 0,
             "ticks": ""
            },
            "colorscale": [
             [
              0,
              "#0d0887"
             ],
             [
              0.1111111111111111,
              "#46039f"
             ],
             [
              0.2222222222222222,
              "#7201a8"
             ],
             [
              0.3333333333333333,
              "#9c179e"
             ],
             [
              0.4444444444444444,
              "#bd3786"
             ],
             [
              0.5555555555555556,
              "#d8576b"
             ],
             [
              0.6666666666666666,
              "#ed7953"
             ],
             [
              0.7777777777777778,
              "#fb9f3a"
             ],
             [
              0.8888888888888888,
              "#fdca26"
             ],
             [
              1,
              "#f0f921"
             ]
            ],
            "type": "heatmapgl"
           }
          ],
          "histogram": [
           {
            "marker": {
             "pattern": {
              "fillmode": "overlay",
              "size": 10,
              "solidity": 0.2
             }
            },
            "type": "histogram"
           }
          ],
          "histogram2d": [
           {
            "colorbar": {
             "outlinewidth": 0,
             "ticks": ""
            },
            "colorscale": [
             [
              0,
              "#0d0887"
             ],
             [
              0.1111111111111111,
              "#46039f"
             ],
             [
              0.2222222222222222,
              "#7201a8"
             ],
             [
              0.3333333333333333,
              "#9c179e"
             ],
             [
              0.4444444444444444,
              "#bd3786"
             ],
             [
              0.5555555555555556,
              "#d8576b"
             ],
             [
              0.6666666666666666,
              "#ed7953"
             ],
             [
              0.7777777777777778,
              "#fb9f3a"
             ],
             [
              0.8888888888888888,
              "#fdca26"
             ],
             [
              1,
              "#f0f921"
             ]
            ],
            "type": "histogram2d"
           }
          ],
          "histogram2dcontour": [
           {
            "colorbar": {
             "outlinewidth": 0,
             "ticks": ""
            },
            "colorscale": [
             [
              0,
              "#0d0887"
             ],
             [
              0.1111111111111111,
              "#46039f"
             ],
             [
              0.2222222222222222,
              "#7201a8"
             ],
             [
              0.3333333333333333,
              "#9c179e"
             ],
             [
              0.4444444444444444,
              "#bd3786"
             ],
             [
              0.5555555555555556,
              "#d8576b"
             ],
             [
              0.6666666666666666,
              "#ed7953"
             ],
             [
              0.7777777777777778,
              "#fb9f3a"
             ],
             [
              0.8888888888888888,
              "#fdca26"
             ],
             [
              1,
              "#f0f921"
             ]
            ],
            "type": "histogram2dcontour"
           }
          ],
          "mesh3d": [
           {
            "colorbar": {
             "outlinewidth": 0,
             "ticks": ""
            },
            "type": "mesh3d"
           }
          ],
          "parcoords": [
           {
            "line": {
             "colorbar": {
              "outlinewidth": 0,
              "ticks": ""
             }
            },
            "type": "parcoords"
           }
          ],
          "pie": [
           {
            "automargin": true,
            "type": "pie"
           }
          ],
          "scatter": [
           {
            "fillpattern": {
             "fillmode": "overlay",
             "size": 10,
             "solidity": 0.2
            },
            "type": "scatter"
           }
          ],
          "scatter3d": [
           {
            "line": {
             "colorbar": {
              "outlinewidth": 0,
              "ticks": ""
             }
            },
            "marker": {
             "colorbar": {
              "outlinewidth": 0,
              "ticks": ""
             }
            },
            "type": "scatter3d"
           }
          ],
          "scattercarpet": [
           {
            "marker": {
             "colorbar": {
              "outlinewidth": 0,
              "ticks": ""
             }
            },
            "type": "scattercarpet"
           }
          ],
          "scattergeo": [
           {
            "marker": {
             "colorbar": {
              "outlinewidth": 0,
              "ticks": ""
             }
            },
            "type": "scattergeo"
           }
          ],
          "scattergl": [
           {
            "marker": {
             "colorbar": {
              "outlinewidth": 0,
              "ticks": ""
             }
            },
            "type": "scattergl"
           }
          ],
          "scattermapbox": [
           {
            "marker": {
             "colorbar": {
              "outlinewidth": 0,
              "ticks": ""
             }
            },
            "type": "scattermapbox"
           }
          ],
          "scatterpolar": [
           {
            "marker": {
             "colorbar": {
              "outlinewidth": 0,
              "ticks": ""
             }
            },
            "type": "scatterpolar"
           }
          ],
          "scatterpolargl": [
           {
            "marker": {
             "colorbar": {
              "outlinewidth": 0,
              "ticks": ""
             }
            },
            "type": "scatterpolargl"
           }
          ],
          "scatterternary": [
           {
            "marker": {
             "colorbar": {
              "outlinewidth": 0,
              "ticks": ""
             }
            },
            "type": "scatterternary"
           }
          ],
          "surface": [
           {
            "colorbar": {
             "outlinewidth": 0,
             "ticks": ""
            },
            "colorscale": [
             [
              0,
              "#0d0887"
             ],
             [
              0.1111111111111111,
              "#46039f"
             ],
             [
              0.2222222222222222,
              "#7201a8"
             ],
             [
              0.3333333333333333,
              "#9c179e"
             ],
             [
              0.4444444444444444,
              "#bd3786"
             ],
             [
              0.5555555555555556,
              "#d8576b"
             ],
             [
              0.6666666666666666,
              "#ed7953"
             ],
             [
              0.7777777777777778,
              "#fb9f3a"
             ],
             [
              0.8888888888888888,
              "#fdca26"
             ],
             [
              1,
              "#f0f921"
             ]
            ],
            "type": "surface"
           }
          ],
          "table": [
           {
            "cells": {
             "fill": {
              "color": "#EBF0F8"
             },
             "line": {
              "color": "white"
             }
            },
            "header": {
             "fill": {
              "color": "#C8D4E3"
             },
             "line": {
              "color": "white"
             }
            },
            "type": "table"
           }
          ]
         },
         "layout": {
          "annotationdefaults": {
           "arrowcolor": "#2a3f5f",
           "arrowhead": 0,
           "arrowwidth": 1
          },
          "autotypenumbers": "strict",
          "coloraxis": {
           "colorbar": {
            "outlinewidth": 0,
            "ticks": ""
           }
          },
          "colorscale": {
           "diverging": [
            [
             0,
             "#8e0152"
            ],
            [
             0.1,
             "#c51b7d"
            ],
            [
             0.2,
             "#de77ae"
            ],
            [
             0.3,
             "#f1b6da"
            ],
            [
             0.4,
             "#fde0ef"
            ],
            [
             0.5,
             "#f7f7f7"
            ],
            [
             0.6,
             "#e6f5d0"
            ],
            [
             0.7,
             "#b8e186"
            ],
            [
             0.8,
             "#7fbc41"
            ],
            [
             0.9,
             "#4d9221"
            ],
            [
             1,
             "#276419"
            ]
           ],
           "sequential": [
            [
             0,
             "#0d0887"
            ],
            [
             0.1111111111111111,
             "#46039f"
            ],
            [
             0.2222222222222222,
             "#7201a8"
            ],
            [
             0.3333333333333333,
             "#9c179e"
            ],
            [
             0.4444444444444444,
             "#bd3786"
            ],
            [
             0.5555555555555556,
             "#d8576b"
            ],
            [
             0.6666666666666666,
             "#ed7953"
            ],
            [
             0.7777777777777778,
             "#fb9f3a"
            ],
            [
             0.8888888888888888,
             "#fdca26"
            ],
            [
             1,
             "#f0f921"
            ]
           ],
           "sequentialminus": [
            [
             0,
             "#0d0887"
            ],
            [
             0.1111111111111111,
             "#46039f"
            ],
            [
             0.2222222222222222,
             "#7201a8"
            ],
            [
             0.3333333333333333,
             "#9c179e"
            ],
            [
             0.4444444444444444,
             "#bd3786"
            ],
            [
             0.5555555555555556,
             "#d8576b"
            ],
            [
             0.6666666666666666,
             "#ed7953"
            ],
            [
             0.7777777777777778,
             "#fb9f3a"
            ],
            [
             0.8888888888888888,
             "#fdca26"
            ],
            [
             1,
             "#f0f921"
            ]
           ]
          },
          "colorway": [
           "#636efa",
           "#EF553B",
           "#00cc96",
           "#ab63fa",
           "#FFA15A",
           "#19d3f3",
           "#FF6692",
           "#B6E880",
           "#FF97FF",
           "#FECB52"
          ],
          "font": {
           "color": "#2a3f5f"
          },
          "geo": {
           "bgcolor": "white",
           "lakecolor": "white",
           "landcolor": "#E5ECF6",
           "showlakes": true,
           "showland": true,
           "subunitcolor": "white"
          },
          "hoverlabel": {
           "align": "left"
          },
          "hovermode": "closest",
          "mapbox": {
           "style": "light"
          },
          "paper_bgcolor": "white",
          "plot_bgcolor": "#E5ECF6",
          "polar": {
           "angularaxis": {
            "gridcolor": "white",
            "linecolor": "white",
            "ticks": ""
           },
           "bgcolor": "#E5ECF6",
           "radialaxis": {
            "gridcolor": "white",
            "linecolor": "white",
            "ticks": ""
           }
          },
          "scene": {
           "xaxis": {
            "backgroundcolor": "#E5ECF6",
            "gridcolor": "white",
            "gridwidth": 2,
            "linecolor": "white",
            "showbackground": true,
            "ticks": "",
            "zerolinecolor": "white"
           },
           "yaxis": {
            "backgroundcolor": "#E5ECF6",
            "gridcolor": "white",
            "gridwidth": 2,
            "linecolor": "white",
            "showbackground": true,
            "ticks": "",
            "zerolinecolor": "white"
           },
           "zaxis": {
            "backgroundcolor": "#E5ECF6",
            "gridcolor": "white",
            "gridwidth": 2,
            "linecolor": "white",
            "showbackground": true,
            "ticks": "",
            "zerolinecolor": "white"
           }
          },
          "shapedefaults": {
           "line": {
            "color": "#2a3f5f"
           }
          },
          "ternary": {
           "aaxis": {
            "gridcolor": "white",
            "linecolor": "white",
            "ticks": ""
           },
           "baxis": {
            "gridcolor": "white",
            "linecolor": "white",
            "ticks": ""
           },
           "bgcolor": "#E5ECF6",
           "caxis": {
            "gridcolor": "white",
            "linecolor": "white",
            "ticks": ""
           }
          },
          "title": {
           "x": 0.05
          },
          "xaxis": {
           "automargin": true,
           "gridcolor": "white",
           "linecolor": "white",
           "ticks": "",
           "title": {
            "standoff": 15
           },
           "zerolinecolor": "white",
           "zerolinewidth": 2
          },
          "yaxis": {
           "automargin": true,
           "gridcolor": "white",
           "linecolor": "white",
           "ticks": "",
           "title": {
            "standoff": 15
           },
           "zerolinecolor": "white",
           "zerolinewidth": 2
          }
         }
        },
        "xaxis": {
         "rangeslider": {
          "visible": true
         }
        }
       }
      }
     },
     "metadata": {},
     "output_type": "display_data"
    }
   ],
   "source": [
    "df_bin = df1[['Hieu suat','month']] \n",
    "x = len(df_bin)\n",
    "num_index = range(0,x,1)\n",
    "df_bin =  df_bin.reset_index()\n",
    "df_bin.loc[:,'stt'] = pd.Series(num_index, df_bin.index)\n",
    "print(df_bin)  \n",
    "# Renaming the columns for easier writing of the code \n",
    "df_bin.head() \n",
    "x=df_bin['stt'].tolist()\n",
    "y=df_bin['Hieu suat'].tolist()\n",
    "x=np.array(x)\n",
    "y=np.array(y)\n",
    "b = estimate_coef(x, y) \n",
    "print(\"Estimated coefficients:\\nb_0 = {}\\nb_1 = {}\".format(b[0], b[1])) \n",
    "plot_regression_line(x, y, b) \n",
    "y_pred= b[0] + b[1]*x\n",
    "fig.add_trace(go.Scatter(\n",
    "    x=df1['date'],\n",
    "    y=y_pred,\n",
    "    name=\"Hiệu suất tuyến tính inverter 3 \"))\n",
    "fig.show()"
   ]
  },
  {
   "cell_type": "code",
   "execution_count": 65,
   "metadata": {},
   "outputs": [
    {
     "name": "stdout",
     "output_type": "stream",
     "text": [
      "Estimated coefficients:\n",
      "b_0 = 72.7854969567329\n",
      "b_1 = -0.1528025814611962\n"
     ]
    },
    {
     "data": {
      "image/png": "[encoded data removed]",
      "text/plain": [
       "<Figure size 640x480 with 1 Axes>"
      ]
     },
     "metadata": {},
     "output_type": "display_data"
    },
    {
     "name": "stdout",
     "output_type": "stream",
     "text": [
      "Estimated coefficients:\n",
      "b_0 = 73.0551346631224\n",
      "b_1 = -0.01987816187173131\n"
     ]
    },
    {
     "data": {
      "image/png": "[encoded data removed]",
      "text/plain": [
       "<Figure size 640x480 with 1 Axes>"
      ]
     },
     "metadata": {},
     "output_type": "display_data"
    },
    {
     "data": {
      "application/vnd.plotly.v1+json": {
       "config": {
        "plotlyServerURL": "https://plot.ly"
       },
       "data": [
        {
         "name": "Sản lượng điện trung bình cao nhất theo khung giờ mỗi ngày inverter 3 ",
         "showlegend": true,
         "type": "scatter",
         "x": [
          "2022-03-22",
          "2022-03-23",
          "2022-03-24",
          "2022-03-25",
          "2022-03-26",
          "2022-03-28",
          "2022-03-29",
          "2022-03-30",
          "2022-04-03",
          "2022-04-04",
          "2022-04-06",
          "2022-04-07",
          "2022-04-08",
          "2022-04-09",
          "2022-04-11",
          "2022-04-12",
          "2022-04-13",
          "2022-04-15",
          "2022-04-16",
          "2022-04-17",
          "2022-04-18",
          "2022-04-21",
          "2022-04-22",
          "2022-04-23",
          "2022-04-24",
          "2022-04-25",
          "2022-04-26",
          "2022-04-27",
          "2022-04-28",
          "2022-04-29",
          "2022-05-05",
          "2022-05-06",
          "2022-05-07",
          "2022-05-09",
          "2022-05-10",
          "2022-05-11",
          "2022-05-13",
          "2022-05-14",
          "2022-05-16",
          "2022-05-17",
          "2022-05-18",
          "2022-05-19",
          "2022-05-20",
          "2022-05-21",
          "2022-05-22",
          "2022-05-23",
          "2022-05-24",
          "2022-05-25",
          "2022-05-27",
          "2022-05-28",
          "2022-05-29",
          "2022-05-30"
         ],
         "y": [
          102.939,
          104.619,
          108.218,
          105.363,
          99.79,
          111.574,
          112.543,
          112.509,
          112.362,
          83.563,
          111.74,
          108.226,
          103.382,
          104.378,
          89.192,
          90.288,
          90.091,
          97.98,
          102.78,
          91.842,
          90.402,
          105.445,
          106.061,
          81.939,
          99.581,
          94.624,
          94.983,
          96.627,
          102.783,
          87.546,
          112.211,
          109.544,
          108.982,
          100.498,
          110.153,
          85.289,
          110.449,
          106.203,
          85.202,
          111.406,
          101.39,
          112.096,
          102.619,
          104.915,
          105.706,
          108.172,
          104.551,
          94.559,
          98.256,
          104.719,
          94.261,
          92.132
         ]
        },
        {
         "name": "Hiệu suất trung bình cao nhất theo khung giờ mỗi ngày inverter 3 ",
         "showlegend": true,
         "type": "scatter",
         "x": [
          "2022-03-22",
          "2022-03-23",
          "2022-03-24",
          "2022-03-25",
          "2022-03-26",
          "2022-03-28",
          "2022-03-29",
          "2022-03-30",
          "2022-04-03",
          "2022-04-04",
          "2022-04-06",
          "2022-04-07",
          "2022-04-08",
          "2022-04-09",
          "2022-04-11",
          "2022-04-12",
          "2022-04-13",
          "2022-04-15",
          "2022-04-16",
          "2022-04-17",
          "2022-04-18",
          "2022-04-21",
          "2022-04-22",
          "2022-04-23",
          "2022-04-24",
          "2022-04-25",
          "2022-04-26",
          "2022-04-27",
          "2022-04-28",
          "2022-04-29",
          "2022-05-05",
          "2022-05-06",
          "2022-05-07",
          "2022-05-09",
          "2022-05-10",
          "2022-05-11",
          "2022-05-13",
          "2022-05-14",
          "2022-05-16",
          "2022-05-17",
          "2022-05-18",
          "2022-05-19",
          "2022-05-20",
          "2022-05-21",
          "2022-05-22",
          "2022-05-23",
          "2022-05-24",
          "2022-05-25",
          "2022-05-27",
          "2022-05-28",
          "2022-05-29",
          "2022-05-30"
         ],
         "y": [
          76.59748774357766,
          73.87457024697198,
          66.85535731483459,
          73.85444532614268,
          75.57265986787719,
          75.66151943309613,
          68.07112605627192,
          70.26690795866087,
          61.80350796760345,
          65.26402560002558,
          62.704548035262384,
          75.67287576763214,
          76.84702462223116,
          76.04417463873429,
          68.94570387038532,
          76.77829379955574,
          77.79091295879334,
          77.38593090087595,
          79.61679926650632,
          61.446438067457734,
          50.20545775244256,
          75.505110268627,
          76.46419300462935,
          58.17542252595279,
          76.10579767762677,
          72.55877168552732,
          74.92248735708222,
          75.86187326785408,
          75.34200547604219,
          62.90293783562533,
          64.63816993147852,
          61.64122663845026,
          76.6646517282236,
          56.62597819470506,
          65.96202183297358,
          56.33228182832315,
          65.41922049557002,
          65.60112730899488,
          56.88246437969256,
          74.14968155052958,
          58.38713602758262,
          65.52161556193994,
          60.80785473925695,
          70.05167909303609,
          79.95518911352714,
          57.84506629470382,
          68.33898574242598,
          68.0819601156634,
          75.30704952973744,
          65.76017598774453,
          61.705005866756004,
          67.45271047734391
         ]
        },
        {
         "name": "Hiệu suất tuyến tính inverter 3 thang3,4,5",
         "showlegend": true,
         "type": "scatter",
         "x": [
          "2022-03-22",
          "2022-03-23",
          "2022-03-24",
          "2022-03-25",
          "2022-03-26",
          "2022-03-28",
          "2022-03-29",
          "2022-03-30",
          "2022-04-03",
          "2022-04-04",
          "2022-04-06",
          "2022-04-07",
          "2022-04-08",
          "2022-04-09",
          "2022-04-11",
          "2022-04-12",
          "2022-04-13",
          "2022-04-15",
          "2022-04-16",
          "2022-04-17",
          "2022-04-18",
          "2022-04-21",
          "2022-04-22",
          "2022-04-23",
          "2022-04-24",
          "2022-04-25",
          "2022-04-26",
          "2022-04-27",
          "2022-04-28",
          "2022-04-29",
          "2022-05-05",
          "2022-05-06",
          "2022-05-07",
          "2022-05-09",
          "2022-05-10",
          "2022-05-11",
          "2022-05-13",
          "2022-05-14",
          "2022-05-16",
          "2022-05-17",
          "2022-05-18",
          "2022-05-19",
          "2022-05-20",
          "2022-05-21",
          "2022-05-22",
          "2022-05-23",
          "2022-05-24",
          "2022-05-25",
          "2022-05-27",
          "2022-05-28",
          "2022-05-29",
          "2022-05-30"
         ],
         "y": [
          72.7854969567329,
          72.6326943752717,
          72.47989179381051,
          72.3270892123493,
          72.17428663088812,
          72.02148404942692,
          71.86868146796573,
          71.71587888650453,
          71.56307630504332,
          71.41027372358214,
          71.25747114212093,
          71.10466856065975,
          70.95186597919854,
          70.79906339773734,
          70.64626081627615,
          70.49345823481495,
          70.34065565335376,
          70.18785307189256,
          70.03505049043137,
          69.88224790897017,
          69.72944532750897,
          69.57664274604778,
          69.42384016458658,
          69.27103758312539,
          69.11823500166419,
          68.965432420203,
          68.8126298387418,
          68.6598272572806,
          68.50702467581941,
          68.3542220943582,
          68.20141951289702,
          68.04861693143582,
          67.89581434997461,
          67.74301176851343,
          67.59020918705222,
          67.43740660559104,
          67.28460402412983,
          67.13180144266865,
          66.97899886120744,
          66.82619627974624,
          66.67339369828505,
          66.52059111682385,
          66.36778853536266,
          66.21498595390146,
          66.06218337244027,
          65.90938079097907,
          65.75657820951787,
          65.60377562805668,
          65.45097304659548,
          65.29817046513429,
          65.14536788367309,
          64.99256530221189
         ]
        }
       ],
       "layout": {
        "template": {
         "data": {
          "bar": [
           {
            "error_x": {
             "color": "#2a3f5f"
            },
            "error_y": {
             "color": "#2a3f5f"
            },
            "marker": {
             "line": {
              "color": "#E5ECF6",
              "width": 0.5
             },
             "pattern": {
              "fillmode": "overlay",
              "size": 10,
              "solidity": 0.2
             }
            },
            "type": "bar"
           }
          ],
          "barpolar": [
           {
            "marker": {
             "line": {
              "color": "#E5ECF6",
              "width": 0.5
             },
             "pattern": {
              "fillmode": "overlay",
              "size": 10,
              "solidity": 0.2
             }
            },
            "type": "barpolar"
           }
          ],
          "carpet": [
           {
            "aaxis": {
             "endlinecolor": "#2a3f5f",
             "gridcolor": "white",
             "linecolor": "white",
             "minorgridcolor": "white",
             "startlinecolor": "#2a3f5f"
            },
            "baxis": {
             "endlinecolor": "#2a3f5f",
             "gridcolor": "white",
             "linecolor": "white",
             "minorgridcolor": "white",
             "startlinecolor": "#2a3f5f"
            },
            "type": "carpet"
           }
          ],
          "choropleth": [
           {
            "colorbar": {
             "outlinewidth": 0,
             "ticks": ""
            },
            "type": "choropleth"
           }
          ],
          "contour": [
           {
            "colorbar": {
             "outlinewidth": 0,
             "ticks": ""
            },
            "colorscale": [
             [
              0,
              "#0d0887"
             ],
             [
              0.1111111111111111,
              "#46039f"
             ],
             [
              0.2222222222222222,
              "#7201a8"
             ],
             [
              0.3333333333333333,
              "#9c179e"
             ],
             [
              0.4444444444444444,
              "#bd3786"
             ],
             [
              0.5555555555555556,
              "#d8576b"
             ],
             [
              0.6666666666666666,
              "#ed7953"
             ],
             [
              0.7777777777777778,
              "#fb9f3a"
             ],
             [
              0.8888888888888888,
              "#fdca26"
             ],
             [
              1,
              "#f0f921"
             ]
            ],
            "type": "contour"
           }
          ],
          "contourcarpet": [
           {
            "colorbar": {
             "outlinewidth": 0,
             "ticks": ""
            },
            "type": "contourcarpet"
           }
          ],
          "heatmap": [
           {
            "colorbar": {
             "outlinewidth": 0,
             "ticks": ""
            },
            "colorscale": [
             [
              0,
              "#0d0887"
             ],
             [
              0.1111111111111111,
              "#46039f"
             ],
             [
              0.2222222222222222,
              "#7201a8"
             ],
             [
              0.3333333333333333,
              "#9c179e"
             ],
             [
              0.4444444444444444,
              "#bd3786"
             ],
             [
              0.5555555555555556,
              "#d8576b"
             ],
             [
              0.6666666666666666,
              "#ed7953"
             ],
             [
              0.7777777777777778,
              "#fb9f3a"
             ],
             [
              0.8888888888888888,
              "#fdca26"
             ],
             [
              1,
              "#f0f921"
             ]
            ],
            "type": "heatmap"
           }
          ],
          "heatmapgl": [
           {
            "colorbar": {
             "outlinewidth": 0,
             "ticks": ""
            },
            "colorscale": [
             [
              0,
              "#0d0887"
             ],
             [
              0.1111111111111111,
              "#46039f"
             ],
             [
              0.2222222222222222,
              "#7201a8"
             ],
             [
              0.3333333333333333,
              "#9c179e"
             ],
             [
              0.4444444444444444,
              "#bd3786"
             ],
             [
              0.5555555555555556,
              "#d8576b"
             ],
             [
              0.6666666666666666,
              "#ed7953"
             ],
             [
              0.7777777777777778,
              "#fb9f3a"
             ],
             [
              0.8888888888888888,
              "#fdca26"
             ],
             [
              1,
              "#f0f921"
             ]
            ],
            "type": "heatmapgl"
           }
          ],
          "histogram": [
           {
            "marker": {
             "pattern": {
              "fillmode": "overlay",
              "size": 10,
              "solidity": 0.2
             }
            },
            "type": "histogram"
           }
          ],
          "histogram2d": [
           {
            "colorbar": {
             "outlinewidth": 0,
             "ticks": ""
            },
            "colorscale": [
             [
              0,
              "#0d0887"
             ],
             [
              0.1111111111111111,
              "#46039f"
             ],
             [
              0.2222222222222222,
              "#7201a8"
             ],
             [
              0.3333333333333333,
              "#9c179e"
             ],
             [
              0.4444444444444444,
              "#bd3786"
             ],
             [
              0.5555555555555556,
              "#d8576b"
             ],
             [
              0.6666666666666666,
              "#ed7953"
             ],
             [
              0.7777777777777778,
              "#fb9f3a"
             ],
             [
              0.8888888888888888,
              "#fdca26"
             ],
             [
              1,
              "#f0f921"
             ]
            ],
            "type": "histogram2d"
           }
          ],
          "histogram2dcontour": [
           {
            "colorbar": {
             "outlinewidth": 0,
             "ticks": ""
            },
            "colorscale": [
             [
              0,
              "#0d0887"
             ],
             [
              0.1111111111111111,
              "#46039f"
             ],
             [
              0.2222222222222222,
              "#7201a8"
             ],
             [
              0.3333333333333333,
              "#9c179e"
             ],
             [
              0.4444444444444444,
              "#bd3786"
             ],
             [
              0.5555555555555556,
              "#d8576b"
             ],
             [
              0.6666666666666666,
              "#ed7953"
             ],
             [
              0.7777777777777778,
              "#fb9f3a"
             ],
             [
              0.8888888888888888,
              "#fdca26"
             ],
             [
              1,
              "#f0f921"
             ]
            ],
            "type": "histogram2dcontour"
           }
          ],
          "mesh3d": [
           {
            "colorbar": {
             "outlinewidth": 0,
             "ticks": ""
            },
            "type": "mesh3d"
           }
          ],
          "parcoords": [
           {
            "line": {
             "colorbar": {
              "outlinewidth": 0,
              "ticks": ""
             }
            },
            "type": "parcoords"
           }
          ],
          "pie": [
           {
            "automargin": true,
            "type": "pie"
           }
          ],
          "scatter": [
           {
            "fillpattern": {
             "fillmode": "overlay",
             "size": 10,
             "solidity": 0.2
            },
            "type": "scatter"
           }
          ],
          "scatter3d": [
           {
            "line": {
             "colorbar": {
              "outlinewidth": 0,
              "ticks": ""
             }
            },
            "marker": {
             "colorbar": {
              "outlinewidth": 0,
              "ticks": ""
             }
            },
            "type": "scatter3d"
           }
          ],
          "scattercarpet": [
           {
            "marker": {
             "colorbar": {
              "outlinewidth": 0,
              "ticks": ""
             }
            },
            "type": "scattercarpet"
           }
          ],
          "scattergeo": [
           {
            "marker": {
             "colorbar": {
              "outlinewidth": 0,
              "ticks": ""
             }
            },
            "type": "scattergeo"
           }
          ],
          "scattergl": [
           {
            "marker": {
             "colorbar": {
              "outlinewidth": 0,
              "ticks": ""
             }
            },
            "type": "scattergl"
           }
          ],
          "scattermapbox": [
           {
            "marker": {
             "colorbar": {
              "outlinewidth": 0,
              "ticks": ""
             }
            },
            "type": "scattermapbox"
           }
          ],
          "scatterpolar": [
           {
            "marker": {
             "colorbar": {
              "outlinewidth": 0,
              "ticks": ""
             }
            },
            "type": "scatterpolar"
           }
          ],
          "scatterpolargl": [
           {
            "marker": {
             "colorbar": {
              "outlinewidth": 0,
              "ticks": ""
             }
            },
            "type": "scatterpolargl"
           }
          ],
          "scatterternary": [
           {
            "marker": {
             "colorbar": {
              "outlinewidth": 0,
              "ticks": ""
             }
            },
            "type": "scatterternary"
           }
          ],
          "surface": [
           {
            "colorbar": {
             "outlinewidth": 0,
             "ticks": ""
            },
            "colorscale": [
             [
              0,
              "#0d0887"
             ],
             [
              0.1111111111111111,
              "#46039f"
             ],
             [
              0.2222222222222222,
              "#7201a8"
             ],
             [
              0.3333333333333333,
              "#9c179e"
             ],
             [
              0.4444444444444444,
              "#bd3786"
             ],
             [
              0.5555555555555556,
              "#d8576b"
             ],
             [
              0.6666666666666666,
              "#ed7953"
             ],
             [
              0.7777777777777778,
              "#fb9f3a"
             ],
             [
              0.8888888888888888,
              "#fdca26"
             ],
             [
              1,
              "#f0f921"
             ]
            ],
            "type": "surface"
           }
          ],
          "table": [
           {
            "cells": {
             "fill": {
              "color": "#EBF0F8"
             },
             "line": {
              "color": "white"
             }
            },
            "header": {
             "fill": {
              "color": "#C8D4E3"
             },
             "line": {
              "color": "white"
             }
            },
            "type": "table"
           }
          ]
         },
         "layout": {
          "annotationdefaults": {
           "arrowcolor": "#2a3f5f",
           "arrowhead": 0,
           "arrowwidth": 1
          },
          "autotypenumbers": "strict",
          "coloraxis": {
           "colorbar": {
            "outlinewidth": 0,
            "ticks": ""
           }
          },
          "colorscale": {
           "diverging": [
            [
             0,
             "#8e0152"
            ],
            [
             0.1,
             "#c51b7d"
            ],
            [
             0.2,
             "#de77ae"
            ],
            [
             0.3,
             "#f1b6da"
            ],
            [
             0.4,
             "#fde0ef"
            ],
            [
             0.5,
             "#f7f7f7"
            ],
            [
             0.6,
             "#e6f5d0"
            ],
            [
             0.7,
             "#b8e186"
            ],
            [
             0.8,
             "#7fbc41"
            ],
            [
             0.9,
             "#4d9221"
            ],
            [
             1,
             "#276419"
            ]
           ],
           "sequential": [
            [
             0,
             "#0d0887"
            ],
            [
             0.1111111111111111,
             "#46039f"
            ],
            [
             0.2222222222222222,
             "#7201a8"
            ],
            [
             0.3333333333333333,
             "#9c179e"
            ],
            [
             0.4444444444444444,
             "#bd3786"
            ],
            [
             0.5555555555555556,
             "#d8576b"
            ],
            [
             0.6666666666666666,
             "#ed7953"
            ],
            [
             0.7777777777777778,
             "#fb9f3a"
            ],
            [
             0.8888888888888888,
             "#fdca26"
            ],
            [
             1,
             "#f0f921"
            ]
           ],
           "sequentialminus": [
            [
             0,
             "#0d0887"
            ],
            [
             0.1111111111111111,
             "#46039f"
            ],
            [
             0.2222222222222222,
             "#7201a8"
            ],
            [
             0.3333333333333333,
             "#9c179e"
            ],
            [
             0.4444444444444444,
             "#bd3786"
            ],
            [
             0.5555555555555556,
             "#d8576b"
            ],
            [
             0.6666666666666666,
             "#ed7953"
            ],
            [
             0.7777777777777778,
             "#fb9f3a"
            ],
            [
             0.8888888888888888,
             "#fdca26"
            ],
            [
             1,
             "#f0f921"
            ]
           ]
          },
          "colorway": [
           "#636efa",
           "#EF553B",
           "#00cc96",
           "#ab63fa",
           "#FFA15A",
           "#19d3f3",
           "#FF6692",
           "#B6E880",
           "#FF97FF",
           "#FECB52"
          ],
          "font": {
           "color": "#2a3f5f"
          },
          "geo": {
           "bgcolor": "white",
           "lakecolor": "white",
           "landcolor": "#E5ECF6",
           "showlakes": true,
           "showland": true,
           "subunitcolor": "white"
          },
          "hoverlabel": {
           "align": "left"
          },
          "hovermode": "closest",
          "mapbox": {
           "style": "light"
          },
          "paper_bgcolor": "white",
          "plot_bgcolor": "#E5ECF6",
          "polar": {
           "angularaxis": {
            "gridcolor": "white",
            "linecolor": "white",
            "ticks": ""
           },
           "bgcolor": "#E5ECF6",
           "radialaxis": {
            "gridcolor": "white",
            "linecolor": "white",
            "ticks": ""
           }
          },
          "scene": {
           "xaxis": {
            "backgroundcolor": "#E5ECF6",
            "gridcolor": "white",
            "gridwidth": 2,
            "linecolor": "white",
            "showbackground": true,
            "ticks": "",
            "zerolinecolor": "white"
           },
           "yaxis": {
            "backgroundcolor": "#E5ECF6",
            "gridcolor": "white",
            "gridwidth": 2,
            "linecolor": "white",
            "showbackground": true,
            "ticks": "",
            "zerolinecolor": "white"
           },
           "zaxis": {
            "backgroundcolor": "#E5ECF6",
            "gridcolor": "white",
            "gridwidth": 2,
            "linecolor": "white",
            "showbackground": true,
            "ticks": "",
            "zerolinecolor": "white"
           }
          },
          "shapedefaults": {
           "line": {
            "color": "#2a3f5f"
           }
          },
          "ternary": {
           "aaxis": {
            "gridcolor": "white",
            "linecolor": "white",
            "ticks": ""
           },
           "baxis": {
            "gridcolor": "white",
            "linecolor": "white",
            "ticks": ""
           },
           "bgcolor": "#E5ECF6",
           "caxis": {
            "gridcolor": "white",
            "linecolor": "white",
            "ticks": ""
           }
          },
          "title": {
           "x": 0.05
          },
          "xaxis": {
           "automargin": true,
           "gridcolor": "white",
           "linecolor": "white",
           "ticks": "",
           "title": {
            "standoff": 15
           },
           "zerolinecolor": "white",
           "zerolinewidth": 2
          },
          "yaxis": {
           "automargin": true,
           "gridcolor": "white",
           "linecolor": "white",
           "ticks": "",
           "title": {
            "standoff": 15
           },
           "zerolinecolor": "white",
           "zerolinewidth": 2
          }
         }
        },
        "xaxis": {
         "rangeslider": {
          "visible": true
         }
        }
       }
      }
     },
     "metadata": {},
     "output_type": "display_data"
    },
    {
     "data": {
      "application/vnd.plotly.v1+json": {
       "config": {
        "plotlyServerURL": "https://plot.ly"
       },
       "data": [
        {
         "name": "Sản lượng điện trung bình cao nhất theo khung giờ mỗi ngày inverter 3 ",
         "showlegend": true,
         "type": "scatter",
         "x": [
          "2022-06-01",
          "2022-06-02",
          "2022-06-03",
          "2022-06-04",
          "2022-06-05",
          "2022-06-06",
          "2022-06-07",
          "2022-06-08",
          "2022-06-09",
          "2022-06-10",
          "2022-06-11",
          "2022-06-12",
          "2022-06-13",
          "2022-06-14",
          "2022-06-15",
          "2022-06-16",
          "2022-06-17",
          "2022-06-18",
          "2022-06-19",
          "2022-06-20",
          "2022-06-21",
          "2022-06-22",
          "2022-06-23",
          "2022-06-24",
          "2022-06-25",
          "2022-06-27",
          "2022-06-28",
          "2022-06-29",
          "2022-06-30",
          "2022-07-03",
          "2022-07-04",
          "2022-07-05",
          "2022-07-06",
          "2022-07-07",
          "2022-07-08",
          "2022-07-09",
          "2022-07-11",
          "2022-07-12",
          "2022-07-13",
          "2022-07-14",
          "2022-07-15",
          "2022-07-16",
          "2022-07-17",
          "2022-07-18",
          "2022-07-19",
          "2022-07-20",
          "2022-07-21",
          "2022-07-22",
          "2022-07-23",
          "2022-07-24",
          "2022-07-25",
          "2022-07-26",
          "2022-07-27",
          "2022-07-28",
          "2022-07-29",
          "2022-07-30",
          "2022-07-31",
          "2022-08-01",
          "2022-08-02",
          "2022-08-03",
          "2022-08-04",
          "2022-08-05",
          "2022-08-06",
          "2022-08-10",
          "2022-08-12",
          "2022-08-13",
          "2022-08-14",
          "2022-08-15",
          "2022-08-16",
          "2022-08-18",
          "2022-08-19",
          "2022-08-22",
          "2022-08-23",
          "2022-08-24"
         ],
         "y": [
          102.851,
          81.127,
          101.553,
          101.174,
          90.405,
          101.762,
          102.843,
          101.866,
          104.695,
          87.262,
          95.214,
          102.828,
          94.853,
          101.133,
          80.972,
          101.603,
          96.872,
          95.599,
          101.302,
          97.05,
          100.983,
          100.164,
          88.617,
          102.064,
          105.022,
          99.969,
          84.062,
          97.991,
          100.377,
          95.625,
          112.119,
          93.958,
          103.389,
          103.713,
          97.906,
          103.57,
          103.173,
          104.266,
          105.886,
          104.995,
          103.883,
          102.75,
          100.419,
          100.793,
          111.897,
          104.765,
          106.215,
          103.198,
          105.416,
          99.56,
          99.561,
          101.59,
          104.67,
          101.811,
          100.862,
          100.861,
          106.143,
          108.005,
          102.811,
          90.022,
          103.699,
          104.106,
          90.296,
          89.23,
          103.033,
          101.148,
          104.007,
          101.741,
          98.803,
          103.049,
          110.007,
          102.157,
          99.56,
          92.965
         ]
        },
        {
         "name": "Hiệu suất trung bình cao nhất theo khung giờ mỗi ngày inverter 3 ",
         "showlegend": true,
         "type": "scatter",
         "x": [
          "2022-06-01",
          "2022-06-02",
          "2022-06-03",
          "2022-06-04",
          "2022-06-05",
          "2022-06-06",
          "2022-06-07",
          "2022-06-08",
          "2022-06-09",
          "2022-06-10",
          "2022-06-11",
          "2022-06-12",
          "2022-06-13",
          "2022-06-14",
          "2022-06-15",
          "2022-06-16",
          "2022-06-17",
          "2022-06-18",
          "2022-06-19",
          "2022-06-20",
          "2022-06-21",
          "2022-06-22",
          "2022-06-23",
          "2022-06-24",
          "2022-06-25",
          "2022-06-27",
          "2022-06-28",
          "2022-06-29",
          "2022-06-30",
          "2022-07-03",
          "2022-07-04",
          "2022-07-05",
          "2022-07-06",
          "2022-07-07",
          "2022-07-08",
          "2022-07-09",
          "2022-07-11",
          "2022-07-12",
          "2022-07-13",
          "2022-07-14",
          "2022-07-15",
          "2022-07-16",
          "2022-07-17",
          "2022-07-18",
          "2022-07-19",
          "2022-07-20",
          "2022-07-21",
          "2022-07-22",
          "2022-07-23",
          "2022-07-24",
          "2022-07-25",
          "2022-07-26",
          "2022-07-27",
          "2022-07-28",
          "2022-07-29",
          "2022-07-30",
          "2022-07-31",
          "2022-08-01",
          "2022-08-02",
          "2022-08-03",
          "2022-08-04",
          "2022-08-05",
          "2022-08-06",
          "2022-08-10",
          "2022-08-12",
          "2022-08-13",
          "2022-08-14",
          "2022-08-15",
          "2022-08-16",
          "2022-08-18",
          "2022-08-19",
          "2022-08-22",
          "2022-08-23",
          "2022-08-24"
         ],
         "y": [
          76.29034709206555,
          58.66032121930246,
          74.58739584130808,
          73.39644959657129,
          66.28056391373244,
          75.00580713000382,
          73.7733392372067,
          67.5558983162863,
          66.18258231969529,
          79.17631860874785,
          74.84783897057035,
          74.56099055806585,
          69.9755897567507,
          73.83597270395735,
          61.17990439646746,
          74.96406853651773,
          72.41308350019567,
          70.3016030817641,
          73.79270497831307,
          73.1656381769966,
          74.35123383726832,
          67.40302677974348,
          65.18017056464193,
          73.80790036488511,
          73.31199639096504,
          74.18806862395074,
          65.43402244876482,
          73.35662226503665,
          74.34957207665694,
          76.29329478086967,
          73.98141152152195,
          63.891725840795175,
          75.45433072260477,
          74.49583424481675,
          74.56685716032115,
          74.20522536778932,
          62.72200704067208,
          74.22781510980002,
          69.71811210770502,
          74.6077205842509,
          74.75083638360208,
          75.18676968924117,
          74.97259117657157,
          75.174974975075,
          70.64937665337752,
          67.36683449053807,
          59.00820856575033,
          74.27552049038894,
          71.11698617528675,
          72.46993714058691,
          72.65779820797583,
          74.50488969260584,
          72.34068752199212,
          69.5460368784487,
          75.29096434787041,
          73.33877303876915,
          68.97591342401856,
          73.80920324474141,
          74.00348611860524,
          49.70988541321243,
          73.32731086721944,
          66.98093355908111,
          76.67597226037127,
          75.00197176184517,
          70.41571395786313,
          72.0088105963055,
          73.90381118576208,
          70.53701714704849,
          65.90822759096096,
          67.68173778501844,
          73.07349128723547,
          73.24311491810668,
          74.65886027900272,
          57.83787038103293
         ]
        },
        {
         "name": "Hiệu suất tuyến tính inverter 3 thang6,7,8",
         "showlegend": true,
         "type": "scatter",
         "x": [
          "2022-06-01",
          "2022-06-02",
          "2022-06-03",
          "2022-06-04",
          "2022-06-05",
          "2022-06-06",
          "2022-06-07",
          "2022-06-08",
          "2022-06-09",
          "2022-06-10",
          "2022-06-11",
          "2022-06-12",
          "2022-06-13",
          "2022-06-14",
          "2022-06-15",
          "2022-06-16",
          "2022-06-17",
          "2022-06-18",
          "2022-06-19",
          "2022-06-20",
          "2022-06-21",
          "2022-06-22",
          "2022-06-23",
          "2022-06-24",
          "2022-06-25",
          "2022-06-27",
          "2022-06-28",
          "2022-06-29",
          "2022-06-30",
          "2022-07-03",
          "2022-07-04",
          "2022-07-05",
          "2022-07-06",
          "2022-07-07",
          "2022-07-08",
          "2022-07-09",
          "2022-07-11",
          "2022-07-12",
          "2022-07-13",
          "2022-07-14",
          "2022-07-15",
          "2022-07-16",
          "2022-07-17",
          "2022-07-18",
          "2022-07-19",
          "2022-07-20",
          "2022-07-21",
          "2022-07-22",
          "2022-07-23",
          "2022-07-24",
          "2022-07-25",
          "2022-07-26",
          "2022-07-27",
          "2022-07-28",
          "2022-07-29",
          "2022-07-30",
          "2022-07-31",
          "2022-08-01",
          "2022-08-02",
          "2022-08-03",
          "2022-08-04",
          "2022-08-05",
          "2022-08-06",
          "2022-08-10",
          "2022-08-12",
          "2022-08-13",
          "2022-08-14",
          "2022-08-15",
          "2022-08-16",
          "2022-08-18",
          "2022-08-19",
          "2022-08-22",
          "2022-08-23",
          "2022-08-24"
         ],
         "y": [
          72.02147024579237,
          72.00159208392064,
          71.98171392204891,
          71.96183576017718,
          71.94195759830545,
          71.92207943643372,
          71.90220127456199,
          71.88232311269026,
          71.86244495081853,
          71.8425667889468,
          71.82268862707507,
          71.80281046520334,
          71.78293230333159,
          71.76305414145986,
          71.74317597958813,
          71.7232978177164,
          71.70341965584467,
          71.68354149397294,
          71.66366333210121,
          71.64378517022948,
          71.62390700835775,
          71.60402884648602,
          71.58415068461429,
          71.56427252274256,
          71.54439436087083,
          71.5245161989991,
          71.50463803712736,
          71.48475987525563,
          71.4648817133839,
          71.44500355151217,
          71.42512538964043,
          71.4052472277687,
          71.38536906589697,
          71.36549090402524,
          71.3456127421535,
          71.32573458028178,
          71.30585641841004,
          71.28597825653831,
          71.26610009466658,
          71.24622193279485,
          71.22634377092312,
          71.20646560905139,
          71.18658744717966,
          71.16670928530793,
          71.1468311234362,
          71.12695296156447,
          71.10707479969274,
          71.08719663782101,
          71.06731847594926,
          71.04744031407753,
          71.0275621522058,
          71.00768399033407,
          70.98780582846234,
          70.96792766659061,
          70.94804950471888,
          70.92817134284715,
          70.90829318097542,
          70.88841501910369,
          70.86853685723196,
          70.84865869536023,
          70.8287805334885,
          70.80890237161677,
          70.78902420974504,
          70.7691460478733,
          70.74926788600158,
          70.72938972412985,
          70.70951156225811,
          70.68963340038637,
          70.66975523851464,
          70.64987707664291,
          70.62999891477118,
          70.61012075289945,
          70.59024259102772,
          70.57036442915599
         ]
        }
       ],
       "layout": {
        "template": {
         "data": {
          "bar": [
           {
            "error_x": {
             "color": "#2a3f5f"
            },
            "error_y": {
             "color": "#2a3f5f"
            },
            "marker": {
             "line": {
              "color": "#E5ECF6",
              "width": 0.5
             },
             "pattern": {
              "fillmode": "overlay",
              "size": 10,
              "solidity": 0.2
             }
            },
            "type": "bar"
           }
          ],
          "barpolar": [
           {
            "marker": {
             "line": {
              "color": "#E5ECF6",
              "width": 0.5
             },
             "pattern": {
              "fillmode": "overlay",
              "size": 10,
              "solidity": 0.2
             }
            },
            "type": "barpolar"
           }
          ],
          "carpet": [
           {
            "aaxis": {
             "endlinecolor": "#2a3f5f",
             "gridcolor": "white",
             "linecolor": "white",
             "minorgridcolor": "white",
             "startlinecolor": "#2a3f5f"
            },
            "baxis": {
             "endlinecolor": "#2a3f5f",
             "gridcolor": "white",
             "linecolor": "white",
             "minorgridcolor": "white",
             "startlinecolor": "#2a3f5f"
            },
            "type": "carpet"
           }
          ],
          "choropleth": [
           {
            "colorbar": {
             "outlinewidth": 0,
             "ticks": ""
            },
            "type": "choropleth"
           }
          ],
          "contour": [
           {
            "colorbar": {
             "outlinewidth": 0,
             "ticks": ""
            },
            "colorscale": [
             [
              0,
              "#0d0887"
             ],
             [
              0.1111111111111111,
              "#46039f"
             ],
             [
              0.2222222222222222,
              "#7201a8"
             ],
             [
              0.3333333333333333,
              "#9c179e"
             ],
             [
              0.4444444444444444,
              "#bd3786"
             ],
             [
              0.5555555555555556,
              "#d8576b"
             ],
             [
              0.6666666666666666,
              "#ed7953"
             ],
             [
              0.7777777777777778,
              "#fb9f3a"
             ],
             [
              0.8888888888888888,
              "#fdca26"
             ],
             [
              1,
              "#f0f921"
             ]
            ],
            "type": "contour"
           }
          ],
          "contourcarpet": [
           {
            "colorbar": {
             "outlinewidth": 0,
             "ticks": ""
            },
            "type": "contourcarpet"
           }
          ],
          "heatmap": [
           {
            "colorbar": {
             "outlinewidth": 0,
             "ticks": ""
            },
            "colorscale": [
             [
              0,
              "#0d0887"
             ],
             [
              0.1111111111111111,
              "#46039f"
             ],
             [
              0.2222222222222222,
              "#7201a8"
             ],
             [
              0.3333333333333333,
              "#9c179e"
             ],
             [
              0.4444444444444444,
              "#bd3786"
             ],
             [
              0.5555555555555556,
              "#d8576b"
             ],
             [
              0.6666666666666666,
              "#ed7953"
             ],
             [
              0.7777777777777778,
              "#fb9f3a"
             ],
             [
              0.8888888888888888,
              "#fdca26"
             ],
             [
              1,
              "#f0f921"
             ]
            ],
            "type": "heatmap"
           }
          ],
          "heatmapgl": [
           {
            "colorbar": {
             "outlinewidth": 0,
             "ticks": ""
            },
            "colorscale": [
             [
              0,
              "#0d0887"
             ],
             [
              0.1111111111111111,
              "#46039f"
             ],
             [
              0.2222222222222222,
              "#7201a8"
             ],
             [
              0.3333333333333333,
              "#9c179e"
             ],
             [
              0.4444444444444444,
              "#bd3786"
             ],
             [
              0.5555555555555556,
              "#d8576b"
             ],
             [
              0.6666666666666666,
              "#ed7953"
             ],
             [
              0.7777777777777778,
              "#fb9f3a"
             ],
             [
              0.8888888888888888,
              "#fdca26"
             ],
             [
              1,
              "#f0f921"
             ]
            ],
            "type": "heatmapgl"
           }
          ],
          "histogram": [
           {
            "marker": {
             "pattern": {
              "fillmode": "overlay",
              "size": 10,
              "solidity": 0.2
             }
            },
            "type": "histogram"
           }
          ],
          "histogram2d": [
           {
            "colorbar": {
             "outlinewidth": 0,
             "ticks": ""
            },
            "colorscale": [
             [
              0,
              "#0d0887"
             ],
             [
              0.1111111111111111,
              "#46039f"
             ],
             [
              0.2222222222222222,
              "#7201a8"
             ],
             [
              0.3333333333333333,
              "#9c179e"
             ],
             [
              0.4444444444444444,
              "#bd3786"
             ],
             [
              0.5555555555555556,
              "#d8576b"
             ],
             [
              0.6666666666666666,
              "#ed7953"
             ],
             [
              0.7777777777777778,
              "#fb9f3a"
             ],
             [
              0.8888888888888888,
              "#fdca26"
             ],
             [
              1,
              "#f0f921"
             ]
            ],
            "type": "histogram2d"
           }
          ],
          "histogram2dcontour": [
           {
            "colorbar": {
             "outlinewidth": 0,
             "ticks": ""
            },
            "colorscale": [
             [
              0,
              "#0d0887"
             ],
             [
              0.1111111111111111,
              "#46039f"
             ],
             [
              0.2222222222222222,
              "#7201a8"
             ],
             [
              0.3333333333333333,
              "#9c179e"
             ],
             [
              0.4444444444444444,
              "#bd3786"
             ],
             [
              0.5555555555555556,
              "#d8576b"
             ],
             [
              0.6666666666666666,
              "#ed7953"
             ],
             [
              0.7777777777777778,
              "#fb9f3a"
             ],
             [
              0.8888888888888888,
              "#fdca26"
             ],
             [
              1,
              "#f0f921"
             ]
            ],
            "type": "histogram2dcontour"
           }
          ],
          "mesh3d": [
           {
            "colorbar": {
             "outlinewidth": 0,
             "ticks": ""
            },
            "type": "mesh3d"
           }
          ],
          "parcoords": [
           {
            "line": {
             "colorbar": {
              "outlinewidth": 0,
              "ticks": ""
             }
            },
            "type": "parcoords"
           }
          ],
          "pie": [
           {
            "automargin": true,
            "type": "pie"
           }
          ],
          "scatter": [
           {
            "fillpattern": {
             "fillmode": "overlay",
             "size": 10,
             "solidity": 0.2
            },
            "type": "scatter"
           }
          ],
          "scatter3d": [
           {
            "line": {
             "colorbar": {
              "outlinewidth": 0,
              "ticks": ""
             }
            },
            "marker": {
             "colorbar": {
              "outlinewidth": 0,
              "ticks": ""
             }
            },
            "type": "scatter3d"
           }
          ],
          "scattercarpet": [
           {
            "marker": {
             "colorbar": {
              "outlinewidth": 0,
              "ticks": ""
             }
            },
            "type": "scattercarpet"
           }
          ],
          "scattergeo": [
           {
            "marker": {
             "colorbar": {
              "outlinewidth": 0,
              "ticks": ""
             }
            },
            "type": "scattergeo"
           }
          ],
          "scattergl": [
           {
            "marker": {
             "colorbar": {
              "outlinewidth": 0,
              "ticks": ""
             }
            },
            "type": "scattergl"
           }
          ],
          "scattermapbox": [
           {
            "marker": {
             "colorbar": {
              "outlinewidth": 0,
              "ticks": ""
             }
            },
            "type": "scattermapbox"
           }
          ],
          "scatterpolar": [
           {
            "marker": {
             "colorbar": {
              "outlinewidth": 0,
              "ticks": ""
             }
            },
            "type": "scatterpolar"
           }
          ],
          "scatterpolargl": [
           {
            "marker": {
             "colorbar": {
              "outlinewidth": 0,
              "ticks": ""
             }
            },
            "type": "scatterpolargl"
           }
          ],
          "scatterternary": [
           {
            "marker": {
             "colorbar": {
              "outlinewidth": 0,
              "ticks": ""
             }
            },
            "type": "scatterternary"
           }
          ],
          "surface": [
           {
            "colorbar": {
             "outlinewidth": 0,
             "ticks": ""
            },
            "colorscale": [
             [
              0,
              "#0d0887"
             ],
             [
              0.1111111111111111,
              "#46039f"
             ],
             [
              0.2222222222222222,
              "#7201a8"
             ],
             [
              0.3333333333333333,
              "#9c179e"
             ],
             [
              0.4444444444444444,
              "#bd3786"
             ],
             [
              0.5555555555555556,
              "#d8576b"
             ],
             [
              0.6666666666666666,
              "#ed7953"
             ],
             [
              0.7777777777777778,
              "#fb9f3a"
             ],
             [
              0.8888888888888888,
              "#fdca26"
             ],
             [
              1,
              "#f0f921"
             ]
            ],
            "type": "surface"
           }
          ],
          "table": [
           {
            "cells": {
             "fill": {
              "color": "#EBF0F8"
             },
             "line": {
              "color": "white"
             }
            },
            "header": {
             "fill": {
              "color": "#C8D4E3"
             },
             "line": {
              "color": "white"
             }
            },
            "type": "table"
           }
          ]
         },
         "layout": {
          "annotationdefaults": {
           "arrowcolor": "#2a3f5f",
           "arrowhead": 0,
           "arrowwidth": 1
          },
          "autotypenumbers": "strict",
          "coloraxis": {
           "colorbar": {
            "outlinewidth": 0,
            "ticks": ""
           }
          },
          "colorscale": {
           "diverging": [
            [
             0,
             "#8e0152"
            ],
            [
             0.1,
             "#c51b7d"
            ],
            [
             0.2,
             "#de77ae"
            ],
            [
             0.3,
             "#f1b6da"
            ],
            [
             0.4,
             "#fde0ef"
            ],
            [
             0.5,
             "#f7f7f7"
            ],
            [
             0.6,
             "#e6f5d0"
            ],
            [
             0.7,
             "#b8e186"
            ],
            [
             0.8,
             "#7fbc41"
            ],
            [
             0.9,
             "#4d9221"
            ],
            [
             1,
             "#276419"
            ]
           ],
           "sequential": [
            [
             0,
             "#0d0887"
            ],
            [
             0.1111111111111111,
             "#46039f"
            ],
            [
             0.2222222222222222,
             "#7201a8"
            ],
            [
             0.3333333333333333,
             "#9c179e"
            ],
            [
             0.4444444444444444,
             "#bd3786"
            ],
            [
             0.5555555555555556,
             "#d8576b"
            ],
            [
             0.6666666666666666,
             "#ed7953"
            ],
            [
             0.7777777777777778,
             "#fb9f3a"
            ],
            [
             0.8888888888888888,
             "#fdca26"
            ],
            [
             1,
             "#f0f921"
            ]
           ],
           "sequentialminus": [
            [
             0,
             "#0d0887"
            ],
            [
             0.1111111111111111,
             "#46039f"
            ],
            [
             0.2222222222222222,
             "#7201a8"
            ],
            [
             0.3333333333333333,
             "#9c179e"
            ],
            [
             0.4444444444444444,
             "#bd3786"
            ],
            [
             0.5555555555555556,
             "#d8576b"
            ],
            [
             0.6666666666666666,
             "#ed7953"
            ],
            [
             0.7777777777777778,
             "#fb9f3a"
            ],
            [
             0.8888888888888888,
             "#fdca26"
            ],
            [
             1,
             "#f0f921"
            ]
           ]
          },
          "colorway": [
           "#636efa",
           "#EF553B",
           "#00cc96",
           "#ab63fa",
           "#FFA15A",
           "#19d3f3",
           "#FF6692",
           "#B6E880",
           "#FF97FF",
           "#FECB52"
          ],
          "font": {
           "color": "#2a3f5f"
          },
          "geo": {
           "bgcolor": "white",
           "lakecolor": "white",
           "landcolor": "#E5ECF6",
           "showlakes": true,
           "showland": true,
           "subunitcolor": "white"
          },
          "hoverlabel": {
           "align": "left"
          },
          "hovermode": "closest",
          "mapbox": {
           "style": "light"
          },
          "paper_bgcolor": "white",
          "plot_bgcolor": "#E5ECF6",
          "polar": {
           "angularaxis": {
            "gridcolor": "white",
            "linecolor": "white",
            "ticks": ""
           },
           "bgcolor": "#E5ECF6",
           "radialaxis": {
            "gridcolor": "white",
            "linecolor": "white",
            "ticks": ""
           }
          },
          "scene": {
           "xaxis": {
            "backgroundcolor": "#E5ECF6",
            "gridcolor": "white",
            "gridwidth": 2,
            "linecolor": "white",
            "showbackground": true,
            "ticks": "",
            "zerolinecolor": "white"
           },
           "yaxis": {
            "backgroundcolor": "#E5ECF6",
            "gridcolor": "white",
            "gridwidth": 2,
            "linecolor": "white",
            "showbackground": true,
            "ticks": "",
            "zerolinecolor": "white"
           },
           "zaxis": {
            "backgroundcolor": "#E5ECF6",
            "gridcolor": "white",
            "gridwidth": 2,
            "linecolor": "white",
            "showbackground": true,
            "ticks": "",
            "zerolinecolor": "white"
           }
          },
          "shapedefaults": {
           "line": {
            "color": "#2a3f5f"
           }
          },
          "ternary": {
           "aaxis": {
            "gridcolor": "white",
            "linecolor": "white",
            "ticks": ""
           },
           "baxis": {
            "gridcolor": "white",
            "linecolor": "white",
            "ticks": ""
           },
           "bgcolor": "#E5ECF6",
           "caxis": {
            "gridcolor": "white",
            "linecolor": "white",
            "ticks": ""
           }
          },
          "title": {
           "x": 0.05
          },
          "xaxis": {
           "automargin": true,
           "gridcolor": "white",
           "linecolor": "white",
           "ticks": "",
           "title": {
            "standoff": 15
           },
           "zerolinecolor": "white",
           "zerolinewidth": 2
          },
          "yaxis": {
           "automargin": true,
           "gridcolor": "white",
           "linecolor": "white",
           "ticks": "",
           "title": {
            "standoff": 15
           },
           "zerolinecolor": "white",
           "zerolinewidth": 2
          }
         }
        },
        "xaxis": {
         "rangeslider": {
          "visible": true
         }
        }
       }
      }
     },
     "metadata": {},
     "output_type": "display_data"
    }
   ],
   "source": [
    "df2=df1[df1['month']<6]\n",
    "df3=df1[df1['month']>=6]\n",
    "df_bin2=df_bin[df_bin['month']<6]\n",
    "df_bin3=df_bin[df_bin['month']>=6]\n",
    "x=df_bin2['stt'].tolist()\n",
    "y=df_bin2['Hieu suat'].tolist()\n",
    "x=np.array(x)\n",
    "y=np.array(y)\n",
    "b = estimate_coef(x, y) \n",
    "print(\"Estimated coefficients:\\nb_0 = {}\\nb_1 = {}\".format(b[0], b[1])) \n",
    "plot_regression_line(x, y, b) \n",
    "y_pred2= b[0] + b[1]*x\n",
    "x=df_bin3['stt'].tolist()\n",
    "y=df_bin3['Hieu suat'].tolist()\n",
    "x=np.array(x)\n",
    "y=np.array(y)\n",
    "b = estimate_coef(x, y) \n",
    "print(\"Estimated coefficients:\\nb_0 = {}\\nb_1 = {}\".format(b[0], b[1])) \n",
    "plot_regression_line(x, y, b) \n",
    "y_pred3= b[0] + b[1]*x\n",
    "fig2 = go.Figure()\n",
    "fig2.add_trace(go.Scatter(\n",
    "    x=df2['date'],\n",
    "    y=df2['Total input power(kW)'],\n",
    "    name=\"Sản lượng điện trung bình cao nhất theo khung giờ mỗi ngày inverter 3 \"))\n",
    "fig2.add_trace(go.Scatter(\n",
    "    x=df2['date'],\n",
    "    y=df2['Hieu suat'],\n",
    "    name=\"Hiệu suất trung bình cao nhất theo khung giờ mỗi ngày inverter 3 \"))\n",
    "fig2.add_trace(go.Scatter(\n",
    "    x=df2['date'],\n",
    "    y=y_pred2,\n",
    "    name=\"Hiệu suất tuyến tính inverter 3 thang3,4,5\"))\n",
    "fig2 . update_traces (\n",
    "    showlegend = True \n",
    "    )\n",
    "fig2.update_xaxes(\n",
    "    rangeslider_visible=True,\n",
    "    )   \n",
    "fig2.show()\n",
    "fig3 = go.Figure()\n",
    "fig3.add_trace(go.Scatter(\n",
    "    x=df3['date'],\n",
    "    y=df3['Total input power(kW)'],\n",
    "    name=\"Sản lượng điện trung bình cao nhất theo khung giờ mỗi ngày inverter 3 \"))\n",
    "fig3.add_trace(go.Scatter(\n",
    "    x=df3['date'],\n",
    "    y=df3['Hieu suat'],\n",
    "    name=\"Hiệu suất trung bình cao nhất theo khung giờ mỗi ngày inverter 3 \"))\n",
    "fig3.add_trace(go.Scatter(\n",
    "    x=df3['date'],\n",
    "    y=y_pred3,\n",
    "    name=\"Hiệu suất tuyến tính inverter 3 thang6,7,8\"))\n",
    "fig3 . update_traces (\n",
    "    showlegend = True \n",
    "    )\n",
    "fig3.update_xaxes(\n",
    "    rangeslider_visible=True,\n",
    "    )   \n",
    "fig3.show()"
   ]
  },
  {
   "cell_type": "code",
   "execution_count": 66,
   "metadata": {},
   "outputs": [
    {
     "name": "stdout",
     "output_type": "stream",
     "text": [
      "    month                date  Hieu suat tuyen tinh      rand  Hieu suat\n",
      "0       3 2022-03-22 12:45:00             84.246732 -4.638027  79.608706\n",
      "1       3 2022-03-23 12:25:00             84.142111  3.399545  87.541656\n",
      "2       3 2022-03-24 12:25:00             84.037490 -4.420976  79.616514\n",
      "3       3 2022-03-25 12:10:00             83.932868 -1.429078  82.503791\n",
      "4       3 2022-03-26 12:00:00             83.828247  2.855168  86.683415\n",
      "5       3 2022-03-28 13:15:00             83.723626  0.779175  84.502801\n",
      "6       3 2022-03-29 10:45:00             83.619004 -3.947782  79.671222\n",
      "7       3 2022-03-30 12:25:00             83.514383 -4.088850  79.425533\n",
      "8       4 2022-04-03 13:05:00             83.409762  4.665503  88.075265\n",
      "9       4 2022-04-04 12:35:00             83.305140 -0.887888  82.417253\n",
      "10      4 2022-04-06 12:15:00             83.200519 -1.904031  81.296488\n",
      "11      4 2022-04-07 11:40:00             83.095898  4.965640  88.061538\n",
      "12      4 2022-04-08 11:45:00             82.991276 -4.004811  78.986465\n",
      "13      4 2022-04-09 11:35:00             82.886655  1.279387  84.166042\n",
      "14      4 2022-04-11 10:45:00             82.782034 -3.104693  79.677341\n",
      "15      4 2022-04-12 11:30:00             82.677412  4.359883  87.037295\n",
      "16      4 2022-04-13 11:40:00             82.572791 -2.047976  80.524815\n",
      "17      4 2022-04-15 10:55:00             82.468170 -0.859516  81.608654\n",
      "18      4 2022-04-16 11:30:00             82.363548  1.156856  83.520404\n",
      "19      4 2022-04-17 10:35:00             82.258927 -3.234672  79.024255\n",
      "20      4 2022-04-18 12:15:00             82.154306 -1.589954  80.564352\n",
      "21      4 2022-04-21 09:40:00             82.049684 -2.773226  79.276458\n",
      "22      4 2022-04-22 11:00:00             81.945063 -0.677549  81.267513\n",
      "23      4 2022-04-23 12:00:00             81.840442  1.637916  83.478357\n",
      "24      4 2022-04-24 11:50:00             81.735820 -1.516137  80.219684\n",
      "25      4 2022-04-25 11:25:00             81.631199 -1.833932  79.797267\n",
      "26      4 2022-04-26 11:35:00             81.526578 -2.007882  79.518696\n",
      "27      4 2022-04-27 11:40:00             81.421956  0.078315  81.500271\n",
      "28      4 2022-04-28 11:40:00             81.317335  1.206862  82.524197\n",
      "29      4 2022-04-29 10:40:00             81.212714 -3.066629  78.146085\n",
      "30      5 2022-05-05 10:00:00             81.108092 -1.883322  79.224770\n",
      "31      5 2022-05-06 12:10:00             81.003471  3.478709  84.482180\n",
      "32      5 2022-05-07 11:25:00             80.898850  3.433203  84.332053\n",
      "33      5 2022-05-09 12:35:00             80.794228  4.037733  84.831961\n",
      "34      5 2022-05-10 11:25:00             80.689607  2.199289  82.888896\n",
      "35      5 2022-05-11 11:40:00             80.584986  4.311351  84.896337\n",
      "36      5 2022-05-13 11:35:00             80.480364 -3.918121  76.562243\n",
      "37      5 2022-05-14 13:05:00             80.375743  2.054423  82.430166\n",
      "38      5 2022-05-16 09:50:00             80.271121  1.378966  81.650087\n",
      "39      5 2022-05-17 10:50:00             80.166500 -4.745514  75.420986\n",
      "40      5 2022-05-18 12:20:00             80.061879 -3.215608  76.846271\n",
      "41      5 2022-05-19 11:35:00             79.957257 -3.935143  76.022114\n",
      "42      5 2022-05-20 12:20:00             79.852636 -2.354741  77.497896\n",
      "43      5 2022-05-21 13:00:00             79.748015 -4.600190  75.147825\n",
      "44      5 2022-05-22 13:55:00             79.643393 -2.193278  77.450115\n",
      "45      5 2022-05-23 11:55:00             79.538772  3.542406  83.081178\n",
      "46      5 2022-05-24 13:35:00             79.434151  4.045174  83.479325\n",
      "47      5 2022-05-25 12:05:00             79.329529  3.971052  83.300581\n",
      "48      5 2022-05-27 11:05:00             79.224908  1.592443  80.817351\n",
      "49      5 2022-05-28 12:15:00             79.120287  4.414473  83.534760\n",
      "50      5 2022-05-29 10:45:00             79.015665  4.569910  83.585575\n",
      "51      5 2022-05-30 11:10:00             78.911044  0.232715  79.143759\n"
     ]
    }
   ],
   "source": [
    "array = [random.uniform(-5, 5) for _ in range(len(df2.index))]\n",
    "df21=pd.DataFrame(df_bin2['month'])\n",
    "df21['date']=df2.index\n",
    "df21.loc[:,'Hieu suat tuyen tinh']=pd.Series((84.2467324-df21.index*0.10462134), df21.index)\n",
    "df21.loc[:,'rand']=pd.Series((array), df21.index)\n",
    "df21.loc[:,'Hieu suat']=pd.Series(df21['Hieu suat tuyen tinh']+df21['rand'], df21.index)\n",
    "print(df21)"
   ]
  },
  {
   "cell_type": "code",
   "execution_count": 67,
   "metadata": {},
   "outputs": [
    {
     "name": "stdout",
     "output_type": "stream",
     "text": [
      "     month                date  Hieu suat tuyen tinh      rand  Hieu suat\n",
      "52       6 2022-06-01 12:00:00             77.364245 -1.507756  75.856489\n",
      "53       6 2022-06-02 10:35:00             77.334499  4.370504  81.705003\n",
      "54       6 2022-06-03 11:25:00             77.304753 -4.576772  72.727981\n",
      "55       6 2022-06-04 11:10:00             77.275007  3.293990  80.568997\n",
      "56       6 2022-06-05 11:50:00             77.245261 -1.265580  75.979681\n",
      "..     ...                 ...                   ...       ...        ...\n",
      "121      8 2022-08-18 12:20:00             75.311762  4.705477  80.017239\n",
      "122      8 2022-08-19 11:35:00             75.282016  4.558700  79.840717\n",
      "123      8 2022-08-22 13:00:00             75.252270 -3.183537  72.068733\n",
      "124      8 2022-08-23 11:45:00             75.222524  0.984840  76.207364\n",
      "125      8 2022-08-24 11:10:00             75.192778  1.690200  76.882978\n",
      "\n",
      "[74 rows x 5 columns]\n"
     ]
    }
   ],
   "source": [
    "array = [random.uniform(-5, 5) for _ in range(len(df3.index))]\n",
    "df31=pd.DataFrame(df_bin3['month'])\n",
    "df31['date']=df3.index\n",
    "df31.loc[:,'Hieu suat tuyen tinh']=pd.Series((df21['Hieu suat tuyen tinh'][51]-df31.index*0.02974613), df31.index)\n",
    "df31.loc[:,'rand']=pd.Series((array), df31.index)\n",
    "df31.loc[:,'Hieu suat']=pd.Series(df31['Hieu suat tuyen tinh']+df31['rand'], df31.index)\n",
    "print(df31)"
   ]
  },
  {
   "cell_type": "code",
   "execution_count": 68,
   "metadata": {},
   "outputs": [
    {
     "data": {
      "application/vnd.plotly.v1+json": {
       "config": {
        "plotlyServerURL": "https://plot.ly"
       },
       "data": [
        {
         "name": "Hiệu suất trung bình cao nhất theo khung giờ mỗi ngày inverter 3 tháng 3,4,5 ",
         "type": "scatter",
         "x": [
          "2022-03-22T12:45:00",
          "2022-03-23T12:25:00",
          "2022-03-24T12:25:00",
          "2022-03-25T12:10:00",
          "2022-03-26T12:00:00",
          "2022-03-28T13:15:00",
          "2022-03-29T10:45:00",
          "2022-03-30T12:25:00",
          "2022-04-03T13:05:00",
          "2022-04-04T12:35:00",
          "2022-04-06T12:15:00",
          "2022-04-07T11:40:00",
          "2022-04-08T11:45:00",
          "2022-04-09T11:35:00",
          "2022-04-11T10:45:00",
          "2022-04-12T11:30:00",
          "2022-04-13T11:40:00",
          "2022-04-15T10:55:00",
          "2022-04-16T11:30:00",
          "2022-04-17T10:35:00",
          "2022-04-18T12:15:00",
          "2022-04-21T09:40:00",
          "2022-04-22T11:00:00",
          "2022-04-23T12:00:00",
          "2022-04-24T11:50:00",
          "2022-04-25T11:25:00",
          "2022-04-26T11:35:00",
          "2022-04-27T11:40:00",
          "2022-04-28T11:40:00",
          "2022-04-29T10:40:00",
          "2022-05-05T10:00:00",
          "2022-05-06T12:10:00",
          "2022-05-07T11:25:00",
          "2022-05-09T12:35:00",
          "2022-05-10T11:25:00",
          "2022-05-11T11:40:00",
          "2022-05-13T11:35:00",
          "2022-05-14T13:05:00",
          "2022-05-16T09:50:00",
          "2022-05-17T10:50:00",
          "2022-05-18T12:20:00",
          "2022-05-19T11:35:00",
          "2022-05-20T12:20:00",
          "2022-05-21T13:00:00",
          "2022-05-22T13:55:00",
          "2022-05-23T11:55:00",
          "2022-05-24T13:35:00",
          "2022-05-25T12:05:00",
          "2022-05-27T11:05:00",
          "2022-05-28T12:15:00",
          "2022-05-29T10:45:00",
          "2022-05-30T11:10:00"
         ],
         "y": [
          79.60870561507093,
          87.54165610795822,
          79.61651416884338,
          82.5037905638176,
          86.68341537328054,
          84.50280113609142,
          79.67122199892495,
          79.42553348428103,
          88.07526515867849,
          82.4172527533736,
          81.29648774837013,
          88.0615379525196,
          78.98646490328096,
          84.16604187236548,
          79.67734078644168,
          87.03729535052493,
          80.52481506045156,
          81.60865407223926,
          83.52040403335532,
          79.02425465203713,
          80.56435206604075,
          79.27645798483198,
          81.26751349463214,
          83.47835713970346,
          80.21968358492342,
          79.79726719164267,
          79.51869555341543,
          81.50027079664918,
          82.52419670693044,
          78.14608501801466,
          79.22477044449619,
          84.48218002944256,
          84.33205292748511,
          84.83196098951693,
          82.88889589652435,
          84.89633695359029,
          76.56224330736181,
          82.43016557303312,
          81.65008724488627,
          75.42098626464346,
          76.84627114003307,
          76.02211414223916,
          77.49789561331582,
          75.1478250860371,
          77.450115434981,
          83.08117766192665,
          83.47932474021917,
          83.30058127561784,
          80.81735130249712,
          83.53476015434696,
          83.58557507061407,
          79.14375901428895
         ]
        },
        {
         "name": "Hiệu suất tuyến tính inverter 3 tháng 3,4,5",
         "type": "scatter",
         "x": [
          "2022-03-22T12:45:00",
          "2022-03-23T12:25:00",
          "2022-03-24T12:25:00",
          "2022-03-25T12:10:00",
          "2022-03-26T12:00:00",
          "2022-03-28T13:15:00",
          "2022-03-29T10:45:00",
          "2022-03-30T12:25:00",
          "2022-04-03T13:05:00",
          "2022-04-04T12:35:00",
          "2022-04-06T12:15:00",
          "2022-04-07T11:40:00",
          "2022-04-08T11:45:00",
          "2022-04-09T11:35:00",
          "2022-04-11T10:45:00",
          "2022-04-12T11:30:00",
          "2022-04-13T11:40:00",
          "2022-04-15T10:55:00",
          "2022-04-16T11:30:00",
          "2022-04-17T10:35:00",
          "2022-04-18T12:15:00",
          "2022-04-21T09:40:00",
          "2022-04-22T11:00:00",
          "2022-04-23T12:00:00",
          "2022-04-24T11:50:00",
          "2022-04-25T11:25:00",
          "2022-04-26T11:35:00",
          "2022-04-27T11:40:00",
          "2022-04-28T11:40:00",
          "2022-04-29T10:40:00",
          "2022-05-05T10:00:00",
          "2022-05-06T12:10:00",
          "2022-05-07T11:25:00",
          "2022-05-09T12:35:00",
          "2022-05-10T11:25:00",
          "2022-05-11T11:40:00",
          "2022-05-13T11:35:00",
          "2022-05-14T13:05:00",
          "2022-05-16T09:50:00",
          "2022-05-17T10:50:00",
          "2022-05-18T12:20:00",
          "2022-05-19T11:35:00",
          "2022-05-20T12:20:00",
          "2022-05-21T13:00:00",
          "2022-05-22T13:55:00",
          "2022-05-23T11:55:00",
          "2022-05-24T13:35:00",
          "2022-05-25T12:05:00",
          "2022-05-27T11:05:00",
          "2022-05-28T12:15:00",
          "2022-05-29T10:45:00",
          "2022-05-30T11:10:00"
         ],
         "y": [
          84.2467324,
          84.14211106,
          84.03748972,
          83.93286838,
          83.82824704,
          83.7236257,
          83.61900436,
          83.51438302,
          83.40976168,
          83.30514034,
          83.200519,
          83.09589766,
          82.99127632,
          82.88665498,
          82.78203364,
          82.6774123,
          82.57279096,
          82.46816962,
          82.36354828,
          82.25892694,
          82.1543056,
          82.04968425999999,
          81.94506292,
          81.84044158,
          81.73582024,
          81.6311989,
          81.52657755999999,
          81.42195622,
          81.31733488,
          81.21271354,
          81.1080922,
          81.00347086,
          80.89884952,
          80.79422818,
          80.68960684,
          80.5849855,
          80.48036416,
          80.37574282,
          80.27112148,
          80.16650014,
          80.0618788,
          79.95725746,
          79.85263612,
          79.74801478,
          79.64339344,
          79.5387721,
          79.43415076,
          79.32952942,
          79.22490808,
          79.12028674,
          79.0156654,
          78.91104406
         ]
        }
       ],
       "layout": {
        "template": {
         "data": {
          "bar": [
           {
            "error_x": {
             "color": "#2a3f5f"
            },
            "error_y": {
             "color": "#2a3f5f"
            },
            "marker": {
             "line": {
              "color": "#E5ECF6",
              "width": 0.5
             },
             "pattern": {
              "fillmode": "overlay",
              "size": 10,
              "solidity": 0.2
             }
            },
            "type": "bar"
           }
          ],
          "barpolar": [
           {
            "marker": {
             "line": {
              "color": "#E5ECF6",
              "width": 0.5
             },
             "pattern": {
              "fillmode": "overlay",
              "size": 10,
              "solidity": 0.2
             }
            },
            "type": "barpolar"
           }
          ],
          "carpet": [
           {
            "aaxis": {
             "endlinecolor": "#2a3f5f",
             "gridcolor": "white",
             "linecolor": "white",
             "minorgridcolor": "white",
             "startlinecolor": "#2a3f5f"
            },
            "baxis": {
             "endlinecolor": "#2a3f5f",
             "gridcolor": "white",
             "linecolor": "white",
             "minorgridcolor": "white",
             "startlinecolor": "#2a3f5f"
            },
            "type": "carpet"
           }
          ],
          "choropleth": [
           {
            "colorbar": {
             "outlinewidth": 0,
             "ticks": ""
            },
            "type": "choropleth"
           }
          ],
          "contour": [
           {
            "colorbar": {
             "outlinewidth": 0,
             "ticks": ""
            },
            "colorscale": [
             [
              0,
              "#0d0887"
             ],
             [
              0.1111111111111111,
              "#46039f"
             ],
             [
              0.2222222222222222,
              "#7201a8"
             ],
             [
              0.3333333333333333,
              "#9c179e"
             ],
             [
              0.4444444444444444,
              "#bd3786"
             ],
             [
              0.5555555555555556,
              "#d8576b"
             ],
             [
              0.6666666666666666,
              "#ed7953"
             ],
             [
              0.7777777777777778,
              "#fb9f3a"
             ],
             [
              0.8888888888888888,
              "#fdca26"
             ],
             [
              1,
              "#f0f921"
             ]
            ],
            "type": "contour"
           }
          ],
          "contourcarpet": [
           {
            "colorbar": {
             "outlinewidth": 0,
             "ticks": ""
            },
            "type": "contourcarpet"
           }
          ],
          "heatmap": [
           {
            "colorbar": {
             "outlinewidth": 0,
             "ticks": ""
            },
            "colorscale": [
             [
              0,
              "#0d0887"
             ],
             [
              0.1111111111111111,
              "#46039f"
             ],
             [
              0.2222222222222222,
              "#7201a8"
             ],
             [
              0.3333333333333333,
              "#9c179e"
             ],
             [
              0.4444444444444444,
              "#bd3786"
             ],
             [
              0.5555555555555556,
              "#d8576b"
             ],
             [
              0.6666666666666666,
              "#ed7953"
             ],
             [
              0.7777777777777778,
              "#fb9f3a"
             ],
             [
              0.8888888888888888,
              "#fdca26"
             ],
             [
              1,
              "#f0f921"
             ]
            ],
            "type": "heatmap"
           }
          ],
          "heatmapgl": [
           {
            "colorbar": {
             "outlinewidth": 0,
             "ticks": ""
            },
            "colorscale": [
             [
              0,
              "#0d0887"
             ],
             [
              0.1111111111111111,
              "#46039f"
             ],
             [
              0.2222222222222222,
              "#7201a8"
             ],
             [
              0.3333333333333333,
              "#9c179e"
             ],
             [
              0.4444444444444444,
              "#bd3786"
             ],
             [
              0.5555555555555556,
              "#d8576b"
             ],
             [
              0.6666666666666666,
              "#ed7953"
             ],
             [
              0.7777777777777778,
              "#fb9f3a"
             ],
             [
              0.8888888888888888,
              "#fdca26"
             ],
             [
              1,
              "#f0f921"
             ]
            ],
            "type": "heatmapgl"
           }
          ],
          "histogram": [
           {
            "marker": {
             "pattern": {
              "fillmode": "overlay",
              "size": 10,
              "solidity": 0.2
             }
            },
            "type": "histogram"
           }
          ],
          "histogram2d": [
           {
            "colorbar": {
             "outlinewidth": 0,
             "ticks": ""
            },
            "colorscale": [
             [
              0,
              "#0d0887"
             ],
             [
              0.1111111111111111,
              "#46039f"
             ],
             [
              0.2222222222222222,
              "#7201a8"
             ],
             [
              0.3333333333333333,
              "#9c179e"
             ],
             [
              0.4444444444444444,
              "#bd3786"
             ],
             [
              0.5555555555555556,
              "#d8576b"
             ],
             [
              0.6666666666666666,
              "#ed7953"
             ],
             [
              0.7777777777777778,
              "#fb9f3a"
             ],
             [
              0.8888888888888888,
              "#fdca26"
             ],
             [
              1,
              "#f0f921"
             ]
            ],
            "type": "histogram2d"
           }
          ],
          "histogram2dcontour": [
           {
            "colorbar": {
             "outlinewidth": 0,
             "ticks": ""
            },
            "colorscale": [
             [
              0,
              "#0d0887"
             ],
             [
              0.1111111111111111,
              "#46039f"
             ],
             [
              0.2222222222222222,
              "#7201a8"
             ],
             [
              0.3333333333333333,
              "#9c179e"
             ],
             [
              0.4444444444444444,
              "#bd3786"
             ],
             [
              0.5555555555555556,
              "#d8576b"
             ],
             [
              0.6666666666666666,
              "#ed7953"
             ],
             [
              0.7777777777777778,
              "#fb9f3a"
             ],
             [
              0.8888888888888888,
              "#fdca26"
             ],
             [
              1,
              "#f0f921"
             ]
            ],
            "type": "histogram2dcontour"
           }
          ],
          "mesh3d": [
           {
            "colorbar": {
             "outlinewidth": 0,
             "ticks": ""
            },
            "type": "mesh3d"
           }
          ],
          "parcoords": [
           {
            "line": {
             "colorbar": {
              "outlinewidth": 0,
              "ticks": ""
             }
            },
            "type": "parcoords"
           }
          ],
          "pie": [
           {
            "automargin": true,
            "type": "pie"
           }
          ],
          "scatter": [
           {
            "fillpattern": {
             "fillmode": "overlay",
             "size": 10,
             "solidity": 0.2
            },
            "type": "scatter"
           }
          ],
          "scatter3d": [
           {
            "line": {
             "colorbar": {
              "outlinewidth": 0,
              "ticks": ""
             }
            },
            "marker": {
             "colorbar": {
              "outlinewidth": 0,
              "ticks": ""
             }
            },
            "type": "scatter3d"
           }
          ],
          "scattercarpet": [
           {
            "marker": {
             "colorbar": {
              "outlinewidth": 0,
              "ticks": ""
             }
            },
            "type": "scattercarpet"
           }
          ],
          "scattergeo": [
           {
            "marker": {
             "colorbar": {
              "outlinewidth": 0,
              "ticks": ""
             }
            },
            "type": "scattergeo"
           }
          ],
          "scattergl": [
           {
            "marker": {
             "colorbar": {
              "outlinewidth": 0,
              "ticks": ""
             }
            },
            "type": "scattergl"
           }
          ],
          "scattermapbox": [
           {
            "marker": {
             "colorbar": {
              "outlinewidth": 0,
              "ticks": ""
             }
            },
            "type": "scattermapbox"
           }
          ],
          "scatterpolar": [
           {
            "marker": {
             "colorbar": {
              "outlinewidth": 0,
              "ticks": ""
             }
            },
            "type": "scatterpolar"
           }
          ],
          "scatterpolargl": [
           {
            "marker": {
             "colorbar": {
              "outlinewidth": 0,
              "ticks": ""
             }
            },
            "type": "scatterpolargl"
           }
          ],
          "scatterternary": [
           {
            "marker": {
             "colorbar": {
              "outlinewidth": 0,
              "ticks": ""
             }
            },
            "type": "scatterternary"
           }
          ],
          "surface": [
           {
            "colorbar": {
             "outlinewidth": 0,
             "ticks": ""
            },
            "colorscale": [
             [
              0,
              "#0d0887"
             ],
             [
              0.1111111111111111,
              "#46039f"
             ],
             [
              0.2222222222222222,
              "#7201a8"
             ],
             [
              0.3333333333333333,
              "#9c179e"
             ],
             [
              0.4444444444444444,
              "#bd3786"
             ],
             [
              0.5555555555555556,
              "#d8576b"
             ],
             [
              0.6666666666666666,
              "#ed7953"
             ],
             [
              0.7777777777777778,
              "#fb9f3a"
             ],
             [
              0.8888888888888888,
              "#fdca26"
             ],
             [
              1,
              "#f0f921"
             ]
            ],
            "type": "surface"
           }
          ],
          "table": [
           {
            "cells": {
             "fill": {
              "color": "#EBF0F8"
             },
             "line": {
              "color": "white"
             }
            },
            "header": {
             "fill": {
              "color": "#C8D4E3"
             },
             "line": {
              "color": "white"
             }
            },
            "type": "table"
           }
          ]
         },
         "layout": {
          "annotationdefaults": {
           "arrowcolor": "#2a3f5f",
           "arrowhead": 0,
           "arrowwidth": 1
          },
          "autotypenumbers": "strict",
          "coloraxis": {
           "colorbar": {
            "outlinewidth": 0,
            "ticks": ""
           }
          },
          "colorscale": {
           "diverging": [
            [
             0,
             "#8e0152"
            ],
            [
             0.1,
             "#c51b7d"
            ],
            [
             0.2,
             "#de77ae"
            ],
            [
             0.3,
             "#f1b6da"
            ],
            [
             0.4,
             "#fde0ef"
            ],
            [
             0.5,
             "#f7f7f7"
            ],
            [
             0.6,
             "#e6f5d0"
            ],
            [
             0.7,
             "#b8e186"
            ],
            [
             0.8,
             "#7fbc41"
            ],
            [
             0.9,
             "#4d9221"
            ],
            [
             1,
             "#276419"
            ]
           ],
           "sequential": [
            [
             0,
             "#0d0887"
            ],
            [
             0.1111111111111111,
             "#46039f"
            ],
            [
             0.2222222222222222,
             "#7201a8"
            ],
            [
             0.3333333333333333,
             "#9c179e"
            ],
            [
             0.4444444444444444,
             "#bd3786"
            ],
            [
             0.5555555555555556,
             "#d8576b"
            ],
            [
             0.6666666666666666,
             "#ed7953"
            ],
            [
             0.7777777777777778,
             "#fb9f3a"
            ],
            [
             0.8888888888888888,
             "#fdca26"
            ],
            [
             1,
             "#f0f921"
            ]
           ],
           "sequentialminus": [
            [
             0,
             "#0d0887"
            ],
            [
             0.1111111111111111,
             "#46039f"
            ],
            [
             0.2222222222222222,
             "#7201a8"
            ],
            [
             0.3333333333333333,
             "#9c179e"
            ],
            [
             0.4444444444444444,
             "#bd3786"
            ],
            [
             0.5555555555555556,
             "#d8576b"
            ],
            [
             0.6666666666666666,
             "#ed7953"
            ],
            [
             0.7777777777777778,
             "#fb9f3a"
            ],
            [
             0.8888888888888888,
             "#fdca26"
            ],
            [
             1,
             "#f0f921"
            ]
           ]
          },
          "colorway": [
           "#636efa",
           "#EF553B",
           "#00cc96",
           "#ab63fa",
           "#FFA15A",
           "#19d3f3",
           "#FF6692",
           "#B6E880",
           "#FF97FF",
           "#FECB52"
          ],
          "font": {
           "color": "#2a3f5f"
          },
          "geo": {
           "bgcolor": "white",
           "lakecolor": "white",
           "landcolor": "#E5ECF6",
           "showlakes": true,
           "showland": true,
           "subunitcolor": "white"
          },
          "hoverlabel": {
           "align": "left"
          },
          "hovermode": "closest",
          "mapbox": {
           "style": "light"
          },
          "paper_bgcolor": "white",
          "plot_bgcolor": "#E5ECF6",
          "polar": {
           "angularaxis": {
            "gridcolor": "white",
            "linecolor": "white",
            "ticks": ""
           },
           "bgcolor": "#E5ECF6",
           "radialaxis": {
            "gridcolor": "white",
            "linecolor": "white",
            "ticks": ""
           }
          },
          "scene": {
           "xaxis": {
            "backgroundcolor": "#E5ECF6",
            "gridcolor": "white",
            "gridwidth": 2,
            "linecolor": "white",
            "showbackground": true,
            "ticks": "",
            "zerolinecolor": "white"
           },
           "yaxis": {
            "backgroundcolor": "#E5ECF6",
            "gridcolor": "white",
            "gridwidth": 2,
            "linecolor": "white",
            "showbackground": true,
            "ticks": "",
            "zerolinecolor": "white"
           },
           "zaxis": {
            "backgroundcolor": "#E5ECF6",
            "gridcolor": "white",
            "gridwidth": 2,
            "linecolor": "white",
            "showbackground": true,
            "ticks": "",
            "zerolinecolor": "white"
           }
          },
          "shapedefaults": {
           "line": {
            "color": "#2a3f5f"
           }
          },
          "ternary": {
           "aaxis": {
            "gridcolor": "white",
            "linecolor": "white",
            "ticks": ""
           },
           "baxis": {
            "gridcolor": "white",
            "linecolor": "white",
            "ticks": ""
           },
           "bgcolor": "#E5ECF6",
           "caxis": {
            "gridcolor": "white",
            "linecolor": "white",
            "ticks": ""
           }
          },
          "title": {
           "x": 0.05
          },
          "xaxis": {
           "automargin": true,
           "gridcolor": "white",
           "linecolor": "white",
           "ticks": "",
           "title": {
            "standoff": 15
           },
           "zerolinecolor": "white",
           "zerolinewidth": 2
          },
          "yaxis": {
           "automargin": true,
           "gridcolor": "white",
           "linecolor": "white",
           "ticks": "",
           "title": {
            "standoff": 15
           },
           "zerolinecolor": "white",
           "zerolinewidth": 2
          }
         }
        },
        "yaxis": {
         "range": [
          0,
          100
         ]
        }
       }
      }
     },
     "metadata": {},
     "output_type": "display_data"
    }
   ],
   "source": [
    "fig21 = go.Figure()\n",
    "fig21.add_trace(go.Scatter(\n",
    "    x=df21['date'],\n",
    "    y=df21['Hieu suat'],\n",
    "    name=\"Hiệu suất trung bình cao nhất theo khung giờ mỗi ngày inverter 3 tháng 3,4,5 \"))\n",
    "fig21.add_trace(go.Scatter(\n",
    "    x=df21['date'],\n",
    "    y=df21['Hieu suat tuyen tinh'],\n",
    "    name=\"Hiệu suất tuyến tính inverter 3 tháng 3,4,5\"))\n",
    "fig21.update_layout(yaxis_range=[0, 100])\n",
    "fig21.show()"
   ]
  },
  {
   "cell_type": "code",
   "execution_count": 69,
   "metadata": {},
   "outputs": [
    {
     "data": {
      "application/vnd.plotly.v1+json": {
       "config": {
        "plotlyServerURL": "https://plot.ly"
       },
       "data": [
        {
         "name": "Hiệu suất trung bình cao nhất theo khung giờ mỗi ngày inverter 3 tháng 6,7,8 ",
         "type": "scatter",
         "x": [
          "2022-06-01T12:00:00",
          "2022-06-02T10:35:00",
          "2022-06-03T11:25:00",
          "2022-06-04T11:10:00",
          "2022-06-05T11:50:00",
          "2022-06-06T10:50:00",
          "2022-06-07T12:00:00",
          "2022-06-08T11:10:00",
          "2022-06-09T11:35:00",
          "2022-06-10T11:40:00",
          "2022-06-11T11:05:00",
          "2022-06-12T11:20:00",
          "2022-06-13T11:35:00",
          "2022-06-14T11:10:00",
          "2022-06-15T10:40:00",
          "2022-06-16T11:25:00",
          "2022-06-17T11:05:00",
          "2022-06-18T12:50:00",
          "2022-06-19T11:35:00",
          "2022-06-20T11:50:00",
          "2022-06-21T11:40:00",
          "2022-06-22T13:10:00",
          "2022-06-23T10:50:00",
          "2022-06-24T10:55:00",
          "2022-06-25T10:55:00",
          "2022-06-27T11:30:00",
          "2022-06-28T11:20:00",
          "2022-06-29T11:40:00",
          "2022-06-30T11:30:00",
          "2022-07-03T11:45:00",
          "2022-07-04T11:00:00",
          "2022-07-05T10:45:00",
          "2022-07-06T11:40:00",
          "2022-07-07T10:35:00",
          "2022-07-08T10:25:00",
          "2022-07-09T10:40:00",
          "2022-07-11T12:25:00",
          "2022-07-12T11:25:00",
          "2022-07-13T12:25:00",
          "2022-07-14T11:40:00",
          "2022-07-15T12:10:00",
          "2022-07-16T12:30:00",
          "2022-07-17T11:50:00",
          "2022-07-18T11:45:00",
          "2022-07-19T11:50:00",
          "2022-07-20T13:05:00",
          "2022-07-21T11:55:00",
          "2022-07-22T11:45:00",
          "2022-07-23T10:55:00",
          "2022-07-24T12:30:00",
          "2022-07-25T11:25:00",
          "2022-07-26T11:25:00",
          "2022-07-27T12:25:00",
          "2022-07-28T11:40:00",
          "2022-07-29T11:50:00",
          "2022-07-30T11:35:00",
          "2022-07-31T11:55:00",
          "2022-08-01T11:40:00",
          "2022-08-02T11:40:00",
          "2022-08-03T11:50:00",
          "2022-08-04T12:20:00",
          "2022-08-05T11:25:00",
          "2022-08-06T11:15:00",
          "2022-08-10T09:55:00",
          "2022-08-12T12:30:00",
          "2022-08-13T11:55:00",
          "2022-08-14T12:05:00",
          "2022-08-15T11:00:00",
          "2022-08-16T11:40:00",
          "2022-08-18T12:20:00",
          "2022-08-19T11:35:00",
          "2022-08-22T13:00:00",
          "2022-08-23T11:45:00",
          "2022-08-24T11:10:00"
         ],
         "y": [
          75.85648938501845,
          81.7050034695427,
          72.72798120146793,
          80.56899721913419,
          75.97968060473283,
          76.82241103013278,
          79.26744561597742,
          76.01950935215001,
          73.31370726458496,
          81.73147273371724,
          75.42097966345833,
          77.1747245139612,
          74.76741718120861,
          80.73127769176097,
          76.36596028845285,
          77.27558775182,
          78.64635413521813,
          78.19949519764609,
          73.51533965736701,
          80.87704522401796,
          73.9711567629194,
          76.65773992389119,
          74.1977617182317,
          74.3671140683181,
          74.8357265462959,
          72.70900504703602,
          73.53332322732908,
          75.63287471898778,
          72.29487080302894,
          76.4456846631477,
          77.91166154404546,
          81.16974608193532,
          75.9305453527309,
          78.81564075124811,
          76.37839065755769,
          75.2076768050279,
          76.31240875033403,
          73.0278925244685,
          74.41412983265316,
          72.8759055360537,
          79.0307002328211,
          73.71509068982894,
          73.82069028000885,
          78.87483675660461,
          75.22277724047302,
          71.7865712278304,
          73.98926598489163,
          77.40163613987303,
          73.10071590047727,
          77.0693404099656,
          73.46067223160398,
          79.37572640476917,
          75.47991330952155,
          73.00153751336799,
          78.52776687931868,
          74.75997746682255,
          74.7092667800707,
          77.51550962281061,
          71.07778965585315,
          76.51092380369069,
          79.13413493525658,
          74.5757823342679,
          77.90869590615065,
          74.62808424980726,
          72.55806294794125,
          76.72604165991028,
          74.81666452130752,
          77.53880244514178,
          76.42866172242985,
          80.01723928098387,
          79.84071652545032,
          72.0687333778933,
          76.20736374763437,
          76.88297777970214
         ]
        },
        {
         "name": "Hiệu suất tuyến tính inverter 3 tháng 6,7,8",
         "type": "scatter",
         "x": [
          "2022-06-01T12:00:00",
          "2022-06-02T10:35:00",
          "2022-06-03T11:25:00",
          "2022-06-04T11:10:00",
          "2022-06-05T11:50:00",
          "2022-06-06T10:50:00",
          "2022-06-07T12:00:00",
          "2022-06-08T11:10:00",
          "2022-06-09T11:35:00",
          "2022-06-10T11:40:00",
          "2022-06-11T11:05:00",
          "2022-06-12T11:20:00",
          "2022-06-13T11:35:00",
          "2022-06-14T11:10:00",
          "2022-06-15T10:40:00",
          "2022-06-16T11:25:00",
          "2022-06-17T11:05:00",
          "2022-06-18T12:50:00",
          "2022-06-19T11:35:00",
          "2022-06-20T11:50:00",
          "2022-06-21T11:40:00",
          "2022-06-22T13:10:00",
          "2022-06-23T10:50:00",
          "2022-06-24T10:55:00",
          "2022-06-25T10:55:00",
          "2022-06-27T11:30:00",
          "2022-06-28T11:20:00",
          "2022-06-29T11:40:00",
          "2022-06-30T11:30:00",
          "2022-07-03T11:45:00",
          "2022-07-04T11:00:00",
          "2022-07-05T10:45:00",
          "2022-07-06T11:40:00",
          "2022-07-07T10:35:00",
          "2022-07-08T10:25:00",
          "2022-07-09T10:40:00",
          "2022-07-11T12:25:00",
          "2022-07-12T11:25:00",
          "2022-07-13T12:25:00",
          "2022-07-14T11:40:00",
          "2022-07-15T12:10:00",
          "2022-07-16T12:30:00",
          "2022-07-17T11:50:00",
          "2022-07-18T11:45:00",
          "2022-07-19T11:50:00",
          "2022-07-20T13:05:00",
          "2022-07-21T11:55:00",
          "2022-07-22T11:45:00",
          "2022-07-23T10:55:00",
          "2022-07-24T12:30:00",
          "2022-07-25T11:25:00",
          "2022-07-26T11:25:00",
          "2022-07-27T12:25:00",
          "2022-07-28T11:40:00",
          "2022-07-29T11:50:00",
          "2022-07-30T11:35:00",
          "2022-07-31T11:55:00",
          "2022-08-01T11:40:00",
          "2022-08-02T11:40:00",
          "2022-08-03T11:50:00",
          "2022-08-04T12:20:00",
          "2022-08-05T11:25:00",
          "2022-08-06T11:15:00",
          "2022-08-10T09:55:00",
          "2022-08-12T12:30:00",
          "2022-08-13T11:55:00",
          "2022-08-14T12:05:00",
          "2022-08-15T11:00:00",
          "2022-08-16T11:40:00",
          "2022-08-18T12:20:00",
          "2022-08-19T11:35:00",
          "2022-08-22T13:00:00",
          "2022-08-23T11:45:00",
          "2022-08-24T11:10:00"
         ],
         "y": [
          77.3642453,
          77.33449917,
          77.30475304,
          77.27500691,
          77.24526078,
          77.21551464999999,
          77.18576852,
          77.15602238999999,
          77.12627626,
          77.09653012999999,
          77.066784,
          77.03703786999999,
          77.00729174,
          76.97754560999999,
          76.94779948,
          76.91805335,
          76.88830722,
          76.85856109,
          76.82881495999999,
          76.79906883,
          76.76932269999999,
          76.73957657,
          76.70983043999999,
          76.68008431,
          76.65033817999999,
          76.62059205,
          76.59084591999999,
          76.56109979,
          76.53135366,
          76.50160753,
          76.4718614,
          76.44211526999999,
          76.41236914,
          76.38262300999999,
          76.35287688,
          76.32313074999999,
          76.29338462,
          76.26363848999999,
          76.23389236,
          76.20414622999999,
          76.1744001,
          76.14465397,
          76.11490784,
          76.08516171,
          76.05541557999999,
          76.02566945,
          75.99592331999999,
          75.96617719,
          75.93643105999999,
          75.90668493,
          75.87693879999999,
          75.84719267,
          75.81744653999999,
          75.78770041,
          75.75795427999999,
          75.72820815,
          75.69846202,
          75.66871589,
          75.63896976,
          75.60922362999999,
          75.5794775,
          75.54973136999999,
          75.51998524,
          75.49023910999999,
          75.46049298,
          75.43074684999999,
          75.40100072,
          75.37125458999999,
          75.34150846,
          75.31176233,
          75.2820162,
          75.25227007,
          75.22252394,
          75.19277781
         ]
        }
       ],
       "layout": {
        "template": {
         "data": {
          "bar": [
           {
            "error_x": {
             "color": "#2a3f5f"
            },
            "error_y": {
             "color": "#2a3f5f"
            },
            "marker": {
             "line": {
              "color": "#E5ECF6",
              "width": 0.5
             },
             "pattern": {
              "fillmode": "overlay",
              "size": 10,
              "solidity": 0.2
             }
            },
            "type": "bar"
           }
          ],
          "barpolar": [
           {
            "marker": {
             "line": {
              "color": "#E5ECF6",
              "width": 0.5
             },
             "pattern": {
              "fillmode": "overlay",
              "size": 10,
              "solidity": 0.2
             }
            },
            "type": "barpolar"
           }
          ],
          "carpet": [
           {
            "aaxis": {
             "endlinecolor": "#2a3f5f",
             "gridcolor": "white",
             "linecolor": "white",
             "minorgridcolor": "white",
             "startlinecolor": "#2a3f5f"
            },
            "baxis": {
             "endlinecolor": "#2a3f5f",
             "gridcolor": "white",
             "linecolor": "white",
             "minorgridcolor": "white",
             "startlinecolor": "#2a3f5f"
            },
            "type": "carpet"
           }
          ],
          "choropleth": [
           {
            "colorbar": {
             "outlinewidth": 0,
             "ticks": ""
            },
            "type": "choropleth"
           }
          ],
          "contour": [
           {
            "colorbar": {
             "outlinewidth": 0,
             "ticks": ""
            },
            "colorscale": [
             [
              0,
              "#0d0887"
             ],
             [
              0.1111111111111111,
              "#46039f"
             ],
             [
              0.2222222222222222,
              "#7201a8"
             ],
             [
              0.3333333333333333,
              "#9c179e"
             ],
             [
              0.4444444444444444,
              "#bd3786"
             ],
             [
              0.5555555555555556,
              "#d8576b"
             ],
             [
              0.6666666666666666,
              "#ed7953"
             ],
             [
              0.7777777777777778,
              "#fb9f3a"
             ],
             [
              0.8888888888888888,
              "#fdca26"
             ],
             [
              1,
              "#f0f921"
             ]
            ],
            "type": "contour"
           }
          ],
          "contourcarpet": [
           {
            "colorbar": {
             "outlinewidth": 0,
             "ticks": ""
            },
            "type": "contourcarpet"
           }
          ],
          "heatmap": [
           {
            "colorbar": {
             "outlinewidth": 0,
             "ticks": ""
            },
            "colorscale": [
             [
              0,
              "#0d0887"
             ],
             [
              0.1111111111111111,
              "#46039f"
             ],
             [
              0.2222222222222222,
              "#7201a8"
             ],
             [
              0.3333333333333333,
              "#9c179e"
             ],
             [
              0.4444444444444444,
              "#bd3786"
             ],
             [
              0.5555555555555556,
              "#d8576b"
             ],
             [
              0.6666666666666666,
              "#ed7953"
             ],
             [
              0.7777777777777778,
              "#fb9f3a"
             ],
             [
              0.8888888888888888,
              "#fdca26"
             ],
             [
              1,
              "#f0f921"
             ]
            ],
            "type": "heatmap"
           }
          ],
          "heatmapgl": [
           {
            "colorbar": {
             "outlinewidth": 0,
             "ticks": ""
            },
            "colorscale": [
             [
              0,
              "#0d0887"
             ],
             [
              0.1111111111111111,
              "#46039f"
             ],
             [
              0.2222222222222222,
              "#7201a8"
             ],
             [
              0.3333333333333333,
              "#9c179e"
             ],
             [
              0.4444444444444444,
              "#bd3786"
             ],
             [
              0.5555555555555556,
              "#d8576b"
             ],
             [
              0.6666666666666666,
              "#ed7953"
             ],
             [
              0.7777777777777778,
              "#fb9f3a"
             ],
             [
              0.8888888888888888,
              "#fdca26"
             ],
             [
              1,
              "#f0f921"
             ]
            ],
            "type": "heatmapgl"
           }
          ],
          "histogram": [
           {
            "marker": {
             "pattern": {
              "fillmode": "overlay",
              "size": 10,
              "solidity": 0.2
             }
            },
            "type": "histogram"
           }
          ],
          "histogram2d": [
           {
            "colorbar": {
             "outlinewidth": 0,
             "ticks": ""
            },
            "colorscale": [
             [
              0,
              "#0d0887"
             ],
             [
              0.1111111111111111,
              "#46039f"
             ],
             [
              0.2222222222222222,
              "#7201a8"
             ],
             [
              0.3333333333333333,
              "#9c179e"
             ],
             [
              0.4444444444444444,
              "#bd3786"
             ],
             [
              0.5555555555555556,
              "#d8576b"
             ],
             [
              0.6666666666666666,
              "#ed7953"
             ],
             [
              0.7777777777777778,
              "#fb9f3a"
             ],
             [
              0.8888888888888888,
              "#fdca26"
             ],
             [
              1,
              "#f0f921"
             ]
            ],
            "type": "histogram2d"
           }
          ],
          "histogram2dcontour": [
           {
            "colorbar": {
             "outlinewidth": 0,
             "ticks": ""
            },
            "colorscale": [
             [
              0,
              "#0d0887"
             ],
             [
              0.1111111111111111,
              "#46039f"
             ],
             [
              0.2222222222222222,
              "#7201a8"
             ],
             [
              0.3333333333333333,
              "#9c179e"
             ],
             [
              0.4444444444444444,
              "#bd3786"
             ],
             [
              0.5555555555555556,
              "#d8576b"
             ],
             [
              0.6666666666666666,
              "#ed7953"
             ],
             [
              0.7777777777777778,
              "#fb9f3a"
             ],
             [
              0.8888888888888888,
              "#fdca26"
             ],
             [
              1,
              "#f0f921"
             ]
            ],
            "type": "histogram2dcontour"
           }
          ],
          "mesh3d": [
           {
            "colorbar": {
             "outlinewidth": 0,
             "ticks": ""
            },
            "type": "mesh3d"
           }
          ],
          "parcoords": [
           {
            "line": {
             "colorbar": {
              "outlinewidth": 0,
              "ticks": ""
             }
            },
            "type": "parcoords"
           }
          ],
          "pie": [
           {
            "automargin": true,
            "type": "pie"
           }
          ],
          "scatter": [
           {
            "fillpattern": {
             "fillmode": "overlay",
             "size": 10,
             "solidity": 0.2
            },
            "type": "scatter"
           }
          ],
          "scatter3d": [
           {
            "line": {
             "colorbar": {
              "outlinewidth": 0,
              "ticks": ""
             }
            },
            "marker": {
             "colorbar": {
              "outlinewidth": 0,
              "ticks": ""
             }
            },
            "type": "scatter3d"
           }
          ],
          "scattercarpet": [
           {
            "marker": {
             "colorbar": {
              "outlinewidth": 0,
              "ticks": ""
             }
            },
            "type": "scattercarpet"
           }
          ],
          "scattergeo": [
           {
            "marker": {
             "colorbar": {
              "outlinewidth": 0,
              "ticks": ""
             }
            },
            "type": "scattergeo"
           }
          ],
          "scattergl": [
           {
            "marker": {
             "colorbar": {
              "outlinewidth": 0,
              "ticks": ""
             }
            },
            "type": "scattergl"
           }
          ],
          "scattermapbox": [
           {
            "marker": {
             "colorbar": {
              "outlinewidth": 0,
              "ticks": ""
             }
            },
            "type": "scattermapbox"
           }
          ],
          "scatterpolar": [
           {
            "marker": {
             "colorbar": {
              "outlinewidth": 0,
              "ticks": ""
             }
            },
            "type": "scatterpolar"
           }
          ],
          "scatterpolargl": [
           {
            "marker": {
             "colorbar": {
              "outlinewidth": 0,
              "ticks": ""
             }
            },
            "type": "scatterpolargl"
           }
          ],
          "scatterternary": [
           {
            "marker": {
             "colorbar": {
              "outlinewidth": 0,
              "ticks": ""
             }
            },
            "type": "scatterternary"
           }
          ],
          "surface": [
           {
            "colorbar": {
             "outlinewidth": 0,
             "ticks": ""
            },
            "colorscale": [
             [
              0,
              "#0d0887"
             ],
             [
              0.1111111111111111,
              "#46039f"
             ],
             [
              0.2222222222222222,
              "#7201a8"
             ],
             [
              0.3333333333333333,
              "#9c179e"
             ],
             [
              0.4444444444444444,
              "#bd3786"
             ],
             [
              0.5555555555555556,
              "#d8576b"
             ],
             [
              0.6666666666666666,
              "#ed7953"
             ],
             [
              0.7777777777777778,
              "#fb9f3a"
             ],
             [
              0.8888888888888888,
              "#fdca26"
             ],
             [
              1,
              "#f0f921"
             ]
            ],
            "type": "surface"
           }
          ],
          "table": [
           {
            "cells": {
             "fill": {
              "color": "#EBF0F8"
             },
             "line": {
              "color": "white"
             }
            },
            "header": {
             "fill": {
              "color": "#C8D4E3"
             },
             "line": {
              "color": "white"
             }
            },
            "type": "table"
           }
          ]
         },
         "layout": {
          "annotationdefaults": {
           "arrowcolor": "#2a3f5f",
           "arrowhead": 0,
           "arrowwidth": 1
          },
          "autotypenumbers": "strict",
          "coloraxis": {
           "colorbar": {
            "outlinewidth": 0,
            "ticks": ""
           }
          },
          "colorscale": {
           "diverging": [
            [
             0,
             "#8e0152"
            ],
            [
             0.1,
             "#c51b7d"
            ],
            [
             0.2,
             "#de77ae"
            ],
            [
             0.3,
             "#f1b6da"
            ],
            [
             0.4,
             "#fde0ef"
            ],
            [
             0.5,
             "#f7f7f7"
            ],
            [
             0.6,
             "#e6f5d0"
            ],
            [
             0.7,
             "#b8e186"
            ],
            [
             0.8,
             "#7fbc41"
            ],
            [
             0.9,
             "#4d9221"
            ],
            [
             1,
             "#276419"
            ]
           ],
           "sequential": [
            [
             0,
             "#0d0887"
            ],
            [
             0.1111111111111111,
             "#46039f"
            ],
            [
             0.2222222222222222,
             "#7201a8"
            ],
            [
             0.3333333333333333,
             "#9c179e"
            ],
            [
             0.4444444444444444,
             "#bd3786"
            ],
            [
             0.5555555555555556,
             "#d8576b"
            ],
            [
             0.6666666666666666,
             "#ed7953"
            ],
            [
             0.7777777777777778,
             "#fb9f3a"
            ],
            [
             0.8888888888888888,
             "#fdca26"
            ],
            [
             1,
             "#f0f921"
            ]
           ],
           "sequentialminus": [
            [
             0,
             "#0d0887"
            ],
            [
             0.1111111111111111,
             "#46039f"
            ],
            [
             0.2222222222222222,
             "#7201a8"
            ],
            [
             0.3333333333333333,
             "#9c179e"
            ],
            [
             0.4444444444444444,
             "#bd3786"
            ],
            [
             0.5555555555555556,
             "#d8576b"
            ],
            [
             0.6666666666666666,
             "#ed7953"
            ],
            [
             0.7777777777777778,
             "#fb9f3a"
            ],
            [
             0.8888888888888888,
             "#fdca26"
            ],
            [
             1,
             "#f0f921"
            ]
           ]
          },
          "colorway": [
           "#636efa",
           "#EF553B",
           "#00cc96",
           "#ab63fa",
           "#FFA15A",
           "#19d3f3",
           "#FF6692",
           "#B6E880",
           "#FF97FF",
           "#FECB52"
          ],
          "font": {
           "color": "#2a3f5f"
          },
          "geo": {
           "bgcolor": "white",
           "lakecolor": "white",
           "landcolor": "#E5ECF6",
           "showlakes": true,
           "showland": true,
           "subunitcolor": "white"
          },
          "hoverlabel": {
           "align": "left"
          },
          "hovermode": "closest",
          "mapbox": {
           "style": "light"
          },
          "paper_bgcolor": "white",
          "plot_bgcolor": "#E5ECF6",
          "polar": {
           "angularaxis": {
            "gridcolor": "white",
            "linecolor": "white",
            "ticks": ""
           },
           "bgcolor": "#E5ECF6",
           "radialaxis": {
            "gridcolor": "white",
            "linecolor": "white",
            "ticks": ""
           }
          },
          "scene": {
           "xaxis": {
            "backgroundcolor": "#E5ECF6",
            "gridcolor": "white",
            "gridwidth": 2,
            "linecolor": "white",
            "showbackground": true,
            "ticks": "",
            "zerolinecolor": "white"
           },
           "yaxis": {
            "backgroundcolor": "#E5ECF6",
            "gridcolor": "white",
            "gridwidth": 2,
            "linecolor": "white",
            "showbackground": true,
            "ticks": "",
            "zerolinecolor": "white"
           },
           "zaxis": {
            "backgroundcolor": "#E5ECF6",
            "gridcolor": "white",
            "gridwidth": 2,
            "linecolor": "white",
            "showbackground": true,
            "ticks": "",
            "zerolinecolor": "white"
           }
          },
          "shapedefaults": {
           "line": {
            "color": "#2a3f5f"
           }
          },
          "ternary": {
           "aaxis": {
            "gridcolor": "white",
            "linecolor": "white",
            "ticks": ""
           },
           "baxis": {
            "gridcolor": "white",
            "linecolor": "white",
            "ticks": ""
           },
           "bgcolor": "#E5ECF6",
           "caxis": {
            "gridcolor": "white",
            "linecolor": "white",
            "ticks": ""
           }
          },
          "title": {
           "x": 0.05
          },
          "xaxis": {
           "automargin": true,
           "gridcolor": "white",
           "linecolor": "white",
           "ticks": "",
           "title": {
            "standoff": 15
           },
           "zerolinecolor": "white",
           "zerolinewidth": 2
          },
          "yaxis": {
           "automargin": true,
           "gridcolor": "white",
           "linecolor": "white",
           "ticks": "",
           "title": {
            "standoff": 15
           },
           "zerolinecolor": "white",
           "zerolinewidth": 2
          }
         }
        },
        "yaxis": {
         "range": [
          0,
          100
         ]
        }
       }
      }
     },
     "metadata": {},
     "output_type": "display_data"
    }
   ],
   "source": [
    "fig31 = go.Figure()\n",
    "fig31.add_trace(go.Scatter(\n",
    "    x=df31['date'],\n",
    "    y=df31['Hieu suat'],\n",
    "    name=\"Hiệu suất trung bình cao nhất theo khung giờ mỗi ngày inverter 3 tháng 6,7,8 \"))\n",
    "fig31.add_trace(go.Scatter(\n",
    "    x=df31['date'],\n",
    "    y=df31['Hieu suat tuyen tinh'],\n",
    "    name=\"Hiệu suất tuyến tính inverter 3 tháng 6,7,8\"))\n",
    "fig31.update_layout(yaxis_range=[0, 100])\n",
    "fig31.show()"
   ]
  },
  {
   "cell_type": "code",
   "execution_count": 70,
   "metadata": {},
   "outputs": [
    {
     "name": "stdout",
     "output_type": "stream",
     "text": [
      "     index  Hieu suat  month  stt\n",
      "0        0  79.608706      3    0\n",
      "1        1  87.541656      3    1\n",
      "2        2  79.616514      3    2\n",
      "3        3  82.503791      3    3\n",
      "4        4  86.683415      3    4\n",
      "..     ...        ...    ...  ...\n",
      "121    121  80.017239      8  121\n",
      "122    122  79.840717      8  122\n",
      "123    123  72.068733      8  123\n",
      "124    124  76.207364      8  124\n",
      "125    125  76.882978      8  125\n",
      "\n",
      "[126 rows x 4 columns]\n",
      "Estimated coefficients:\n",
      "b_0 = 82.69332660454211\n",
      "b_1 = -0.06997734414164171\n"
     ]
    },
    {
     "data": {
      "image/png": "[encoded data removed]",
      "text/plain": [
       "<Figure size 640x480 with 1 Axes>"
      ]
     },
     "metadata": {},
     "output_type": "display_data"
    },
    {
     "data": {
      "application/vnd.plotly.v1+json": {
       "config": {
        "plotlyServerURL": "https://plot.ly"
       },
       "data": [
        {
         "name": "Hiệu suất inverter 3 ",
         "type": "scatter",
         "x": [
          0,
          1,
          2,
          3,
          4,
          5,
          6,
          7,
          8,
          9,
          10,
          11,
          12,
          13,
          14,
          15,
          16,
          17,
          18,
          19,
          20,
          21,
          22,
          23,
          24,
          25,
          26,
          27,
          28,
          29,
          30,
          31,
          32,
          33,
          34,
          35,
          36,
          37,
          38,
          39,
          40,
          41,
          42,
          43,
          44,
          45,
          46,
          47,
          48,
          49,
          50,
          51,
          52,
          53,
          54,
          55,
          56,
          57,
          58,
          59,
          60,
          61,
          62,
          63,
          64,
          65,
          66,
          67,
          68,
          69,
          70,
          71,
          72,
          73,
          74,
          75,
          76,
          77,
          78,
          79,
          80,
          81,
          82,
          83,
          84,
          85,
          86,
          87,
          88,
          89,
          90,
          91,
          92,
          93,
          94,
          95,
          96,
          97,
          98,
          99,
          100,
          101,
          102,
          103,
          104,
          105,
          106,
          107,
          108,
          109,
          110,
          111,
          112,
          113,
          114,
          115,
          116,
          117,
          118,
          119,
          120,
          121,
          122,
          123,
          124,
          125
         ],
         "y": [
          79.60870561507093,
          87.54165610795822,
          79.61651416884338,
          82.5037905638176,
          86.68341537328054,
          84.50280113609142,
          79.67122199892495,
          79.42553348428103,
          88.07526515867849,
          82.4172527533736,
          81.29648774837013,
          88.0615379525196,
          78.98646490328096,
          84.16604187236548,
          79.67734078644168,
          87.03729535052493,
          80.52481506045156,
          81.60865407223926,
          83.52040403335532,
          79.02425465203713,
          80.56435206604075,
          79.27645798483198,
          81.26751349463214,
          83.47835713970346,
          80.21968358492342,
          79.79726719164267,
          79.51869555341543,
          81.50027079664918,
          82.52419670693044,
          78.14608501801466,
          79.22477044449619,
          84.48218002944256,
          84.33205292748511,
          84.83196098951693,
          82.88889589652435,
          84.89633695359029,
          76.56224330736181,
          82.43016557303312,
          81.65008724488627,
          75.42098626464346,
          76.84627114003307,
          76.02211414223916,
          77.49789561331582,
          75.1478250860371,
          77.450115434981,
          83.08117766192665,
          83.47932474021917,
          83.30058127561784,
          80.81735130249712,
          83.53476015434696,
          83.58557507061407,
          79.14375901428895,
          75.85648938501845,
          81.7050034695427,
          72.72798120146793,
          80.56899721913419,
          75.97968060473283,
          76.82241103013278,
          79.26744561597742,
          76.01950935215001,
          73.31370726458496,
          81.73147273371724,
          75.42097966345833,
          77.1747245139612,
          74.76741718120861,
          80.73127769176097,
          76.36596028845285,
          77.27558775182,
          78.64635413521813,
          78.19949519764609,
          73.51533965736701,
          80.87704522401796,
          73.9711567629194,
          76.65773992389119,
          74.1977617182317,
          74.3671140683181,
          74.8357265462959,
          72.70900504703602,
          73.53332322732908,
          75.63287471898778,
          72.29487080302894,
          76.4456846631477,
          77.91166154404546,
          81.16974608193532,
          75.9305453527309,
          78.81564075124811,
          76.37839065755769,
          75.2076768050279,
          76.31240875033403,
          73.0278925244685,
          74.41412983265316,
          72.8759055360537,
          79.0307002328211,
          73.71509068982894,
          73.82069028000885,
          78.87483675660461,
          75.22277724047302,
          71.7865712278304,
          73.98926598489163,
          77.40163613987303,
          73.10071590047727,
          77.0693404099656,
          73.46067223160398,
          79.37572640476917,
          75.47991330952155,
          73.00153751336799,
          78.52776687931868,
          74.75997746682255,
          74.7092667800707,
          77.51550962281061,
          71.07778965585315,
          76.51092380369069,
          79.13413493525658,
          74.5757823342679,
          77.90869590615065,
          74.62808424980726,
          72.55806294794125,
          76.72604165991028,
          74.81666452130752,
          77.53880244514178,
          76.42866172242985,
          80.01723928098387,
          79.84071652545032,
          72.0687333778933,
          76.20736374763437,
          76.88297777970214
         ]
        },
        {
         "name": "Hiệu suất tuyến tính inverter 3 ",
         "type": "scatter",
         "x": [
          0,
          1,
          2,
          3,
          4,
          5,
          6,
          7,
          8,
          9,
          10,
          11,
          12,
          13,
          14,
          15,
          16,
          17,
          18,
          19,
          20,
          21,
          22,
          23,
          24,
          25,
          26,
          27,
          28,
          29,
          30,
          31,
          32,
          33,
          34,
          35,
          36,
          37,
          38,
          39,
          40,
          41,
          42,
          43,
          44,
          45,
          46,
          47,
          48,
          49,
          50,
          51,
          52,
          53,
          54,
          55,
          56,
          57,
          58,
          59,
          60,
          61,
          62,
          63,
          64,
          65,
          66,
          67,
          68,
          69,
          70,
          71,
          72,
          73,
          74,
          75,
          76,
          77,
          78,
          79,
          80,
          81,
          82,
          83,
          84,
          85,
          86,
          87,
          88,
          89,
          90,
          91,
          92,
          93,
          94,
          95,
          96,
          97,
          98,
          99,
          100,
          101,
          102,
          103,
          104,
          105,
          106,
          107,
          108,
          109,
          110,
          111,
          112,
          113,
          114,
          115,
          116,
          117,
          118,
          119,
          120,
          121,
          122,
          123,
          124,
          125
         ],
         "y": [
          82.69332660454211,
          82.62334926040046,
          82.55337191625883,
          82.48339457211718,
          82.41341722797554,
          82.3434398838339,
          82.27346253969226,
          82.20348519555061,
          82.13350785140898,
          82.06353050726733,
          81.9935531631257,
          81.92357581898405,
          81.85359847484241,
          81.78362113070077,
          81.71364378655912,
          81.64366644241748,
          81.57368909827584,
          81.5037117541342,
          81.43373440999255,
          81.36375706585092,
          81.29377972170927,
          81.22380237756764,
          81.15382503342599,
          81.08384768928435,
          81.0138703451427,
          80.94389300100107,
          80.87391565685942,
          80.80393831271778,
          80.73396096857614,
          80.6639836244345,
          80.59400628029286,
          80.52402893615121,
          80.45405159200958,
          80.38407424786793,
          80.3140969037263,
          80.24411955958465,
          80.17414221544301,
          80.10416487130136,
          80.03418752715972,
          79.96421018301808,
          79.89423283887643,
          79.8242554947348,
          79.75427815059315,
          79.68430080645152,
          79.61432346230987,
          79.54434611816824,
          79.47436877402659,
          79.40439142988495,
          79.3344140857433,
          79.26443674160167,
          79.19445939746002,
          79.12448205331837,
          79.05450470917674,
          78.98452736503509,
          78.91455002089346,
          78.84457267675181,
          78.77459533261018,
          78.70461798846853,
          78.6346406443269,
          78.56466330018525,
          78.49468595604361,
          78.42470861190196,
          78.35473126776031,
          78.28475392361868,
          78.21477657947703,
          78.1447992353354,
          78.07482189119375,
          78.00484454705212,
          77.93486720291047,
          77.86488985876883,
          77.79491251462719,
          77.72493517048555,
          77.6549578263439,
          77.58498048220227,
          77.51500313806062,
          77.44502579391897,
          77.37504844977734,
          77.30507110563569,
          77.23509376149406,
          77.16511641735241,
          77.09513907321077,
          77.02516172906913,
          76.95518438492749,
          76.88520704078584,
          76.81522969664421,
          76.74525235250256,
          76.67527500836093,
          76.60529766421928,
          76.53532032007763,
          76.465342975936,
          76.39536563179435,
          76.32538828765271,
          76.25541094351107,
          76.18543359936943,
          76.11545625522778,
          76.04547891108615,
          75.9755015669445,
          75.90552422280287,
          75.83554687866122,
          75.76556953451959,
          75.69559219037794,
          75.62561484623629,
          75.55563750209465,
          75.485660157953,
          75.41568281381137,
          75.34570546966972,
          75.27572812552809,
          75.20575078138644,
          75.13577343724481,
          75.06579609310316,
          74.99581874896153,
          74.92584140481988,
          74.85586406067824,
          74.7858867165366,
          74.71590937239495,
          74.64593202825331,
          74.57595468411166,
          74.50597733997003,
          74.43599999582838,
          74.36602265168675,
          74.2960453075451,
          74.22606796340347,
          74.15609061926182,
          74.08611327512018,
          74.01613593097854,
          73.9461585868369
         ]
        }
       ],
       "layout": {
        "template": {
         "data": {
          "bar": [
           {
            "error_x": {
             "color": "#2a3f5f"
            },
            "error_y": {
             "color": "#2a3f5f"
            },
            "marker": {
             "line": {
              "color": "#E5ECF6",
              "width": 0.5
             },
             "pattern": {
              "fillmode": "overlay",
              "size": 10,
              "solidity": 0.2
             }
            },
            "type": "bar"
           }
          ],
          "barpolar": [
           {
            "marker": {
             "line": {
              "color": "#E5ECF6",
              "width": 0.5
             },
             "pattern": {
              "fillmode": "overlay",
              "size": 10,
              "solidity": 0.2
             }
            },
            "type": "barpolar"
           }
          ],
          "carpet": [
           {
            "aaxis": {
             "endlinecolor": "#2a3f5f",
             "gridcolor": "white",
             "linecolor": "white",
             "minorgridcolor": "white",
             "startlinecolor": "#2a3f5f"
            },
            "baxis": {
             "endlinecolor": "#2a3f5f",
             "gridcolor": "white",
             "linecolor": "white",
             "minorgridcolor": "white",
             "startlinecolor": "#2a3f5f"
            },
            "type": "carpet"
           }
          ],
          "choropleth": [
           {
            "colorbar": {
             "outlinewidth": 0,
             "ticks": ""
            },
            "type": "choropleth"
           }
          ],
          "contour": [
           {
            "colorbar": {
             "outlinewidth": 0,
             "ticks": ""
            },
            "colorscale": [
             [
              0,
              "#0d0887"
             ],
             [
              0.1111111111111111,
              "#46039f"
             ],
             [
              0.2222222222222222,
              "#7201a8"
             ],
             [
              0.3333333333333333,
              "#9c179e"
             ],
             [
              0.4444444444444444,
              "#bd3786"
             ],
             [
              0.5555555555555556,
              "#d8576b"
             ],
             [
              0.6666666666666666,
              "#ed7953"
             ],
             [
              0.7777777777777778,
              "#fb9f3a"
             ],
             [
              0.8888888888888888,
              "#fdca26"
             ],
             [
              1,
              "#f0f921"
             ]
            ],
            "type": "contour"
           }
          ],
          "contourcarpet": [
           {
            "colorbar": {
             "outlinewidth": 0,
             "ticks": ""
            },
            "type": "contourcarpet"
           }
          ],
          "heatmap": [
           {
            "colorbar": {
             "outlinewidth": 0,
             "ticks": ""
            },
            "colorscale": [
             [
              0,
              "#0d0887"
             ],
             [
              0.1111111111111111,
              "#46039f"
             ],
             [
              0.2222222222222222,
              "#7201a8"
             ],
             [
              0.3333333333333333,
              "#9c179e"
             ],
             [
              0.4444444444444444,
              "#bd3786"
             ],
             [
              0.5555555555555556,
              "#d8576b"
             ],
             [
              0.6666666666666666,
              "#ed7953"
             ],
             [
              0.7777777777777778,
              "#fb9f3a"
             ],
             [
              0.8888888888888888,
              "#fdca26"
             ],
             [
              1,
              "#f0f921"
             ]
            ],
            "type": "heatmap"
           }
          ],
          "heatmapgl": [
           {
            "colorbar": {
             "outlinewidth": 0,
             "ticks": ""
            },
            "colorscale": [
             [
              0,
              "#0d0887"
             ],
             [
              0.1111111111111111,
              "#46039f"
             ],
             [
              0.2222222222222222,
              "#7201a8"
             ],
             [
              0.3333333333333333,
              "#9c179e"
             ],
             [
              0.4444444444444444,
              "#bd3786"
             ],
             [
              0.5555555555555556,
              "#d8576b"
             ],
             [
              0.6666666666666666,
              "#ed7953"
             ],
             [
              0.7777777777777778,
              "#fb9f3a"
             ],
             [
              0.8888888888888888,
              "#fdca26"
             ],
             [
              1,
              "#f0f921"
             ]
            ],
            "type": "heatmapgl"
           }
          ],
          "histogram": [
           {
            "marker": {
             "pattern": {
              "fillmode": "overlay",
              "size": 10,
              "solidity": 0.2
             }
            },
            "type": "histogram"
           }
          ],
          "histogram2d": [
           {
            "colorbar": {
             "outlinewidth": 0,
             "ticks": ""
            },
            "colorscale": [
             [
              0,
              "#0d0887"
             ],
             [
              0.1111111111111111,
              "#46039f"
             ],
             [
              0.2222222222222222,
              "#7201a8"
             ],
             [
              0.3333333333333333,
              "#9c179e"
             ],
             [
              0.4444444444444444,
              "#bd3786"
             ],
             [
              0.5555555555555556,
              "#d8576b"
             ],
             [
              0.6666666666666666,
              "#ed7953"
             ],
             [
              0.7777777777777778,
              "#fb9f3a"
             ],
             [
              0.8888888888888888,
              "#fdca26"
             ],
             [
              1,
              "#f0f921"
             ]
            ],
            "type": "histogram2d"
           }
          ],
          "histogram2dcontour": [
           {
            "colorbar": {
             "outlinewidth": 0,
             "ticks": ""
            },
            "colorscale": [
             [
              0,
              "#0d0887"
             ],
             [
              0.1111111111111111,
              "#46039f"
             ],
             [
              0.2222222222222222,
              "#7201a8"
             ],
             [
              0.3333333333333333,
              "#9c179e"
             ],
             [
              0.4444444444444444,
              "#bd3786"
             ],
             [
              0.5555555555555556,
              "#d8576b"
             ],
             [
              0.6666666666666666,
              "#ed7953"
             ],
             [
              0.7777777777777778,
              "#fb9f3a"
             ],
             [
              0.8888888888888888,
              "#fdca26"
             ],
             [
              1,
              "#f0f921"
             ]
            ],
            "type": "histogram2dcontour"
           }
          ],
          "mesh3d": [
           {
            "colorbar": {
             "outlinewidth": 0,
             "ticks": ""
            },
            "type": "mesh3d"
           }
          ],
          "parcoords": [
           {
            "line": {
             "colorbar": {
              "outlinewidth": 0,
              "ticks": ""
             }
            },
            "type": "parcoords"
           }
          ],
          "pie": [
           {
            "automargin": true,
            "type": "pie"
           }
          ],
          "scatter": [
           {
            "fillpattern": {
             "fillmode": "overlay",
             "size": 10,
             "solidity": 0.2
            },
            "type": "scatter"
           }
          ],
          "scatter3d": [
           {
            "line": {
             "colorbar": {
              "outlinewidth": 0,
              "ticks": ""
             }
            },
            "marker": {
             "colorbar": {
              "outlinewidth": 0,
              "ticks": ""
             }
            },
            "type": "scatter3d"
           }
          ],
          "scattercarpet": [
           {
            "marker": {
             "colorbar": {
              "outlinewidth": 0,
              "ticks": ""
             }
            },
            "type": "scattercarpet"
           }
          ],
          "scattergeo": [
           {
            "marker": {
             "colorbar": {
              "outlinewidth": 0,
              "ticks": ""
             }
            },
            "type": "scattergeo"
           }
          ],
          "scattergl": [
           {
            "marker": {
             "colorbar": {
              "outlinewidth": 0,
              "ticks": ""
             }
            },
            "type": "scattergl"
           }
          ],
          "scattermapbox": [
           {
            "marker": {
             "colorbar": {
              "outlinewidth": 0,
              "ticks": ""
             }
            },
            "type": "scattermapbox"
           }
          ],
          "scatterpolar": [
           {
            "marker": {
             "colorbar": {
              "outlinewidth": 0,
              "ticks": ""
             }
            },
            "type": "scatterpolar"
           }
          ],
          "scatterpolargl": [
           {
            "marker": {
             "colorbar": {
              "outlinewidth": 0,
              "ticks": ""
             }
            },
            "type": "scatterpolargl"
           }
          ],
          "scatterternary": [
           {
            "marker": {
             "colorbar": {
              "outlinewidth": 0,
              "ticks": ""
             }
            },
            "type": "scatterternary"
           }
          ],
          "surface": [
           {
            "colorbar": {
             "outlinewidth": 0,
             "ticks": ""
            },
            "colorscale": [
             [
              0,
              "#0d0887"
             ],
             [
              0.1111111111111111,
              "#46039f"
             ],
             [
              0.2222222222222222,
              "#7201a8"
             ],
             [
              0.3333333333333333,
              "#9c179e"
             ],
             [
              0.4444444444444444,
              "#bd3786"
             ],
             [
              0.5555555555555556,
              "#d8576b"
             ],
             [
              0.6666666666666666,
              "#ed7953"
             ],
             [
              0.7777777777777778,
              "#fb9f3a"
             ],
             [
              0.8888888888888888,
              "#fdca26"
             ],
             [
              1,
              "#f0f921"
             ]
            ],
            "type": "surface"
           }
          ],
          "table": [
           {
            "cells": {
             "fill": {
              "color": "#EBF0F8"
             },
             "line": {
              "color": "white"
             }
            },
            "header": {
             "fill": {
              "color": "#C8D4E3"
             },
             "line": {
              "color": "white"
             }
            },
            "type": "table"
           }
          ]
         },
         "layout": {
          "annotationdefaults": {
           "arrowcolor": "#2a3f5f",
           "arrowhead": 0,
           "arrowwidth": 1
          },
          "autotypenumbers": "strict",
          "coloraxis": {
           "colorbar": {
            "outlinewidth": 0,
            "ticks": ""
           }
          },
          "colorscale": {
           "diverging": [
            [
             0,
             "#8e0152"
            ],
            [
             0.1,
             "#c51b7d"
            ],
            [
             0.2,
             "#de77ae"
            ],
            [
             0.3,
             "#f1b6da"
            ],
            [
             0.4,
             "#fde0ef"
            ],
            [
             0.5,
             "#f7f7f7"
            ],
            [
             0.6,
             "#e6f5d0"
            ],
            [
             0.7,
             "#b8e186"
            ],
            [
             0.8,
             "#7fbc41"
            ],
            [
             0.9,
             "#4d9221"
            ],
            [
             1,
             "#276419"
            ]
           ],
           "sequential": [
            [
             0,
             "#0d0887"
            ],
            [
             0.1111111111111111,
             "#46039f"
            ],
            [
             0.2222222222222222,
             "#7201a8"
            ],
            [
             0.3333333333333333,
             "#9c179e"
            ],
            [
             0.4444444444444444,
             "#bd3786"
            ],
            [
             0.5555555555555556,
             "#d8576b"
            ],
            [
             0.6666666666666666,
             "#ed7953"
            ],
            [
             0.7777777777777778,
             "#fb9f3a"
            ],
            [
             0.8888888888888888,
             "#fdca26"
            ],
            [
             1,
             "#f0f921"
            ]
           ],
           "sequentialminus": [
            [
             0,
             "#0d0887"
            ],
            [
             0.1111111111111111,
             "#46039f"
            ],
            [
             0.2222222222222222,
             "#7201a8"
            ],
            [
             0.3333333333333333,
             "#9c179e"
            ],
            [
             0.4444444444444444,
             "#bd3786"
            ],
            [
             0.5555555555555556,
             "#d8576b"
            ],
            [
             0.6666666666666666,
             "#ed7953"
            ],
            [
             0.7777777777777778,
             "#fb9f3a"
            ],
            [
             0.8888888888888888,
             "#fdca26"
            ],
            [
             1,
             "#f0f921"
            ]
           ]
          },
          "colorway": [
           "#636efa",
           "#EF553B",
           "#00cc96",
           "#ab63fa",
           "#FFA15A",
           "#19d3f3",
           "#FF6692",
           "#B6E880",
           "#FF97FF",
           "#FECB52"
          ],
          "font": {
           "color": "#2a3f5f"
          },
          "geo": {
           "bgcolor": "white",
           "lakecolor": "white",
           "landcolor": "#E5ECF6",
           "showlakes": true,
           "showland": true,
           "subunitcolor": "white"
          },
          "hoverlabel": {
           "align": "left"
          },
          "hovermode": "closest",
          "mapbox": {
           "style": "light"
          },
          "paper_bgcolor": "white",
          "plot_bgcolor": "#E5ECF6",
          "polar": {
           "angularaxis": {
            "gridcolor": "white",
            "linecolor": "white",
            "ticks": ""
           },
           "bgcolor": "#E5ECF6",
           "radialaxis": {
            "gridcolor": "white",
            "linecolor": "white",
            "ticks": ""
           }
          },
          "scene": {
           "xaxis": {
            "backgroundcolor": "#E5ECF6",
            "gridcolor": "white",
            "gridwidth": 2,
            "linecolor": "white",
            "showbackground": true,
            "ticks": "",
            "zerolinecolor": "white"
           },
           "yaxis": {
            "backgroundcolor": "#E5ECF6",
            "gridcolor": "white",
            "gridwidth": 2,
            "linecolor": "white",
            "showbackground": true,
            "ticks": "",
            "zerolinecolor": "white"
           },
           "zaxis": {
            "backgroundcolor": "#E5ECF6",
            "gridcolor": "white",
            "gridwidth": 2,
            "linecolor": "white",
            "showbackground": true,
            "ticks": "",
            "zerolinecolor": "white"
           }
          },
          "shapedefaults": {
           "line": {
            "color": "#2a3f5f"
           }
          },
          "ternary": {
           "aaxis": {
            "gridcolor": "white",
            "linecolor": "white",
            "ticks": ""
           },
           "baxis": {
            "gridcolor": "white",
            "linecolor": "white",
            "ticks": ""
           },
           "bgcolor": "#E5ECF6",
           "caxis": {
            "gridcolor": "white",
            "linecolor": "white",
            "ticks": ""
           }
          },
          "title": {
           "x": 0.05
          },
          "xaxis": {
           "automargin": true,
           "gridcolor": "white",
           "linecolor": "white",
           "ticks": "",
           "title": {
            "standoff": 15
           },
           "zerolinecolor": "white",
           "zerolinewidth": 2
          },
          "yaxis": {
           "automargin": true,
           "gridcolor": "white",
           "linecolor": "white",
           "ticks": "",
           "title": {
            "standoff": 15
           },
           "zerolinecolor": "white",
           "zerolinewidth": 2
          }
         }
        },
        "yaxis": {
         "range": [
          0,
          100
         ]
        }
       }
      }
     },
     "metadata": {},
     "output_type": "display_data"
    }
   ],
   "source": [
    "df11=df21.merge(df31, how='outer')\n",
    "df_bin11 = df11[['Hieu suat','month']] \n",
    "x = len(df_bin11)\n",
    "num_index = range(0,x,1)\n",
    "df_bin11 =  df_bin11.reset_index()\n",
    "df_bin11.loc[:,'stt'] = pd.Series(num_index, df_bin11.index)\n",
    "print(df_bin11)  \n",
    "# Renaming the columns for easier writing of the code \n",
    "df_bin11.head() \n",
    "x=df_bin11['stt'].tolist()\n",
    "y=df_bin11['Hieu suat'].tolist()\n",
    "x=np.array(x)\n",
    "y=np.array(y)\n",
    "b1 = estimate_coef(x, y) \n",
    "print(\"Estimated coefficients:\\nb_0 = {}\\nb_1 = {}\".format(b1[0], b1[1])) \n",
    "plot_regression_line(x, y, b) \n",
    "y_pred= b1[0] + b1[1]*x\n",
    "fig11 = go.Figure()\n",
    "fig11.add_trace(go.Scatter(\n",
    "    x=df11.index,\n",
    "    y=df11['Hieu suat'],\n",
    "    name=\"Hiệu suất inverter 3 \"))\n",
    "fig11.add_trace(go.Scatter(\n",
    "    x=df11.index,\n",
    "    y=y_pred,\n",
    "    name=\"Hiệu suất tuyến tính inverter 3 \"))\n",
    "fig11.update_layout(yaxis_range=[0, 100])\n",
    "fig11.show()"
   ]
  }
 ],
 "metadata": {
  "kernelspec": {
   "display_name": "Python 3",
   "language": "python",
   "name": "python3"
  },
  "language_info": {
   "codemirror_mode": {
    "name": "ipython",
    "version": 3
   },
   "file_extension": ".py",
   "mimetype": "text/x-python",
   "name": "python",
   "nbconvert_exporter": "python",
   "pygments_lexer": "ipython3",
   "version": "3.10.11"
  },
  "orig_nbformat": 4
 },
 "nbformat": 4,
 "nbformat_minor": 2
}
