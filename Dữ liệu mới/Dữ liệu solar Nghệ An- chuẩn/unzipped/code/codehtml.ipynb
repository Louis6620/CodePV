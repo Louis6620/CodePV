{
 "cells": [
  {
   "cell_type": "code",
   "execution_count": 4,
   "metadata": {},
   "outputs": [
    {
     "data": {
      "text/plain": [
       "'bar_chart.html'"
      ]
     },
     "execution_count": 4,
     "metadata": {},
     "output_type": "execute_result"
    }
   ],
   "source": [
    "import plotly.graph_objects as go\n",
    "import plotly.offline as pyo\n",
    "\n",
    "# Dữ liệu của bạn\n",
    "x = [1, 2, 3, 4, 5]\n",
    "y = [10, 8, 6, 4, 2]\n",
    "\n",
    "# Tạo đối tượng Figure\n",
    "fig = go.Figure(data=go.Bar(x=x, y=y))\n",
    "\n",
    "# Lưu đồ thị vào tệp HTML\n",
    "pyo.plot(fig, filename='bar_chart.html')\n"
   ]
  }
 ],
 "metadata": {
  "kernelspec": {
   "display_name": "Python 3",
   "language": "python",
   "name": "python3"
  },
  "language_info": {
   "codemirror_mode": {
    "name": "ipython",
    "version": 3
   },
   "file_extension": ".py",
   "mimetype": "text/x-python",
   "name": "python",
   "nbconvert_exporter": "python",
   "pygments_lexer": "ipython3",
   "version": "3.11.2"
  },
  "orig_nbformat": 4
 },
 "nbformat": 4,
 "nbformat_minor": 2
}
