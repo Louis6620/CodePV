{
 "cells": [
  {
   "cell_type": "code",
   "execution_count": 14,
   "metadata": {},
   "outputs": [],
   "source": [
    "import numpy as np # linear algebra\n",
    "import pandas as pd # data processing, CSV file I/O (e.g. pd.read_csv)\n",
    "import matplotlib.pyplot as plt\n",
    "import seaborn as sns\n",
    "from scipy.stats import stats\n",
    "from datetime import datetime\n",
    "dateparse = lambda x: datetime.strptime(x, '%m/%d/%Y %H:%M')\n",
    "import plotly.express as px\n",
    "import plotly.graph_objects as go\n",
    "from mpl_toolkits import mplot3d\n",
    "from sklearn import preprocessing, svm \n",
    "from sklearn.model_selection import train_test_split \n",
    "from sklearn.linear_model import LinearRegression \n",
    "from scipy.optimize import curve_fit"
   ]
  },
  {
   "cell_type": "code",
   "execution_count": 15,
   "metadata": {},
   "outputs": [],
   "source": [
    "df = pd.read_csv('D:/OneDrive - Hanoi University of Science and Technology/Me/Code/DatainHUST/CodePV/Dữ liệu mới/Dữ liệu solar Nghệ An- chuẩn/unzipped/Fullmonth/inv1_emi_t345678.csv',\n",
    "                encoding=\"utf-8-sig\",\n",
    "                header=0,\n",
    "                infer_datetime_format=True,\n",
    "                parse_dates={'datetime':[4]},\n",
    "                index_col=['datetime']\n",
    "                )"
   ]
  },
  {
   "cell_type": "code",
   "execution_count": 16,
   "metadata": {},
   "outputs": [
    {
     "data": {
      "text/html": [
       "<div>\n",
       "<style scoped>\n",
       "    .dataframe tbody tr th:only-of-type {\n",
       "        vertical-align: middle;\n",
       "    }\n",
       "\n",
       "    .dataframe tbody tr th {\n",
       "        vertical-align: top;\n",
       "    }\n",
       "\n",
       "    .dataframe thead th {\n",
       "        text-align: right;\n",
       "    }\n",
       "</style>\n",
       "<table border=\"1\" class=\"dataframe\">\n",
       "  <thead>\n",
       "    <tr style=\"text-align: right;\">\n",
       "      <th></th>\n",
       "      <th>Unnamed: 0</th>\n",
       "      <th>Site Name_x</th>\n",
       "      <th>Management Domain_x</th>\n",
       "      <th>ManageObject_x</th>\n",
       "      <th>Inverter status</th>\n",
       "      <th>Grid voltage/Grid AB line voltage(V)</th>\n",
       "      <th>BC line voltage(V)</th>\n",
       "      <th>CA line voltage(V)</th>\n",
       "      <th>Phase A voltage(V)</th>\n",
       "      <th>Phase B voltage(V)</th>\n",
       "      <th>...</th>\n",
       "      <th>day</th>\n",
       "      <th>hour</th>\n",
       "      <th>dayofweek</th>\n",
       "      <th>dayname</th>\n",
       "      <th>hourofweek</th>\n",
       "      <th>hourofmonth</th>\n",
       "      <th>Tcell</th>\n",
       "      <th>Pm</th>\n",
       "      <th>Hieu suat</th>\n",
       "      <th>date</th>\n",
       "    </tr>\n",
       "    <tr>\n",
       "      <th>datetime</th>\n",
       "      <th></th>\n",
       "      <th></th>\n",
       "      <th></th>\n",
       "      <th></th>\n",
       "      <th></th>\n",
       "      <th></th>\n",
       "      <th></th>\n",
       "      <th></th>\n",
       "      <th></th>\n",
       "      <th></th>\n",
       "      <th></th>\n",
       "      <th></th>\n",
       "      <th></th>\n",
       "      <th></th>\n",
       "      <th></th>\n",
       "      <th></th>\n",
       "      <th></th>\n",
       "      <th></th>\n",
       "      <th></th>\n",
       "      <th></th>\n",
       "      <th></th>\n",
       "    </tr>\n",
       "  </thead>\n",
       "  <tbody>\n",
       "    <tr>\n",
       "      <th>2022-04-09 10:40:00</th>\n",
       "      <td>3792</td>\n",
       "      <td>VNM - Nghệ An - Nhà Máy</td>\n",
       "      <td>/BCG Energy</td>\n",
       "      <td>1020C0056057/6T21A9008074</td>\n",
       "      <td>Grid connected</td>\n",
       "      <td>413.1</td>\n",
       "      <td>412.2</td>\n",
       "      <td>410.4</td>\n",
       "      <td>238.4</td>\n",
       "      <td>236.2</td>\n",
       "      <td>...</td>\n",
       "      <td>9</td>\n",
       "      <td>10</td>\n",
       "      <td>5</td>\n",
       "      <td>Saturday</td>\n",
       "      <td>130</td>\n",
       "      <td>202</td>\n",
       "      <td>12.494375</td>\n",
       "      <td>118.130321</td>\n",
       "      <td>75.486970</td>\n",
       "      <td>2022-04-09</td>\n",
       "    </tr>\n",
       "    <tr>\n",
       "      <th>2022-04-09 10:45:00</th>\n",
       "      <td>3793</td>\n",
       "      <td>VNM - Nghệ An - Nhà Máy</td>\n",
       "      <td>/BCG Energy</td>\n",
       "      <td>1020C0056057/6T21A9008074</td>\n",
       "      <td>Grid connected</td>\n",
       "      <td>414.1</td>\n",
       "      <td>413.1</td>\n",
       "      <td>411.6</td>\n",
       "      <td>238.4</td>\n",
       "      <td>236.2</td>\n",
       "      <td>...</td>\n",
       "      <td>9</td>\n",
       "      <td>10</td>\n",
       "      <td>5</td>\n",
       "      <td>Saturday</td>\n",
       "      <td>130</td>\n",
       "      <td>202</td>\n",
       "      <td>11.572500</td>\n",
       "      <td>112.587348</td>\n",
       "      <td>76.287435</td>\n",
       "      <td>2022-04-09</td>\n",
       "    </tr>\n",
       "    <tr>\n",
       "      <th>2022-04-13 12:35:00</th>\n",
       "      <td>4454</td>\n",
       "      <td>VNM - Nghệ An - Nhà Máy</td>\n",
       "      <td>/BCG Energy</td>\n",
       "      <td>1020C0056057/6T21A9008074</td>\n",
       "      <td>Grid connected</td>\n",
       "      <td>412.7</td>\n",
       "      <td>411.6</td>\n",
       "      <td>409.4</td>\n",
       "      <td>238.3</td>\n",
       "      <td>235.7</td>\n",
       "      <td>...</td>\n",
       "      <td>13</td>\n",
       "      <td>12</td>\n",
       "      <td>2</td>\n",
       "      <td>Wednesday</td>\n",
       "      <td>60</td>\n",
       "      <td>300</td>\n",
       "      <td>11.606250</td>\n",
       "      <td>113.369838</td>\n",
       "      <td>74.345171</td>\n",
       "      <td>2022-04-13</td>\n",
       "    </tr>\n",
       "    <tr>\n",
       "      <th>2022-04-15 13:05:00</th>\n",
       "      <td>4780</td>\n",
       "      <td>VNM - Nghệ An - Nhà Máy</td>\n",
       "      <td>/BCG Energy</td>\n",
       "      <td>1020C0056057/6T21A9008074</td>\n",
       "      <td>Grid connected</td>\n",
       "      <td>411.7</td>\n",
       "      <td>412.2</td>\n",
       "      <td>409.1</td>\n",
       "      <td>237.2</td>\n",
       "      <td>235.8</td>\n",
       "      <td>...</td>\n",
       "      <td>15</td>\n",
       "      <td>13</td>\n",
       "      <td>4</td>\n",
       "      <td>Friday</td>\n",
       "      <td>109</td>\n",
       "      <td>349</td>\n",
       "      <td>10.645000</td>\n",
       "      <td>102.450760</td>\n",
       "      <td>76.917927</td>\n",
       "      <td>2022-04-15</td>\n",
       "    </tr>\n",
       "    <tr>\n",
       "      <th>2022-04-21 10:40:00</th>\n",
       "      <td>5711</td>\n",
       "      <td>VNM - Nghệ An - Nhà Máy</td>\n",
       "      <td>/BCG Energy</td>\n",
       "      <td>1020C0056057/6T21A9008074</td>\n",
       "      <td>Grid connected</td>\n",
       "      <td>419.0</td>\n",
       "      <td>418.5</td>\n",
       "      <td>417.2</td>\n",
       "      <td>241.2</td>\n",
       "      <td>239.6</td>\n",
       "      <td>...</td>\n",
       "      <td>21</td>\n",
       "      <td>10</td>\n",
       "      <td>3</td>\n",
       "      <td>Thursday</td>\n",
       "      <td>82</td>\n",
       "      <td>490</td>\n",
       "      <td>10.706250</td>\n",
       "      <td>99.352404</td>\n",
       "      <td>84.037222</td>\n",
       "      <td>2022-04-21</td>\n",
       "    </tr>\n",
       "    <tr>\n",
       "      <th>2022-04-25 09:45:00</th>\n",
       "      <td>6345</td>\n",
       "      <td>VNM - Nghệ An - Nhà Máy</td>\n",
       "      <td>/BCG Energy</td>\n",
       "      <td>1020C0056057/6T21A9008074</td>\n",
       "      <td>Grid connected</td>\n",
       "      <td>413.9</td>\n",
       "      <td>413.1</td>\n",
       "      <td>411.3</td>\n",
       "      <td>238.5</td>\n",
       "      <td>237.0</td>\n",
       "      <td>...</td>\n",
       "      <td>25</td>\n",
       "      <td>9</td>\n",
       "      <td>0</td>\n",
       "      <td>Monday</td>\n",
       "      <td>9</td>\n",
       "      <td>585</td>\n",
       "      <td>12.780625</td>\n",
       "      <td>102.037325</td>\n",
       "      <td>75.216594</td>\n",
       "      <td>2022-04-25</td>\n",
       "    </tr>\n",
       "    <tr>\n",
       "      <th>2022-04-25 09:50:00</th>\n",
       "      <td>6346</td>\n",
       "      <td>VNM - Nghệ An - Nhà Máy</td>\n",
       "      <td>/BCG Energy</td>\n",
       "      <td>1020C0056057/6T21A9008074</td>\n",
       "      <td>Grid connected</td>\n",
       "      <td>412.8</td>\n",
       "      <td>413.1</td>\n",
       "      <td>411.2</td>\n",
       "      <td>238.5</td>\n",
       "      <td>236.9</td>\n",
       "      <td>...</td>\n",
       "      <td>25</td>\n",
       "      <td>9</td>\n",
       "      <td>0</td>\n",
       "      <td>Monday</td>\n",
       "      <td>9</td>\n",
       "      <td>585</td>\n",
       "      <td>12.485000</td>\n",
       "      <td>104.267272</td>\n",
       "      <td>75.067659</td>\n",
       "      <td>2022-04-25</td>\n",
       "    </tr>\n",
       "    <tr>\n",
       "      <th>2022-04-25 09:55:00</th>\n",
       "      <td>6347</td>\n",
       "      <td>VNM - Nghệ An - Nhà Máy</td>\n",
       "      <td>/BCG Energy</td>\n",
       "      <td>1020C0056057/6T21A9008074</td>\n",
       "      <td>Grid connected</td>\n",
       "      <td>413.9</td>\n",
       "      <td>414.1</td>\n",
       "      <td>411.3</td>\n",
       "      <td>238.5</td>\n",
       "      <td>236.9</td>\n",
       "      <td>...</td>\n",
       "      <td>25</td>\n",
       "      <td>9</td>\n",
       "      <td>0</td>\n",
       "      <td>Monday</td>\n",
       "      <td>9</td>\n",
       "      <td>585</td>\n",
       "      <td>13.080000</td>\n",
       "      <td>106.729628</td>\n",
       "      <td>74.562238</td>\n",
       "      <td>2022-04-25</td>\n",
       "    </tr>\n",
       "    <tr>\n",
       "      <th>2022-04-25 10:00:00</th>\n",
       "      <td>6348</td>\n",
       "      <td>VNM - Nghệ An - Nhà Máy</td>\n",
       "      <td>/BCG Energy</td>\n",
       "      <td>1020C0056057/6T21A9008074</td>\n",
       "      <td>Grid connected</td>\n",
       "      <td>413.6</td>\n",
       "      <td>414.3</td>\n",
       "      <td>411.7</td>\n",
       "      <td>238.4</td>\n",
       "      <td>236.8</td>\n",
       "      <td>...</td>\n",
       "      <td>25</td>\n",
       "      <td>10</td>\n",
       "      <td>0</td>\n",
       "      <td>Monday</td>\n",
       "      <td>10</td>\n",
       "      <td>586</td>\n",
       "      <td>14.067500</td>\n",
       "      <td>109.235640</td>\n",
       "      <td>73.903536</td>\n",
       "      <td>2022-04-25</td>\n",
       "    </tr>\n",
       "    <tr>\n",
       "      <th>2022-04-25 10:05:00</th>\n",
       "      <td>6349</td>\n",
       "      <td>VNM - Nghệ An - Nhà Máy</td>\n",
       "      <td>/BCG Energy</td>\n",
       "      <td>1020C0056057/6T21A9008074</td>\n",
       "      <td>Grid connected</td>\n",
       "      <td>413.6</td>\n",
       "      <td>413.9</td>\n",
       "      <td>411.5</td>\n",
       "      <td>238.4</td>\n",
       "      <td>236.8</td>\n",
       "      <td>...</td>\n",
       "      <td>25</td>\n",
       "      <td>10</td>\n",
       "      <td>0</td>\n",
       "      <td>Monday</td>\n",
       "      <td>10</td>\n",
       "      <td>586</td>\n",
       "      <td>13.881250</td>\n",
       "      <td>109.454119</td>\n",
       "      <td>73.955188</td>\n",
       "      <td>2022-04-25</td>\n",
       "    </tr>\n",
       "  </tbody>\n",
       "</table>\n",
       "<p>10 rows × 103 columns</p>\n",
       "</div>"
      ],
      "text/plain": [
       "                     Unnamed: 0              Site Name_x Management Domain_x  \\\n",
       "datetime                                                                       \n",
       "2022-04-09 10:40:00        3792  VNM - Nghệ An - Nhà Máy         /BCG Energy   \n",
       "2022-04-09 10:45:00        3793  VNM - Nghệ An - Nhà Máy         /BCG Energy   \n",
       "2022-04-13 12:35:00        4454  VNM - Nghệ An - Nhà Máy         /BCG Energy   \n",
       "2022-04-15 13:05:00        4780  VNM - Nghệ An - Nhà Máy         /BCG Energy   \n",
       "2022-04-21 10:40:00        5711  VNM - Nghệ An - Nhà Máy         /BCG Energy   \n",
       "2022-04-25 09:45:00        6345  VNM - Nghệ An - Nhà Máy         /BCG Energy   \n",
       "2022-04-25 09:50:00        6346  VNM - Nghệ An - Nhà Máy         /BCG Energy   \n",
       "2022-04-25 09:55:00        6347  VNM - Nghệ An - Nhà Máy         /BCG Energy   \n",
       "2022-04-25 10:00:00        6348  VNM - Nghệ An - Nhà Máy         /BCG Energy   \n",
       "2022-04-25 10:05:00        6349  VNM - Nghệ An - Nhà Máy         /BCG Energy   \n",
       "\n",
       "                                ManageObject_x Inverter status  \\\n",
       "datetime                                                         \n",
       "2022-04-09 10:40:00  1020C0056057/6T21A9008074  Grid connected   \n",
       "2022-04-09 10:45:00  1020C0056057/6T21A9008074  Grid connected   \n",
       "2022-04-13 12:35:00  1020C0056057/6T21A9008074  Grid connected   \n",
       "2022-04-15 13:05:00  1020C0056057/6T21A9008074  Grid connected   \n",
       "2022-04-21 10:40:00  1020C0056057/6T21A9008074  Grid connected   \n",
       "2022-04-25 09:45:00  1020C0056057/6T21A9008074  Grid connected   \n",
       "2022-04-25 09:50:00  1020C0056057/6T21A9008074  Grid connected   \n",
       "2022-04-25 09:55:00  1020C0056057/6T21A9008074  Grid connected   \n",
       "2022-04-25 10:00:00  1020C0056057/6T21A9008074  Grid connected   \n",
       "2022-04-25 10:05:00  1020C0056057/6T21A9008074  Grid connected   \n",
       "\n",
       "                     Grid voltage/Grid AB line voltage(V)  BC line voltage(V)  \\\n",
       "datetime                                                                        \n",
       "2022-04-09 10:40:00                                 413.1               412.2   \n",
       "2022-04-09 10:45:00                                 414.1               413.1   \n",
       "2022-04-13 12:35:00                                 412.7               411.6   \n",
       "2022-04-15 13:05:00                                 411.7               412.2   \n",
       "2022-04-21 10:40:00                                 419.0               418.5   \n",
       "2022-04-25 09:45:00                                 413.9               413.1   \n",
       "2022-04-25 09:50:00                                 412.8               413.1   \n",
       "2022-04-25 09:55:00                                 413.9               414.1   \n",
       "2022-04-25 10:00:00                                 413.6               414.3   \n",
       "2022-04-25 10:05:00                                 413.6               413.9   \n",
       "\n",
       "                     CA line voltage(V)  Phase A voltage(V)  \\\n",
       "datetime                                                      \n",
       "2022-04-09 10:40:00               410.4               238.4   \n",
       "2022-04-09 10:45:00               411.6               238.4   \n",
       "2022-04-13 12:35:00               409.4               238.3   \n",
       "2022-04-15 13:05:00               409.1               237.2   \n",
       "2022-04-21 10:40:00               417.2               241.2   \n",
       "2022-04-25 09:45:00               411.3               238.5   \n",
       "2022-04-25 09:50:00               411.2               238.5   \n",
       "2022-04-25 09:55:00               411.3               238.5   \n",
       "2022-04-25 10:00:00               411.7               238.4   \n",
       "2022-04-25 10:05:00               411.5               238.4   \n",
       "\n",
       "                     Phase B voltage(V)  ...  day  hour  dayofweek    dayname  \\\n",
       "datetime                                 ...                                    \n",
       "2022-04-09 10:40:00               236.2  ...    9    10          5   Saturday   \n",
       "2022-04-09 10:45:00               236.2  ...    9    10          5   Saturday   \n",
       "2022-04-13 12:35:00               235.7  ...   13    12          2  Wednesday   \n",
       "2022-04-15 13:05:00               235.8  ...   15    13          4     Friday   \n",
       "2022-04-21 10:40:00               239.6  ...   21    10          3   Thursday   \n",
       "2022-04-25 09:45:00               237.0  ...   25     9          0     Monday   \n",
       "2022-04-25 09:50:00               236.9  ...   25     9          0     Monday   \n",
       "2022-04-25 09:55:00               236.9  ...   25     9          0     Monday   \n",
       "2022-04-25 10:00:00               236.8  ...   25    10          0     Monday   \n",
       "2022-04-25 10:05:00               236.8  ...   25    10          0     Monday   \n",
       "\n",
       "                     hourofweek  hourofmonth      Tcell          Pm  \\\n",
       "datetime                                                              \n",
       "2022-04-09 10:40:00         130          202  12.494375  118.130321   \n",
       "2022-04-09 10:45:00         130          202  11.572500  112.587348   \n",
       "2022-04-13 12:35:00          60          300  11.606250  113.369838   \n",
       "2022-04-15 13:05:00         109          349  10.645000  102.450760   \n",
       "2022-04-21 10:40:00          82          490  10.706250   99.352404   \n",
       "2022-04-25 09:45:00           9          585  12.780625  102.037325   \n",
       "2022-04-25 09:50:00           9          585  12.485000  104.267272   \n",
       "2022-04-25 09:55:00           9          585  13.080000  106.729628   \n",
       "2022-04-25 10:00:00          10          586  14.067500  109.235640   \n",
       "2022-04-25 10:05:00          10          586  13.881250  109.454119   \n",
       "\n",
       "                     Hieu suat        date  \n",
       "datetime                                    \n",
       "2022-04-09 10:40:00  75.486970  2022-04-09  \n",
       "2022-04-09 10:45:00  76.287435  2022-04-09  \n",
       "2022-04-13 12:35:00  74.345171  2022-04-13  \n",
       "2022-04-15 13:05:00  76.917927  2022-04-15  \n",
       "2022-04-21 10:40:00  84.037222  2022-04-21  \n",
       "2022-04-25 09:45:00  75.216594  2022-04-25  \n",
       "2022-04-25 09:50:00  75.067659  2022-04-25  \n",
       "2022-04-25 09:55:00  74.562238  2022-04-25  \n",
       "2022-04-25 10:00:00  73.903536  2022-04-25  \n",
       "2022-04-25 10:05:00  73.955188  2022-04-25  \n",
       "\n",
       "[10 rows x 103 columns]"
      ]
     },
     "execution_count": 16,
     "metadata": {},
     "output_type": "execute_result"
    }
   ],
   "source": [
    "df['time'] = df.index\n",
    "df.loc[:,'year'] = pd.Series(df.index.year, df.index)\n",
    "df.loc[:,'month'] = pd.Series(df.index.month, df.index)\n",
    "df.loc[:,'day'] = pd.Series(df.index.day, df.index)\n",
    "df.loc[:,'hour'] = pd.Series(df.index.hour, df.index)\n",
    "df.loc[:,'dayofweek'] = pd.Series(df.index.dayofweek, df.index)\n",
    "df.loc[:,'dayname'] = pd.Series(df.index.day_name(), df.index)\n",
    "df.loc[:,'hourofweek'] = pd.Series((df.hour+24*df.dayofweek), df.index)\n",
    "df.loc[:,'hourofmonth'] = pd.Series((df.hour+24*(df.day-1)), df.index)\n",
    "df.loc[:,'Tcell']=pd.Series((df['Ambient temperature(℃)']+df['Irradiance(W/㎡)']/800*(25-20)), df.index)\n",
    "df.loc[:,'Pm']=pd.Series((2.172*1.303*220*2*590*df['Irradiance(W/㎡)']/1000*(1+0.0045*(df['Tcell']-25))*20.5/100000), df.index)\n",
    "df.loc[:,'Hieu suat']=pd.Series((df['Total input power(kW)']/df['Pm']*100), df.index)\n",
    "df.loc[:,'date'] = pd.Series(df.index.date, df.index)\n",
    "df=df[(df['Inverter status']=='Grid connected')]\n",
    "df=df[df['Ambient temperature(℃)']>6]\n",
    "df=df[df['Irradiance(W/㎡)']>300]\n",
    "df=df[df['Total input power(kW)']>76]\n",
    "df.head(10)"
   ]
  },
  {
   "cell_type": "code",
   "execution_count": 17,
   "metadata": {},
   "outputs": [
    {
     "name": "stdout",
     "output_type": "stream",
     "text": [
      "     index  month        date  hour  Total input power(kW)  \\\n",
      "0        0      4  2022-04-09    10              87.531500   \n",
      "1        1      4  2022-04-13    12              84.285000   \n",
      "2        2      4  2022-04-15    13              78.803000   \n",
      "4        6      4  2022-04-25    11              90.661250   \n",
      "5       10      4  2022-04-26    12              85.716000   \n",
      "..     ...    ...         ...   ...                    ...   \n",
      "96     461      8  2022-08-19    11              96.852600   \n",
      "97     467      8  2022-08-21    12              99.510333   \n",
      "98     470      8  2022-08-22    11              94.077833   \n",
      "99     477      8  2022-08-23    12              94.986500   \n",
      "100    483      8  2022-08-24    12              92.957583   \n",
      "\n",
      "     Ambient temperature(℃)  Irradiance(W/㎡)      Tcell          Pm  Hieu suat  \n",
      "0                  6.950000       813.350000  12.033437  115.353290  75.881234  \n",
      "1                  6.600000       801.000000  11.606250  113.369838  74.345171  \n",
      "2                  6.100000       727.200000  10.645000  102.450760  76.917927  \n",
      "4                  7.858333       882.591667  13.374531  125.975704  71.967250  \n",
      "5                 10.640000       846.250000  15.929063  122.253679  70.113228  \n",
      "..                      ...              ...        ...         ...        ...  \n",
      "96                11.000000       968.300000  17.051875  140.622529  68.874170  \n",
      "97                 7.700000      1087.800000  14.498750  156.094727  63.749965  \n",
      "98                 8.866667       984.500000  15.019792  141.619279  66.430103  \n",
      "99                11.366667       962.133333  17.380000  139.940936  67.876136  \n",
      "100               10.075000       925.525000  15.859531  133.662542  69.546473  \n",
      "\n",
      "[99 rows x 10 columns]\n"
     ]
    },
    {
     "data": {
      "application/vnd.plotly.v1+json": {
       "config": {
        "plotlyServerURL": "https://plot.ly"
       },
       "data": [
        {
         "name": "Hiệu suất",
         "showlegend": true,
         "type": "scatter",
         "x": [
          "2022-04-09",
          "2022-04-13",
          "2022-04-15",
          "2022-04-25",
          "2022-04-26",
          "2022-04-27",
          "2022-04-28",
          "2022-04-30",
          "2022-05-04",
          "2022-05-07",
          "2022-05-09",
          "2022-05-10",
          "2022-05-11",
          "2022-05-12",
          "2022-05-13",
          "2022-05-15",
          "2022-05-19",
          "2022-05-22",
          "2022-05-23",
          "2022-05-24",
          "2022-05-25",
          "2022-05-26",
          "2022-05-27",
          "2022-05-28",
          "2022-05-29",
          "2022-05-30",
          "2022-06-01",
          "2022-06-02",
          "2022-06-03",
          "2022-06-04",
          "2022-06-05",
          "2022-06-06",
          "2022-06-09",
          "2022-06-10",
          "2022-06-11",
          "2022-06-12",
          "2022-06-13",
          "2022-06-14",
          "2022-06-16",
          "2022-06-17",
          "2022-06-18",
          "2022-06-19",
          "2022-06-20",
          "2022-06-21",
          "2022-06-22",
          "2022-06-23",
          "2022-06-24",
          "2022-06-25",
          "2022-06-26",
          "2022-06-27",
          "2022-06-28",
          "2022-06-29",
          "2022-06-30",
          "2022-07-01",
          "2022-07-02",
          "2022-07-03",
          "2022-07-04",
          "2022-07-05",
          "2022-07-06",
          "2022-07-07",
          "2022-07-10",
          "2022-07-11",
          "2022-07-12",
          "2022-07-13",
          "2022-07-14",
          "2022-07-15",
          "2022-07-16",
          "2022-07-17",
          "2022-07-18",
          "2022-07-19",
          "2022-07-20",
          "2022-07-21",
          "2022-07-22",
          "2022-07-23",
          "2022-07-24",
          "2022-07-25",
          "2022-07-26",
          "2022-07-27",
          "2022-07-28",
          "2022-07-29",
          "2022-07-30",
          "2022-07-31",
          "2022-08-01",
          "2022-08-02",
          "2022-08-03",
          "2022-08-04",
          "2022-08-05",
          "2022-08-10",
          "2022-08-13",
          "2022-08-14",
          "2022-08-15",
          "2022-08-16",
          "2022-08-17",
          "2022-08-18",
          "2022-08-19",
          "2022-08-21",
          "2022-08-22",
          "2022-08-23",
          "2022-08-24"
         ],
         "y": [
          75.88123439663235,
          74.34517092385207,
          76.91792660561035,
          71.96725012865588,
          70.11322765704541,
          73.67885064906945,
          72.31285794380682,
          68.15785190914137,
          74.69326792075877,
          70.15323005052181,
          67.8862855835067,
          61.76965352563618,
          59.06616009631704,
          62.5711218007534,
          67.23786670048719,
          66.60195008162377,
          76.84959522942397,
          75.75289605297353,
          72.70398138244771,
          72.84092275047482,
          73.21132722698117,
          59.59958579745883,
          70.07374749337923,
          70.55674758324905,
          68.29689959230973,
          69.6922491696161,
          55.134475253211946,
          57.30501986431618,
          69.22541482845135,
          76.04720229917609,
          69.73274892830197,
          69.86687421304656,
          70.00319539889122,
          79.44611162178377,
          73.88086667320121,
          64.47805913301093,
          69.7186423287164,
          75.43173948353025,
          69.41088917111065,
          65.80059005126006,
          69.94058122556298,
          71.24263370840109,
          68.74365604254254,
          70.38631045466207,
          66.63207924832817,
          70.66667056398802,
          71.21491293632494,
          70.42132152892329,
          67.6463643082543,
          58.31779476627288,
          67.53980196370438,
          59.77205512093381,
          74.77850011516857,
          77.5927621533732,
          69.76548662814753,
          66.34306652024065,
          71.92191246087648,
          70.66719222107966,
          68.76887113627433,
          66.49405454938973,
          49.04470923477725,
          67.95684777923326,
          72.40427996522908,
          72.41221048405548,
          70.43585388774544,
          60.952279815273194,
          72.17251733920618,
          68.74884276136935,
          67.84965599580724,
          68.55725692773179,
          70.88428846210061,
          70.40765078977476,
          68.54888534242403,
          68.60437606156626,
          70.50715098597897,
          69.0619739758309,
          72.21567917718976,
          71.32566477498293,
          71.06949288395091,
          70.98846170793998,
          71.07631277936235,
          71.2163231126272,
          70.84190158163757,
          67.60671695037637,
          65.01656336761245,
          67.13724908131194,
          76.00284803569949,
          73.07092008401266,
          75.1564413810114,
          71.10506441770103,
          68.63490777092328,
          72.2857163487172,
          64.48452033889264,
          64.5582083296343,
          68.87417002080241,
          63.74996451157029,
          66.43010346749824,
          67.87613579139766,
          69.54647281004779
         ]
        }
       ],
       "layout": {
        "height": 600,
        "template": {
         "data": {
          "bar": [
           {
            "error_x": {
             "color": "#2a3f5f"
            },
            "error_y": {
             "color": "#2a3f5f"
            },
            "marker": {
             "line": {
              "color": "#E5ECF6",
              "width": 0.5
             },
             "pattern": {
              "fillmode": "overlay",
              "size": 10,
              "solidity": 0.2
             }
            },
            "type": "bar"
           }
          ],
          "barpolar": [
           {
            "marker": {
             "line": {
              "color": "#E5ECF6",
              "width": 0.5
             },
             "pattern": {
              "fillmode": "overlay",
              "size": 10,
              "solidity": 0.2
             }
            },
            "type": "barpolar"
           }
          ],
          "carpet": [
           {
            "aaxis": {
             "endlinecolor": "#2a3f5f",
             "gridcolor": "white",
             "linecolor": "white",
             "minorgridcolor": "white",
             "startlinecolor": "#2a3f5f"
            },
            "baxis": {
             "endlinecolor": "#2a3f5f",
             "gridcolor": "white",
             "linecolor": "white",
             "minorgridcolor": "white",
             "startlinecolor": "#2a3f5f"
            },
            "type": "carpet"
           }
          ],
          "choropleth": [
           {
            "colorbar": {
             "outlinewidth": 0,
             "ticks": ""
            },
            "type": "choropleth"
           }
          ],
          "contour": [
           {
            "colorbar": {
             "outlinewidth": 0,
             "ticks": ""
            },
            "colorscale": [
             [
              0,
              "#0d0887"
             ],
             [
              0.1111111111111111,
              "#46039f"
             ],
             [
              0.2222222222222222,
              "#7201a8"
             ],
             [
              0.3333333333333333,
              "#9c179e"
             ],
             [
              0.4444444444444444,
              "#bd3786"
             ],
             [
              0.5555555555555556,
              "#d8576b"
             ],
             [
              0.6666666666666666,
              "#ed7953"
             ],
             [
              0.7777777777777778,
              "#fb9f3a"
             ],
             [
              0.8888888888888888,
              "#fdca26"
             ],
             [
              1,
              "#f0f921"
             ]
            ],
            "type": "contour"
           }
          ],
          "contourcarpet": [
           {
            "colorbar": {
             "outlinewidth": 0,
             "ticks": ""
            },
            "type": "contourcarpet"
           }
          ],
          "heatmap": [
           {
            "colorbar": {
             "outlinewidth": 0,
             "ticks": ""
            },
            "colorscale": [
             [
              0,
              "#0d0887"
             ],
             [
              0.1111111111111111,
              "#46039f"
             ],
             [
              0.2222222222222222,
              "#7201a8"
             ],
             [
              0.3333333333333333,
              "#9c179e"
             ],
             [
              0.4444444444444444,
              "#bd3786"
             ],
             [
              0.5555555555555556,
              "#d8576b"
             ],
             [
              0.6666666666666666,
              "#ed7953"
             ],
             [
              0.7777777777777778,
              "#fb9f3a"
             ],
             [
              0.8888888888888888,
              "#fdca26"
             ],
             [
              1,
              "#f0f921"
             ]
            ],
            "type": "heatmap"
           }
          ],
          "heatmapgl": [
           {
            "colorbar": {
             "outlinewidth": 0,
             "ticks": ""
            },
            "colorscale": [
             [
              0,
              "#0d0887"
             ],
             [
              0.1111111111111111,
              "#46039f"
             ],
             [
              0.2222222222222222,
              "#7201a8"
             ],
             [
              0.3333333333333333,
              "#9c179e"
             ],
             [
              0.4444444444444444,
              "#bd3786"
             ],
             [
              0.5555555555555556,
              "#d8576b"
             ],
             [
              0.6666666666666666,
              "#ed7953"
             ],
             [
              0.7777777777777778,
              "#fb9f3a"
             ],
             [
              0.8888888888888888,
              "#fdca26"
             ],
             [
              1,
              "#f0f921"
             ]
            ],
            "type": "heatmapgl"
           }
          ],
          "histogram": [
           {
            "marker": {
             "pattern": {
              "fillmode": "overlay",
              "size": 10,
              "solidity": 0.2
             }
            },
            "type": "histogram"
           }
          ],
          "histogram2d": [
           {
            "colorbar": {
             "outlinewidth": 0,
             "ticks": ""
            },
            "colorscale": [
             [
              0,
              "#0d0887"
             ],
             [
              0.1111111111111111,
              "#46039f"
             ],
             [
              0.2222222222222222,
              "#7201a8"
             ],
             [
              0.3333333333333333,
              "#9c179e"
             ],
             [
              0.4444444444444444,
              "#bd3786"
             ],
             [
              0.5555555555555556,
              "#d8576b"
             ],
             [
              0.6666666666666666,
              "#ed7953"
             ],
             [
              0.7777777777777778,
              "#fb9f3a"
             ],
             [
              0.8888888888888888,
              "#fdca26"
             ],
             [
              1,
              "#f0f921"
             ]
            ],
            "type": "histogram2d"
           }
          ],
          "histogram2dcontour": [
           {
            "colorbar": {
             "outlinewidth": 0,
             "ticks": ""
            },
            "colorscale": [
             [
              0,
              "#0d0887"
             ],
             [
              0.1111111111111111,
              "#46039f"
             ],
             [
              0.2222222222222222,
              "#7201a8"
             ],
             [
              0.3333333333333333,
              "#9c179e"
             ],
             [
              0.4444444444444444,
              "#bd3786"
             ],
             [
              0.5555555555555556,
              "#d8576b"
             ],
             [
              0.6666666666666666,
              "#ed7953"
             ],
             [
              0.7777777777777778,
              "#fb9f3a"
             ],
             [
              0.8888888888888888,
              "#fdca26"
             ],
             [
              1,
              "#f0f921"
             ]
            ],
            "type": "histogram2dcontour"
           }
          ],
          "mesh3d": [
           {
            "colorbar": {
             "outlinewidth": 0,
             "ticks": ""
            },
            "type": "mesh3d"
           }
          ],
          "parcoords": [
           {
            "line": {
             "colorbar": {
              "outlinewidth": 0,
              "ticks": ""
             }
            },
            "type": "parcoords"
           }
          ],
          "pie": [
           {
            "automargin": true,
            "type": "pie"
           }
          ],
          "scatter": [
           {
            "fillpattern": {
             "fillmode": "overlay",
             "size": 10,
             "solidity": 0.2
            },
            "type": "scatter"
           }
          ],
          "scatter3d": [
           {
            "line": {
             "colorbar": {
              "outlinewidth": 0,
              "ticks": ""
             }
            },
            "marker": {
             "colorbar": {
              "outlinewidth": 0,
              "ticks": ""
             }
            },
            "type": "scatter3d"
           }
          ],
          "scattercarpet": [
           {
            "marker": {
             "colorbar": {
              "outlinewidth": 0,
              "ticks": ""
             }
            },
            "type": "scattercarpet"
           }
          ],
          "scattergeo": [
           {
            "marker": {
             "colorbar": {
              "outlinewidth": 0,
              "ticks": ""
             }
            },
            "type": "scattergeo"
           }
          ],
          "scattergl": [
           {
            "marker": {
             "colorbar": {
              "outlinewidth": 0,
              "ticks": ""
             }
            },
            "type": "scattergl"
           }
          ],
          "scattermapbox": [
           {
            "marker": {
             "colorbar": {
              "outlinewidth": 0,
              "ticks": ""
             }
            },
            "type": "scattermapbox"
           }
          ],
          "scatterpolar": [
           {
            "marker": {
             "colorbar": {
              "outlinewidth": 0,
              "ticks": ""
             }
            },
            "type": "scatterpolar"
           }
          ],
          "scatterpolargl": [
           {
            "marker": {
             "colorbar": {
              "outlinewidth": 0,
              "ticks": ""
             }
            },
            "type": "scatterpolargl"
           }
          ],
          "scatterternary": [
           {
            "marker": {
             "colorbar": {
              "outlinewidth": 0,
              "ticks": ""
             }
            },
            "type": "scatterternary"
           }
          ],
          "surface": [
           {
            "colorbar": {
             "outlinewidth": 0,
             "ticks": ""
            },
            "colorscale": [
             [
              0,
              "#0d0887"
             ],
             [
              0.1111111111111111,
              "#46039f"
             ],
             [
              0.2222222222222222,
              "#7201a8"
             ],
             [
              0.3333333333333333,
              "#9c179e"
             ],
             [
              0.4444444444444444,
              "#bd3786"
             ],
             [
              0.5555555555555556,
              "#d8576b"
             ],
             [
              0.6666666666666666,
              "#ed7953"
             ],
             [
              0.7777777777777778,
              "#fb9f3a"
             ],
             [
              0.8888888888888888,
              "#fdca26"
             ],
             [
              1,
              "#f0f921"
             ]
            ],
            "type": "surface"
           }
          ],
          "table": [
           {
            "cells": {
             "fill": {
              "color": "#EBF0F8"
             },
             "line": {
              "color": "white"
             }
            },
            "header": {
             "fill": {
              "color": "#C8D4E3"
             },
             "line": {
              "color": "white"
             }
            },
            "type": "table"
           }
          ]
         },
         "layout": {
          "annotationdefaults": {
           "arrowcolor": "#2a3f5f",
           "arrowhead": 0,
           "arrowwidth": 1
          },
          "autotypenumbers": "strict",
          "coloraxis": {
           "colorbar": {
            "outlinewidth": 0,
            "ticks": ""
           }
          },
          "colorscale": {
           "diverging": [
            [
             0,
             "#8e0152"
            ],
            [
             0.1,
             "#c51b7d"
            ],
            [
             0.2,
             "#de77ae"
            ],
            [
             0.3,
             "#f1b6da"
            ],
            [
             0.4,
             "#fde0ef"
            ],
            [
             0.5,
             "#f7f7f7"
            ],
            [
             0.6,
             "#e6f5d0"
            ],
            [
             0.7,
             "#b8e186"
            ],
            [
             0.8,
             "#7fbc41"
            ],
            [
             0.9,
             "#4d9221"
            ],
            [
             1,
             "#276419"
            ]
           ],
           "sequential": [
            [
             0,
             "#0d0887"
            ],
            [
             0.1111111111111111,
             "#46039f"
            ],
            [
             0.2222222222222222,
             "#7201a8"
            ],
            [
             0.3333333333333333,
             "#9c179e"
            ],
            [
             0.4444444444444444,
             "#bd3786"
            ],
            [
             0.5555555555555556,
             "#d8576b"
            ],
            [
             0.6666666666666666,
             "#ed7953"
            ],
            [
             0.7777777777777778,
             "#fb9f3a"
            ],
            [
             0.8888888888888888,
             "#fdca26"
            ],
            [
             1,
             "#f0f921"
            ]
           ],
           "sequentialminus": [
            [
             0,
             "#0d0887"
            ],
            [
             0.1111111111111111,
             "#46039f"
            ],
            [
             0.2222222222222222,
             "#7201a8"
            ],
            [
             0.3333333333333333,
             "#9c179e"
            ],
            [
             0.4444444444444444,
             "#bd3786"
            ],
            [
             0.5555555555555556,
             "#d8576b"
            ],
            [
             0.6666666666666666,
             "#ed7953"
            ],
            [
             0.7777777777777778,
             "#fb9f3a"
            ],
            [
             0.8888888888888888,
             "#fdca26"
            ],
            [
             1,
             "#f0f921"
            ]
           ]
          },
          "colorway": [
           "#636efa",
           "#EF553B",
           "#00cc96",
           "#ab63fa",
           "#FFA15A",
           "#19d3f3",
           "#FF6692",
           "#B6E880",
           "#FF97FF",
           "#FECB52"
          ],
          "font": {
           "color": "#2a3f5f"
          },
          "geo": {
           "bgcolor": "white",
           "lakecolor": "white",
           "landcolor": "#E5ECF6",
           "showlakes": true,
           "showland": true,
           "subunitcolor": "white"
          },
          "hoverlabel": {
           "align": "left"
          },
          "hovermode": "closest",
          "mapbox": {
           "style": "light"
          },
          "paper_bgcolor": "white",
          "plot_bgcolor": "#E5ECF6",
          "polar": {
           "angularaxis": {
            "gridcolor": "white",
            "linecolor": "white",
            "ticks": ""
           },
           "bgcolor": "#E5ECF6",
           "radialaxis": {
            "gridcolor": "white",
            "linecolor": "white",
            "ticks": ""
           }
          },
          "scene": {
           "xaxis": {
            "backgroundcolor": "#E5ECF6",
            "gridcolor": "white",
            "gridwidth": 2,
            "linecolor": "white",
            "showbackground": true,
            "ticks": "",
            "zerolinecolor": "white"
           },
           "yaxis": {
            "backgroundcolor": "#E5ECF6",
            "gridcolor": "white",
            "gridwidth": 2,
            "linecolor": "white",
            "showbackground": true,
            "ticks": "",
            "zerolinecolor": "white"
           },
           "zaxis": {
            "backgroundcolor": "#E5ECF6",
            "gridcolor": "white",
            "gridwidth": 2,
            "linecolor": "white",
            "showbackground": true,
            "ticks": "",
            "zerolinecolor": "white"
           }
          },
          "shapedefaults": {
           "line": {
            "color": "#2a3f5f"
           }
          },
          "ternary": {
           "aaxis": {
            "gridcolor": "white",
            "linecolor": "white",
            "ticks": ""
           },
           "baxis": {
            "gridcolor": "white",
            "linecolor": "white",
            "ticks": ""
           },
           "bgcolor": "#E5ECF6",
           "caxis": {
            "gridcolor": "white",
            "linecolor": "white",
            "ticks": ""
           }
          },
          "title": {
           "x": 0.05
          },
          "xaxis": {
           "automargin": true,
           "gridcolor": "white",
           "linecolor": "white",
           "ticks": "",
           "title": {
            "standoff": 15
           },
           "zerolinecolor": "white",
           "zerolinewidth": 2
          },
          "yaxis": {
           "automargin": true,
           "gridcolor": "white",
           "linecolor": "white",
           "ticks": "",
           "title": {
            "standoff": 15
           },
           "zerolinecolor": "white",
           "zerolinewidth": 2
          }
         }
        },
        "width": 800,
        "xaxis": {
         "rangeslider": {
          "visible": true
         }
        },
        "yaxis": {
         "range": [
          50,
          80
         ]
        }
       }
      }
     },
     "metadata": {},
     "output_type": "display_data"
    },
    {
     "data": {
      "application/vnd.plotly.v1+json": {
       "config": {
        "plotlyServerURL": "https://plot.ly"
       },
       "data": [
        {
         "name": "Lý thuyết",
         "showlegend": true,
         "type": "scatter",
         "x": [
          0,
          1,
          2,
          4,
          5,
          6,
          7,
          8,
          9,
          10,
          11,
          12,
          13,
          14,
          15,
          16,
          17,
          18,
          19,
          20,
          21,
          22,
          23,
          24,
          25,
          26,
          27,
          28,
          29,
          30,
          31,
          32,
          34,
          35,
          36,
          37,
          38,
          39,
          40,
          41,
          42,
          43,
          44,
          45,
          46,
          47,
          48,
          49,
          50,
          51,
          52,
          53,
          54,
          55,
          56,
          57,
          58,
          59,
          60,
          61,
          62,
          63,
          64,
          65,
          66,
          67,
          68,
          69,
          70,
          71,
          72,
          73,
          74,
          75,
          76,
          77,
          78,
          79,
          80,
          81,
          82,
          83,
          84,
          85,
          86,
          87,
          88,
          89,
          90,
          91,
          92,
          93,
          94,
          95,
          96,
          97,
          98,
          99,
          100
         ],
         "y": [
          115.3532895135463,
          113.36983821898639,
          102.45075950116959,
          125.97570400136847,
          122.25367860580401,
          117.5116050769903,
          117.93015667135624,
          156.74202899236565,
          128.8590025303344,
          143.19297903696852,
          157.9965659898453,
          163.82118403137923,
          146.31855170383565,
          177.1112564561143,
          161.28312609380805,
          146.12334906219505,
          118.55625228474338,
          128.77879493669522,
          112.7871520111782,
          116.7310857541899,
          130.16792657126675,
          140.08822189425328,
          123.74605769185236,
          133.1513331012782,
          139.61931981668428,
          135.85836463616252,
          149.077323439678,
          155.8921019685891,
          138.33358779764544,
          112.06329414293694,
          135.4340341538859,
          133.7142974439164,
          134.99669473873305,
          101.41528434213252,
          131.75355278009351,
          155.57281760979262,
          129.30361846073404,
          122.6168197012011,
          138.02474099391662,
          147.87759996913582,
          160.28939332342662,
          137.7850053500917,
          133.493772782769,
          132.75213991152498,
          146.3129713192105,
          135.77520692012553,
          134.6757947815718,
          142.95688126024754,
          152.9352126592964,
          150.64655711365947,
          140.45742496794196,
          157.6764064423492,
          114.2154494519945,
          121.39663209025876,
          129.7482528610057,
          142.03217448691757,
          110.12985791094845,
          128.4805892895186,
          135.34666697604683,
          144.31064649355284,
          158.820393097094,
          152.38367617279033,
          149.91758781680824,
          155.15062894639576,
          145.49124393852108,
          154.3650217598974,
          116.03170166063808,
          134.42876783106078,
          139.17535559183278,
          138.85765601787412,
          136.0166247816907,
          145.5911853093959,
          148.44402905228765,
          152.7134985720486,
          139.2896540184931,
          143.41876959380915,
          145.06406530216427,
          138.71093990097856,
          147.51758559920052,
          134.3261828963191,
          130.89492416846272,
          129.61877732263892,
          139.54427531550323,
          144.83952840347897,
          150.91885039386582,
          142.6422509765751,
          106.40851243102456,
          109.34719298475305,
          124.91751050266683,
          122.85575912497161,
          140.43436952185095,
          143.16185362173272,
          140.80976259543544,
          149.3146903902544,
          140.62252941958812,
          156.09472741788386,
          141.61927864430032,
          139.94093637257143,
          133.66254186208448
         ]
        },
        {
         "name": "Thực tế",
         "showlegend": true,
         "type": "scatter",
         "x": [
          0,
          1,
          2,
          4,
          5,
          6,
          7,
          8,
          9,
          10,
          11,
          12,
          13,
          14,
          15,
          16,
          17,
          18,
          19,
          20,
          21,
          22,
          23,
          24,
          25,
          26,
          27,
          28,
          29,
          30,
          31,
          32,
          34,
          35,
          36,
          37,
          38,
          39,
          40,
          41,
          42,
          43,
          44,
          45,
          46,
          47,
          48,
          49,
          50,
          51,
          52,
          53,
          54,
          55,
          56,
          57,
          58,
          59,
          60,
          61,
          62,
          63,
          64,
          65,
          66,
          67,
          68,
          69,
          70,
          71,
          72,
          73,
          74,
          75,
          76,
          77,
          78,
          79,
          80,
          81,
          82,
          83,
          84,
          85,
          86,
          87,
          88,
          89,
          90,
          91,
          92,
          93,
          94,
          95,
          96,
          97,
          98,
          99,
          100
         ],
         "y": [
          97.5315,
          94.285,
          88.803,
          100.66125,
          95.716,
          96.5812,
          95.27866666666667,
          116.832,
          106.249,
          110.4545,
          117.258,
          111.19177777777777,
          96.42475,
          120.8205,
          118.44333333333333,
          107.32100000000001,
          101.11,
          107.55366666666667,
          92.00075,
          95.02799999999999,
          105.29766666666667,
          93.49199999999999,
          96.7135,
          103.94725,
          105.35566666666666,
          104.68275,
          92.193,
          99.334,
          105.762,
          95.221,
          104.441875,
          103.422,
          104.50200000000001,
          90.5705,
          107.34066666666666,
          110.31033333333333,
          100.14872727272727,
          102.492,
          105.80420000000001,
          107.30433333333333,
          122.10733333333333,
          108.16166666666668,
          101.7685,
          103.43933333333332,
          107.491375,
          105.94781818181818,
          105.90925,
          110.672125,
          113.45511111111111,
          97.85374999999999,
          104.86466666666666,
          104.24642857142858,
          95.4086,
          104.19500000000001,
          100.5195,
          104.2285,
          89.2075,
          100.79362499999999,
          103.076375,
          105.958,
          87.893,
          113.55514285714285,
          118.54675,
          122.348,
          112.478,
          104.089,
          93.743,
          102.41822222222223,
          104.43,
          105.19699999999999,
          106.41441666666667,
          112.50733333333334,
          111.75672727272728,
          114.76814285714285,
          108.20916666666666,
          109.04783333333334,
          114.759,
          108.9365,
          114.84,
          105.3560909090909,
          103.03528571428572,
          102.30972727272727,
          108.85581818181818,
          107.92125,
          108.12225,
          105.76608333333333,
          90.87349999999999,
          89.901,
          103.88355555555556,
          97.35666666666667,
          106.387,
          113.48557142857143,
          100.8005,
          106.39488888888889,
          106.8526,
          109.51033333333334,
          104.07783333333333,
          104.98649999999999,
          102.95758333333333
         ]
        }
       ],
       "layout": {
        "height": 600,
        "template": {
         "data": {
          "bar": [
           {
            "error_x": {
             "color": "#2a3f5f"
            },
            "error_y": {
             "color": "#2a3f5f"
            },
            "marker": {
             "line": {
              "color": "#E5ECF6",
              "width": 0.5
             },
             "pattern": {
              "fillmode": "overlay",
              "size": 10,
              "solidity": 0.2
             }
            },
            "type": "bar"
           }
          ],
          "barpolar": [
           {
            "marker": {
             "line": {
              "color": "#E5ECF6",
              "width": 0.5
             },
             "pattern": {
              "fillmode": "overlay",
              "size": 10,
              "solidity": 0.2
             }
            },
            "type": "barpolar"
           }
          ],
          "carpet": [
           {
            "aaxis": {
             "endlinecolor": "#2a3f5f",
             "gridcolor": "white",
             "linecolor": "white",
             "minorgridcolor": "white",
             "startlinecolor": "#2a3f5f"
            },
            "baxis": {
             "endlinecolor": "#2a3f5f",
             "gridcolor": "white",
             "linecolor": "white",
             "minorgridcolor": "white",
             "startlinecolor": "#2a3f5f"
            },
            "type": "carpet"
           }
          ],
          "choropleth": [
           {
            "colorbar": {
             "outlinewidth": 0,
             "ticks": ""
            },
            "type": "choropleth"
           }
          ],
          "contour": [
           {
            "colorbar": {
             "outlinewidth": 0,
             "ticks": ""
            },
            "colorscale": [
             [
              0,
              "#0d0887"
             ],
             [
              0.1111111111111111,
              "#46039f"
             ],
             [
              0.2222222222222222,
              "#7201a8"
             ],
             [
              0.3333333333333333,
              "#9c179e"
             ],
             [
              0.4444444444444444,
              "#bd3786"
             ],
             [
              0.5555555555555556,
              "#d8576b"
             ],
             [
              0.6666666666666666,
              "#ed7953"
             ],
             [
              0.7777777777777778,
              "#fb9f3a"
             ],
             [
              0.8888888888888888,
              "#fdca26"
             ],
             [
              1,
              "#f0f921"
             ]
            ],
            "type": "contour"
           }
          ],
          "contourcarpet": [
           {
            "colorbar": {
             "outlinewidth": 0,
             "ticks": ""
            },
            "type": "contourcarpet"
           }
          ],
          "heatmap": [
           {
            "colorbar": {
             "outlinewidth": 0,
             "ticks": ""
            },
            "colorscale": [
             [
              0,
              "#0d0887"
             ],
             [
              0.1111111111111111,
              "#46039f"
             ],
             [
              0.2222222222222222,
              "#7201a8"
             ],
             [
              0.3333333333333333,
              "#9c179e"
             ],
             [
              0.4444444444444444,
              "#bd3786"
             ],
             [
              0.5555555555555556,
              "#d8576b"
             ],
             [
              0.6666666666666666,
              "#ed7953"
             ],
             [
              0.7777777777777778,
              "#fb9f3a"
             ],
             [
              0.8888888888888888,
              "#fdca26"
             ],
             [
              1,
              "#f0f921"
             ]
            ],
            "type": "heatmap"
           }
          ],
          "heatmapgl": [
           {
            "colorbar": {
             "outlinewidth": 0,
             "ticks": ""
            },
            "colorscale": [
             [
              0,
              "#0d0887"
             ],
             [
              0.1111111111111111,
              "#46039f"
             ],
             [
              0.2222222222222222,
              "#7201a8"
             ],
             [
              0.3333333333333333,
              "#9c179e"
             ],
             [
              0.4444444444444444,
              "#bd3786"
             ],
             [
              0.5555555555555556,
              "#d8576b"
             ],
             [
              0.6666666666666666,
              "#ed7953"
             ],
             [
              0.7777777777777778,
              "#fb9f3a"
             ],
             [
              0.8888888888888888,
              "#fdca26"
             ],
             [
              1,
              "#f0f921"
             ]
            ],
            "type": "heatmapgl"
           }
          ],
          "histogram": [
           {
            "marker": {
             "pattern": {
              "fillmode": "overlay",
              "size": 10,
              "solidity": 0.2
             }
            },
            "type": "histogram"
           }
          ],
          "histogram2d": [
           {
            "colorbar": {
             "outlinewidth": 0,
             "ticks": ""
            },
            "colorscale": [
             [
              0,
              "#0d0887"
             ],
             [
              0.1111111111111111,
              "#46039f"
             ],
             [
              0.2222222222222222,
              "#7201a8"
             ],
             [
              0.3333333333333333,
              "#9c179e"
             ],
             [
              0.4444444444444444,
              "#bd3786"
             ],
             [
              0.5555555555555556,
              "#d8576b"
             ],
             [
              0.6666666666666666,
              "#ed7953"
             ],
             [
              0.7777777777777778,
              "#fb9f3a"
             ],
             [
              0.8888888888888888,
              "#fdca26"
             ],
             [
              1,
              "#f0f921"
             ]
            ],
            "type": "histogram2d"
           }
          ],
          "histogram2dcontour": [
           {
            "colorbar": {
             "outlinewidth": 0,
             "ticks": ""
            },
            "colorscale": [
             [
              0,
              "#0d0887"
             ],
             [
              0.1111111111111111,
              "#46039f"
             ],
             [
              0.2222222222222222,
              "#7201a8"
             ],
             [
              0.3333333333333333,
              "#9c179e"
             ],
             [
              0.4444444444444444,
              "#bd3786"
             ],
             [
              0.5555555555555556,
              "#d8576b"
             ],
             [
              0.6666666666666666,
              "#ed7953"
             ],
             [
              0.7777777777777778,
              "#fb9f3a"
             ],
             [
              0.8888888888888888,
              "#fdca26"
             ],
             [
              1,
              "#f0f921"
             ]
            ],
            "type": "histogram2dcontour"
           }
          ],
          "mesh3d": [
           {
            "colorbar": {
             "outlinewidth": 0,
             "ticks": ""
            },
            "type": "mesh3d"
           }
          ],
          "parcoords": [
           {
            "line": {
             "colorbar": {
              "outlinewidth": 0,
              "ticks": ""
             }
            },
            "type": "parcoords"
           }
          ],
          "pie": [
           {
            "automargin": true,
            "type": "pie"
           }
          ],
          "scatter": [
           {
            "fillpattern": {
             "fillmode": "overlay",
             "size": 10,
             "solidity": 0.2
            },
            "type": "scatter"
           }
          ],
          "scatter3d": [
           {
            "line": {
             "colorbar": {
              "outlinewidth": 0,
              "ticks": ""
             }
            },
            "marker": {
             "colorbar": {
              "outlinewidth": 0,
              "ticks": ""
             }
            },
            "type": "scatter3d"
           }
          ],
          "scattercarpet": [
           {
            "marker": {
             "colorbar": {
              "outlinewidth": 0,
              "ticks": ""
             }
            },
            "type": "scattercarpet"
           }
          ],
          "scattergeo": [
           {
            "marker": {
             "colorbar": {
              "outlinewidth": 0,
              "ticks": ""
             }
            },
            "type": "scattergeo"
           }
          ],
          "scattergl": [
           {
            "marker": {
             "colorbar": {
              "outlinewidth": 0,
              "ticks": ""
             }
            },
            "type": "scattergl"
           }
          ],
          "scattermapbox": [
           {
            "marker": {
             "colorbar": {
              "outlinewidth": 0,
              "ticks": ""
             }
            },
            "type": "scattermapbox"
           }
          ],
          "scatterpolar": [
           {
            "marker": {
             "colorbar": {
              "outlinewidth": 0,
              "ticks": ""
             }
            },
            "type": "scatterpolar"
           }
          ],
          "scatterpolargl": [
           {
            "marker": {
             "colorbar": {
              "outlinewidth": 0,
              "ticks": ""
             }
            },
            "type": "scatterpolargl"
           }
          ],
          "scatterternary": [
           {
            "marker": {
             "colorbar": {
              "outlinewidth": 0,
              "ticks": ""
             }
            },
            "type": "scatterternary"
           }
          ],
          "surface": [
           {
            "colorbar": {
             "outlinewidth": 0,
             "ticks": ""
            },
            "colorscale": [
             [
              0,
              "#0d0887"
             ],
             [
              0.1111111111111111,
              "#46039f"
             ],
             [
              0.2222222222222222,
              "#7201a8"
             ],
             [
              0.3333333333333333,
              "#9c179e"
             ],
             [
              0.4444444444444444,
              "#bd3786"
             ],
             [
              0.5555555555555556,
              "#d8576b"
             ],
             [
              0.6666666666666666,
              "#ed7953"
             ],
             [
              0.7777777777777778,
              "#fb9f3a"
             ],
             [
              0.8888888888888888,
              "#fdca26"
             ],
             [
              1,
              "#f0f921"
             ]
            ],
            "type": "surface"
           }
          ],
          "table": [
           {
            "cells": {
             "fill": {
              "color": "#EBF0F8"
             },
             "line": {
              "color": "white"
             }
            },
            "header": {
             "fill": {
              "color": "#C8D4E3"
             },
             "line": {
              "color": "white"
             }
            },
            "type": "table"
           }
          ]
         },
         "layout": {
          "annotationdefaults": {
           "arrowcolor": "#2a3f5f",
           "arrowhead": 0,
           "arrowwidth": 1
          },
          "autotypenumbers": "strict",
          "coloraxis": {
           "colorbar": {
            "outlinewidth": 0,
            "ticks": ""
           }
          },
          "colorscale": {
           "diverging": [
            [
             0,
             "#8e0152"
            ],
            [
             0.1,
             "#c51b7d"
            ],
            [
             0.2,
             "#de77ae"
            ],
            [
             0.3,
             "#f1b6da"
            ],
            [
             0.4,
             "#fde0ef"
            ],
            [
             0.5,
             "#f7f7f7"
            ],
            [
             0.6,
             "#e6f5d0"
            ],
            [
             0.7,
             "#b8e186"
            ],
            [
             0.8,
             "#7fbc41"
            ],
            [
             0.9,
             "#4d9221"
            ],
            [
             1,
             "#276419"
            ]
           ],
           "sequential": [
            [
             0,
             "#0d0887"
            ],
            [
             0.1111111111111111,
             "#46039f"
            ],
            [
             0.2222222222222222,
             "#7201a8"
            ],
            [
             0.3333333333333333,
             "#9c179e"
            ],
            [
             0.4444444444444444,
             "#bd3786"
            ],
            [
             0.5555555555555556,
             "#d8576b"
            ],
            [
             0.6666666666666666,
             "#ed7953"
            ],
            [
             0.7777777777777778,
             "#fb9f3a"
            ],
            [
             0.8888888888888888,
             "#fdca26"
            ],
            [
             1,
             "#f0f921"
            ]
           ],
           "sequentialminus": [
            [
             0,
             "#0d0887"
            ],
            [
             0.1111111111111111,
             "#46039f"
            ],
            [
             0.2222222222222222,
             "#7201a8"
            ],
            [
             0.3333333333333333,
             "#9c179e"
            ],
            [
             0.4444444444444444,
             "#bd3786"
            ],
            [
             0.5555555555555556,
             "#d8576b"
            ],
            [
             0.6666666666666666,
             "#ed7953"
            ],
            [
             0.7777777777777778,
             "#fb9f3a"
            ],
            [
             0.8888888888888888,
             "#fdca26"
            ],
            [
             1,
             "#f0f921"
            ]
           ]
          },
          "colorway": [
           "#636efa",
           "#EF553B",
           "#00cc96",
           "#ab63fa",
           "#FFA15A",
           "#19d3f3",
           "#FF6692",
           "#B6E880",
           "#FF97FF",
           "#FECB52"
          ],
          "font": {
           "color": "#2a3f5f"
          },
          "geo": {
           "bgcolor": "white",
           "lakecolor": "white",
           "landcolor": "#E5ECF6",
           "showlakes": true,
           "showland": true,
           "subunitcolor": "white"
          },
          "hoverlabel": {
           "align": "left"
          },
          "hovermode": "closest",
          "mapbox": {
           "style": "light"
          },
          "paper_bgcolor": "white",
          "plot_bgcolor": "#E5ECF6",
          "polar": {
           "angularaxis": {
            "gridcolor": "white",
            "linecolor": "white",
            "ticks": ""
           },
           "bgcolor": "#E5ECF6",
           "radialaxis": {
            "gridcolor": "white",
            "linecolor": "white",
            "ticks": ""
           }
          },
          "scene": {
           "xaxis": {
            "backgroundcolor": "#E5ECF6",
            "gridcolor": "white",
            "gridwidth": 2,
            "linecolor": "white",
            "showbackground": true,
            "ticks": "",
            "zerolinecolor": "white"
           },
           "yaxis": {
            "backgroundcolor": "#E5ECF6",
            "gridcolor": "white",
            "gridwidth": 2,
            "linecolor": "white",
            "showbackground": true,
            "ticks": "",
            "zerolinecolor": "white"
           },
           "zaxis": {
            "backgroundcolor": "#E5ECF6",
            "gridcolor": "white",
            "gridwidth": 2,
            "linecolor": "white",
            "showbackground": true,
            "ticks": "",
            "zerolinecolor": "white"
           }
          },
          "shapedefaults": {
           "line": {
            "color": "#2a3f5f"
           }
          },
          "ternary": {
           "aaxis": {
            "gridcolor": "white",
            "linecolor": "white",
            "ticks": ""
           },
           "baxis": {
            "gridcolor": "white",
            "linecolor": "white",
            "ticks": ""
           },
           "bgcolor": "#E5ECF6",
           "caxis": {
            "gridcolor": "white",
            "linecolor": "white",
            "ticks": ""
           }
          },
          "title": {
           "x": 0.05
          },
          "xaxis": {
           "automargin": true,
           "gridcolor": "white",
           "linecolor": "white",
           "ticks": "",
           "title": {
            "standoff": 15
           },
           "zerolinecolor": "white",
           "zerolinewidth": 2
          },
          "yaxis": {
           "automargin": true,
           "gridcolor": "white",
           "linecolor": "white",
           "ticks": "",
           "title": {
            "standoff": 15
           },
           "zerolinecolor": "white",
           "zerolinewidth": 2
          }
         }
        },
        "width": 800,
        "xaxis": {
         "title": {
          "text": "Thời gian"
         }
        },
        "yaxis": {
         "title": {
          "text": "Công suất (Kw)"
         }
        }
       }
      }
     },
     "metadata": {},
     "output_type": "display_data"
    }
   ],
   "source": [
    "df1=df.groupby(['month','date','hour'])[['Total input power(kW)','Ambient temperature(℃)','Irradiance(W/㎡)']].mean()\n",
    "df1=df1.reset_index()\n",
    "df1=df1[df1.groupby(['month','date'])['Irradiance(W/㎡)'].transform(max)==df1['Irradiance(W/㎡)']]\n",
    "df1=df1.reset_index()\n",
    "df1.loc[:,'Tcell']=pd.Series((df1['Ambient temperature(℃)']+df1['Irradiance(W/㎡)']/800*(25-20)), df1.index)\n",
    "df1.loc[:,'Pm']=pd.Series((2.172*1.303*220*2*590*df1['Irradiance(W/㎡)']/1000*(1+0.0045*(df1['Tcell']-25))*20.5/100000), df1.index)\n",
    "df1.loc[:,'Hieu suat']=pd.Series((df1['Total input power(kW)']/df1['Pm']*100), df1.index)\n",
    "df1=df1[df1['Hieu suat']<80]\n",
    "print(df1)\n",
    "fig = go.Figure()\n",
    "fig.add_trace(go.Scatter(\n",
    "    x=df1['date'],\n",
    "    y=df1['Hieu suat'],\n",
    "    name=\"Hiệu suất\"))\n",
    "fig . update_traces (\n",
    "    showlegend = True \n",
    "    )\n",
    "fig.update_xaxes(\n",
    "    rangeslider_visible=True,\n",
    ")\n",
    "fig.update_layout(height=600)\n",
    "fig.update_layout(width=800)\n",
    "fig.update_layout(yaxis_range=[50, 80])\n",
    "fig.show()\n",
    "fig5 = go.Figure()\n",
    "fig5.add_trace(go.Scatter(\n",
    "    x=df1.index,\n",
    "    y=df1['Pm'],\n",
    "    name=\"Lý thuyết\"))\n",
    "fig5.add_trace(go.Scatter(\n",
    "    x=df1.index,\n",
    "    y=df1['Total input power(kW)']+10,\n",
    "    name=\"Thực tế\"))\n",
    "fig5 . update_traces (\n",
    "    showlegend = True \n",
    "    )\n",
    "fig5.update_layout(\n",
    "    xaxis_title=\"Thời gian\",\n",
    "    yaxis_title=\"Công suất (Kw)\"\n",
    ")\n",
    "fig5.update_layout(height=600)\n",
    "fig5.update_layout(width=800)\n",
    "fig5.show()"
   ]
  },
  {
   "cell_type": "code",
   "execution_count": 18,
   "metadata": {},
   "outputs": [
    {
     "data": {
      "text/html": [
       "<div>\n",
       "<style scoped>\n",
       "    .dataframe tbody tr th:only-of-type {\n",
       "        vertical-align: middle;\n",
       "    }\n",
       "\n",
       "    .dataframe tbody tr th {\n",
       "        vertical-align: top;\n",
       "    }\n",
       "\n",
       "    .dataframe thead th {\n",
       "        text-align: right;\n",
       "    }\n",
       "</style>\n",
       "<table border=\"1\" class=\"dataframe\">\n",
       "  <thead>\n",
       "    <tr style=\"text-align: right;\">\n",
       "      <th></th>\n",
       "      <th>stt</th>\n",
       "      <th>Hieu suat</th>\n",
       "    </tr>\n",
       "  </thead>\n",
       "  <tbody>\n",
       "    <tr>\n",
       "      <th>0</th>\n",
       "      <td>0</td>\n",
       "      <td>75.881234</td>\n",
       "    </tr>\n",
       "    <tr>\n",
       "      <th>1</th>\n",
       "      <td>1</td>\n",
       "      <td>74.345171</td>\n",
       "    </tr>\n",
       "    <tr>\n",
       "      <th>2</th>\n",
       "      <td>2</td>\n",
       "      <td>76.917927</td>\n",
       "    </tr>\n",
       "    <tr>\n",
       "      <th>4</th>\n",
       "      <td>4</td>\n",
       "      <td>71.967250</td>\n",
       "    </tr>\n",
       "    <tr>\n",
       "      <th>5</th>\n",
       "      <td>5</td>\n",
       "      <td>70.113228</td>\n",
       "    </tr>\n",
       "  </tbody>\n",
       "</table>\n",
       "</div>"
      ],
      "text/plain": [
       "   stt  Hieu suat\n",
       "0    0  75.881234\n",
       "1    1  74.345171\n",
       "2    2  76.917927\n",
       "4    4  71.967250\n",
       "5    5  70.113228"
      ]
     },
     "execution_count": 18,
     "metadata": {},
     "output_type": "execute_result"
    }
   ],
   "source": [
    "df1['stt']=df1.index\n",
    "df_binary = df1[['stt', 'Hieu suat']] \n",
    "  \n",
    "# Taking only the selected two attributes from the dataset \n",
    "df_binary.columns = ['stt', 'Hieu suat'] \n",
    "  \n",
    "# Renaming the columns for easier writing of the code \n",
    "df_binary.head() \n",
    "  \n",
    "# Displaying only the 1st  rows along with the column names "
   ]
  },
  {
   "cell_type": "code",
   "execution_count": 19,
   "metadata": {},
   "outputs": [
    {
     "name": "stdout",
     "output_type": "stream",
     "text": [
      "-0.02041659152494346\n"
     ]
    },
    {
     "name": "stderr",
     "output_type": "stream",
     "text": [
      "C:\\Users\\badao\\AppData\\Local\\Temp\\ipykernel_22808\\3909986184.py:3: SettingWithCopyWarning:\n",
      "\n",
      "\n",
      "A value is trying to be set on a copy of a slice from a DataFrame\n",
      "\n",
      "See the caveats in the documentation: https://pandas.pydata.org/pandas-docs/stable/user_guide/indexing.html#returning-a-view-versus-a-copy\n",
      "\n",
      "C:\\Users\\badao\\AppData\\Local\\Temp\\ipykernel_22808\\3909986184.py:10: SettingWithCopyWarning:\n",
      "\n",
      "\n",
      "A value is trying to be set on a copy of a slice from a DataFrame\n",
      "\n",
      "See the caveats in the documentation: https://pandas.pydata.org/pandas-docs/stable/user_guide/indexing.html#returning-a-view-versus-a-copy\n",
      "\n"
     ]
    },
    {
     "data": {
      "image/png": "[encoded data removed]",
      "text/plain": [
       "<Figure size 500x500 with 1 Axes>"
      ]
     },
     "metadata": {},
     "output_type": "display_data"
    }
   ],
   "source": [
    "sns.lmplot(x =\"stt\", y =\"Hieu suat\", data = df_binary, order = 2, ci = None)\n",
    "# Eliminating NaN or missing input numbers \n",
    "df_binary.fillna(method ='ffill', inplace = True)\n",
    "X = np.array(df_binary['stt']).reshape(-1, 1) \n",
    "y = np.array(df_binary['Hieu suat']).reshape(-1, 1) \n",
    "  \n",
    "# Separating the data into independent and dependent variables \n",
    "# Converting each dataframe into a numpy array  \n",
    "# since each dataframe contains only one column \n",
    "df_binary.dropna(inplace = True) \n",
    "  \n",
    "# Dropping any rows with Nan values \n",
    "X_train, X_test, y_train, y_test = train_test_split(X, y, test_size = 0.25) \n",
    "  \n",
    "# Splitting the data into training and testing data \n",
    "regr = LinearRegression() \n",
    "  \n",
    "regr.fit(X_train, y_train) \n",
    "print(regr.score(X_test, y_test))"
   ]
  },
  {
   "cell_type": "code",
   "execution_count": 20,
   "metadata": {},
   "outputs": [
    {
     "data": {
      "image/png": "[encoded data removed]",
      "text/plain": [
       "<Figure size 640x480 with 1 Axes>"
      ]
     },
     "metadata": {},
     "output_type": "display_data"
    }
   ],
   "source": [
    "y_pred = regr.predict(X_test) \n",
    "plt.scatter(X_test, y_test, color ='b') \n",
    "plt.plot(X_test, y_pred, color ='k') \n",
    "  \n",
    "plt.show() "
   ]
  },
  {
   "cell_type": "code",
   "execution_count": 21,
   "metadata": {},
   "outputs": [
    {
     "data": {
      "text/plain": [
       "<seaborn.axisgrid.FacetGrid at 0x2143cffb350>"
      ]
     },
     "execution_count": 21,
     "metadata": {},
     "output_type": "execute_result"
    },
    {
     "data": {
      "image/png": "[encoded data removed]",
      "text/plain": [
       "<Figure size 500x500 with 1 Axes>"
      ]
     },
     "metadata": {},
     "output_type": "display_data"
    }
   ],
   "source": [
    "df_binary1 = df_binary[:][:70]\n",
    "  \n",
    "# Selecting the 1st 500 rows of the data \n",
    "sns.lmplot(x =\"stt\", y =\"Hieu suat\", data = df_binary1, \n",
    "                               order = 2, ci = None)"
   ]
  },
  {
   "cell_type": "code",
   "execution_count": 22,
   "metadata": {},
   "outputs": [
    {
     "name": "stdout",
     "output_type": "stream",
     "text": [
      "-0.022977321079161506\n"
     ]
    }
   ],
   "source": [
    "df_binary1.fillna(method ='ffill', inplace = True) \n",
    "  \n",
    "X = np.array(df_binary1['stt']).reshape(-1, 1) \n",
    "y = np.array(df_binary1['Hieu suat']).reshape(-1, 1) \n",
    "  \n",
    "df_binary1.dropna(inplace = True) \n",
    "X_train, X_test, y_train, y_test = train_test_split(X, y, test_size = 0.25) \n",
    "  \n",
    "regr = LinearRegression() \n",
    "regr.fit(X_train, y_train) \n",
    "print(regr.score(X_test, y_test))"
   ]
  },
  {
   "cell_type": "code",
   "execution_count": 23,
   "metadata": {},
   "outputs": [
    {
     "data": {
      "image/png": "[encoded data removed]",
      "text/plain": [
       "<Figure size 640x480 with 1 Axes>"
      ]
     },
     "metadata": {},
     "output_type": "display_data"
    }
   ],
   "source": [
    "y_pred = regr.predict(X_test) \n",
    "plt.scatter(X_test, y_test, color ='b') \n",
    "plt.plot(X_test, y_pred, color ='k') \n",
    "  \n",
    "plt.show() "
   ]
  },
  {
   "cell_type": "code",
   "execution_count": 24,
   "metadata": {},
   "outputs": [
    {
     "data": {
      "text/plain": [
       "<seaborn.axisgrid.FacetGrid at 0x2143d0dc510>"
      ]
     },
     "execution_count": 24,
     "metadata": {},
     "output_type": "execute_result"
    },
    {
     "data": {
      "image/png": "[encoded data removed]",
      "text/plain": [
       "<Figure size 500x500 with 1 Axes>"
      ]
     },
     "metadata": {},
     "output_type": "display_data"
    }
   ],
   "source": [
    "df_binary2 = df_binary[:][70:142]\n",
    "  \n",
    "# Selecting the 1st 500 rows of the data \n",
    "sns.lmplot(x =\"stt\", y =\"Hieu suat\", data = df_binary2, \n",
    "                               order = 2, ci = None)"
   ]
  },
  {
   "cell_type": "code",
   "execution_count": 25,
   "metadata": {},
   "outputs": [
    {
     "name": "stdout",
     "output_type": "stream",
     "text": [
      "-0.2697144635356705\n"
     ]
    }
   ],
   "source": [
    "df_binary2.fillna(method ='ffill', inplace = True) \n",
    "  \n",
    "X = np.array(df_binary2['stt']).reshape(-1, 1) \n",
    "y = np.array(df_binary2['Hieu suat']).reshape(-1, 1) \n",
    "  \n",
    "df_binary2.dropna(inplace = True) \n",
    "X_train, X_test, y_train, y_test = train_test_split(X, y, test_size = 0.25) \n",
    "  \n",
    "regr = LinearRegression() \n",
    "regr.fit(X_train, y_train) \n",
    "print(regr.score(X_test, y_test))"
   ]
  },
  {
   "cell_type": "code",
   "execution_count": 26,
   "metadata": {},
   "outputs": [
    {
     "data": {
      "image/png": "[encoded data removed]",
      "text/plain": [
       "<Figure size 640x480 with 1 Axes>"
      ]
     },
     "metadata": {},
     "output_type": "display_data"
    }
   ],
   "source": [
    "y_pred = regr.predict(X_test) \n",
    "plt.scatter(X_test, y_test, color ='b') \n",
    "plt.plot(X_test, y_pred, color ='k') \n",
    "  \n",
    "plt.show() "
   ]
  }
 ],
 "metadata": {
  "kernelspec": {
   "display_name": "Python 3",
   "language": "python",
   "name": "python3"
  },
  "language_info": {
   "codemirror_mode": {
    "name": "ipython",
    "version": 3
   },
   "file_extension": ".py",
   "mimetype": "text/x-python",
   "name": "python",
   "nbconvert_exporter": "python",
   "pygments_lexer": "ipython3",
   "version": "3.11.2"
  },
  "orig_nbformat": 4
 },
 "nbformat": 4,
 "nbformat_minor": 2
}
