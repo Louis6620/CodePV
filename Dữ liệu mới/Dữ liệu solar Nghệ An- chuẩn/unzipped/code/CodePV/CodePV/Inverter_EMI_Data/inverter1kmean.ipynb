{
 "cells": [
  {
   "cell_type": "code",
   "execution_count": 1,
   "metadata": {},
   "outputs": [],
   "source": [
    "import numpy as np # linear algebra\n",
    "import pandas as pd # data processing, CSV file I/O (e.g. pd.read_csv)\n",
    "import matplotlib.pyplot as plt\n",
    "import seaborn as sns\n",
    "from scipy.stats import stats\n",
    "from datetime import datetime\n",
    "dateparse = lambda x: datetime.strptime(x, '%m/%d/%Y %H:%M')\n",
    "import plotly.express as px\n",
    "import plotly.graph_objects as go\n",
    "from sklearn.cluster import KMeans\n",
    "import kmeans1d\n",
    "from sklearn import preprocessing, svm \n",
    "from sklearn.model_selection import train_test_split \n",
    "from sklearn.linear_model import LinearRegression "
   ]
  },
  {
   "cell_type": "code",
   "execution_count": 2,
   "metadata": {},
   "outputs": [],
   "source": [
    "df = pd.read_csv('./inv1_emi_data_t345678.csv',\n",
    "                encoding=\"utf-8-sig\",\n",
    "                header=0,\n",
    "                infer_datetime_format=True,\n",
    "                parse_dates={'datetime':[5]},\n",
    "                index_col=['datetime']\n",
    "                )"
   ]
  },
  {
   "cell_type": "code",
   "execution_count": 3,
   "metadata": {},
   "outputs": [
    {
     "data": {
      "text/html": [
       "<div>\n",
       "<style scoped>\n",
       "    .dataframe tbody tr th:only-of-type {\n",
       "        vertical-align: middle;\n",
       "    }\n",
       "\n",
       "    .dataframe tbody tr th {\n",
       "        vertical-align: top;\n",
       "    }\n",
       "\n",
       "    .dataframe thead th {\n",
       "        text-align: right;\n",
       "    }\n",
       "</style>\n",
       "<table border=\"1\" class=\"dataframe\">\n",
       "  <thead>\n",
       "    <tr style=\"text-align: right;\">\n",
       "      <th></th>\n",
       "      <th>Unnamed: 0.1</th>\n",
       "      <th>Unnamed: 0</th>\n",
       "      <th>Site Name</th>\n",
       "      <th>Management Domain</th>\n",
       "      <th>ManageObject_x</th>\n",
       "      <th>Ambient temperature(℃)</th>\n",
       "      <th>PV Temperature(℃)</th>\n",
       "      <th>Wind speed(m/s)</th>\n",
       "      <th>Wind direction(°)</th>\n",
       "      <th>Daily irradiation(MJ/㎡)</th>\n",
       "      <th>...</th>\n",
       "      <th>day</th>\n",
       "      <th>hour</th>\n",
       "      <th>dayofweek</th>\n",
       "      <th>dayname</th>\n",
       "      <th>hourofweek</th>\n",
       "      <th>hourofmonth</th>\n",
       "      <th>Tcell</th>\n",
       "      <th>Pm</th>\n",
       "      <th>Hieu suat</th>\n",
       "      <th>date</th>\n",
       "    </tr>\n",
       "    <tr>\n",
       "      <th>datetime</th>\n",
       "      <th></th>\n",
       "      <th></th>\n",
       "      <th></th>\n",
       "      <th></th>\n",
       "      <th></th>\n",
       "      <th></th>\n",
       "      <th></th>\n",
       "      <th></th>\n",
       "      <th></th>\n",
       "      <th></th>\n",
       "      <th></th>\n",
       "      <th></th>\n",
       "      <th></th>\n",
       "      <th></th>\n",
       "      <th></th>\n",
       "      <th></th>\n",
       "      <th></th>\n",
       "      <th></th>\n",
       "      <th></th>\n",
       "      <th></th>\n",
       "      <th></th>\n",
       "    </tr>\n",
       "  </thead>\n",
       "  <tbody>\n",
       "    <tr>\n",
       "      <th>2022-03-04 10:20:00</th>\n",
       "      <td>104</td>\n",
       "      <td>104</td>\n",
       "      <td>VNM - Đà Nẵng - Nhà Máy</td>\n",
       "      <td>/BCG Energy</td>\n",
       "      <td>1020C0058922/EM001020C0058922</td>\n",
       "      <td>29.4</td>\n",
       "      <td>41.2</td>\n",
       "      <td>1.4</td>\n",
       "      <td>NaN</td>\n",
       "      <td>4.039</td>\n",
       "      <td>...</td>\n",
       "      <td>4</td>\n",
       "      <td>10</td>\n",
       "      <td>4</td>\n",
       "      <td>Friday</td>\n",
       "      <td>106</td>\n",
       "      <td>82</td>\n",
       "      <td>33.389375</td>\n",
       "      <td>99765.707730</td>\n",
       "      <td>87.514039</td>\n",
       "      <td>2022-03-04</td>\n",
       "    </tr>\n",
       "    <tr>\n",
       "      <th>2022-03-04 10:25:00</th>\n",
       "      <td>105</td>\n",
       "      <td>105</td>\n",
       "      <td>VNM - Đà Nẵng - Nhà Máy</td>\n",
       "      <td>/BCG Energy</td>\n",
       "      <td>1020C0058922/EM001020C0058922</td>\n",
       "      <td>29.3</td>\n",
       "      <td>42.0</td>\n",
       "      <td>2.4</td>\n",
       "      <td>NaN</td>\n",
       "      <td>4.252</td>\n",
       "      <td>...</td>\n",
       "      <td>4</td>\n",
       "      <td>10</td>\n",
       "      <td>4</td>\n",
       "      <td>Friday</td>\n",
       "      <td>106</td>\n",
       "      <td>82</td>\n",
       "      <td>34.078750</td>\n",
       "      <td>119863.526665</td>\n",
       "      <td>74.654069</td>\n",
       "      <td>2022-03-04</td>\n",
       "    </tr>\n",
       "    <tr>\n",
       "      <th>2022-03-04 10:30:00</th>\n",
       "      <td>106</td>\n",
       "      <td>106</td>\n",
       "      <td>VNM - Đà Nẵng - Nhà Máy</td>\n",
       "      <td>/BCG Energy</td>\n",
       "      <td>1020C0058922/EM001020C0058922</td>\n",
       "      <td>29.3</td>\n",
       "      <td>42.9</td>\n",
       "      <td>4.5</td>\n",
       "      <td>NaN</td>\n",
       "      <td>4.197</td>\n",
       "      <td>...</td>\n",
       "      <td>4</td>\n",
       "      <td>10</td>\n",
       "      <td>4</td>\n",
       "      <td>Friday</td>\n",
       "      <td>106</td>\n",
       "      <td>82</td>\n",
       "      <td>34.449375</td>\n",
       "      <td>129366.728410</td>\n",
       "      <td>70.359668</td>\n",
       "      <td>2022-03-04</td>\n",
       "    </tr>\n",
       "    <tr>\n",
       "      <th>2022-03-04 10:35:00</th>\n",
       "      <td>107</td>\n",
       "      <td>107</td>\n",
       "      <td>VNM - Đà Nẵng - Nhà Máy</td>\n",
       "      <td>/BCG Energy</td>\n",
       "      <td>1020C0058922/EM001020C0058922</td>\n",
       "      <td>29.7</td>\n",
       "      <td>44.7</td>\n",
       "      <td>0.8</td>\n",
       "      <td>NaN</td>\n",
       "      <td>4.444</td>\n",
       "      <td>...</td>\n",
       "      <td>4</td>\n",
       "      <td>10</td>\n",
       "      <td>4</td>\n",
       "      <td>Friday</td>\n",
       "      <td>106</td>\n",
       "      <td>82</td>\n",
       "      <td>34.868125</td>\n",
       "      <td>130072.464747</td>\n",
       "      <td>69.792635</td>\n",
       "      <td>2022-03-04</td>\n",
       "    </tr>\n",
       "    <tr>\n",
       "      <th>2022-03-04 10:40:00</th>\n",
       "      <td>108</td>\n",
       "      <td>108</td>\n",
       "      <td>VNM - Đà Nẵng - Nhà Máy</td>\n",
       "      <td>/BCG Energy</td>\n",
       "      <td>1020C0058922/EM001020C0058922</td>\n",
       "      <td>29.7</td>\n",
       "      <td>45.6</td>\n",
       "      <td>2.0</td>\n",
       "      <td>NaN</td>\n",
       "      <td>4.692</td>\n",
       "      <td>...</td>\n",
       "      <td>4</td>\n",
       "      <td>10</td>\n",
       "      <td>4</td>\n",
       "      <td>Friday</td>\n",
       "      <td>106</td>\n",
       "      <td>82</td>\n",
       "      <td>34.773750</td>\n",
       "      <td>127645.289181</td>\n",
       "      <td>70.346505</td>\n",
       "      <td>2022-03-04</td>\n",
       "    </tr>\n",
       "  </tbody>\n",
       "</table>\n",
       "<p>5 rows × 102 columns</p>\n",
       "</div>"
      ],
      "text/plain": [
       "                     Unnamed: 0.1  Unnamed: 0                Site Name  \\\n",
       "datetime                                                                 \n",
       "2022-03-04 10:20:00           104         104  VNM - Đà Nẵng - Nhà Máy   \n",
       "2022-03-04 10:25:00           105         105  VNM - Đà Nẵng - Nhà Máy   \n",
       "2022-03-04 10:30:00           106         106  VNM - Đà Nẵng - Nhà Máy   \n",
       "2022-03-04 10:35:00           107         107  VNM - Đà Nẵng - Nhà Máy   \n",
       "2022-03-04 10:40:00           108         108  VNM - Đà Nẵng - Nhà Máy   \n",
       "\n",
       "                    Management Domain                 ManageObject_x  \\\n",
       "datetime                                                               \n",
       "2022-03-04 10:20:00       /BCG Energy  1020C0058922/EM001020C0058922   \n",
       "2022-03-04 10:25:00       /BCG Energy  1020C0058922/EM001020C0058922   \n",
       "2022-03-04 10:30:00       /BCG Energy  1020C0058922/EM001020C0058922   \n",
       "2022-03-04 10:35:00       /BCG Energy  1020C0058922/EM001020C0058922   \n",
       "2022-03-04 10:40:00       /BCG Energy  1020C0058922/EM001020C0058922   \n",
       "\n",
       "                     Ambient temperature(℃)  PV Temperature(℃)  \\\n",
       "datetime                                                         \n",
       "2022-03-04 10:20:00                    29.4               41.2   \n",
       "2022-03-04 10:25:00                    29.3               42.0   \n",
       "2022-03-04 10:30:00                    29.3               42.9   \n",
       "2022-03-04 10:35:00                    29.7               44.7   \n",
       "2022-03-04 10:40:00                    29.7               45.6   \n",
       "\n",
       "                     Wind speed(m/s)  Wind direction(°)  \\\n",
       "datetime                                                  \n",
       "2022-03-04 10:20:00              1.4                NaN   \n",
       "2022-03-04 10:25:00              2.4                NaN   \n",
       "2022-03-04 10:30:00              4.5                NaN   \n",
       "2022-03-04 10:35:00              0.8                NaN   \n",
       "2022-03-04 10:40:00              2.0                NaN   \n",
       "\n",
       "                     Daily irradiation(MJ/㎡)  ...  day hour dayofweek dayname  \\\n",
       "datetime                                      ...                               \n",
       "2022-03-04 10:20:00                    4.039  ...    4   10         4  Friday   \n",
       "2022-03-04 10:25:00                    4.252  ...    4   10         4  Friday   \n",
       "2022-03-04 10:30:00                    4.197  ...    4   10         4  Friday   \n",
       "2022-03-04 10:35:00                    4.444  ...    4   10         4  Friday   \n",
       "2022-03-04 10:40:00                    4.692  ...    4   10         4  Friday   \n",
       "\n",
       "                     hourofweek  hourofmonth      Tcell             Pm  \\\n",
       "datetime                                                                 \n",
       "2022-03-04 10:20:00         106           82  33.389375   99765.707730   \n",
       "2022-03-04 10:25:00         106           82  34.078750  119863.526665   \n",
       "2022-03-04 10:30:00         106           82  34.449375  129366.728410   \n",
       "2022-03-04 10:35:00         106           82  34.868125  130072.464747   \n",
       "2022-03-04 10:40:00         106           82  34.773750  127645.289181   \n",
       "\n",
       "                     Hieu suat        date  \n",
       "datetime                                    \n",
       "2022-03-04 10:20:00  87.514039  2022-03-04  \n",
       "2022-03-04 10:25:00  74.654069  2022-03-04  \n",
       "2022-03-04 10:30:00  70.359668  2022-03-04  \n",
       "2022-03-04 10:35:00  69.792635  2022-03-04  \n",
       "2022-03-04 10:40:00  70.346505  2022-03-04  \n",
       "\n",
       "[5 rows x 102 columns]"
      ]
     },
     "execution_count": 3,
     "metadata": {},
     "output_type": "execute_result"
    }
   ],
   "source": [
    "df['time'] = df.index\n",
    "df.loc[:,'year'] = pd.Series(df.index.year, df.index)\n",
    "df.loc[:,'month'] = pd.Series(df.index.month, df.index)\n",
    "df.loc[:,'day'] = pd.Series(df.index.day, df.index)\n",
    "df.loc[:,'hour'] = pd.Series(df.index.hour, df.index)\n",
    "df.loc[:,'dayofweek'] = pd.Series(df.index.dayofweek, df.index)\n",
    "df.loc[:,'dayname'] = pd.Series(df.index.day_name(), df.index)\n",
    "df.loc[:,'hourofweek'] = pd.Series((df.hour+24*df.dayofweek), df.index)\n",
    "df.loc[:,'hourofmonth'] = pd.Series((df.hour+24*(df.day-1)), df.index)\n",
    "df.loc[:,'Tcell']=pd.Series((df['Ambient temperature(℃)']+df['Irradiance(W/㎡)']/800*(25-20)), df.index)\n",
    "df.loc[:,'Pm']=pd.Series((2.172*1.303*220*2*590*df['Irradiance(W/㎡)']/1000*(1+0.0045*(df['Tcell']-25))*20.5/100), df.index)\n",
    "df.loc[:,'Hieu suat']=pd.Series((df['Total input power(kW)']*1000/df['Pm']*100), df.index)\n",
    "df.loc[:,'date'] = pd.Series(df.index.date, df.index)\n",
    "df=df[df['Ambient temperature(℃)']>6]\n",
    "df=df[df['Irradiance(W/㎡)']>300]\n",
    "df=df[df['Total input power(kW)']>76]\n",
    "df=df[df['Hieu suat']<100]\n",
    "df.head()"
   ]
  },
  {
   "cell_type": "code",
   "execution_count": 4,
   "metadata": {},
   "outputs": [],
   "source": [
    "ngay=[1]\n",
    "dem=1\n",
    "i=1\n",
    "while i!=len(df['time']):\n",
    "    if (df['day'][i]!=df['day'][i-1]):\n",
    "        dem=dem+1\n",
    "    ngay.append(dem)\n",
    "    i=i+1"
   ]
  },
  {
   "cell_type": "code",
   "execution_count": 5,
   "metadata": {},
   "outputs": [],
   "source": [
    "def find_most_frequent(arr):\n",
    "    counts = {}\n",
    "    max_count = 0\n",
    "    max_item = None\n",
    "    for item in arr:\n",
    "        if item not in counts:\n",
    "            counts[item] = 1\n",
    "        else:\n",
    "            counts[item] += 1\n",
    "        if counts[item] > max_count:\n",
    "            max_count = counts[item]\n",
    "            max_item = item\n",
    "    return max_item"
   ]
  },
  {
   "cell_type": "code",
   "execution_count": 6,
   "metadata": {},
   "outputs": [
    {
     "data": {
      "application/vnd.plotly.v1+json": {
       "config": {
        "plotlyServerURL": "https://plot.ly"
       },
       "data": [
        {
         "hovertemplate": "x=%{x}<br>y=%{y}<extra></extra>",
         "legendgroup": "",
         "line": {
          "color": "#636efa",
          "dash": "solid"
         },
         "marker": {
          "symbol": "circle"
         },
         "mode": "lines",
         "name": "",
         "orientation": "v",
         "showlegend": false,
         "type": "scatter",
         "x": [
          0,
          1,
          2,
          3,
          4,
          5,
          6,
          7,
          8,
          9,
          10,
          11,
          12,
          13,
          14,
          15,
          16,
          17,
          18,
          19,
          20,
          21,
          22,
          23,
          24,
          25,
          26,
          27,
          28,
          29,
          30,
          31,
          32,
          33,
          34,
          35,
          36,
          37,
          38,
          39,
          40,
          41,
          42,
          43,
          44,
          45,
          46,
          47,
          48,
          49,
          50,
          51,
          52,
          53,
          54,
          55,
          56,
          57,
          58,
          59,
          60,
          61,
          62,
          63,
          64,
          65,
          66,
          67,
          68,
          69,
          70,
          71,
          72,
          73,
          74,
          75,
          76,
          77,
          78,
          79,
          80,
          81,
          82,
          83,
          84,
          85,
          86,
          87,
          88,
          89,
          90,
          91,
          92,
          93,
          94,
          95,
          96,
          97,
          98,
          99,
          100,
          101,
          102,
          103,
          104,
          105,
          106,
          107,
          108,
          109,
          110,
          111,
          112,
          113,
          114,
          115,
          116,
          117,
          118,
          119,
          120,
          121,
          122,
          123,
          124,
          125,
          126,
          127,
          128,
          129,
          130,
          131,
          132,
          133,
          134,
          135,
          136,
          137,
          138,
          139,
          140
         ],
         "xaxis": "x",
         "y": [
          69.04753551239196,
          74.46719400168953,
          66.58741828963312,
          67.60333404635124,
          70.76168551974425,
          66.87704122770904,
          66.75750182343965,
          73.37902335563322,
          72.66751009885871,
          70.46214933294861,
          71.36571178770478,
          76.66716887413068,
          88.26747196570062,
          70.58090995342538,
          71.43489336397626,
          70.52426715602573,
          69.99393442722919,
          74.74558881109962,
          74.46280860560098,
          71.38361580383621,
          70.32911930964146,
          68.06676609716499,
          70.20250462216075,
          69.64316326110824,
          68.23880711195993,
          67.16916374796853,
          68.55770793705886,
          66.88101420190918,
          66.44223855786684,
          66.70610591163476,
          65.60574913086747,
          65.43744676545431,
          65.2345495735569,
          66.4971286144569,
          64.45975151165844,
          72.54561491120093,
          72.32425691834852,
          73.73348503060124,
          73.28795503760819,
          68.02669407421371,
          68.32602187947869,
          72.04931386619837,
          72.08066202006144,
          65.77931948181008,
          71.64457710454062,
          63.34880281568727,
          73.74958432117269,
          66.06499595431846,
          71.87825490181548,
          71.45164193215423,
          68.52473730351636,
          66.80100221717191,
          71.26035287280261,
          67.12959332126393,
          70.772993696518,
          68.20347192225215,
          71.5204471468858,
          66.00584971465685,
          68.86061334448738,
          66.32228565625343,
          64.16438825525134,
          64.49490328538107,
          66.00403875028057,
          64.43354180313457,
          65.64796566288119,
          65.76809898322279,
          65.80669394483226,
          65.41041141159529,
          63.82312807152163,
          64.65206191526019,
          63.472317913310086,
          64.14307075995164,
          65.22959940317641,
          60.639935279656754,
          66.37313956919002,
          64.3001494131037,
          64.7004242234152,
          63.52496262764038,
          64.28631505746938,
          69.65452249257672,
          63.760727047438735,
          63.76422520471456,
          62.10306888997205,
          61.912866993101005,
          60.56126054535362,
          61.16290490986414,
          63.07116269757461,
          65.15724234084696,
          65.49946808393842,
          66.576432037041,
          62.62461282352398,
          64.31033852165483,
          60.979215076751245,
          63.02298348330231,
          64.30498068964926,
          66.45638299802525,
          64.19613260469347,
          64.75061536768145,
          62.59437446651805,
          65.44006528362243,
          64.18827110558748,
          64.34527951127214,
          64.24292153399409,
          65.01420574229378,
          66.57528165652317,
          66.02188292932765,
          64.73776128774192,
          63.335619845787605,
          64.08612984281953,
          63.733067993993366,
          69.01542978316337,
          68.29154800513497,
          66.24103135402278,
          64.19815358120869,
          64.38099522066175,
          64.47934839278082,
          64.57041491698189,
          64.62138734547095,
          64.71542064599824,
          65.52479498063059,
          62.99340366537884,
          63.143731920608104,
          65.95365756686206,
          63.82685495984073,
          64.61646583383319,
          63.76830021932899,
          62.42829575555891,
          67.38824615781213,
          66.92315462629543,
          67.17534233050434,
          62.91297621733708,
          64.49921770570141,
          64.3082680071788,
          63.76767364046861,
          62.89760371831481,
          63.525240047055554,
          63.87158922383796,
          62.180566316099075,
          64.13584832700725,
          63.956604581602996,
          66.87941501421392
         ],
         "yaxis": "y"
        }
       ],
       "layout": {
        "legend": {
         "tracegroupgap": 0
        },
        "margin": {
         "t": 60
        },
        "template": {
         "data": {
          "bar": [
           {
            "error_x": {
             "color": "#2a3f5f"
            },
            "error_y": {
             "color": "#2a3f5f"
            },
            "marker": {
             "line": {
              "color": "#E5ECF6",
              "width": 0.5
             },
             "pattern": {
              "fillmode": "overlay",
              "size": 10,
              "solidity": 0.2
             }
            },
            "type": "bar"
           }
          ],
          "barpolar": [
           {
            "marker": {
             "line": {
              "color": "#E5ECF6",
              "width": 0.5
             },
             "pattern": {
              "fillmode": "overlay",
              "size": 10,
              "solidity": 0.2
             }
            },
            "type": "barpolar"
           }
          ],
          "carpet": [
           {
            "aaxis": {
             "endlinecolor": "#2a3f5f",
             "gridcolor": "white",
             "linecolor": "white",
             "minorgridcolor": "white",
             "startlinecolor": "#2a3f5f"
            },
            "baxis": {
             "endlinecolor": "#2a3f5f",
             "gridcolor": "white",
             "linecolor": "white",
             "minorgridcolor": "white",
             "startlinecolor": "#2a3f5f"
            },
            "type": "carpet"
           }
          ],
          "choropleth": [
           {
            "colorbar": {
             "outlinewidth": 0,
             "ticks": ""
            },
            "type": "choropleth"
           }
          ],
          "contour": [
           {
            "colorbar": {
             "outlinewidth": 0,
             "ticks": ""
            },
            "colorscale": [
             [
              0,
              "#0d0887"
             ],
             [
              0.1111111111111111,
              "#46039f"
             ],
             [
              0.2222222222222222,
              "#7201a8"
             ],
             [
              0.3333333333333333,
              "#9c179e"
             ],
             [
              0.4444444444444444,
              "#bd3786"
             ],
             [
              0.5555555555555556,
              "#d8576b"
             ],
             [
              0.6666666666666666,
              "#ed7953"
             ],
             [
              0.7777777777777778,
              "#fb9f3a"
             ],
             [
              0.8888888888888888,
              "#fdca26"
             ],
             [
              1,
              "#f0f921"
             ]
            ],
            "type": "contour"
           }
          ],
          "contourcarpet": [
           {
            "colorbar": {
             "outlinewidth": 0,
             "ticks": ""
            },
            "type": "contourcarpet"
           }
          ],
          "heatmap": [
           {
            "colorbar": {
             "outlinewidth": 0,
             "ticks": ""
            },
            "colorscale": [
             [
              0,
              "#0d0887"
             ],
             [
              0.1111111111111111,
              "#46039f"
             ],
             [
              0.2222222222222222,
              "#7201a8"
             ],
             [
              0.3333333333333333,
              "#9c179e"
             ],
             [
              0.4444444444444444,
              "#bd3786"
             ],
             [
              0.5555555555555556,
              "#d8576b"
             ],
             [
              0.6666666666666666,
              "#ed7953"
             ],
             [
              0.7777777777777778,
              "#fb9f3a"
             ],
             [
              0.8888888888888888,
              "#fdca26"
             ],
             [
              1,
              "#f0f921"
             ]
            ],
            "type": "heatmap"
           }
          ],
          "heatmapgl": [
           {
            "colorbar": {
             "outlinewidth": 0,
             "ticks": ""
            },
            "colorscale": [
             [
              0,
              "#0d0887"
             ],
             [
              0.1111111111111111,
              "#46039f"
             ],
             [
              0.2222222222222222,
              "#7201a8"
             ],
             [
              0.3333333333333333,
              "#9c179e"
             ],
             [
              0.4444444444444444,
              "#bd3786"
             ],
             [
              0.5555555555555556,
              "#d8576b"
             ],
             [
              0.6666666666666666,
              "#ed7953"
             ],
             [
              0.7777777777777778,
              "#fb9f3a"
             ],
             [
              0.8888888888888888,
              "#fdca26"
             ],
             [
              1,
              "#f0f921"
             ]
            ],
            "type": "heatmapgl"
           }
          ],
          "histogram": [
           {
            "marker": {
             "pattern": {
              "fillmode": "overlay",
              "size": 10,
              "solidity": 0.2
             }
            },
            "type": "histogram"
           }
          ],
          "histogram2d": [
           {
            "colorbar": {
             "outlinewidth": 0,
             "ticks": ""
            },
            "colorscale": [
             [
              0,
              "#0d0887"
             ],
             [
              0.1111111111111111,
              "#46039f"
             ],
             [
              0.2222222222222222,
              "#7201a8"
             ],
             [
              0.3333333333333333,
              "#9c179e"
             ],
             [
              0.4444444444444444,
              "#bd3786"
             ],
             [
              0.5555555555555556,
              "#d8576b"
             ],
             [
              0.6666666666666666,
              "#ed7953"
             ],
             [
              0.7777777777777778,
              "#fb9f3a"
             ],
             [
              0.8888888888888888,
              "#fdca26"
             ],
             [
              1,
              "#f0f921"
             ]
            ],
            "type": "histogram2d"
           }
          ],
          "histogram2dcontour": [
           {
            "colorbar": {
             "outlinewidth": 0,
             "ticks": ""
            },
            "colorscale": [
             [
              0,
              "#0d0887"
             ],
             [
              0.1111111111111111,
              "#46039f"
             ],
             [
              0.2222222222222222,
              "#7201a8"
             ],
             [
              0.3333333333333333,
              "#9c179e"
             ],
             [
              0.4444444444444444,
              "#bd3786"
             ],
             [
              0.5555555555555556,
              "#d8576b"
             ],
             [
              0.6666666666666666,
              "#ed7953"
             ],
             [
              0.7777777777777778,
              "#fb9f3a"
             ],
             [
              0.8888888888888888,
              "#fdca26"
             ],
             [
              1,
              "#f0f921"
             ]
            ],
            "type": "histogram2dcontour"
           }
          ],
          "mesh3d": [
           {
            "colorbar": {
             "outlinewidth": 0,
             "ticks": ""
            },
            "type": "mesh3d"
           }
          ],
          "parcoords": [
           {
            "line": {
             "colorbar": {
              "outlinewidth": 0,
              "ticks": ""
             }
            },
            "type": "parcoords"
           }
          ],
          "pie": [
           {
            "automargin": true,
            "type": "pie"
           }
          ],
          "scatter": [
           {
            "fillpattern": {
             "fillmode": "overlay",
             "size": 10,
             "solidity": 0.2
            },
            "type": "scatter"
           }
          ],
          "scatter3d": [
           {
            "line": {
             "colorbar": {
              "outlinewidth": 0,
              "ticks": ""
             }
            },
            "marker": {
             "colorbar": {
              "outlinewidth": 0,
              "ticks": ""
             }
            },
            "type": "scatter3d"
           }
          ],
          "scattercarpet": [
           {
            "marker": {
             "colorbar": {
              "outlinewidth": 0,
              "ticks": ""
             }
            },
            "type": "scattercarpet"
           }
          ],
          "scattergeo": [
           {
            "marker": {
             "colorbar": {
              "outlinewidth": 0,
              "ticks": ""
             }
            },
            "type": "scattergeo"
           }
          ],
          "scattergl": [
           {
            "marker": {
             "colorbar": {
              "outlinewidth": 0,
              "ticks": ""
             }
            },
            "type": "scattergl"
           }
          ],
          "scattermapbox": [
           {
            "marker": {
             "colorbar": {
              "outlinewidth": 0,
              "ticks": ""
             }
            },
            "type": "scattermapbox"
           }
          ],
          "scatterpolar": [
           {
            "marker": {
             "colorbar": {
              "outlinewidth": 0,
              "ticks": ""
             }
            },
            "type": "scatterpolar"
           }
          ],
          "scatterpolargl": [
           {
            "marker": {
             "colorbar": {
              "outlinewidth": 0,
              "ticks": ""
             }
            },
            "type": "scatterpolargl"
           }
          ],
          "scatterternary": [
           {
            "marker": {
             "colorbar": {
              "outlinewidth": 0,
              "ticks": ""
             }
            },
            "type": "scatterternary"
           }
          ],
          "surface": [
           {
            "colorbar": {
             "outlinewidth": 0,
             "ticks": ""
            },
            "colorscale": [
             [
              0,
              "#0d0887"
             ],
             [
              0.1111111111111111,
              "#46039f"
             ],
             [
              0.2222222222222222,
              "#7201a8"
             ],
             [
              0.3333333333333333,
              "#9c179e"
             ],
             [
              0.4444444444444444,
              "#bd3786"
             ],
             [
              0.5555555555555556,
              "#d8576b"
             ],
             [
              0.6666666666666666,
              "#ed7953"
             ],
             [
              0.7777777777777778,
              "#fb9f3a"
             ],
             [
              0.8888888888888888,
              "#fdca26"
             ],
             [
              1,
              "#f0f921"
             ]
            ],
            "type": "surface"
           }
          ],
          "table": [
           {
            "cells": {
             "fill": {
              "color": "#EBF0F8"
             },
             "line": {
              "color": "white"
             }
            },
            "header": {
             "fill": {
              "color": "#C8D4E3"
             },
             "line": {
              "color": "white"
             }
            },
            "type": "table"
           }
          ]
         },
         "layout": {
          "annotationdefaults": {
           "arrowcolor": "#2a3f5f",
           "arrowhead": 0,
           "arrowwidth": 1
          },
          "autotypenumbers": "strict",
          "coloraxis": {
           "colorbar": {
            "outlinewidth": 0,
            "ticks": ""
           }
          },
          "colorscale": {
           "diverging": [
            [
             0,
             "#8e0152"
            ],
            [
             0.1,
             "#c51b7d"
            ],
            [
             0.2,
             "#de77ae"
            ],
            [
             0.3,
             "#f1b6da"
            ],
            [
             0.4,
             "#fde0ef"
            ],
            [
             0.5,
             "#f7f7f7"
            ],
            [
             0.6,
             "#e6f5d0"
            ],
            [
             0.7,
             "#b8e186"
            ],
            [
             0.8,
             "#7fbc41"
            ],
            [
             0.9,
             "#4d9221"
            ],
            [
             1,
             "#276419"
            ]
           ],
           "sequential": [
            [
             0,
             "#0d0887"
            ],
            [
             0.1111111111111111,
             "#46039f"
            ],
            [
             0.2222222222222222,
             "#7201a8"
            ],
            [
             0.3333333333333333,
             "#9c179e"
            ],
            [
             0.4444444444444444,
             "#bd3786"
            ],
            [
             0.5555555555555556,
             "#d8576b"
            ],
            [
             0.6666666666666666,
             "#ed7953"
            ],
            [
             0.7777777777777778,
             "#fb9f3a"
            ],
            [
             0.8888888888888888,
             "#fdca26"
            ],
            [
             1,
             "#f0f921"
            ]
           ],
           "sequentialminus": [
            [
             0,
             "#0d0887"
            ],
            [
             0.1111111111111111,
             "#46039f"
            ],
            [
             0.2222222222222222,
             "#7201a8"
            ],
            [
             0.3333333333333333,
             "#9c179e"
            ],
            [
             0.4444444444444444,
             "#bd3786"
            ],
            [
             0.5555555555555556,
             "#d8576b"
            ],
            [
             0.6666666666666666,
             "#ed7953"
            ],
            [
             0.7777777777777778,
             "#fb9f3a"
            ],
            [
             0.8888888888888888,
             "#fdca26"
            ],
            [
             1,
             "#f0f921"
            ]
           ]
          },
          "colorway": [
           "#636efa",
           "#EF553B",
           "#00cc96",
           "#ab63fa",
           "#FFA15A",
           "#19d3f3",
           "#FF6692",
           "#B6E880",
           "#FF97FF",
           "#FECB52"
          ],
          "font": {
           "color": "#2a3f5f"
          },
          "geo": {
           "bgcolor": "white",
           "lakecolor": "white",
           "landcolor": "#E5ECF6",
           "showlakes": true,
           "showland": true,
           "subunitcolor": "white"
          },
          "hoverlabel": {
           "align": "left"
          },
          "hovermode": "closest",
          "mapbox": {
           "style": "light"
          },
          "paper_bgcolor": "white",
          "plot_bgcolor": "#E5ECF6",
          "polar": {
           "angularaxis": {
            "gridcolor": "white",
            "linecolor": "white",
            "ticks": ""
           },
           "bgcolor": "#E5ECF6",
           "radialaxis": {
            "gridcolor": "white",
            "linecolor": "white",
            "ticks": ""
           }
          },
          "scene": {
           "xaxis": {
            "backgroundcolor": "#E5ECF6",
            "gridcolor": "white",
            "gridwidth": 2,
            "linecolor": "white",
            "showbackground": true,
            "ticks": "",
            "zerolinecolor": "white"
           },
           "yaxis": {
            "backgroundcolor": "#E5ECF6",
            "gridcolor": "white",
            "gridwidth": 2,
            "linecolor": "white",
            "showbackground": true,
            "ticks": "",
            "zerolinecolor": "white"
           },
           "zaxis": {
            "backgroundcolor": "#E5ECF6",
            "gridcolor": "white",
            "gridwidth": 2,
            "linecolor": "white",
            "showbackground": true,
            "ticks": "",
            "zerolinecolor": "white"
           }
          },
          "shapedefaults": {
           "line": {
            "color": "#2a3f5f"
           }
          },
          "ternary": {
           "aaxis": {
            "gridcolor": "white",
            "linecolor": "white",
            "ticks": ""
           },
           "baxis": {
            "gridcolor": "white",
            "linecolor": "white",
            "ticks": ""
           },
           "bgcolor": "#E5ECF6",
           "caxis": {
            "gridcolor": "white",
            "linecolor": "white",
            "ticks": ""
           }
          },
          "title": {
           "x": 0.05
          },
          "xaxis": {
           "automargin": true,
           "gridcolor": "white",
           "linecolor": "white",
           "ticks": "",
           "title": {
            "standoff": 15
           },
           "zerolinecolor": "white",
           "zerolinewidth": 2
          },
          "yaxis": {
           "automargin": true,
           "gridcolor": "white",
           "linecolor": "white",
           "ticks": "",
           "title": {
            "standoff": 15
           },
           "zerolinecolor": "white",
           "zerolinewidth": 2
          }
         }
        },
        "xaxis": {
         "anchor": "y",
         "domain": [
          0,
          1
         ],
         "title": {
          "text": "x"
         }
        },
        "yaxis": {
         "anchor": "x",
         "domain": [
          0,
          1
         ],
         "title": {
          "text": "y"
         }
        }
       }
      }
     },
     "metadata": {},
     "output_type": "display_data"
    }
   ],
   "source": [
    "hieusuattb=[]\n",
    "i=1\n",
    "while i<=dem:\n",
    "    hieusuat=df['Hieu suat'].tolist()\n",
    "    df1=pd.DataFrame({'Hieu suat':hieusuat})\n",
    "    df1['ngay']=ngay\n",
    "    df1=df1[df1['ngay']==i]\n",
    "    arr=df1['Hieu suat'].tolist()\n",
    "    k=len(arr)//2\n",
    "    if k==0:\n",
    "        k=1\n",
    "    kclusters, centroids = kmeans1d.cluster(arr,k)\n",
    "    a=find_most_frequent(kclusters)\n",
    "    hieusuattb.append(centroids[a])\n",
    "    i=i+1\n",
    "fig = px.line(df, x=list(range(0,len(hieusuattb))), y=hieusuattb)\n",
    "fig.show()\n",
    "\n"
   ]
  },
  {
   "cell_type": "code",
   "execution_count": 7,
   "metadata": {},
   "outputs": [
    {
     "name": "stdout",
     "output_type": "stream",
     "text": [
      "     Hieu suat  stt\n",
      "0    69.047536    0\n",
      "1    74.467194    1\n",
      "2    66.587418    2\n",
      "3    67.603334    3\n",
      "4    70.761686    4\n",
      "..         ...  ...\n",
      "136  63.871589  136\n",
      "137  62.180566  137\n",
      "138  64.135848  138\n",
      "139  63.956605  139\n",
      "140  66.879415  140\n",
      "\n",
      "[141 rows x 2 columns]\n"
     ]
    }
   ],
   "source": [
    "df_binary=pd.DataFrame({'Hieu suat':hieusuattb})\n",
    "df_binary=df_binary[df_binary['Hieu suat']>60]\n",
    "df_binary['stt']=df_binary.index\n",
    "print(df_binary)\n"
   ]
  },
  {
   "cell_type": "code",
   "execution_count": 8,
   "metadata": {},
   "outputs": [
    {
     "name": "stdout",
     "output_type": "stream",
     "text": [
      "0.4243244664246898\n"
     ]
    },
    {
     "data": {
      "image/png": "[encoded data removed]",
      "text/plain": [
       "<Figure size 500x500 with 1 Axes>"
      ]
     },
     "metadata": {},
     "output_type": "display_data"
    }
   ],
   "source": [
    "sns.lmplot(x =\"stt\", y =\"Hieu suat\", data = df_binary, order = 2, ci = None)\n",
    "# Eliminating NaN or missing input numbers \n",
    "df_binary.fillna(method ='ffill', inplace = True)\n",
    "X = np.array(df_binary['stt']).reshape(-1, 1) \n",
    "y = np.array(df_binary['Hieu suat']).reshape(-1, 1) \n",
    "  \n",
    "# Separating the data into independent and dependent variables \n",
    "# Converting each dataframe into a numpy array  \n",
    "# since each dataframe contains only one column \n",
    "df_binary.dropna(inplace = True) \n",
    "  \n",
    "# Dropping any rows with Nan values \n",
    "X_train, X_test, y_train, y_test = train_test_split(X, y, test_size = 0.25) \n",
    "  \n",
    "# Splitting the data into training and testing data \n",
    "regr = LinearRegression() \n",
    "  \n",
    "regr.fit(X_train, y_train) \n",
    "print(regr.score(X_test, y_test))"
   ]
  },
  {
   "cell_type": "code",
   "execution_count": 9,
   "metadata": {},
   "outputs": [
    {
     "data": {
      "image/png": "[encoded data removed]",
      "text/plain": [
       "<Figure size 640x480 with 1 Axes>"
      ]
     },
     "metadata": {},
     "output_type": "display_data"
    }
   ],
   "source": [
    "y_pred = regr.predict(X_test) \n",
    "plt.scatter(X_test, y_test, color ='b') \n",
    "plt.plot(X_test, y_pred, color ='k') \n",
    "  \n",
    "plt.show() "
   ]
  },
  {
   "cell_type": "code",
   "execution_count": 10,
   "metadata": {},
   "outputs": [
    {
     "data": {
      "text/plain": [
       "<seaborn.axisgrid.FacetGrid at 0x25e72ae80a0>"
      ]
     },
     "execution_count": 10,
     "metadata": {},
     "output_type": "execute_result"
    },
    {
     "data": {
      "image/png": "[encoded data removed]",
      "text/plain": [
       "<Figure size 500x500 with 1 Axes>"
      ]
     },
     "metadata": {},
     "output_type": "display_data"
    }
   ],
   "source": [
    "df_binary1 = df_binary[:][:70]\n",
    "  \n",
    "# Selecting the 1st 500 rows of the data \n",
    "sns.lmplot(x =\"stt\", y =\"Hieu suat\", data = df_binary1, \n",
    "                               order = 2, ci = None)"
   ]
  },
  {
   "cell_type": "code",
   "execution_count": 11,
   "metadata": {},
   "outputs": [
    {
     "name": "stdout",
     "output_type": "stream",
     "text": [
      "0.3197344352811692\n"
     ]
    }
   ],
   "source": [
    "df_binary1.fillna(method ='ffill', inplace = True) \n",
    "  \n",
    "X = np.array(df_binary1['stt']).reshape(-1, 1) \n",
    "y = np.array(df_binary1['Hieu suat']).reshape(-1, 1) \n",
    "  \n",
    "df_binary1.dropna(inplace = True) \n",
    "X_train, X_test, y_train, y_test = train_test_split(X, y, test_size = 0.25) \n",
    "  \n",
    "regr = LinearRegression() \n",
    "regr.fit(X_train, y_train) \n",
    "print(regr.score(X_test, y_test))"
   ]
  },
  {
   "cell_type": "code",
   "execution_count": 12,
   "metadata": {},
   "outputs": [
    {
     "data": {
      "image/png": "[encoded data removed]",
      "text/plain": [
       "<Figure size 640x480 with 1 Axes>"
      ]
     },
     "metadata": {},
     "output_type": "display_data"
    }
   ],
   "source": [
    "y_pred = regr.predict(X_test) \n",
    "plt.scatter(X_test, y_test, color ='b') \n",
    "plt.plot(X_test, y_pred, color ='k') \n",
    "  \n",
    "plt.show() "
   ]
  },
  {
   "cell_type": "code",
   "execution_count": 13,
   "metadata": {},
   "outputs": [
    {
     "data": {
      "text/plain": [
       "<seaborn.axisgrid.FacetGrid at 0x25e72cba680>"
      ]
     },
     "execution_count": 13,
     "metadata": {},
     "output_type": "execute_result"
    },
    {
     "data": {
      "image/png": "[encoded data removed]",
      "text/plain": [
       "<Figure size 500x500 with 1 Axes>"
      ]
     },
     "metadata": {},
     "output_type": "display_data"
    }
   ],
   "source": [
    "df_binary2 = df_binary[:][70:142]\n",
    "  \n",
    "# Selecting the 1st 500 rows of the data \n",
    "sns.lmplot(x =\"stt\", y =\"Hieu suat\", data = df_binary2, \n",
    "                               order = 2, ci = None)"
   ]
  },
  {
   "cell_type": "code",
   "execution_count": 14,
   "metadata": {},
   "outputs": [
    {
     "name": "stdout",
     "output_type": "stream",
     "text": [
      "-0.08247349333499732\n"
     ]
    }
   ],
   "source": [
    "df_binary2.fillna(method ='ffill', inplace = True) \n",
    "  \n",
    "X = np.array(df_binary2['stt']).reshape(-1, 1) \n",
    "y = np.array(df_binary2['Hieu suat']).reshape(-1, 1) \n",
    "  \n",
    "df_binary2.dropna(inplace = True) \n",
    "X_train, X_test, y_train, y_test = train_test_split(X, y, test_size = 0.25) \n",
    "  \n",
    "regr = LinearRegression() \n",
    "regr.fit(X_train, y_train) \n",
    "print(regr.score(X_test, y_test))"
   ]
  },
  {
   "cell_type": "code",
   "execution_count": 15,
   "metadata": {},
   "outputs": [
    {
     "data": {
      "image/png": "[encoded data removed]",
      "text/plain": [
       "<Figure size 640x480 with 1 Axes>"
      ]
     },
     "metadata": {},
     "output_type": "display_data"
    }
   ],
   "source": [
    "y_pred = regr.predict(X_test) \n",
    "plt.scatter(X_test, y_test, color ='b') \n",
    "plt.plot(X_test, y_pred, color ='k') \n",
    "  \n",
    "plt.show() "
   ]
  }
 ],
 "metadata": {
  "kernelspec": {
   "display_name": ".venv",
   "language": "python",
   "name": "python3"
  },
  "language_info": {
   "codemirror_mode": {
    "name": "ipython",
    "version": 3
   },
   "file_extension": ".py",
   "mimetype": "text/x-python",
   "name": "python",
   "nbconvert_exporter": "python",
   "pygments_lexer": "ipython3",
   "version": "3.10.11"
  },
  "orig_nbformat": 4,
  "vscode": {
   "interpreter": {
    "hash": "1caf4c6e0ce1a72d0aecf3c6075121046f4822bd3242e96633cd6287669e6d08"
   }
  }
 },
 "nbformat": 4,
 "nbformat_minor": 2
}
