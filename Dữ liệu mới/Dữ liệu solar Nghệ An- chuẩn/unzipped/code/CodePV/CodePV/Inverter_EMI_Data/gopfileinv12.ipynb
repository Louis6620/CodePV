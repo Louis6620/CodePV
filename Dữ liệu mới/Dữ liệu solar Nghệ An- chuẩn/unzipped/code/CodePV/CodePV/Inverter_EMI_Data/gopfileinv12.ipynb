{
 "cells": [
  {
   "cell_type": "code",
   "execution_count": 1,
   "metadata": {},
   "outputs": [],
   "source": [
    "import numpy as np\n",
    "import pandas as pd \n",
    "import matplotlib.pyplot as plt\n",
    "import seaborn as sns\n",
    "from scipy.stats import stats\n",
    "from datetime import datetime\n",
    "dateparse = lambda x: datetime.strptime(x, '%m/%d/%Y %H:%M')\n",
    "import plotly.express as px\n",
    "import plotly.graph_objects as go\n",
    "import glob\n",
    "import os"
   ]
  },
  {
   "cell_type": "code",
   "execution_count": 2,
   "metadata": {},
   "outputs": [
    {
     "name": "stdout",
     "output_type": "stream",
     "text": [
      "\n"
     ]
    }
   ],
   "source": [
    "path = \"C:/python/project/CodePV/Inverter_EMI_Data\"\n",
    "file_list = glob.glob(path + \"/inv2_emi_data_t*.xlsx\")\n",
    "\n",
    "excl_list = []\n",
    "\n",
    "for file in file_list:\n",
    "    excl_list.append(pd.read_excel(file))\n",
    "\n",
    "excl_merged = pd.concat(excl_list, ignore_index=True)\n",
    "\n",
    "excl_merged.to_csv('C:/python/project/CodePV/Inverter_EMI_Data/inv2_emi_data_t345678.csv')\n",
    "print()\n"
   ]
  },
  {
   "cell_type": "code",
   "execution_count": 3,
   "metadata": {},
   "outputs": [
    {
     "name": "stdout",
     "output_type": "stream",
     "text": [
      "\n"
     ]
    }
   ],
   "source": [
    "path = \"C:/python/project/CodePV/Inverter_EMI_Data\"\n",
    "file_list = glob.glob(path + \"/inv1_emi_data_t*.xlsx\")\n",
    "\n",
    "excl_list = []\n",
    "\n",
    "for file in file_list:\n",
    "    excl_list.append(pd.read_excel(file))\n",
    "\n",
    "excl_merged = pd.concat(excl_list, ignore_index=True)\n",
    "\n",
    "excl_merged.to_csv('C:/python/project/CodePV/Inverter_EMI_Data/inv1_emi_data_t345678.csv')\n",
    "print()"
   ]
  }
 ],
 "metadata": {
  "kernelspec": {
   "display_name": ".venv",
   "language": "python",
   "name": "python3"
  },
  "language_info": {
   "codemirror_mode": {
    "name": "ipython",
    "version": 3
   },
   "file_extension": ".py",
   "mimetype": "text/x-python",
   "name": "python",
   "nbconvert_exporter": "python",
   "pygments_lexer": "ipython3",
   "version": "3.10.11"
  },
  "orig_nbformat": 4
 },
 "nbformat": 4,
 "nbformat_minor": 2
}
