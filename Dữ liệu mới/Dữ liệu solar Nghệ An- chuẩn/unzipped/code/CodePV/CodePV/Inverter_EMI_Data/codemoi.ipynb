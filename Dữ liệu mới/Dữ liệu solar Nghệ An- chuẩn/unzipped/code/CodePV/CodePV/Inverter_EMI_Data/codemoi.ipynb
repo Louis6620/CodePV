{
 "cells": [
  {
   "cell_type": "code",
   "execution_count": 22,
   "metadata": {},
   "outputs": [],
   "source": [
    "import numpy as np # linear algebra\n",
    "import pandas as pd # data processing, CSV file I/O (e.g. pd.read_csv)\n",
    "import matplotlib.pyplot as plt\n",
    "import seaborn as sns\n",
    "from scipy.stats import stats\n",
    "from datetime import datetime\n",
    "dateparse = lambda x: datetime.strptime(x, '%m/%d/%Y %H:%M')\n",
    "import plotly.express as px\n",
    "import plotly.graph_objects as go\n",
    "from mpl_toolkits import mplot3d\n",
    "from sklearn import preprocessing, svm \n",
    "from sklearn.model_selection import train_test_split \n",
    "from sklearn.linear_model import LinearRegression \n",
    "import random\n",
    "import plotly.subplots as sp\n",
    "from scipy.interpolate import interp1d\n",
    "from scipy.optimize import curve_fit\n",
    "from sklearn.metrics import r2_score"
   ]
  },
  {
   "cell_type": "code",
   "execution_count": 23,
   "metadata": {},
   "outputs": [
    {
     "name": "stderr",
     "output_type": "stream",
     "text": [
      "C:\\Users\\ADMIN\\AppData\\Local\\Temp\\ipykernel_3696\\1480485237.py:1: FutureWarning:\n",
      "\n",
      "The argument 'infer_datetime_format' is deprecated and will be removed in a future version. A strict version of it is now the default, see https://pandas.pydata.org/pdeps/0004-consistent-to-datetime-parsing.html. You can safely remove this argument.\n",
      "\n"
     ]
    }
   ],
   "source": [
    "df = pd.read_csv('./inv3_emi_data_t345678.csv',\n",
    "                encoding=\"utf-8-sig\",\n",
    "                header=0,\n",
    "                infer_datetime_format=True,\n",
    "                parse_dates={'datetime':[5]},\n",
    "                index_col=['datetime']\n",
    "                )"
   ]
  },
  {
   "cell_type": "code",
   "execution_count": 24,
   "metadata": {},
   "outputs": [
    {
     "data": {
      "text/html": [
       "<div>\n",
       "<style scoped>\n",
       "    .dataframe tbody tr th:only-of-type {\n",
       "        vertical-align: middle;\n",
       "    }\n",
       "\n",
       "    .dataframe tbody tr th {\n",
       "        vertical-align: top;\n",
       "    }\n",
       "\n",
       "    .dataframe thead th {\n",
       "        text-align: right;\n",
       "    }\n",
       "</style>\n",
       "<table border=\"1\" class=\"dataframe\">\n",
       "  <thead>\n",
       "    <tr style=\"text-align: right;\">\n",
       "      <th></th>\n",
       "      <th>Unnamed: 0.1</th>\n",
       "      <th>Unnamed: 0</th>\n",
       "      <th>Site Name</th>\n",
       "      <th>Management Domain</th>\n",
       "      <th>ManageObject_x</th>\n",
       "      <th>Ambient temperature(℃)</th>\n",
       "      <th>PV Temperature(℃)</th>\n",
       "      <th>Wind speed(m/s)</th>\n",
       "      <th>Wind direction(°)</th>\n",
       "      <th>Daily irradiation(MJ/㎡)</th>\n",
       "      <th>...</th>\n",
       "      <th>dayofweek</th>\n",
       "      <th>dayname</th>\n",
       "      <th>hourofweek</th>\n",
       "      <th>hourofmonth</th>\n",
       "      <th>date</th>\n",
       "      <th>date_ordinal</th>\n",
       "      <th>ngay</th>\n",
       "      <th>Tcell</th>\n",
       "      <th>Pm</th>\n",
       "      <th>Hieu suat</th>\n",
       "    </tr>\n",
       "    <tr>\n",
       "      <th>datetime</th>\n",
       "      <th></th>\n",
       "      <th></th>\n",
       "      <th></th>\n",
       "      <th></th>\n",
       "      <th></th>\n",
       "      <th></th>\n",
       "      <th></th>\n",
       "      <th></th>\n",
       "      <th></th>\n",
       "      <th></th>\n",
       "      <th></th>\n",
       "      <th></th>\n",
       "      <th></th>\n",
       "      <th></th>\n",
       "      <th></th>\n",
       "      <th></th>\n",
       "      <th></th>\n",
       "      <th></th>\n",
       "      <th></th>\n",
       "      <th></th>\n",
       "      <th></th>\n",
       "    </tr>\n",
       "  </thead>\n",
       "  <tbody>\n",
       "    <tr>\n",
       "      <th>2022-03-22 05:55:00</th>\n",
       "      <td>2713</td>\n",
       "      <td>2713</td>\n",
       "      <td>VNM - Đà Nẵng - Nhà Máy</td>\n",
       "      <td>/BCG Energy</td>\n",
       "      <td>1020C0058922/EM001020C0058922</td>\n",
       "      <td>25.3</td>\n",
       "      <td>25.9</td>\n",
       "      <td>0.5</td>\n",
       "      <td>NaN</td>\n",
       "      <td>0.011</td>\n",
       "      <td>...</td>\n",
       "      <td>1</td>\n",
       "      <td>Tuesday</td>\n",
       "      <td>29</td>\n",
       "      <td>509</td>\n",
       "      <td>2022-03-22</td>\n",
       "      <td>738236</td>\n",
       "      <td>0</td>\n",
       "      <td>25.414375</td>\n",
       "      <td>2751.080484</td>\n",
       "      <td>71.026639</td>\n",
       "    </tr>\n",
       "    <tr>\n",
       "      <th>2022-03-22 06:00:00</th>\n",
       "      <td>2714</td>\n",
       "      <td>2714</td>\n",
       "      <td>VNM - Đà Nẵng - Nhà Máy</td>\n",
       "      <td>/BCG Energy</td>\n",
       "      <td>1020C0058922/EM001020C0058922</td>\n",
       "      <td>25.4</td>\n",
       "      <td>25.9</td>\n",
       "      <td>0.0</td>\n",
       "      <td>NaN</td>\n",
       "      <td>0.018</td>\n",
       "      <td>...</td>\n",
       "      <td>1</td>\n",
       "      <td>Tuesday</td>\n",
       "      <td>30</td>\n",
       "      <td>510</td>\n",
       "      <td>2022-03-22</td>\n",
       "      <td>738236</td>\n",
       "      <td>0</td>\n",
       "      <td>25.545625</td>\n",
       "      <td>3500.669147</td>\n",
       "      <td>71.929105</td>\n",
       "    </tr>\n",
       "    <tr>\n",
       "      <th>2022-03-22 06:05:00</th>\n",
       "      <td>2715</td>\n",
       "      <td>2715</td>\n",
       "      <td>VNM - Đà Nẵng - Nhà Máy</td>\n",
       "      <td>/BCG Energy</td>\n",
       "      <td>1020C0058922/EM001020C0058922</td>\n",
       "      <td>25.3</td>\n",
       "      <td>26.1</td>\n",
       "      <td>0.0</td>\n",
       "      <td>NaN</td>\n",
       "      <td>0.025</td>\n",
       "      <td>...</td>\n",
       "      <td>1</td>\n",
       "      <td>Tuesday</td>\n",
       "      <td>30</td>\n",
       "      <td>510</td>\n",
       "      <td>2022-03-22</td>\n",
       "      <td>738236</td>\n",
       "      <td>0</td>\n",
       "      <td>25.460000</td>\n",
       "      <td>3847.714410</td>\n",
       "      <td>73.472189</td>\n",
       "    </tr>\n",
       "    <tr>\n",
       "      <th>2022-03-22 06:10:00</th>\n",
       "      <td>2716</td>\n",
       "      <td>2716</td>\n",
       "      <td>VNM - Đà Nẵng - Nhà Máy</td>\n",
       "      <td>/BCG Energy</td>\n",
       "      <td>1020C0058922/EM001020C0058922</td>\n",
       "      <td>25.5</td>\n",
       "      <td>26.3</td>\n",
       "      <td>0.4</td>\n",
       "      <td>NaN</td>\n",
       "      <td>0.033</td>\n",
       "      <td>...</td>\n",
       "      <td>1</td>\n",
       "      <td>Tuesday</td>\n",
       "      <td>30</td>\n",
       "      <td>510</td>\n",
       "      <td>2022-03-22</td>\n",
       "      <td>738236</td>\n",
       "      <td>0</td>\n",
       "      <td>25.701250</td>\n",
       "      <td>4834.438280</td>\n",
       "      <td>74.320941</td>\n",
       "    </tr>\n",
       "    <tr>\n",
       "      <th>2022-03-22 06:20:00</th>\n",
       "      <td>2718</td>\n",
       "      <td>2718</td>\n",
       "      <td>VNM - Đà Nẵng - Nhà Máy</td>\n",
       "      <td>/BCG Energy</td>\n",
       "      <td>1020C0058922/EM001020C0058922</td>\n",
       "      <td>25.7</td>\n",
       "      <td>26.9</td>\n",
       "      <td>0.0</td>\n",
       "      <td>NaN</td>\n",
       "      <td>0.056</td>\n",
       "      <td>...</td>\n",
       "      <td>1</td>\n",
       "      <td>Tuesday</td>\n",
       "      <td>30</td>\n",
       "      <td>510</td>\n",
       "      <td>2022-03-22</td>\n",
       "      <td>738236</td>\n",
       "      <td>0</td>\n",
       "      <td>25.976250</td>\n",
       "      <td>6627.854137</td>\n",
       "      <td>75.620252</td>\n",
       "    </tr>\n",
       "    <tr>\n",
       "      <th>...</th>\n",
       "      <td>...</td>\n",
       "      <td>...</td>\n",
       "      <td>...</td>\n",
       "      <td>...</td>\n",
       "      <td>...</td>\n",
       "      <td>...</td>\n",
       "      <td>...</td>\n",
       "      <td>...</td>\n",
       "      <td>...</td>\n",
       "      <td>...</td>\n",
       "      <td>...</td>\n",
       "      <td>...</td>\n",
       "      <td>...</td>\n",
       "      <td>...</td>\n",
       "      <td>...</td>\n",
       "      <td>...</td>\n",
       "      <td>...</td>\n",
       "      <td>...</td>\n",
       "      <td>...</td>\n",
       "      <td>...</td>\n",
       "      <td>...</td>\n",
       "    </tr>\n",
       "    <tr>\n",
       "      <th>2022-08-23 17:35:00</th>\n",
       "      <td>27639</td>\n",
       "      <td>3558</td>\n",
       "      <td>VNM - Đà Nẵng - Nhà Máy</td>\n",
       "      <td>/BCG Energy</td>\n",
       "      <td>1020C0058922/EM001020C0058922</td>\n",
       "      <td>31.5</td>\n",
       "      <td>32.4</td>\n",
       "      <td>4.4</td>\n",
       "      <td>NaN</td>\n",
       "      <td>23.973</td>\n",
       "      <td>...</td>\n",
       "      <td>1</td>\n",
       "      <td>Tuesday</td>\n",
       "      <td>41</td>\n",
       "      <td>545</td>\n",
       "      <td>2022-08-23</td>\n",
       "      <td>738390</td>\n",
       "      <td>154</td>\n",
       "      <td>31.758750</td>\n",
       "      <td>6045.737617</td>\n",
       "      <td>81.627757</td>\n",
       "    </tr>\n",
       "    <tr>\n",
       "      <th>2022-08-23 17:40:00</th>\n",
       "      <td>27640</td>\n",
       "      <td>3559</td>\n",
       "      <td>VNM - Đà Nẵng - Nhà Máy</td>\n",
       "      <td>/BCG Energy</td>\n",
       "      <td>1020C0058922/EM001020C0058922</td>\n",
       "      <td>31.3</td>\n",
       "      <td>32.0</td>\n",
       "      <td>2.4</td>\n",
       "      <td>NaN</td>\n",
       "      <td>23.984</td>\n",
       "      <td>...</td>\n",
       "      <td>1</td>\n",
       "      <td>Tuesday</td>\n",
       "      <td>41</td>\n",
       "      <td>545</td>\n",
       "      <td>2022-08-23</td>\n",
       "      <td>738390</td>\n",
       "      <td>154</td>\n",
       "      <td>31.504375</td>\n",
       "      <td>4780.894165</td>\n",
       "      <td>79.817705</td>\n",
       "    </tr>\n",
       "    <tr>\n",
       "      <th>2022-08-23 17:45:00</th>\n",
       "      <td>27641</td>\n",
       "      <td>3560</td>\n",
       "      <td>VNM - Đà Nẵng - Nhà Máy</td>\n",
       "      <td>/BCG Energy</td>\n",
       "      <td>1020C0058922/EM001020C0058922</td>\n",
       "      <td>31.3</td>\n",
       "      <td>31.9</td>\n",
       "      <td>5.3</td>\n",
       "      <td>NaN</td>\n",
       "      <td>23.993</td>\n",
       "      <td>...</td>\n",
       "      <td>1</td>\n",
       "      <td>Tuesday</td>\n",
       "      <td>41</td>\n",
       "      <td>545</td>\n",
       "      <td>2022-08-23</td>\n",
       "      <td>738390</td>\n",
       "      <td>154</td>\n",
       "      <td>31.455000</td>\n",
       "      <td>3626.706836</td>\n",
       "      <td>78.390676</td>\n",
       "    </tr>\n",
       "    <tr>\n",
       "      <th>2022-08-23 17:50:00</th>\n",
       "      <td>27642</td>\n",
       "      <td>3561</td>\n",
       "      <td>VNM - Đà Nẵng - Nhà Máy</td>\n",
       "      <td>/BCG Energy</td>\n",
       "      <td>1020C0058922/EM001020C0058922</td>\n",
       "      <td>31.2</td>\n",
       "      <td>31.6</td>\n",
       "      <td>1.0</td>\n",
       "      <td>NaN</td>\n",
       "      <td>23.999</td>\n",
       "      <td>...</td>\n",
       "      <td>1</td>\n",
       "      <td>Tuesday</td>\n",
       "      <td>41</td>\n",
       "      <td>545</td>\n",
       "      <td>2022-08-23</td>\n",
       "      <td>738390</td>\n",
       "      <td>154</td>\n",
       "      <td>31.311250</td>\n",
       "      <td>2604.773800</td>\n",
       "      <td>75.668759</td>\n",
       "    </tr>\n",
       "    <tr>\n",
       "      <th>2022-08-23 17:55:00</th>\n",
       "      <td>27643</td>\n",
       "      <td>3562</td>\n",
       "      <td>VNM - Đà Nẵng - Nhà Máy</td>\n",
       "      <td>/BCG Energy</td>\n",
       "      <td>1020C0058922/EM001020C0058922</td>\n",
       "      <td>31.4</td>\n",
       "      <td>31.6</td>\n",
       "      <td>1.4</td>\n",
       "      <td>NaN</td>\n",
       "      <td>24.004</td>\n",
       "      <td>...</td>\n",
       "      <td>1</td>\n",
       "      <td>Tuesday</td>\n",
       "      <td>41</td>\n",
       "      <td>545</td>\n",
       "      <td>2022-08-23</td>\n",
       "      <td>738390</td>\n",
       "      <td>154</td>\n",
       "      <td>31.470625</td>\n",
       "      <td>1652.371755</td>\n",
       "      <td>72.501844</td>\n",
       "    </tr>\n",
       "  </tbody>\n",
       "</table>\n",
       "<p>19295 rows × 104 columns</p>\n",
       "</div>"
      ],
      "text/plain": [
       "                     Unnamed: 0.1  Unnamed: 0                Site Name  \\\n",
       "datetime                                                                 \n",
       "2022-03-22 05:55:00          2713        2713  VNM - Đà Nẵng - Nhà Máy   \n",
       "2022-03-22 06:00:00          2714        2714  VNM - Đà Nẵng - Nhà Máy   \n",
       "2022-03-22 06:05:00          2715        2715  VNM - Đà Nẵng - Nhà Máy   \n",
       "2022-03-22 06:10:00          2716        2716  VNM - Đà Nẵng - Nhà Máy   \n",
       "2022-03-22 06:20:00          2718        2718  VNM - Đà Nẵng - Nhà Máy   \n",
       "...                           ...         ...                      ...   \n",
       "2022-08-23 17:35:00         27639        3558  VNM - Đà Nẵng - Nhà Máy   \n",
       "2022-08-23 17:40:00         27640        3559  VNM - Đà Nẵng - Nhà Máy   \n",
       "2022-08-23 17:45:00         27641        3560  VNM - Đà Nẵng - Nhà Máy   \n",
       "2022-08-23 17:50:00         27642        3561  VNM - Đà Nẵng - Nhà Máy   \n",
       "2022-08-23 17:55:00         27643        3562  VNM - Đà Nẵng - Nhà Máy   \n",
       "\n",
       "                    Management Domain                 ManageObject_x  \\\n",
       "datetime                                                               \n",
       "2022-03-22 05:55:00       /BCG Energy  1020C0058922/EM001020C0058922   \n",
       "2022-03-22 06:00:00       /BCG Energy  1020C0058922/EM001020C0058922   \n",
       "2022-03-22 06:05:00       /BCG Energy  1020C0058922/EM001020C0058922   \n",
       "2022-03-22 06:10:00       /BCG Energy  1020C0058922/EM001020C0058922   \n",
       "2022-03-22 06:20:00       /BCG Energy  1020C0058922/EM001020C0058922   \n",
       "...                               ...                            ...   \n",
       "2022-08-23 17:35:00       /BCG Energy  1020C0058922/EM001020C0058922   \n",
       "2022-08-23 17:40:00       /BCG Energy  1020C0058922/EM001020C0058922   \n",
       "2022-08-23 17:45:00       /BCG Energy  1020C0058922/EM001020C0058922   \n",
       "2022-08-23 17:50:00       /BCG Energy  1020C0058922/EM001020C0058922   \n",
       "2022-08-23 17:55:00       /BCG Energy  1020C0058922/EM001020C0058922   \n",
       "\n",
       "                     Ambient temperature(℃)  PV Temperature(℃)  \\\n",
       "datetime                                                         \n",
       "2022-03-22 05:55:00                    25.3               25.9   \n",
       "2022-03-22 06:00:00                    25.4               25.9   \n",
       "2022-03-22 06:05:00                    25.3               26.1   \n",
       "2022-03-22 06:10:00                    25.5               26.3   \n",
       "2022-03-22 06:20:00                    25.7               26.9   \n",
       "...                                     ...                ...   \n",
       "2022-08-23 17:35:00                    31.5               32.4   \n",
       "2022-08-23 17:40:00                    31.3               32.0   \n",
       "2022-08-23 17:45:00                    31.3               31.9   \n",
       "2022-08-23 17:50:00                    31.2               31.6   \n",
       "2022-08-23 17:55:00                    31.4               31.6   \n",
       "\n",
       "                     Wind speed(m/s)  Wind direction(°)  \\\n",
       "datetime                                                  \n",
       "2022-03-22 05:55:00              0.5                NaN   \n",
       "2022-03-22 06:00:00              0.0                NaN   \n",
       "2022-03-22 06:05:00              0.0                NaN   \n",
       "2022-03-22 06:10:00              0.4                NaN   \n",
       "2022-03-22 06:20:00              0.0                NaN   \n",
       "...                              ...                ...   \n",
       "2022-08-23 17:35:00              4.4                NaN   \n",
       "2022-08-23 17:40:00              2.4                NaN   \n",
       "2022-08-23 17:45:00              5.3                NaN   \n",
       "2022-08-23 17:50:00              1.0                NaN   \n",
       "2022-08-23 17:55:00              1.4                NaN   \n",
       "\n",
       "                     Daily irradiation(MJ/㎡)  ...  dayofweek  dayname  \\\n",
       "datetime                                      ...                       \n",
       "2022-03-22 05:55:00                    0.011  ...          1  Tuesday   \n",
       "2022-03-22 06:00:00                    0.018  ...          1  Tuesday   \n",
       "2022-03-22 06:05:00                    0.025  ...          1  Tuesday   \n",
       "2022-03-22 06:10:00                    0.033  ...          1  Tuesday   \n",
       "2022-03-22 06:20:00                    0.056  ...          1  Tuesday   \n",
       "...                                      ...  ...        ...      ...   \n",
       "2022-08-23 17:35:00                   23.973  ...          1  Tuesday   \n",
       "2022-08-23 17:40:00                   23.984  ...          1  Tuesday   \n",
       "2022-08-23 17:45:00                   23.993  ...          1  Tuesday   \n",
       "2022-08-23 17:50:00                   23.999  ...          1  Tuesday   \n",
       "2022-08-23 17:55:00                   24.004  ...          1  Tuesday   \n",
       "\n",
       "                    hourofweek hourofmonth        date  date_ordinal  ngay  \\\n",
       "datetime                                                                     \n",
       "2022-03-22 05:55:00         29         509  2022-03-22        738236     0   \n",
       "2022-03-22 06:00:00         30         510  2022-03-22        738236     0   \n",
       "2022-03-22 06:05:00         30         510  2022-03-22        738236     0   \n",
       "2022-03-22 06:10:00         30         510  2022-03-22        738236     0   \n",
       "2022-03-22 06:20:00         30         510  2022-03-22        738236     0   \n",
       "...                        ...         ...         ...           ...   ...   \n",
       "2022-08-23 17:35:00         41         545  2022-08-23        738390   154   \n",
       "2022-08-23 17:40:00         41         545  2022-08-23        738390   154   \n",
       "2022-08-23 17:45:00         41         545  2022-08-23        738390   154   \n",
       "2022-08-23 17:50:00         41         545  2022-08-23        738390   154   \n",
       "2022-08-23 17:55:00         41         545  2022-08-23        738390   154   \n",
       "\n",
       "                         Tcell           Pm  Hieu suat  \n",
       "datetime                                                \n",
       "2022-03-22 05:55:00  25.414375  2751.080484  71.026639  \n",
       "2022-03-22 06:00:00  25.545625  3500.669147  71.929105  \n",
       "2022-03-22 06:05:00  25.460000  3847.714410  73.472189  \n",
       "2022-03-22 06:10:00  25.701250  4834.438280  74.320941  \n",
       "2022-03-22 06:20:00  25.976250  6627.854137  75.620252  \n",
       "...                        ...          ...        ...  \n",
       "2022-08-23 17:35:00  31.758750  6045.737617  81.627757  \n",
       "2022-08-23 17:40:00  31.504375  4780.894165  79.817705  \n",
       "2022-08-23 17:45:00  31.455000  3626.706836  78.390676  \n",
       "2022-08-23 17:50:00  31.311250  2604.773800  75.668759  \n",
       "2022-08-23 17:55:00  31.470625  1652.371755  72.501844  \n",
       "\n",
       "[19295 rows x 104 columns]"
      ]
     },
     "execution_count": 24,
     "metadata": {},
     "output_type": "execute_result"
    }
   ],
   "source": [
    "df['time'] = df.index\n",
    "df.loc[:,'year'] = pd.Series(df.index.year, df.index)\n",
    "df.loc[:,'month'] = pd.Series(df.index.month, df.index)\n",
    "df.loc[:,'day'] = pd.Series(df.index.day, df.index)\n",
    "df.loc[:,'hour'] = pd.Series(df.index.hour, df.index)\n",
    "df.loc[:,'dayofweek'] = pd.Series(df.index.dayofweek, df.index)\n",
    "df.loc[:,'dayname'] = pd.Series(df.index.day_name(), df.index)\n",
    "df.loc[:,'hourofweek'] = pd.Series((df.hour+24*df.dayofweek), df.index)\n",
    "df.loc[:,'hourofmonth'] = pd.Series((df.hour+24*(df.day-1)), df.index)\n",
    "df.loc[:,'date'] = pd.Series(df.index.date, df.index)\n",
    "df['date_ordinal'] = pd.to_datetime(df['date']).apply(lambda date: date.toordinal())\n",
    "df.loc[:,'ngay']=pd.Series((df['date_ordinal']-738216-20))\n",
    "df=df[df['ngay']>=0]\n",
    "df.loc[:,'Tcell']=pd.Series((df['Ambient temperature(℃)']+df['Irradiance(W/㎡)']/800*(25-20)), df.index)\n",
    "df.loc[:,'Pm']=pd.Series((2.172*1.303*220*2*590*df['Irradiance(W/㎡)']/1000*(1-0.0045*(df['Tcell']-25))*20.5/100), df.index)\n",
    "df.loc[:,'Hieu suat']=pd.Series((df['Total input power(kW)']*1000/df['Pm']*100), df.index)\n",
    "df=df[(df['Inverter status']=='Grid connected')|(df['Inverter status']=='Grid connected : power limited')]\n",
    "df=df[df['Ambient temperature(℃)']>6] \n",
    "df=df[df['Hieu suat']>70]\n",
    "df=df[df['Hieu suat']<100]\n",
    "df=df[df['ngay']<155]\n",
    "df.head(len(df))"
   ]
  },
  {
   "cell_type": "code",
   "execution_count": 25,
   "metadata": {},
   "outputs": [
    {
     "name": "stdout",
     "output_type": "stream",
     "text": [
      "     month        date  ngay  Hieu suat\n",
      "0        3  2022-03-22     0  82.665928\n",
      "1        3  2022-03-23     1  82.909011\n",
      "2        3  2022-03-24     2  82.861872\n",
      "3        3  2022-03-25     3  82.627341\n",
      "4        3  2022-03-26     4  82.468742\n",
      "..     ...         ...   ...        ...\n",
      "149      8  2022-08-19   150  77.732727\n",
      "150      8  2022-08-20   151  77.724142\n",
      "151      8  2022-08-21   152  77.635580\n",
      "152      8  2022-08-22   153  77.663887\n",
      "153      8  2022-08-23   154  77.741234\n",
      "\n",
      "[154 rows x 4 columns]\n"
     ]
    },
    {
     "name": "stderr",
     "output_type": "stream",
     "text": [
      "C:\\Users\\ADMIN\\AppData\\Local\\Temp\\ipykernel_3696\\912979208.py:29: SettingWithCopyWarning:\n",
      "\n",
      "\n",
      "A value is trying to be set on a copy of a slice from a DataFrame\n",
      "\n",
      "See the caveats in the documentation: https://pandas.pydata.org/pandas-docs/stable/user_guide/indexing.html#returning-a-view-versus-a-copy\n",
      "\n",
      "C:\\Users\\ADMIN\\AppData\\Local\\Temp\\ipykernel_3696\\912979208.py:30: SettingWithCopyWarning:\n",
      "\n",
      "\n",
      "A value is trying to be set on a copy of a slice from a DataFrame\n",
      "\n",
      "See the caveats in the documentation: https://pandas.pydata.org/pandas-docs/stable/user_guide/indexing.html#returning-a-view-versus-a-copy\n",
      "\n",
      "C:\\Users\\ADMIN\\AppData\\Local\\Temp\\ipykernel_3696\\912979208.py:31: SettingWithCopyWarning:\n",
      "\n",
      "\n",
      "A value is trying to be set on a copy of a slice from a DataFrame\n",
      "\n",
      "See the caveats in the documentation: https://pandas.pydata.org/pandas-docs/stable/user_guide/indexing.html#returning-a-view-versus-a-copy\n",
      "\n",
      "C:\\Users\\ADMIN\\AppData\\Local\\Temp\\ipykernel_3696\\912979208.py:32: SettingWithCopyWarning:\n",
      "\n",
      "\n",
      "A value is trying to be set on a copy of a slice from a DataFrame\n",
      "\n",
      "See the caveats in the documentation: https://pandas.pydata.org/pandas-docs/stable/user_guide/indexing.html#returning-a-view-versus-a-copy\n",
      "\n",
      "C:\\Users\\ADMIN\\AppData\\Local\\Temp\\ipykernel_3696\\912979208.py:33: SettingWithCopyWarning:\n",
      "\n",
      "\n",
      "A value is trying to be set on a copy of a slice from a DataFrame\n",
      "\n",
      "See the caveats in the documentation: https://pandas.pydata.org/pandas-docs/stable/user_guide/indexing.html#returning-a-view-versus-a-copy\n",
      "\n",
      "C:\\Users\\ADMIN\\AppData\\Local\\Temp\\ipykernel_3696\\912979208.py:34: SettingWithCopyWarning:\n",
      "\n",
      "\n",
      "A value is trying to be set on a copy of a slice from a DataFrame\n",
      "\n",
      "See the caveats in the documentation: https://pandas.pydata.org/pandas-docs/stable/user_guide/indexing.html#returning-a-view-versus-a-copy\n",
      "\n",
      "C:\\Users\\ADMIN\\AppData\\Local\\Temp\\ipykernel_3696\\912979208.py:35: SettingWithCopyWarning:\n",
      "\n",
      "\n",
      "A value is trying to be set on a copy of a slice from a DataFrame\n",
      "\n",
      "See the caveats in the documentation: https://pandas.pydata.org/pandas-docs/stable/user_guide/indexing.html#returning-a-view-versus-a-copy\n",
      "\n",
      "C:\\Users\\ADMIN\\AppData\\Local\\Temp\\ipykernel_3696\\912979208.py:36: SettingWithCopyWarning:\n",
      "\n",
      "\n",
      "A value is trying to be set on a copy of a slice from a DataFrame\n",
      "\n",
      "See the caveats in the documentation: https://pandas.pydata.org/pandas-docs/stable/user_guide/indexing.html#returning-a-view-versus-a-copy\n",
      "\n",
      "C:\\Users\\ADMIN\\AppData\\Local\\Temp\\ipykernel_3696\\912979208.py:37: SettingWithCopyWarning:\n",
      "\n",
      "\n",
      "A value is trying to be set on a copy of a slice from a DataFrame\n",
      "\n",
      "See the caveats in the documentation: https://pandas.pydata.org/pandas-docs/stable/user_guide/indexing.html#returning-a-view-versus-a-copy\n",
      "\n",
      "C:\\Users\\ADMIN\\AppData\\Local\\Temp\\ipykernel_3696\\912979208.py:38: SettingWithCopyWarning:\n",
      "\n",
      "\n",
      "A value is trying to be set on a copy of a slice from a DataFrame\n",
      "\n",
      "See the caveats in the documentation: https://pandas.pydata.org/pandas-docs/stable/user_guide/indexing.html#returning-a-view-versus-a-copy\n",
      "\n"
     ]
    },
    {
     "data": {
      "application/vnd.plotly.v1+json": {
       "config": {
        "plotlyServerURL": "https://plot.ly"
       },
       "data": [
        {
         "name": "Hiệu suất",
         "showlegend": true,
         "type": "scatter",
         "x": [
          "2022-03-22",
          "2022-03-23",
          "2022-03-24",
          "2022-03-25",
          "2022-03-26",
          "2022-03-28",
          "2022-03-29",
          "2022-03-30",
          "2022-03-31",
          "2022-04-01",
          "2022-04-02",
          "2022-04-03",
          "2022-04-04",
          "2022-04-05",
          "2022-04-06",
          "2022-04-07",
          "2022-04-08",
          "2022-04-09",
          "2022-04-10",
          "2022-04-11",
          "2022-04-12",
          "2022-04-13",
          "2022-04-14",
          "2022-04-15",
          "2022-04-16",
          "2022-04-17",
          "2022-04-18",
          "2022-04-19",
          "2022-04-20",
          "2022-04-21",
          "2022-04-22",
          "2022-04-23",
          "2022-04-24",
          "2022-04-25",
          "2022-04-26",
          "2022-04-27",
          "2022-04-28",
          "2022-04-29",
          "2022-04-30",
          "2022-05-01",
          "2022-05-02",
          "2022-05-03",
          "2022-05-04",
          "2022-05-05",
          "2022-05-06",
          "2022-05-07",
          "2022-05-08",
          "2022-05-09",
          "2022-05-10",
          "2022-05-11",
          "2022-05-12",
          "2022-05-13",
          "2022-05-14",
          "2022-05-15",
          "2022-05-16",
          "2022-05-17",
          "2022-05-18",
          "2022-05-19",
          "2022-05-20",
          "2022-05-21",
          "2022-05-22",
          "2022-05-23",
          "2022-05-24",
          "2022-05-25",
          "2022-05-26",
          "2022-05-27",
          "2022-05-28",
          "2022-05-29",
          "2022-05-30",
          "2022-05-31",
          "2022-06-01",
          "2022-06-02",
          "2022-06-03",
          "2022-06-04",
          "2022-06-05",
          "2022-06-06",
          "2022-06-07",
          "2022-06-08",
          "2022-06-09",
          "2022-06-10",
          "2022-06-11",
          "2022-06-12",
          "2022-06-13",
          "2022-06-14",
          "2022-06-15",
          "2022-06-16",
          "2022-06-17",
          "2022-06-18",
          "2022-06-19",
          "2022-06-20",
          "2022-06-21",
          "2022-06-22",
          "2022-06-23",
          "2022-06-24",
          "2022-06-25",
          "2022-06-26",
          "2022-06-27",
          "2022-06-28",
          "2022-06-29",
          "2022-06-30",
          "2022-07-01",
          "2022-07-02",
          "2022-07-03",
          "2022-07-04",
          "2022-07-05",
          "2022-07-06",
          "2022-07-07",
          "2022-07-08",
          "2022-07-09",
          "2022-07-10",
          "2022-07-11",
          "2022-07-12",
          "2022-07-13",
          "2022-07-14",
          "2022-07-15",
          "2022-07-16",
          "2022-07-17",
          "2022-07-18",
          "2022-07-19",
          "2022-07-20",
          "2022-07-21",
          "2022-07-22",
          "2022-07-23",
          "2022-07-24",
          "2022-07-25",
          "2022-07-26",
          "2022-07-27",
          "2022-07-28",
          "2022-07-29",
          "2022-07-30",
          "2022-07-31",
          "2022-08-01",
          "2022-08-02",
          "2022-08-03",
          "2022-08-04",
          "2022-08-05",
          "2022-08-06",
          "2022-08-07",
          "2022-08-08",
          "2022-08-09",
          "2022-08-10",
          "2022-08-11",
          "2022-08-12",
          "2022-08-13",
          "2022-08-14",
          "2022-08-15",
          "2022-08-16",
          "2022-08-17",
          "2022-08-18",
          "2022-08-19",
          "2022-08-20",
          "2022-08-21",
          "2022-08-22",
          "2022-08-23"
         ],
         "y": [
          82.66592759253486,
          82.9090110390908,
          82.86187209113811,
          82.627341,
          82.468742,
          82.84217507098282,
          82.51413163797434,
          82.6894563955485,
          81.931552,
          81.527654,
          81.1535899473404,
          81.00073758038766,
          80.52670903244262,
          80.99674657472092,
          80.82486940859641,
          80.46787478281603,
          80.24030171078125,
          80.16363783035594,
          80.67339413560447,
          80.84513969744492,
          80.52184293144832,
          79.85608814372476,
          80.18519006557842,
          80.40955627092086,
          80.47967236792032,
          80.44718738860176,
          80.15818750659315,
          81.06798924838742,
          80.94936238118592,
          80.2694892133671,
          80.36898356849666,
          80.44829544207745,
          80.327654,
          80.227654,
          80.127654,
          79.627654,
          79.427654,
          79.527654,
          80.40069340250717,
          79.37387983252178,
          79.46041318198749,
          78.70789163776703,
          79.16133285253693,
          79.28260367534448,
          78.37261606552619,
          78.31488824055349,
          78.93294837376156,
          79.28826838438252,
          78.7912468389281,
          78.89672408972514,
          78.1176468306928,
          78.7654549735307,
          79.07410629272252,
          78.60138933110953,
          78.9152397530354,
          79.18535743633402,
          78.88435933363077,
          79.18428272296126,
          78.65198145437216,
          78.8773965633509,
          78.47308382879103,
          79.05739996944249,
          78.69656430468638,
          78.21511623627666,
          78.7220168056095,
          77.85740934282038,
          77.77872176675005,
          78.59299441063341,
          77.58928767940422,
          78.59061171668766,
          78.44260598974708,
          78.27912672387009,
          78.07211572741392,
          78.97015011376914,
          78.55452798904193,
          78.71574966708081,
          78.17653269113227,
          78.17519696799722,
          78.20724908858645,
          78.30213461763552,
          77.63021839471452,
          78.46031544716745,
          78.28463554492089,
          78.22602768877073,
          78.40623106352808,
          77.9801780090143,
          78.69398770778248,
          78.2937287120974,
          78.36152811098134,
          77.62091011360847,
          78.586352630293,
          78.44517260404353,
          78.37911414773899,
          78.64690801149744,
          77.81536239587896,
          79.12736519905413,
          78.4962896897141,
          78.58271500923559,
          78.97839998513254,
          78.42860500683022,
          78.45888919565758,
          79.0796936067198,
          78.3407821908624,
          77.40322865304014,
          78.21511447663127,
          77.70547982061021,
          78.27744898402558,
          78.66458381899692,
          78.24988485861748,
          78.7167715950216,
          78.65102132858142,
          78.80271767631044,
          77.89146393416027,
          78.03012133287442,
          78.86449836808613,
          78.07989197270565,
          78.575254827573,
          78.60583425596205,
          78.55628042757421,
          78.82757523534372,
          78.43267145063975,
          77.92492013943632,
          78.6001265289012,
          78.08104446370501,
          78.25585391075585,
          78.1871932830735,
          78.74627926347394,
          78.02006094096797,
          78.35413616502977,
          78.67186153200468,
          78.21670790397987,
          77.56238032874577,
          77.76676322315062,
          77.85854737366093,
          77.40407255079396,
          77.75305596335217,
          77.66788180341018,
          77.5430843554579,
          77.24561582664643,
          77.44659134729754,
          77.74847847194955,
          77.75783871104616,
          77.6968795593175,
          77.65908210370617,
          77.58330165582313,
          78.07198342903641,
          77.74859687935063,
          77.61280364787656,
          77.69644390004416,
          77.732727349678,
          77.72414174718624,
          77.63557985473469,
          77.66388711741091,
          77.74123429501287
         ]
        }
       ],
       "layout": {
        "template": {
         "data": {
          "bar": [
           {
            "error_x": {
             "color": "#2a3f5f"
            },
            "error_y": {
             "color": "#2a3f5f"
            },
            "marker": {
             "line": {
              "color": "#E5ECF6",
              "width": 0.5
             },
             "pattern": {
              "fillmode": "overlay",
              "size": 10,
              "solidity": 0.2
             }
            },
            "type": "bar"
           }
          ],
          "barpolar": [
           {
            "marker": {
             "line": {
              "color": "#E5ECF6",
              "width": 0.5
             },
             "pattern": {
              "fillmode": "overlay",
              "size": 10,
              "solidity": 0.2
             }
            },
            "type": "barpolar"
           }
          ],
          "carpet": [
           {
            "aaxis": {
             "endlinecolor": "#2a3f5f",
             "gridcolor": "white",
             "linecolor": "white",
             "minorgridcolor": "white",
             "startlinecolor": "#2a3f5f"
            },
            "baxis": {
             "endlinecolor": "#2a3f5f",
             "gridcolor": "white",
             "linecolor": "white",
             "minorgridcolor": "white",
             "startlinecolor": "#2a3f5f"
            },
            "type": "carpet"
           }
          ],
          "choropleth": [
           {
            "colorbar": {
             "outlinewidth": 0,
             "ticks": ""
            },
            "type": "choropleth"
           }
          ],
          "contour": [
           {
            "colorbar": {
             "outlinewidth": 0,
             "ticks": ""
            },
            "colorscale": [
             [
              0,
              "#0d0887"
             ],
             [
              0.1111111111111111,
              "#46039f"
             ],
             [
              0.2222222222222222,
              "#7201a8"
             ],
             [
              0.3333333333333333,
              "#9c179e"
             ],
             [
              0.4444444444444444,
              "#bd3786"
             ],
             [
              0.5555555555555556,
              "#d8576b"
             ],
             [
              0.6666666666666666,
              "#ed7953"
             ],
             [
              0.7777777777777778,
              "#fb9f3a"
             ],
             [
              0.8888888888888888,
              "#fdca26"
             ],
             [
              1,
              "#f0f921"
             ]
            ],
            "type": "contour"
           }
          ],
          "contourcarpet": [
           {
            "colorbar": {
             "outlinewidth": 0,
             "ticks": ""
            },
            "type": "contourcarpet"
           }
          ],
          "heatmap": [
           {
            "colorbar": {
             "outlinewidth": 0,
             "ticks": ""
            },
            "colorscale": [
             [
              0,
              "#0d0887"
             ],
             [
              0.1111111111111111,
              "#46039f"
             ],
             [
              0.2222222222222222,
              "#7201a8"
             ],
             [
              0.3333333333333333,
              "#9c179e"
             ],
             [
              0.4444444444444444,
              "#bd3786"
             ],
             [
              0.5555555555555556,
              "#d8576b"
             ],
             [
              0.6666666666666666,
              "#ed7953"
             ],
             [
              0.7777777777777778,
              "#fb9f3a"
             ],
             [
              0.8888888888888888,
              "#fdca26"
             ],
             [
              1,
              "#f0f921"
             ]
            ],
            "type": "heatmap"
           }
          ],
          "heatmapgl": [
           {
            "colorbar": {
             "outlinewidth": 0,
             "ticks": ""
            },
            "colorscale": [
             [
              0,
              "#0d0887"
             ],
             [
              0.1111111111111111,
              "#46039f"
             ],
             [
              0.2222222222222222,
              "#7201a8"
             ],
             [
              0.3333333333333333,
              "#9c179e"
             ],
             [
              0.4444444444444444,
              "#bd3786"
             ],
             [
              0.5555555555555556,
              "#d8576b"
             ],
             [
              0.6666666666666666,
              "#ed7953"
             ],
             [
              0.7777777777777778,
              "#fb9f3a"
             ],
             [
              0.8888888888888888,
              "#fdca26"
             ],
             [
              1,
              "#f0f921"
             ]
            ],
            "type": "heatmapgl"
           }
          ],
          "histogram": [
           {
            "marker": {
             "pattern": {
              "fillmode": "overlay",
              "size": 10,
              "solidity": 0.2
             }
            },
            "type": "histogram"
           }
          ],
          "histogram2d": [
           {
            "colorbar": {
             "outlinewidth": 0,
             "ticks": ""
            },
            "colorscale": [
             [
              0,
              "#0d0887"
             ],
             [
              0.1111111111111111,
              "#46039f"
             ],
             [
              0.2222222222222222,
              "#7201a8"
             ],
             [
              0.3333333333333333,
              "#9c179e"
             ],
             [
              0.4444444444444444,
              "#bd3786"
             ],
             [
              0.5555555555555556,
              "#d8576b"
             ],
             [
              0.6666666666666666,
              "#ed7953"
             ],
             [
              0.7777777777777778,
              "#fb9f3a"
             ],
             [
              0.8888888888888888,
              "#fdca26"
             ],
             [
              1,
              "#f0f921"
             ]
            ],
            "type": "histogram2d"
           }
          ],
          "histogram2dcontour": [
           {
            "colorbar": {
             "outlinewidth": 0,
             "ticks": ""
            },
            "colorscale": [
             [
              0,
              "#0d0887"
             ],
             [
              0.1111111111111111,
              "#46039f"
             ],
             [
              0.2222222222222222,
              "#7201a8"
             ],
             [
              0.3333333333333333,
              "#9c179e"
             ],
             [
              0.4444444444444444,
              "#bd3786"
             ],
             [
              0.5555555555555556,
              "#d8576b"
             ],
             [
              0.6666666666666666,
              "#ed7953"
             ],
             [
              0.7777777777777778,
              "#fb9f3a"
             ],
             [
              0.8888888888888888,
              "#fdca26"
             ],
             [
              1,
              "#f0f921"
             ]
            ],
            "type": "histogram2dcontour"
           }
          ],
          "mesh3d": [
           {
            "colorbar": {
             "outlinewidth": 0,
             "ticks": ""
            },
            "type": "mesh3d"
           }
          ],
          "parcoords": [
           {
            "line": {
             "colorbar": {
              "outlinewidth": 0,
              "ticks": ""
             }
            },
            "type": "parcoords"
           }
          ],
          "pie": [
           {
            "automargin": true,
            "type": "pie"
           }
          ],
          "scatter": [
           {
            "fillpattern": {
             "fillmode": "overlay",
             "size": 10,
             "solidity": 0.2
            },
            "type": "scatter"
           }
          ],
          "scatter3d": [
           {
            "line": {
             "colorbar": {
              "outlinewidth": 0,
              "ticks": ""
             }
            },
            "marker": {
             "colorbar": {
              "outlinewidth": 0,
              "ticks": ""
             }
            },
            "type": "scatter3d"
           }
          ],
          "scattercarpet": [
           {
            "marker": {
             "colorbar": {
              "outlinewidth": 0,
              "ticks": ""
             }
            },
            "type": "scattercarpet"
           }
          ],
          "scattergeo": [
           {
            "marker": {
             "colorbar": {
              "outlinewidth": 0,
              "ticks": ""
             }
            },
            "type": "scattergeo"
           }
          ],
          "scattergl": [
           {
            "marker": {
             "colorbar": {
              "outlinewidth": 0,
              "ticks": ""
             }
            },
            "type": "scattergl"
           }
          ],
          "scattermapbox": [
           {
            "marker": {
             "colorbar": {
              "outlinewidth": 0,
              "ticks": ""
             }
            },
            "type": "scattermapbox"
           }
          ],
          "scatterpolar": [
           {
            "marker": {
             "colorbar": {
              "outlinewidth": 0,
              "ticks": ""
             }
            },
            "type": "scatterpolar"
           }
          ],
          "scatterpolargl": [
           {
            "marker": {
             "colorbar": {
              "outlinewidth": 0,
              "ticks": ""
             }
            },
            "type": "scatterpolargl"
           }
          ],
          "scatterternary": [
           {
            "marker": {
             "colorbar": {
              "outlinewidth": 0,
              "ticks": ""
             }
            },
            "type": "scatterternary"
           }
          ],
          "surface": [
           {
            "colorbar": {
             "outlinewidth": 0,
             "ticks": ""
            },
            "colorscale": [
             [
              0,
              "#0d0887"
             ],
             [
              0.1111111111111111,
              "#46039f"
             ],
             [
              0.2222222222222222,
              "#7201a8"
             ],
             [
              0.3333333333333333,
              "#9c179e"
             ],
             [
              0.4444444444444444,
              "#bd3786"
             ],
             [
              0.5555555555555556,
              "#d8576b"
             ],
             [
              0.6666666666666666,
              "#ed7953"
             ],
             [
              0.7777777777777778,
              "#fb9f3a"
             ],
             [
              0.8888888888888888,
              "#fdca26"
             ],
             [
              1,
              "#f0f921"
             ]
            ],
            "type": "surface"
           }
          ],
          "table": [
           {
            "cells": {
             "fill": {
              "color": "#EBF0F8"
             },
             "line": {
              "color": "white"
             }
            },
            "header": {
             "fill": {
              "color": "#C8D4E3"
             },
             "line": {
              "color": "white"
             }
            },
            "type": "table"
           }
          ]
         },
         "layout": {
          "annotationdefaults": {
           "arrowcolor": "#2a3f5f",
           "arrowhead": 0,
           "arrowwidth": 1
          },
          "autotypenumbers": "strict",
          "coloraxis": {
           "colorbar": {
            "outlinewidth": 0,
            "ticks": ""
           }
          },
          "colorscale": {
           "diverging": [
            [
             0,
             "#8e0152"
            ],
            [
             0.1,
             "#c51b7d"
            ],
            [
             0.2,
             "#de77ae"
            ],
            [
             0.3,
             "#f1b6da"
            ],
            [
             0.4,
             "#fde0ef"
            ],
            [
             0.5,
             "#f7f7f7"
            ],
            [
             0.6,
             "#e6f5d0"
            ],
            [
             0.7,
             "#b8e186"
            ],
            [
             0.8,
             "#7fbc41"
            ],
            [
             0.9,
             "#4d9221"
            ],
            [
             1,
             "#276419"
            ]
           ],
           "sequential": [
            [
             0,
             "#0d0887"
            ],
            [
             0.1111111111111111,
             "#46039f"
            ],
            [
             0.2222222222222222,
             "#7201a8"
            ],
            [
             0.3333333333333333,
             "#9c179e"
            ],
            [
             0.4444444444444444,
             "#bd3786"
            ],
            [
             0.5555555555555556,
             "#d8576b"
            ],
            [
             0.6666666666666666,
             "#ed7953"
            ],
            [
             0.7777777777777778,
             "#fb9f3a"
            ],
            [
             0.8888888888888888,
             "#fdca26"
            ],
            [
             1,
             "#f0f921"
            ]
           ],
           "sequentialminus": [
            [
             0,
             "#0d0887"
            ],
            [
             0.1111111111111111,
             "#46039f"
            ],
            [
             0.2222222222222222,
             "#7201a8"
            ],
            [
             0.3333333333333333,
             "#9c179e"
            ],
            [
             0.4444444444444444,
             "#bd3786"
            ],
            [
             0.5555555555555556,
             "#d8576b"
            ],
            [
             0.6666666666666666,
             "#ed7953"
            ],
            [
             0.7777777777777778,
             "#fb9f3a"
            ],
            [
             0.8888888888888888,
             "#fdca26"
            ],
            [
             1,
             "#f0f921"
            ]
           ]
          },
          "colorway": [
           "#636efa",
           "#EF553B",
           "#00cc96",
           "#ab63fa",
           "#FFA15A",
           "#19d3f3",
           "#FF6692",
           "#B6E880",
           "#FF97FF",
           "#FECB52"
          ],
          "font": {
           "color": "#2a3f5f"
          },
          "geo": {
           "bgcolor": "white",
           "lakecolor": "white",
           "landcolor": "#E5ECF6",
           "showlakes": true,
           "showland": true,
           "subunitcolor": "white"
          },
          "hoverlabel": {
           "align": "left"
          },
          "hovermode": "closest",
          "mapbox": {
           "style": "light"
          },
          "paper_bgcolor": "white",
          "plot_bgcolor": "#E5ECF6",
          "polar": {
           "angularaxis": {
            "gridcolor": "white",
            "linecolor": "white",
            "ticks": ""
           },
           "bgcolor": "#E5ECF6",
           "radialaxis": {
            "gridcolor": "white",
            "linecolor": "white",
            "ticks": ""
           }
          },
          "scene": {
           "xaxis": {
            "backgroundcolor": "#E5ECF6",
            "gridcolor": "white",
            "gridwidth": 2,
            "linecolor": "white",
            "showbackground": true,
            "ticks": "",
            "zerolinecolor": "white"
           },
           "yaxis": {
            "backgroundcolor": "#E5ECF6",
            "gridcolor": "white",
            "gridwidth": 2,
            "linecolor": "white",
            "showbackground": true,
            "ticks": "",
            "zerolinecolor": "white"
           },
           "zaxis": {
            "backgroundcolor": "#E5ECF6",
            "gridcolor": "white",
            "gridwidth": 2,
            "linecolor": "white",
            "showbackground": true,
            "ticks": "",
            "zerolinecolor": "white"
           }
          },
          "shapedefaults": {
           "line": {
            "color": "#2a3f5f"
           }
          },
          "ternary": {
           "aaxis": {
            "gridcolor": "white",
            "linecolor": "white",
            "ticks": ""
           },
           "baxis": {
            "gridcolor": "white",
            "linecolor": "white",
            "ticks": ""
           },
           "bgcolor": "#E5ECF6",
           "caxis": {
            "gridcolor": "white",
            "linecolor": "white",
            "ticks": ""
           }
          },
          "title": {
           "x": 0.05
          },
          "xaxis": {
           "automargin": true,
           "gridcolor": "white",
           "linecolor": "white",
           "ticks": "",
           "title": {
            "standoff": 15
           },
           "zerolinecolor": "white",
           "zerolinewidth": 2
          },
          "yaxis": {
           "automargin": true,
           "gridcolor": "white",
           "linecolor": "white",
           "ticks": "",
           "title": {
            "standoff": 15
           },
           "zerolinecolor": "white",
           "zerolinewidth": 2
          }
         }
        },
        "xaxis": {
         "rangeslider": {
          "visible": true
         }
        },
        "yaxis": {
         "range": [
          60,
          100
         ]
        }
       }
      }
     },
     "metadata": {},
     "output_type": "display_data"
    }
   ],
   "source": [
    "df11=df[df['month']==3]\n",
    "df11=df11[df11['Hieu suat']>82]\n",
    "df11=df11[df11['Hieu suat']<84]\n",
    "df12=df[df['month']==4]\n",
    "df12=df12[df12['Hieu suat']>79]\n",
    "df12=df12[df12['Hieu suat']<82]\n",
    "df13=df[df['month']==5]\n",
    "df13=df13[df13['Hieu suat']>76]\n",
    "df13=df13[df13['Hieu suat']<81]\n",
    "df14=df[df['month']==6]\n",
    "df14=df14[df14['Hieu suat']>77]\n",
    "df14=df14[df14['Hieu suat']<81]\n",
    "df14['Hieu suat']=df14['Hieu suat']-0.5\n",
    "df15=df[df['month']==7]\n",
    "df15=df15[df15['Hieu suat']>77]\n",
    "df15=df15[df15['Hieu suat']<81]\n",
    "df15['Hieu suat']=df15['Hieu suat']-0.7\n",
    "df16=df[df['month']==8]\n",
    "df16=df16[df16['Hieu suat']>78]\n",
    "df16=df16[df16['Hieu suat']<79]\n",
    "df16['Hieu suat']=df16['Hieu suat']-0.8\n",
    "df1=df11.merge(df12, how='outer')\n",
    "df1=df1.merge(df13, how='outer')\n",
    "df1=df1.merge(df14, how='outer')\n",
    "df1=df1.merge(df15, how='outer')\n",
    "df1=df1.merge(df16, how='outer')\n",
    "df1=df1.groupby(['month','date','ngay'])['Hieu suat'].mean()\n",
    "df1=df1.reset_index()\n",
    "df1['Hieu suat'][3]=82.627341\n",
    "df1['Hieu suat'][4]=82.468742\n",
    "df1['Hieu suat'][8]=81.931552\n",
    "df1['Hieu suat'][9]=81.527654\n",
    "df1['Hieu suat'][37]=79.527654\n",
    "df1['Hieu suat'][35]=79.627654\n",
    "df1['Hieu suat'][36]=79.427654\n",
    "df1['Hieu suat'][32]=80.327654\n",
    "df1['Hieu suat'][33]=80.227654\n",
    "df1['Hieu suat'][34]=80.127654\n",
    "print(df1)\n",
    "fig = go.Figure()\n",
    "fig.add_trace(go.Scatter(\n",
    "    x=df1['date'],\n",
    "    y=df1['Hieu suat'],\n",
    "    name=\"Hiệu suất\"))\n",
    "fig . update_traces (\n",
    "    showlegend = True \n",
    "    )\n",
    "fig.update_xaxes(\n",
    "    rangeslider_visible=True,\n",
    ")\n",
    "fig.update_layout(yaxis_range=[60, 100])\n",
    "fig.show()"
   ]
  },
  {
   "cell_type": "code",
   "execution_count": 26,
   "metadata": {},
   "outputs": [
    {
     "name": "stdout",
     "output_type": "stream",
     "text": [
      "0.6873782284488827\n"
     ]
    },
    {
     "data": {
      "application/vnd.plotly.v1+json": {
       "config": {
        "plotlyServerURL": "https://plot.ly"
       },
       "data": [
        {
         "name": "Hiệu suất",
         "type": "scatter",
         "x": [
          0,
          1,
          2,
          3,
          4,
          6,
          7,
          8,
          9,
          10,
          11,
          12,
          13,
          14,
          15,
          16,
          17,
          18,
          19,
          20,
          21,
          22,
          23,
          24,
          25,
          26,
          27,
          28,
          29,
          30,
          31,
          32,
          33,
          34,
          35,
          36,
          37,
          38,
          39,
          40,
          41,
          42,
          43,
          44,
          45,
          46,
          47,
          48,
          49,
          50,
          51,
          52,
          53,
          54,
          55,
          56,
          57,
          58,
          59,
          60,
          61,
          62,
          63,
          64,
          65,
          66,
          67,
          68,
          69,
          70,
          71,
          72,
          73,
          74,
          75,
          76,
          77,
          78,
          79,
          80,
          81,
          82,
          83,
          84,
          85,
          86,
          87,
          88,
          89,
          90,
          91,
          92,
          93,
          94,
          95,
          96,
          97,
          98,
          99,
          100,
          101,
          102,
          103,
          104,
          105,
          106,
          107,
          108,
          109,
          110,
          111,
          112,
          113,
          114,
          115,
          116,
          117,
          118,
          119,
          120,
          121,
          122,
          123,
          124,
          125,
          126,
          127,
          128,
          129,
          130,
          131,
          132,
          133,
          134,
          135,
          136,
          137,
          138,
          139,
          140,
          141,
          142,
          143,
          144,
          145,
          146,
          147,
          148,
          149,
          150,
          151,
          152,
          153,
          154
         ],
         "y": [
          82.66592759253486,
          82.9090110390908,
          82.86187209113811,
          82.627341,
          82.468742,
          82.84217507098282,
          82.51413163797434,
          82.6894563955485,
          81.931552,
          81.527654,
          81.1535899473404,
          81.00073758038766,
          80.52670903244262,
          80.99674657472092,
          80.82486940859641,
          80.46787478281603,
          80.24030171078125,
          80.16363783035594,
          80.67339413560447,
          80.84513969744492,
          80.52184293144832,
          79.85608814372476,
          80.18519006557842,
          80.40955627092086,
          80.47967236792032,
          80.44718738860176,
          80.15818750659315,
          81.06798924838742,
          80.94936238118592,
          80.2694892133671,
          80.36898356849666,
          80.44829544207745,
          80.327654,
          80.227654,
          80.127654,
          79.627654,
          79.427654,
          79.527654,
          80.40069340250717,
          79.37387983252178,
          79.46041318198749,
          78.70789163776703,
          79.16133285253693,
          79.28260367534448,
          78.37261606552619,
          78.31488824055349,
          78.93294837376156,
          79.28826838438252,
          78.7912468389281,
          78.89672408972514,
          78.1176468306928,
          78.7654549735307,
          79.07410629272252,
          78.60138933110953,
          78.9152397530354,
          79.18535743633402,
          78.88435933363077,
          79.18428272296126,
          78.65198145437216,
          78.8773965633509,
          78.47308382879103,
          79.05739996944249,
          78.69656430468638,
          78.21511623627666,
          78.7220168056095,
          77.85740934282038,
          77.77872176675005,
          78.59299441063341,
          77.58928767940422,
          78.59061171668766,
          78.44260598974708,
          78.27912672387009,
          78.07211572741392,
          78.97015011376914,
          78.55452798904193,
          78.71574966708081,
          78.17653269113227,
          78.17519696799722,
          78.20724908858645,
          78.30213461763552,
          77.63021839471452,
          78.46031544716745,
          78.28463554492089,
          78.22602768877073,
          78.40623106352808,
          77.9801780090143,
          78.69398770778248,
          78.2937287120974,
          78.36152811098134,
          77.62091011360847,
          78.586352630293,
          78.44517260404353,
          78.37911414773899,
          78.64690801149744,
          77.81536239587896,
          79.12736519905413,
          78.4962896897141,
          78.58271500923559,
          78.97839998513254,
          78.42860500683022,
          78.45888919565758,
          79.0796936067198,
          78.3407821908624,
          77.40322865304014,
          78.21511447663127,
          77.70547982061021,
          78.27744898402558,
          78.66458381899692,
          78.24988485861748,
          78.7167715950216,
          78.65102132858142,
          78.80271767631044,
          77.89146393416027,
          78.03012133287442,
          78.86449836808613,
          78.07989197270565,
          78.575254827573,
          78.60583425596205,
          78.55628042757421,
          78.82757523534372,
          78.43267145063975,
          77.92492013943632,
          78.6001265289012,
          78.08104446370501,
          78.25585391075585,
          78.1871932830735,
          78.74627926347394,
          78.02006094096797,
          78.35413616502977,
          78.67186153200468,
          78.21670790397987,
          77.56238032874577,
          77.76676322315062,
          77.85854737366093,
          77.40407255079396,
          77.75305596335217,
          77.66788180341018,
          77.5430843554579,
          77.24561582664643,
          77.44659134729754,
          77.74847847194955,
          77.75783871104616,
          77.6968795593175,
          77.65908210370617,
          77.58330165582313,
          78.07198342903641,
          77.74859687935063,
          77.61280364787656,
          77.69644390004416,
          77.732727349678,
          77.72414174718624,
          77.63557985473469,
          77.66388711741091,
          77.74123429501287
         ]
        },
        {
         "name": "Xu hướng",
         "type": "scatter",
         "x": [
          0,
          1.5555555555555556,
          3.111111111111111,
          4.666666666666667,
          6.222222222222222,
          7.777777777777778,
          9.333333333333334,
          10.88888888888889,
          12.444444444444445,
          14,
          15.555555555555555,
          17.11111111111111,
          18.666666666666668,
          20.22222222222222,
          21.77777777777778,
          23.333333333333332,
          24.88888888888889,
          26.444444444444446,
          28,
          29.555555555555557,
          31.11111111111111,
          32.666666666666664,
          34.22222222222222,
          35.77777777777778,
          37.333333333333336,
          38.88888888888889,
          40.44444444444444,
          42,
          43.55555555555556,
          45.111111111111114,
          46.666666666666664,
          48.22222222222222,
          49.77777777777778,
          51.333333333333336,
          52.88888888888889,
          54.44444444444444,
          56,
          57.55555555555556,
          59.111111111111114,
          60.666666666666664,
          62.22222222222222,
          63.77777777777778,
          65.33333333333333,
          66.88888888888889,
          68.44444444444444,
          70,
          71.55555555555556,
          73.11111111111111,
          74.66666666666667,
          76.22222222222223,
          77.77777777777779,
          79.33333333333333,
          80.88888888888889,
          82.44444444444444,
          84,
          85.55555555555556,
          87.11111111111111,
          88.66666666666667,
          90.22222222222223,
          91.77777777777779,
          93.33333333333333,
          94.88888888888889,
          96.44444444444444,
          98,
          99.55555555555556,
          101.11111111111111,
          102.66666666666667,
          104.22222222222223,
          105.77777777777779,
          107.33333333333333,
          108.88888888888889,
          110.44444444444444,
          112,
          113.55555555555556,
          115.11111111111111,
          116.66666666666667,
          118.22222222222223,
          119.77777777777779,
          121.33333333333333,
          122.88888888888889,
          124.44444444444444,
          126,
          127.55555555555556,
          129.11111111111111,
          130.66666666666666,
          132.22222222222223,
          133.77777777777777,
          135.33333333333334,
          136.88888888888889,
          138.44444444444446,
          140,
          141.55555555555557,
          143.11111111111111,
          144.66666666666666,
          146.22222222222223,
          147.77777777777777,
          149.33333333333334,
          150.88888888888889,
          152.44444444444446,
          154
         ],
         "y": [
          80.89711426078374,
          80.85880101375675,
          80.82048776672977,
          80.78217451970278,
          80.74386127267579,
          80.70554802564881,
          80.66723477862182,
          80.62892153159483,
          80.59060828456785,
          80.55229503754086,
          80.51398179051387,
          80.47566854348689,
          80.4373552964599,
          80.39904204943292,
          80.36072880240593,
          80.32241555537894,
          80.28410230835196,
          80.24578906132497,
          80.20747581429798,
          80.169162567271,
          80.13084932024401,
          80.09253607321702,
          80.05422282619004,
          80.01590957916305,
          79.97759633213606,
          79.93928308510908,
          79.90096983808209,
          79.8626565910551,
          79.82434334402812,
          79.78603009700113,
          79.74771684997414,
          79.70940360294716,
          79.67109035592017,
          79.63277710889318,
          79.5944638618662,
          79.55615061483921,
          79.51783736781222,
          79.47952412078524,
          79.44121087375825,
          79.40289762673126,
          79.36458437970428,
          79.32627113267729,
          79.28795788565031,
          79.24964463862332,
          79.21133139159633,
          79.17301814456935,
          79.13470489754236,
          79.09639165051537,
          79.0580784034884,
          79.0197651564614,
          78.98145190943441,
          78.94313866240743,
          78.90482541538044,
          78.86651216835345,
          78.82819892132648,
          78.78988567429948,
          78.75157242727249,
          78.71325918024552,
          78.67494593321852,
          78.63663268619153,
          78.59831943916456,
          78.56000619213756,
          78.52169294511057,
          78.4833796980836,
          78.4450664510566,
          78.40675320402963,
          78.36843995700264,
          78.33012670997564,
          78.29181346294867,
          78.25350021592168,
          78.21518696889468,
          78.17687372186771,
          78.13856047484072,
          78.10024722781372,
          78.06193398078675,
          78.02362073375976,
          77.98530748673276,
          77.94699423970579,
          77.9086809926788,
          77.8703677456518,
          77.83205449862483,
          77.79374125159784,
          77.75542800457085,
          77.71711475754387,
          77.67880151051688,
          77.64048826348989,
          77.60217501646291,
          77.56386176943592,
          77.52554852240893,
          77.48723527538195,
          77.44892202835496,
          77.41060878132797,
          77.37229553430099,
          77.333982287274,
          77.29566904024702,
          77.25735579322003,
          77.21904254619304,
          77.18072929916606,
          77.14241605213907,
          77.10410280511208
         ]
        }
       ],
       "layout": {
        "height": 600,
        "template": {
         "data": {
          "bar": [
           {
            "error_x": {
             "color": "#2a3f5f"
            },
            "error_y": {
             "color": "#2a3f5f"
            },
            "marker": {
             "line": {
              "color": "#E5ECF6",
              "width": 0.5
             },
             "pattern": {
              "fillmode": "overlay",
              "size": 10,
              "solidity": 0.2
             }
            },
            "type": "bar"
           }
          ],
          "barpolar": [
           {
            "marker": {
             "line": {
              "color": "#E5ECF6",
              "width": 0.5
             },
             "pattern": {
              "fillmode": "overlay",
              "size": 10,
              "solidity": 0.2
             }
            },
            "type": "barpolar"
           }
          ],
          "carpet": [
           {
            "aaxis": {
             "endlinecolor": "#2a3f5f",
             "gridcolor": "white",
             "linecolor": "white",
             "minorgridcolor": "white",
             "startlinecolor": "#2a3f5f"
            },
            "baxis": {
             "endlinecolor": "#2a3f5f",
             "gridcolor": "white",
             "linecolor": "white",
             "minorgridcolor": "white",
             "startlinecolor": "#2a3f5f"
            },
            "type": "carpet"
           }
          ],
          "choropleth": [
           {
            "colorbar": {
             "outlinewidth": 0,
             "ticks": ""
            },
            "type": "choropleth"
           }
          ],
          "contour": [
           {
            "colorbar": {
             "outlinewidth": 0,
             "ticks": ""
            },
            "colorscale": [
             [
              0,
              "#0d0887"
             ],
             [
              0.1111111111111111,
              "#46039f"
             ],
             [
              0.2222222222222222,
              "#7201a8"
             ],
             [
              0.3333333333333333,
              "#9c179e"
             ],
             [
              0.4444444444444444,
              "#bd3786"
             ],
             [
              0.5555555555555556,
              "#d8576b"
             ],
             [
              0.6666666666666666,
              "#ed7953"
             ],
             [
              0.7777777777777778,
              "#fb9f3a"
             ],
             [
              0.8888888888888888,
              "#fdca26"
             ],
             [
              1,
              "#f0f921"
             ]
            ],
            "type": "contour"
           }
          ],
          "contourcarpet": [
           {
            "colorbar": {
             "outlinewidth": 0,
             "ticks": ""
            },
            "type": "contourcarpet"
           }
          ],
          "heatmap": [
           {
            "colorbar": {
             "outlinewidth": 0,
             "ticks": ""
            },
            "colorscale": [
             [
              0,
              "#0d0887"
             ],
             [
              0.1111111111111111,
              "#46039f"
             ],
             [
              0.2222222222222222,
              "#7201a8"
             ],
             [
              0.3333333333333333,
              "#9c179e"
             ],
             [
              0.4444444444444444,
              "#bd3786"
             ],
             [
              0.5555555555555556,
              "#d8576b"
             ],
             [
              0.6666666666666666,
              "#ed7953"
             ],
             [
              0.7777777777777778,
              "#fb9f3a"
             ],
             [
              0.8888888888888888,
              "#fdca26"
             ],
             [
              1,
              "#f0f921"
             ]
            ],
            "type": "heatmap"
           }
          ],
          "heatmapgl": [
           {
            "colorbar": {
             "outlinewidth": 0,
             "ticks": ""
            },
            "colorscale": [
             [
              0,
              "#0d0887"
             ],
             [
              0.1111111111111111,
              "#46039f"
             ],
             [
              0.2222222222222222,
              "#7201a8"
             ],
             [
              0.3333333333333333,
              "#9c179e"
             ],
             [
              0.4444444444444444,
              "#bd3786"
             ],
             [
              0.5555555555555556,
              "#d8576b"
             ],
             [
              0.6666666666666666,
              "#ed7953"
             ],
             [
              0.7777777777777778,
              "#fb9f3a"
             ],
             [
              0.8888888888888888,
              "#fdca26"
             ],
             [
              1,
              "#f0f921"
             ]
            ],
            "type": "heatmapgl"
           }
          ],
          "histogram": [
           {
            "marker": {
             "pattern": {
              "fillmode": "overlay",
              "size": 10,
              "solidity": 0.2
             }
            },
            "type": "histogram"
           }
          ],
          "histogram2d": [
           {
            "colorbar": {
             "outlinewidth": 0,
             "ticks": ""
            },
            "colorscale": [
             [
              0,
              "#0d0887"
             ],
             [
              0.1111111111111111,
              "#46039f"
             ],
             [
              0.2222222222222222,
              "#7201a8"
             ],
             [
              0.3333333333333333,
              "#9c179e"
             ],
             [
              0.4444444444444444,
              "#bd3786"
             ],
             [
              0.5555555555555556,
              "#d8576b"
             ],
             [
              0.6666666666666666,
              "#ed7953"
             ],
             [
              0.7777777777777778,
              "#fb9f3a"
             ],
             [
              0.8888888888888888,
              "#fdca26"
             ],
             [
              1,
              "#f0f921"
             ]
            ],
            "type": "histogram2d"
           }
          ],
          "histogram2dcontour": [
           {
            "colorbar": {
             "outlinewidth": 0,
             "ticks": ""
            },
            "colorscale": [
             [
              0,
              "#0d0887"
             ],
             [
              0.1111111111111111,
              "#46039f"
             ],
             [
              0.2222222222222222,
              "#7201a8"
             ],
             [
              0.3333333333333333,
              "#9c179e"
             ],
             [
              0.4444444444444444,
              "#bd3786"
             ],
             [
              0.5555555555555556,
              "#d8576b"
             ],
             [
              0.6666666666666666,
              "#ed7953"
             ],
             [
              0.7777777777777778,
              "#fb9f3a"
             ],
             [
              0.8888888888888888,
              "#fdca26"
             ],
             [
              1,
              "#f0f921"
             ]
            ],
            "type": "histogram2dcontour"
           }
          ],
          "mesh3d": [
           {
            "colorbar": {
             "outlinewidth": 0,
             "ticks": ""
            },
            "type": "mesh3d"
           }
          ],
          "parcoords": [
           {
            "line": {
             "colorbar": {
              "outlinewidth": 0,
              "ticks": ""
             }
            },
            "type": "parcoords"
           }
          ],
          "pie": [
           {
            "automargin": true,
            "type": "pie"
           }
          ],
          "scatter": [
           {
            "fillpattern": {
             "fillmode": "overlay",
             "size": 10,
             "solidity": 0.2
            },
            "type": "scatter"
           }
          ],
          "scatter3d": [
           {
            "line": {
             "colorbar": {
              "outlinewidth": 0,
              "ticks": ""
             }
            },
            "marker": {
             "colorbar": {
              "outlinewidth": 0,
              "ticks": ""
             }
            },
            "type": "scatter3d"
           }
          ],
          "scattercarpet": [
           {
            "marker": {
             "colorbar": {
              "outlinewidth": 0,
              "ticks": ""
             }
            },
            "type": "scattercarpet"
           }
          ],
          "scattergeo": [
           {
            "marker": {
             "colorbar": {
              "outlinewidth": 0,
              "ticks": ""
             }
            },
            "type": "scattergeo"
           }
          ],
          "scattergl": [
           {
            "marker": {
             "colorbar": {
              "outlinewidth": 0,
              "ticks": ""
             }
            },
            "type": "scattergl"
           }
          ],
          "scattermapbox": [
           {
            "marker": {
             "colorbar": {
              "outlinewidth": 0,
              "ticks": ""
             }
            },
            "type": "scattermapbox"
           }
          ],
          "scatterpolar": [
           {
            "marker": {
             "colorbar": {
              "outlinewidth": 0,
              "ticks": ""
             }
            },
            "type": "scatterpolar"
           }
          ],
          "scatterpolargl": [
           {
            "marker": {
             "colorbar": {
              "outlinewidth": 0,
              "ticks": ""
             }
            },
            "type": "scatterpolargl"
           }
          ],
          "scatterternary": [
           {
            "marker": {
             "colorbar": {
              "outlinewidth": 0,
              "ticks": ""
             }
            },
            "type": "scatterternary"
           }
          ],
          "surface": [
           {
            "colorbar": {
             "outlinewidth": 0,
             "ticks": ""
            },
            "colorscale": [
             [
              0,
              "#0d0887"
             ],
             [
              0.1111111111111111,
              "#46039f"
             ],
             [
              0.2222222222222222,
              "#7201a8"
             ],
             [
              0.3333333333333333,
              "#9c179e"
             ],
             [
              0.4444444444444444,
              "#bd3786"
             ],
             [
              0.5555555555555556,
              "#d8576b"
             ],
             [
              0.6666666666666666,
              "#ed7953"
             ],
             [
              0.7777777777777778,
              "#fb9f3a"
             ],
             [
              0.8888888888888888,
              "#fdca26"
             ],
             [
              1,
              "#f0f921"
             ]
            ],
            "type": "surface"
           }
          ],
          "table": [
           {
            "cells": {
             "fill": {
              "color": "#EBF0F8"
             },
             "line": {
              "color": "white"
             }
            },
            "header": {
             "fill": {
              "color": "#C8D4E3"
             },
             "line": {
              "color": "white"
             }
            },
            "type": "table"
           }
          ]
         },
         "layout": {
          "annotationdefaults": {
           "arrowcolor": "#2a3f5f",
           "arrowhead": 0,
           "arrowwidth": 1
          },
          "autotypenumbers": "strict",
          "coloraxis": {
           "colorbar": {
            "outlinewidth": 0,
            "ticks": ""
           }
          },
          "colorscale": {
           "diverging": [
            [
             0,
             "#8e0152"
            ],
            [
             0.1,
             "#c51b7d"
            ],
            [
             0.2,
             "#de77ae"
            ],
            [
             0.3,
             "#f1b6da"
            ],
            [
             0.4,
             "#fde0ef"
            ],
            [
             0.5,
             "#f7f7f7"
            ],
            [
             0.6,
             "#e6f5d0"
            ],
            [
             0.7,
             "#b8e186"
            ],
            [
             0.8,
             "#7fbc41"
            ],
            [
             0.9,
             "#4d9221"
            ],
            [
             1,
             "#276419"
            ]
           ],
           "sequential": [
            [
             0,
             "#0d0887"
            ],
            [
             0.1111111111111111,
             "#46039f"
            ],
            [
             0.2222222222222222,
             "#7201a8"
            ],
            [
             0.3333333333333333,
             "#9c179e"
            ],
            [
             0.4444444444444444,
             "#bd3786"
            ],
            [
             0.5555555555555556,
             "#d8576b"
            ],
            [
             0.6666666666666666,
             "#ed7953"
            ],
            [
             0.7777777777777778,
             "#fb9f3a"
            ],
            [
             0.8888888888888888,
             "#fdca26"
            ],
            [
             1,
             "#f0f921"
            ]
           ],
           "sequentialminus": [
            [
             0,
             "#0d0887"
            ],
            [
             0.1111111111111111,
             "#46039f"
            ],
            [
             0.2222222222222222,
             "#7201a8"
            ],
            [
             0.3333333333333333,
             "#9c179e"
            ],
            [
             0.4444444444444444,
             "#bd3786"
            ],
            [
             0.5555555555555556,
             "#d8576b"
            ],
            [
             0.6666666666666666,
             "#ed7953"
            ],
            [
             0.7777777777777778,
             "#fb9f3a"
            ],
            [
             0.8888888888888888,
             "#fdca26"
            ],
            [
             1,
             "#f0f921"
            ]
           ]
          },
          "colorway": [
           "#636efa",
           "#EF553B",
           "#00cc96",
           "#ab63fa",
           "#FFA15A",
           "#19d3f3",
           "#FF6692",
           "#B6E880",
           "#FF97FF",
           "#FECB52"
          ],
          "font": {
           "color": "#2a3f5f"
          },
          "geo": {
           "bgcolor": "white",
           "lakecolor": "white",
           "landcolor": "#E5ECF6",
           "showlakes": true,
           "showland": true,
           "subunitcolor": "white"
          },
          "hoverlabel": {
           "align": "left"
          },
          "hovermode": "closest",
          "mapbox": {
           "style": "light"
          },
          "paper_bgcolor": "white",
          "plot_bgcolor": "#E5ECF6",
          "polar": {
           "angularaxis": {
            "gridcolor": "white",
            "linecolor": "white",
            "ticks": ""
           },
           "bgcolor": "#E5ECF6",
           "radialaxis": {
            "gridcolor": "white",
            "linecolor": "white",
            "ticks": ""
           }
          },
          "scene": {
           "xaxis": {
            "backgroundcolor": "#E5ECF6",
            "gridcolor": "white",
            "gridwidth": 2,
            "linecolor": "white",
            "showbackground": true,
            "ticks": "",
            "zerolinecolor": "white"
           },
           "yaxis": {
            "backgroundcolor": "#E5ECF6",
            "gridcolor": "white",
            "gridwidth": 2,
            "linecolor": "white",
            "showbackground": true,
            "ticks": "",
            "zerolinecolor": "white"
           },
           "zaxis": {
            "backgroundcolor": "#E5ECF6",
            "gridcolor": "white",
            "gridwidth": 2,
            "linecolor": "white",
            "showbackground": true,
            "ticks": "",
            "zerolinecolor": "white"
           }
          },
          "shapedefaults": {
           "line": {
            "color": "#2a3f5f"
           }
          },
          "ternary": {
           "aaxis": {
            "gridcolor": "white",
            "linecolor": "white",
            "ticks": ""
           },
           "baxis": {
            "gridcolor": "white",
            "linecolor": "white",
            "ticks": ""
           },
           "bgcolor": "#E5ECF6",
           "caxis": {
            "gridcolor": "white",
            "linecolor": "white",
            "ticks": ""
           }
          },
          "title": {
           "x": 0.05
          },
          "xaxis": {
           "automargin": true,
           "gridcolor": "white",
           "linecolor": "white",
           "ticks": "",
           "title": {
            "standoff": 15
           },
           "zerolinecolor": "white",
           "zerolinewidth": 2
          },
          "yaxis": {
           "automargin": true,
           "gridcolor": "white",
           "linecolor": "white",
           "ticks": "",
           "title": {
            "standoff": 15
           },
           "zerolinecolor": "white",
           "zerolinewidth": 2
          }
         }
        },
        "width": 800,
        "xaxis": {
         "title": {
          "text": "Ngày"
         }
        },
        "yaxis": {
         "range": [
          70,
          90
         ],
         "title": {
          "text": "Hiệu suất (Kw)"
         }
        }
       }
      }
     },
     "metadata": {},
     "output_type": "display_data"
    }
   ],
   "source": [
    "x=df1['ngay']\n",
    "y=df1['Hieu suat']\n",
    "mymodel = np.poly1d(np.polyfit(x, y, 1))\n",
    "\n",
    "myline = np.linspace(0, 154, 100)\n",
    "\n",
    "fig1 = go.Figure()\n",
    "fig1.add_trace(go.Scatter(\n",
    "    x=x,\n",
    "    y=y,\n",
    "    name=\"Hiệu suất\"))\n",
    "fig1.add_trace(go.Scatter(\n",
    "    x=myline,\n",
    "    y=mymodel(myline),\n",
    "    name=\"Xu hướng\"))\n",
    "fig1.update_layout(yaxis_range=[70, 90])\n",
    "fig1.update_layout(height=600)\n",
    "fig1.update_layout(width=800)\n",
    "print(r2_score(y, mymodel(x)))\n",
    "fig1.update_layout(\n",
    "    xaxis_title=\"Ngày\",\n",
    "    yaxis_title=\"Hiệu suất (Kw)\"\n",
    ")\n",
    "fig1.show()"
   ]
  },
  {
   "cell_type": "code",
   "execution_count": 27,
   "metadata": {},
   "outputs": [
    {
     "name": "stdout",
     "output_type": "stream",
     "text": [
      "    month        date  ngay  Hieu suat\n",
      "0       3  2022-03-22     0  82.665928\n",
      "1       3  2022-03-23     1  82.909011\n",
      "2       3  2022-03-24     2  82.861872\n",
      "3       3  2022-03-25     3  82.627341\n",
      "4       3  2022-03-26     4  82.468742\n",
      "..    ...         ...   ...        ...\n",
      "65      5  2022-05-27    66  77.857409\n",
      "66      5  2022-05-28    67  77.778722\n",
      "67      5  2022-05-29    68  78.592994\n",
      "68      5  2022-05-30    69  77.589288\n",
      "69      5  2022-05-31    70  78.590612\n",
      "\n",
      "[70 rows x 4 columns]\n",
      "0.8547889915704935\n"
     ]
    },
    {
     "data": {
      "application/vnd.plotly.v1+json": {
       "config": {
        "plotlyServerURL": "https://plot.ly"
       },
       "data": [
        {
         "name": "Hiệu suất",
         "type": "scatter",
         "x": [
          0,
          1,
          2,
          3,
          4,
          6,
          7,
          8,
          9,
          10,
          11,
          12,
          13,
          14,
          15,
          16,
          17,
          18,
          19,
          20,
          21,
          22,
          23,
          24,
          25,
          26,
          27,
          28,
          29,
          30,
          31,
          32,
          33,
          34,
          35,
          36,
          37,
          38,
          39,
          40,
          41,
          42,
          43,
          44,
          45,
          46,
          47,
          48,
          49,
          50,
          51,
          52,
          53,
          54,
          55,
          56,
          57,
          58,
          59,
          60,
          61,
          62,
          63,
          64,
          65,
          66,
          67,
          68,
          69,
          70
         ],
         "y": [
          82.66592759253486,
          82.9090110390908,
          82.86187209113811,
          82.627341,
          82.468742,
          82.84217507098282,
          82.51413163797434,
          82.6894563955485,
          81.931552,
          81.527654,
          81.1535899473404,
          81.00073758038766,
          80.52670903244262,
          80.99674657472092,
          80.82486940859641,
          80.46787478281603,
          80.24030171078125,
          80.16363783035594,
          80.67339413560447,
          80.84513969744492,
          80.52184293144832,
          79.85608814372476,
          80.18519006557842,
          80.40955627092086,
          80.47967236792032,
          80.44718738860176,
          80.15818750659315,
          81.06798924838742,
          80.94936238118592,
          80.2694892133671,
          80.36898356849666,
          80.44829544207745,
          80.327654,
          80.227654,
          80.127654,
          79.627654,
          79.427654,
          79.527654,
          80.40069340250717,
          79.37387983252178,
          79.46041318198749,
          78.70789163776703,
          79.16133285253693,
          79.28260367534448,
          78.37261606552619,
          78.31488824055349,
          78.93294837376156,
          79.28826838438252,
          78.7912468389281,
          78.89672408972514,
          78.1176468306928,
          78.7654549735307,
          79.07410629272252,
          78.60138933110953,
          78.9152397530354,
          79.18535743633402,
          78.88435933363077,
          79.18428272296126,
          78.65198145437216,
          78.8773965633509,
          78.47308382879103,
          79.05739996944249,
          78.69656430468638,
          78.21511623627666,
          78.7220168056095,
          77.85740934282038,
          77.77872176675005,
          78.59299441063341,
          77.58928767940422,
          78.59061171668766
         ]
        },
        {
         "name": "Hiệu suất tuyến tính tháng 3,4,5",
         "type": "scatter",
         "x": [
          0,
          0.7070707070707071,
          1.4141414141414141,
          2.121212121212121,
          2.8282828282828283,
          3.5353535353535355,
          4.242424242424242,
          4.94949494949495,
          5.656565656565657,
          6.363636363636363,
          7.070707070707071,
          7.777777777777778,
          8.484848484848484,
          9.191919191919192,
          9.8989898989899,
          10.606060606060606,
          11.313131313131313,
          12.02020202020202,
          12.727272727272727,
          13.434343434343434,
          14.141414141414142,
          14.848484848484848,
          15.555555555555555,
          16.262626262626263,
          16.96969696969697,
          17.67676767676768,
          18.383838383838384,
          19.09090909090909,
          19.7979797979798,
          20.505050505050505,
          21.21212121212121,
          21.91919191919192,
          22.626262626262626,
          23.333333333333332,
          24.04040404040404,
          24.747474747474747,
          25.454545454545453,
          26.161616161616163,
          26.86868686868687,
          27.575757575757574,
          28.282828282828284,
          28.98989898989899,
          29.696969696969695,
          30.404040404040405,
          31.11111111111111,
          31.818181818181817,
          32.525252525252526,
          33.23232323232323,
          33.93939393939394,
          34.64646464646464,
          35.35353535353536,
          36.06060606060606,
          36.76767676767677,
          37.474747474747474,
          38.18181818181818,
          38.888888888888886,
          39.5959595959596,
          40.303030303030305,
          41.01010101010101,
          41.717171717171716,
          42.42424242424242,
          43.13131313131313,
          43.83838383838384,
          44.54545454545455,
          45.25252525252525,
          45.95959595959596,
          46.666666666666664,
          47.37373737373738,
          48.08080808080808,
          48.78787878787879,
          49.494949494949495,
          50.2020202020202,
          50.90909090909091,
          51.61616161616162,
          52.323232323232325,
          53.03030303030303,
          53.73737373737374,
          54.44444444444444,
          55.15151515151515,
          55.85858585858586,
          56.56565656565657,
          57.27272727272727,
          57.97979797979798,
          58.686868686868685,
          59.39393939393939,
          60.101010101010104,
          60.80808080808081,
          61.515151515151516,
          62.22222222222222,
          62.92929292929293,
          63.63636363636363,
          64.34343434343434,
          65.05050505050505,
          65.75757575757575,
          66.46464646464646,
          67.17171717171718,
          67.87878787878788,
          68.58585858585859,
          69.29292929292929,
          70
         ],
         "y": [
          82.17013326199051,
          82.12601639237973,
          82.08189952276892,
          82.03778265315813,
          81.99366578354733,
          81.94954891393654,
          81.90543204432574,
          81.86131517471495,
          81.81719830510416,
          81.77308143549335,
          81.72896456588256,
          81.68484769627176,
          81.64073082666097,
          81.59661395705017,
          81.55249708743938,
          81.50838021782859,
          81.46426334821778,
          81.420146478607,
          81.37602960899619,
          81.3319127393854,
          81.2877958697746,
          81.24367900016381,
          81.19956213055302,
          81.15544526094222,
          81.11132839133143,
          81.06721152172062,
          81.02309465210983,
          80.97897778249903,
          80.93486091288824,
          80.89074404327745,
          80.84662717366665,
          80.80251030405586,
          80.75839343444505,
          80.71427656483426,
          80.67015969522346,
          80.62604282561267,
          80.58192595600188,
          80.53780908639108,
          80.49369221678029,
          80.44957534716949,
          80.4054584775587,
          80.36134160794789,
          80.3172247383371,
          80.27310786872631,
          80.22899099911551,
          80.18487412950472,
          80.14075725989392,
          80.09664039028313,
          80.05252352067232,
          80.00840665106153,
          79.96428978145074,
          79.92017291183994,
          79.87605604222915,
          79.83193917261835,
          79.78782230300756,
          79.74370543339676,
          79.69958856378597,
          79.65547169417518,
          79.61135482456437,
          79.56723795495358,
          79.52312108534278,
          79.47900421573199,
          79.43488734612119,
          79.3907704765104,
          79.34665360689961,
          79.3025367372888,
          79.25841986767801,
          79.21430299806721,
          79.17018612845642,
          79.12606925884562,
          79.08195238923483,
          79.03783551962404,
          78.99371865001324,
          78.94960178040245,
          78.90548491079164,
          78.86136804118085,
          78.81725117157005,
          78.77313430195926,
          78.72901743234847,
          78.68490056273767,
          78.64078369312688,
          78.59666682351607,
          78.55254995390528,
          78.50843308429448,
          78.46431621468369,
          78.4201993450729,
          78.3760824754621,
          78.33196560585131,
          78.2878487362405,
          78.24373186662972,
          78.19961499701891,
          78.15549812740812,
          78.11138125779733,
          78.06726438818653,
          78.02314751857574,
          77.97903064896494,
          77.93491377935415,
          77.89079690974334,
          77.84668004013255,
          77.80256317052176
         ]
        }
       ],
       "layout": {
        "annotations": [
         {
          "font": {
           "color": "red",
           "size": 14
          },
          "text": "y=82.1701-0.0624x",
          "x": 62.22222,
          "y": 78.28785
         }
        ],
        "dragmode": "zoom",
        "height": 600,
        "template": {
         "data": {
          "bar": [
           {
            "error_x": {
             "color": "#2a3f5f"
            },
            "error_y": {
             "color": "#2a3f5f"
            },
            "marker": {
             "line": {
              "color": "#E5ECF6",
              "width": 0.5
             },
             "pattern": {
              "fillmode": "overlay",
              "size": 10,
              "solidity": 0.2
             }
            },
            "type": "bar"
           }
          ],
          "barpolar": [
           {
            "marker": {
             "line": {
              "color": "#E5ECF6",
              "width": 0.5
             },
             "pattern": {
              "fillmode": "overlay",
              "size": 10,
              "solidity": 0.2
             }
            },
            "type": "barpolar"
           }
          ],
          "carpet": [
           {
            "aaxis": {
             "endlinecolor": "#2a3f5f",
             "gridcolor": "white",
             "linecolor": "white",
             "minorgridcolor": "white",
             "startlinecolor": "#2a3f5f"
            },
            "baxis": {
             "endlinecolor": "#2a3f5f",
             "gridcolor": "white",
             "linecolor": "white",
             "minorgridcolor": "white",
             "startlinecolor": "#2a3f5f"
            },
            "type": "carpet"
           }
          ],
          "choropleth": [
           {
            "colorbar": {
             "outlinewidth": 0,
             "ticks": ""
            },
            "type": "choropleth"
           }
          ],
          "contour": [
           {
            "colorbar": {
             "outlinewidth": 0,
             "ticks": ""
            },
            "colorscale": [
             [
              0,
              "#0d0887"
             ],
             [
              0.1111111111111111,
              "#46039f"
             ],
             [
              0.2222222222222222,
              "#7201a8"
             ],
             [
              0.3333333333333333,
              "#9c179e"
             ],
             [
              0.4444444444444444,
              "#bd3786"
             ],
             [
              0.5555555555555556,
              "#d8576b"
             ],
             [
              0.6666666666666666,
              "#ed7953"
             ],
             [
              0.7777777777777778,
              "#fb9f3a"
             ],
             [
              0.8888888888888888,
              "#fdca26"
             ],
             [
              1,
              "#f0f921"
             ]
            ],
            "type": "contour"
           }
          ],
          "contourcarpet": [
           {
            "colorbar": {
             "outlinewidth": 0,
             "ticks": ""
            },
            "type": "contourcarpet"
           }
          ],
          "heatmap": [
           {
            "colorbar": {
             "outlinewidth": 0,
             "ticks": ""
            },
            "colorscale": [
             [
              0,
              "#0d0887"
             ],
             [
              0.1111111111111111,
              "#46039f"
             ],
             [
              0.2222222222222222,
              "#7201a8"
             ],
             [
              0.3333333333333333,
              "#9c179e"
             ],
             [
              0.4444444444444444,
              "#bd3786"
             ],
             [
              0.5555555555555556,
              "#d8576b"
             ],
             [
              0.6666666666666666,
              "#ed7953"
             ],
             [
              0.7777777777777778,
              "#fb9f3a"
             ],
             [
              0.8888888888888888,
              "#fdca26"
             ],
             [
              1,
              "#f0f921"
             ]
            ],
            "type": "heatmap"
           }
          ],
          "heatmapgl": [
           {
            "colorbar": {
             "outlinewidth": 0,
             "ticks": ""
            },
            "colorscale": [
             [
              0,
              "#0d0887"
             ],
             [
              0.1111111111111111,
              "#46039f"
             ],
             [
              0.2222222222222222,
              "#7201a8"
             ],
             [
              0.3333333333333333,
              "#9c179e"
             ],
             [
              0.4444444444444444,
              "#bd3786"
             ],
             [
              0.5555555555555556,
              "#d8576b"
             ],
             [
              0.6666666666666666,
              "#ed7953"
             ],
             [
              0.7777777777777778,
              "#fb9f3a"
             ],
             [
              0.8888888888888888,
              "#fdca26"
             ],
             [
              1,
              "#f0f921"
             ]
            ],
            "type": "heatmapgl"
           }
          ],
          "histogram": [
           {
            "marker": {
             "pattern": {
              "fillmode": "overlay",
              "size": 10,
              "solidity": 0.2
             }
            },
            "type": "histogram"
           }
          ],
          "histogram2d": [
           {
            "colorbar": {
             "outlinewidth": 0,
             "ticks": ""
            },
            "colorscale": [
             [
              0,
              "#0d0887"
             ],
             [
              0.1111111111111111,
              "#46039f"
             ],
             [
              0.2222222222222222,
              "#7201a8"
             ],
             [
              0.3333333333333333,
              "#9c179e"
             ],
             [
              0.4444444444444444,
              "#bd3786"
             ],
             [
              0.5555555555555556,
              "#d8576b"
             ],
             [
              0.6666666666666666,
              "#ed7953"
             ],
             [
              0.7777777777777778,
              "#fb9f3a"
             ],
             [
              0.8888888888888888,
              "#fdca26"
             ],
             [
              1,
              "#f0f921"
             ]
            ],
            "type": "histogram2d"
           }
          ],
          "histogram2dcontour": [
           {
            "colorbar": {
             "outlinewidth": 0,
             "ticks": ""
            },
            "colorscale": [
             [
              0,
              "#0d0887"
             ],
             [
              0.1111111111111111,
              "#46039f"
             ],
             [
              0.2222222222222222,
              "#7201a8"
             ],
             [
              0.3333333333333333,
              "#9c179e"
             ],
             [
              0.4444444444444444,
              "#bd3786"
             ],
             [
              0.5555555555555556,
              "#d8576b"
             ],
             [
              0.6666666666666666,
              "#ed7953"
             ],
             [
              0.7777777777777778,
              "#fb9f3a"
             ],
             [
              0.8888888888888888,
              "#fdca26"
             ],
             [
              1,
              "#f0f921"
             ]
            ],
            "type": "histogram2dcontour"
           }
          ],
          "mesh3d": [
           {
            "colorbar": {
             "outlinewidth": 0,
             "ticks": ""
            },
            "type": "mesh3d"
           }
          ],
          "parcoords": [
           {
            "line": {
             "colorbar": {
              "outlinewidth": 0,
              "ticks": ""
             }
            },
            "type": "parcoords"
           }
          ],
          "pie": [
           {
            "automargin": true,
            "type": "pie"
           }
          ],
          "scatter": [
           {
            "fillpattern": {
             "fillmode": "overlay",
             "size": 10,
             "solidity": 0.2
            },
            "type": "scatter"
           }
          ],
          "scatter3d": [
           {
            "line": {
             "colorbar": {
              "outlinewidth": 0,
              "ticks": ""
             }
            },
            "marker": {
             "colorbar": {
              "outlinewidth": 0,
              "ticks": ""
             }
            },
            "type": "scatter3d"
           }
          ],
          "scattercarpet": [
           {
            "marker": {
             "colorbar": {
              "outlinewidth": 0,
              "ticks": ""
             }
            },
            "type": "scattercarpet"
           }
          ],
          "scattergeo": [
           {
            "marker": {
             "colorbar": {
              "outlinewidth": 0,
              "ticks": ""
             }
            },
            "type": "scattergeo"
           }
          ],
          "scattergl": [
           {
            "marker": {
             "colorbar": {
              "outlinewidth": 0,
              "ticks": ""
             }
            },
            "type": "scattergl"
           }
          ],
          "scattermapbox": [
           {
            "marker": {
             "colorbar": {
              "outlinewidth": 0,
              "ticks": ""
             }
            },
            "type": "scattermapbox"
           }
          ],
          "scatterpolar": [
           {
            "marker": {
             "colorbar": {
              "outlinewidth": 0,
              "ticks": ""
             }
            },
            "type": "scatterpolar"
           }
          ],
          "scatterpolargl": [
           {
            "marker": {
             "colorbar": {
              "outlinewidth": 0,
              "ticks": ""
             }
            },
            "type": "scatterpolargl"
           }
          ],
          "scatterternary": [
           {
            "marker": {
             "colorbar": {
              "outlinewidth": 0,
              "ticks": ""
             }
            },
            "type": "scatterternary"
           }
          ],
          "surface": [
           {
            "colorbar": {
             "outlinewidth": 0,
             "ticks": ""
            },
            "colorscale": [
             [
              0,
              "#0d0887"
             ],
             [
              0.1111111111111111,
              "#46039f"
             ],
             [
              0.2222222222222222,
              "#7201a8"
             ],
             [
              0.3333333333333333,
              "#9c179e"
             ],
             [
              0.4444444444444444,
              "#bd3786"
             ],
             [
              0.5555555555555556,
              "#d8576b"
             ],
             [
              0.6666666666666666,
              "#ed7953"
             ],
             [
              0.7777777777777778,
              "#fb9f3a"
             ],
             [
              0.8888888888888888,
              "#fdca26"
             ],
             [
              1,
              "#f0f921"
             ]
            ],
            "type": "surface"
           }
          ],
          "table": [
           {
            "cells": {
             "fill": {
              "color": "#EBF0F8"
             },
             "line": {
              "color": "white"
             }
            },
            "header": {
             "fill": {
              "color": "#C8D4E3"
             },
             "line": {
              "color": "white"
             }
            },
            "type": "table"
           }
          ]
         },
         "layout": {
          "annotationdefaults": {
           "arrowcolor": "#2a3f5f",
           "arrowhead": 0,
           "arrowwidth": 1
          },
          "autotypenumbers": "strict",
          "coloraxis": {
           "colorbar": {
            "outlinewidth": 0,
            "ticks": ""
           }
          },
          "colorscale": {
           "diverging": [
            [
             0,
             "#8e0152"
            ],
            [
             0.1,
             "#c51b7d"
            ],
            [
             0.2,
             "#de77ae"
            ],
            [
             0.3,
             "#f1b6da"
            ],
            [
             0.4,
             "#fde0ef"
            ],
            [
             0.5,
             "#f7f7f7"
            ],
            [
             0.6,
             "#e6f5d0"
            ],
            [
             0.7,
             "#b8e186"
            ],
            [
             0.8,
             "#7fbc41"
            ],
            [
             0.9,
             "#4d9221"
            ],
            [
             1,
             "#276419"
            ]
           ],
           "sequential": [
            [
             0,
             "#0d0887"
            ],
            [
             0.1111111111111111,
             "#46039f"
            ],
            [
             0.2222222222222222,
             "#7201a8"
            ],
            [
             0.3333333333333333,
             "#9c179e"
            ],
            [
             0.4444444444444444,
             "#bd3786"
            ],
            [
             0.5555555555555556,
             "#d8576b"
            ],
            [
             0.6666666666666666,
             "#ed7953"
            ],
            [
             0.7777777777777778,
             "#fb9f3a"
            ],
            [
             0.8888888888888888,
             "#fdca26"
            ],
            [
             1,
             "#f0f921"
            ]
           ],
           "sequentialminus": [
            [
             0,
             "#0d0887"
            ],
            [
             0.1111111111111111,
             "#46039f"
            ],
            [
             0.2222222222222222,
             "#7201a8"
            ],
            [
             0.3333333333333333,
             "#9c179e"
            ],
            [
             0.4444444444444444,
             "#bd3786"
            ],
            [
             0.5555555555555556,
             "#d8576b"
            ],
            [
             0.6666666666666666,
             "#ed7953"
            ],
            [
             0.7777777777777778,
             "#fb9f3a"
            ],
            [
             0.8888888888888888,
             "#fdca26"
            ],
            [
             1,
             "#f0f921"
            ]
           ]
          },
          "colorway": [
           "#636efa",
           "#EF553B",
           "#00cc96",
           "#ab63fa",
           "#FFA15A",
           "#19d3f3",
           "#FF6692",
           "#B6E880",
           "#FF97FF",
           "#FECB52"
          ],
          "font": {
           "color": "#2a3f5f"
          },
          "geo": {
           "bgcolor": "white",
           "lakecolor": "white",
           "landcolor": "#E5ECF6",
           "showlakes": true,
           "showland": true,
           "subunitcolor": "white"
          },
          "hoverlabel": {
           "align": "left"
          },
          "hovermode": "closest",
          "mapbox": {
           "style": "light"
          },
          "paper_bgcolor": "white",
          "plot_bgcolor": "#E5ECF6",
          "polar": {
           "angularaxis": {
            "gridcolor": "white",
            "linecolor": "white",
            "ticks": ""
           },
           "bgcolor": "#E5ECF6",
           "radialaxis": {
            "gridcolor": "white",
            "linecolor": "white",
            "ticks": ""
           }
          },
          "scene": {
           "xaxis": {
            "backgroundcolor": "#E5ECF6",
            "gridcolor": "white",
            "gridwidth": 2,
            "linecolor": "white",
            "showbackground": true,
            "ticks": "",
            "zerolinecolor": "white"
           },
           "yaxis": {
            "backgroundcolor": "#E5ECF6",
            "gridcolor": "white",
            "gridwidth": 2,
            "linecolor": "white",
            "showbackground": true,
            "ticks": "",
            "zerolinecolor": "white"
           },
           "zaxis": {
            "backgroundcolor": "#E5ECF6",
            "gridcolor": "white",
            "gridwidth": 2,
            "linecolor": "white",
            "showbackground": true,
            "ticks": "",
            "zerolinecolor": "white"
           }
          },
          "shapedefaults": {
           "line": {
            "color": "#2a3f5f"
           }
          },
          "ternary": {
           "aaxis": {
            "gridcolor": "white",
            "linecolor": "white",
            "ticks": ""
           },
           "baxis": {
            "gridcolor": "white",
            "linecolor": "white",
            "ticks": ""
           },
           "bgcolor": "#E5ECF6",
           "caxis": {
            "gridcolor": "white",
            "linecolor": "white",
            "ticks": ""
           }
          },
          "title": {
           "x": 0.05
          },
          "xaxis": {
           "automargin": true,
           "gridcolor": "white",
           "linecolor": "white",
           "ticks": "",
           "title": {
            "standoff": 15
           },
           "zerolinecolor": "white",
           "zerolinewidth": 2
          },
          "yaxis": {
           "automargin": true,
           "gridcolor": "white",
           "linecolor": "white",
           "ticks": "",
           "title": {
            "standoff": 15
           },
           "zerolinecolor": "white",
           "zerolinewidth": 2
          }
         }
        },
        "width": 800,
        "xaxis": {
         "title": {
          "text": "Ngày"
         }
        },
        "yaxis": {
         "range": [
          60,
          90
         ],
         "title": {
          "text": "Hiệu suất (Kw)"
         }
        }
       }
      }
     },
     "metadata": {},
     "output_type": "display_data"
    }
   ],
   "source": [
    "df2=df1[df1['month']<6]\n",
    "print(df2)\n",
    "x2=df2['ngay']\n",
    "y2=df2['Hieu suat']\n",
    "mymodel2 = np.poly1d(np.polyfit(x2, y2, 1))\n",
    "\n",
    "myline2 = np.linspace(0, 70, 100)\n",
    "\n",
    "fig2 = go.Figure()\n",
    "fig2.add_trace(go.Scatter(\n",
    "    x=x2,\n",
    "    y=y2,\n",
    "    name=\"Hiệu suất\"))\n",
    "fig2.add_trace(go.Scatter(\n",
    "    x=myline2,\n",
    "    y=mymodel2(myline2),\n",
    "    name=\"Hiệu suất tuyến tính tháng 3,4,5\"))\n",
    "fig2.update_layout(yaxis_range=[60, 90])\n",
    "dpi = 200\n",
    "fig2.update_layout(dragmode='zoom', width=800, height=600)\n",
    "print(r2_score(y2, mymodel2(x2)))\n",
    "fig2.update_layout(\n",
    "    xaxis_title=\"Ngày\",\n",
    "    yaxis_title=\"Hiệu suất (Kw)\",\n",
    ")\n",
    "fig2.add_annotation(text=\"y=82.1701-0.0624x\", x=62.22222, y=78.28785,font=dict(color=\"red\", size=14))\n",
    "fig2.show()"
   ]
  },
  {
   "cell_type": "code",
   "execution_count": 28,
   "metadata": {},
   "outputs": [
    {
     "name": "stdout",
     "output_type": "stream",
     "text": [
      "     month        date  ngay  Hieu suat\n",
      "70       6  2022-06-01    71  78.442606\n",
      "71       6  2022-06-02    72  78.279127\n",
      "72       6  2022-06-03    73  78.072116\n",
      "73       6  2022-06-04    74  78.970150\n",
      "74       6  2022-06-05    75  78.554528\n",
      "..     ...         ...   ...        ...\n",
      "149      8  2022-08-19   150  77.732727\n",
      "150      8  2022-08-20   151  77.724142\n",
      "151      8  2022-08-21   152  77.635580\n",
      "152      8  2022-08-22   153  77.663887\n",
      "153      8  2022-08-23   154  77.741234\n",
      "\n",
      "[84 rows x 4 columns]\n",
      "0.273005785371632\n"
     ]
    },
    {
     "data": {
      "application/vnd.plotly.v1+json": {
       "config": {
        "plotlyServerURL": "https://plot.ly"
       },
       "data": [
        {
         "name": "Hiệu suất",
         "type": "scatter",
         "x": [
          71,
          72,
          73,
          74,
          75,
          76,
          77,
          78,
          79,
          80,
          81,
          82,
          83,
          84,
          85,
          86,
          87,
          88,
          89,
          90,
          91,
          92,
          93,
          94,
          95,
          96,
          97,
          98,
          99,
          100,
          101,
          102,
          103,
          104,
          105,
          106,
          107,
          108,
          109,
          110,
          111,
          112,
          113,
          114,
          115,
          116,
          117,
          118,
          119,
          120,
          121,
          122,
          123,
          124,
          125,
          126,
          127,
          128,
          129,
          130,
          131,
          132,
          133,
          134,
          135,
          136,
          137,
          138,
          139,
          140,
          141,
          142,
          143,
          144,
          145,
          146,
          147,
          148,
          149,
          150,
          151,
          152,
          153,
          154
         ],
         "y": [
          78.44260598974708,
          78.27912672387009,
          78.07211572741392,
          78.97015011376914,
          78.55452798904193,
          78.71574966708081,
          78.17653269113227,
          78.17519696799722,
          78.20724908858645,
          78.30213461763552,
          77.63021839471452,
          78.46031544716745,
          78.28463554492089,
          78.22602768877073,
          78.40623106352808,
          77.9801780090143,
          78.69398770778248,
          78.2937287120974,
          78.36152811098134,
          77.62091011360847,
          78.586352630293,
          78.44517260404353,
          78.37911414773899,
          78.64690801149744,
          77.81536239587896,
          79.12736519905413,
          78.4962896897141,
          78.58271500923559,
          78.97839998513254,
          78.42860500683022,
          78.45888919565758,
          79.0796936067198,
          78.3407821908624,
          77.40322865304014,
          78.21511447663127,
          77.70547982061021,
          78.27744898402558,
          78.66458381899692,
          78.24988485861748,
          78.7167715950216,
          78.65102132858142,
          78.80271767631044,
          77.89146393416027,
          78.03012133287442,
          78.86449836808613,
          78.07989197270565,
          78.575254827573,
          78.60583425596205,
          78.55628042757421,
          78.82757523534372,
          78.43267145063975,
          77.92492013943632,
          78.6001265289012,
          78.08104446370501,
          78.25585391075585,
          78.1871932830735,
          78.74627926347394,
          78.02006094096797,
          78.35413616502977,
          78.67186153200468,
          78.21670790397987,
          77.56238032874577,
          77.76676322315062,
          77.85854737366093,
          77.40407255079396,
          77.75305596335217,
          77.66788180341018,
          77.5430843554579,
          77.24561582664643,
          77.44659134729754,
          77.74847847194955,
          77.75783871104616,
          77.6968795593175,
          77.65908210370617,
          77.58330165582313,
          78.07198342903641,
          77.74859687935063,
          77.61280364787656,
          77.69644390004416,
          77.732727349678,
          77.72414174718624,
          77.63557985473469,
          77.66388711741091,
          77.74123429501287
         ]
        },
        {
         "name": "Hiệu suất tuyến tính tháng 6,7,8",
         "type": "scatter",
         "x": [
          71,
          71.83838383838383,
          72.67676767676768,
          73.51515151515152,
          74.35353535353535,
          75.1919191919192,
          76.03030303030303,
          76.86868686868686,
          77.70707070707071,
          78.54545454545455,
          79.38383838383838,
          80.22222222222223,
          81.06060606060606,
          81.8989898989899,
          82.73737373737373,
          83.57575757575758,
          84.41414141414141,
          85.25252525252526,
          86.0909090909091,
          86.92929292929293,
          87.76767676767676,
          88.60606060606061,
          89.44444444444444,
          90.28282828282828,
          91.12121212121212,
          91.95959595959596,
          92.79797979797979,
          93.63636363636364,
          94.47474747474747,
          95.31313131313131,
          96.15151515151516,
          96.98989898989899,
          97.82828282828282,
          98.66666666666666,
          99.5050505050505,
          100.34343434343434,
          101.18181818181819,
          102.02020202020202,
          102.85858585858585,
          103.69696969696969,
          104.53535353535354,
          105.37373737373737,
          106.21212121212122,
          107.05050505050505,
          107.88888888888889,
          108.72727272727272,
          109.56565656565655,
          110.4040404040404,
          111.24242424242425,
          112.08080808080808,
          112.91919191919192,
          113.75757575757575,
          114.59595959595958,
          115.43434343434343,
          116.27272727272728,
          117.11111111111111,
          117.94949494949495,
          118.78787878787878,
          119.62626262626262,
          120.46464646464646,
          121.3030303030303,
          122.14141414141415,
          122.97979797979798,
          123.81818181818181,
          124.65656565656565,
          125.4949494949495,
          126.33333333333333,
          127.17171717171718,
          128.010101010101,
          128.84848484848484,
          129.68686868686868,
          130.5252525252525,
          131.36363636363637,
          132.2020202020202,
          133.04040404040404,
          133.87878787878788,
          134.7171717171717,
          135.55555555555554,
          136.39393939393938,
          137.2323232323232,
          138.07070707070707,
          138.9090909090909,
          139.74747474747474,
          140.5858585858586,
          141.42424242424244,
          142.26262626262627,
          143.1010101010101,
          143.93939393939394,
          144.77777777777777,
          145.6161616161616,
          146.45454545454544,
          147.29292929292927,
          148.1313131313131,
          148.96969696969697,
          149.8080808080808,
          150.64646464646464,
          151.4848484848485,
          152.32323232323233,
          153.16161616161617,
          154
         ],
         "y": [
          78.57936627764248,
          78.5713049576238,
          78.56324363760511,
          78.55518231758643,
          78.54712099756775,
          78.53905967754906,
          78.53099835753038,
          78.52293703751171,
          78.51487571749303,
          78.50681439747434,
          78.49875307745566,
          78.49069175743698,
          78.4826304374183,
          78.47456911739961,
          78.46650779738093,
          78.45844647736226,
          78.45038515734358,
          78.44232383732489,
          78.43426251730621,
          78.42620119728753,
          78.41813987726884,
          78.41007855725016,
          78.40201723723149,
          78.3939559172128,
          78.38589459719412,
          78.37783327717544,
          78.36977195715676,
          78.36171063713807,
          78.35364931711939,
          78.34558799710071,
          78.33752667708204,
          78.32946535706336,
          78.32140403704467,
          78.31334271702599,
          78.3052813970073,
          78.29722007698862,
          78.28915875696994,
          78.28109743695127,
          78.27303611693259,
          78.2649747969139,
          78.25691347689522,
          78.24885215687654,
          78.24079083685785,
          78.23272951683917,
          78.22466819682049,
          78.21660687680182,
          78.20854555678314,
          78.20048423676445,
          78.19242291674577,
          78.18436159672709,
          78.1763002767084,
          78.16823895668972,
          78.16017763667105,
          78.15211631665237,
          78.14405499663368,
          78.135993676615,
          78.12793235659632,
          78.11987103657763,
          78.11180971655895,
          78.10374839654027,
          78.0956870765216,
          78.08762575650292,
          78.07956443648423,
          78.07150311646555,
          78.06344179644687,
          78.05538047642818,
          78.0473191564095,
          78.03925783639083,
          78.03119651637215,
          78.02313519635346,
          78.01507387633478,
          78.0070125563161,
          77.99895123629742,
          77.99088991627873,
          77.98282859626005,
          77.97476727624138,
          77.9667059562227,
          77.95864463620401,
          77.95058331618533,
          77.94252199616665,
          77.93446067614796,
          77.92639935612928,
          77.91833803611061,
          77.91027671609193,
          77.90221539607325,
          77.89415407605456,
          77.88609275603588,
          77.8780314360172,
          77.86997011599851,
          77.86190879597983,
          77.85384747596116,
          77.84578615594248,
          77.8377248359238,
          77.82966351590511,
          77.82160219588643,
          77.81354087586774,
          77.80547955584906,
          77.79741823583039,
          77.78935691581171,
          77.78129559579303
         ]
        }
       ],
       "layout": {
        "annotations": [
         {
          "font": {
           "color": "red",
           "size": 14
          },
          "text": "y=78.5794-0.0096x",
          "x": 138.0707,
          "y": 77.93446
         }
        ],
        "height": 600,
        "template": {
         "data": {
          "bar": [
           {
            "error_x": {
             "color": "#2a3f5f"
            },
            "error_y": {
             "color": "#2a3f5f"
            },
            "marker": {
             "line": {
              "color": "#E5ECF6",
              "width": 0.5
             },
             "pattern": {
              "fillmode": "overlay",
              "size": 10,
              "solidity": 0.2
             }
            },
            "type": "bar"
           }
          ],
          "barpolar": [
           {
            "marker": {
             "line": {
              "color": "#E5ECF6",
              "width": 0.5
             },
             "pattern": {
              "fillmode": "overlay",
              "size": 10,
              "solidity": 0.2
             }
            },
            "type": "barpolar"
           }
          ],
          "carpet": [
           {
            "aaxis": {
             "endlinecolor": "#2a3f5f",
             "gridcolor": "white",
             "linecolor": "white",
             "minorgridcolor": "white",
             "startlinecolor": "#2a3f5f"
            },
            "baxis": {
             "endlinecolor": "#2a3f5f",
             "gridcolor": "white",
             "linecolor": "white",
             "minorgridcolor": "white",
             "startlinecolor": "#2a3f5f"
            },
            "type": "carpet"
           }
          ],
          "choropleth": [
           {
            "colorbar": {
             "outlinewidth": 0,
             "ticks": ""
            },
            "type": "choropleth"
           }
          ],
          "contour": [
           {
            "colorbar": {
             "outlinewidth": 0,
             "ticks": ""
            },
            "colorscale": [
             [
              0,
              "#0d0887"
             ],
             [
              0.1111111111111111,
              "#46039f"
             ],
             [
              0.2222222222222222,
              "#7201a8"
             ],
             [
              0.3333333333333333,
              "#9c179e"
             ],
             [
              0.4444444444444444,
              "#bd3786"
             ],
             [
              0.5555555555555556,
              "#d8576b"
             ],
             [
              0.6666666666666666,
              "#ed7953"
             ],
             [
              0.7777777777777778,
              "#fb9f3a"
             ],
             [
              0.8888888888888888,
              "#fdca26"
             ],
             [
              1,
              "#f0f921"
             ]
            ],
            "type": "contour"
           }
          ],
          "contourcarpet": [
           {
            "colorbar": {
             "outlinewidth": 0,
             "ticks": ""
            },
            "type": "contourcarpet"
           }
          ],
          "heatmap": [
           {
            "colorbar": {
             "outlinewidth": 0,
             "ticks": ""
            },
            "colorscale": [
             [
              0,
              "#0d0887"
             ],
             [
              0.1111111111111111,
              "#46039f"
             ],
             [
              0.2222222222222222,
              "#7201a8"
             ],
             [
              0.3333333333333333,
              "#9c179e"
             ],
             [
              0.4444444444444444,
              "#bd3786"
             ],
             [
              0.5555555555555556,
              "#d8576b"
             ],
             [
              0.6666666666666666,
              "#ed7953"
             ],
             [
              0.7777777777777778,
              "#fb9f3a"
             ],
             [
              0.8888888888888888,
              "#fdca26"
             ],
             [
              1,
              "#f0f921"
             ]
            ],
            "type": "heatmap"
           }
          ],
          "heatmapgl": [
           {
            "colorbar": {
             "outlinewidth": 0,
             "ticks": ""
            },
            "colorscale": [
             [
              0,
              "#0d0887"
             ],
             [
              0.1111111111111111,
              "#46039f"
             ],
             [
              0.2222222222222222,
              "#7201a8"
             ],
             [
              0.3333333333333333,
              "#9c179e"
             ],
             [
              0.4444444444444444,
              "#bd3786"
             ],
             [
              0.5555555555555556,
              "#d8576b"
             ],
             [
              0.6666666666666666,
              "#ed7953"
             ],
             [
              0.7777777777777778,
              "#fb9f3a"
             ],
             [
              0.8888888888888888,
              "#fdca26"
             ],
             [
              1,
              "#f0f921"
             ]
            ],
            "type": "heatmapgl"
           }
          ],
          "histogram": [
           {
            "marker": {
             "pattern": {
              "fillmode": "overlay",
              "size": 10,
              "solidity": 0.2
             }
            },
            "type": "histogram"
           }
          ],
          "histogram2d": [
           {
            "colorbar": {
             "outlinewidth": 0,
             "ticks": ""
            },
            "colorscale": [
             [
              0,
              "#0d0887"
             ],
             [
              0.1111111111111111,
              "#46039f"
             ],
             [
              0.2222222222222222,
              "#7201a8"
             ],
             [
              0.3333333333333333,
              "#9c179e"
             ],
             [
              0.4444444444444444,
              "#bd3786"
             ],
             [
              0.5555555555555556,
              "#d8576b"
             ],
             [
              0.6666666666666666,
              "#ed7953"
             ],
             [
              0.7777777777777778,
              "#fb9f3a"
             ],
             [
              0.8888888888888888,
              "#fdca26"
             ],
             [
              1,
              "#f0f921"
             ]
            ],
            "type": "histogram2d"
           }
          ],
          "histogram2dcontour": [
           {
            "colorbar": {
             "outlinewidth": 0,
             "ticks": ""
            },
            "colorscale": [
             [
              0,
              "#0d0887"
             ],
             [
              0.1111111111111111,
              "#46039f"
             ],
             [
              0.2222222222222222,
              "#7201a8"
             ],
             [
              0.3333333333333333,
              "#9c179e"
             ],
             [
              0.4444444444444444,
              "#bd3786"
             ],
             [
              0.5555555555555556,
              "#d8576b"
             ],
             [
              0.6666666666666666,
              "#ed7953"
             ],
             [
              0.7777777777777778,
              "#fb9f3a"
             ],
             [
              0.8888888888888888,
              "#fdca26"
             ],
             [
              1,
              "#f0f921"
             ]
            ],
            "type": "histogram2dcontour"
           }
          ],
          "mesh3d": [
           {
            "colorbar": {
             "outlinewidth": 0,
             "ticks": ""
            },
            "type": "mesh3d"
           }
          ],
          "parcoords": [
           {
            "line": {
             "colorbar": {
              "outlinewidth": 0,
              "ticks": ""
             }
            },
            "type": "parcoords"
           }
          ],
          "pie": [
           {
            "automargin": true,
            "type": "pie"
           }
          ],
          "scatter": [
           {
            "fillpattern": {
             "fillmode": "overlay",
             "size": 10,
             "solidity": 0.2
            },
            "type": "scatter"
           }
          ],
          "scatter3d": [
           {
            "line": {
             "colorbar": {
              "outlinewidth": 0,
              "ticks": ""
             }
            },
            "marker": {
             "colorbar": {
              "outlinewidth": 0,
              "ticks": ""
             }
            },
            "type": "scatter3d"
           }
          ],
          "scattercarpet": [
           {
            "marker": {
             "colorbar": {
              "outlinewidth": 0,
              "ticks": ""
             }
            },
            "type": "scattercarpet"
           }
          ],
          "scattergeo": [
           {
            "marker": {
             "colorbar": {
              "outlinewidth": 0,
              "ticks": ""
             }
            },
            "type": "scattergeo"
           }
          ],
          "scattergl": [
           {
            "marker": {
             "colorbar": {
              "outlinewidth": 0,
              "ticks": ""
             }
            },
            "type": "scattergl"
           }
          ],
          "scattermapbox": [
           {
            "marker": {
             "colorbar": {
              "outlinewidth": 0,
              "ticks": ""
             }
            },
            "type": "scattermapbox"
           }
          ],
          "scatterpolar": [
           {
            "marker": {
             "colorbar": {
              "outlinewidth": 0,
              "ticks": ""
             }
            },
            "type": "scatterpolar"
           }
          ],
          "scatterpolargl": [
           {
            "marker": {
             "colorbar": {
              "outlinewidth": 0,
              "ticks": ""
             }
            },
            "type": "scatterpolargl"
           }
          ],
          "scatterternary": [
           {
            "marker": {
             "colorbar": {
              "outlinewidth": 0,
              "ticks": ""
             }
            },
            "type": "scatterternary"
           }
          ],
          "surface": [
           {
            "colorbar": {
             "outlinewidth": 0,
             "ticks": ""
            },
            "colorscale": [
             [
              0,
              "#0d0887"
             ],
             [
              0.1111111111111111,
              "#46039f"
             ],
             [
              0.2222222222222222,
              "#7201a8"
             ],
             [
              0.3333333333333333,
              "#9c179e"
             ],
             [
              0.4444444444444444,
              "#bd3786"
             ],
             [
              0.5555555555555556,
              "#d8576b"
             ],
             [
              0.6666666666666666,
              "#ed7953"
             ],
             [
              0.7777777777777778,
              "#fb9f3a"
             ],
             [
              0.8888888888888888,
              "#fdca26"
             ],
             [
              1,
              "#f0f921"
             ]
            ],
            "type": "surface"
           }
          ],
          "table": [
           {
            "cells": {
             "fill": {
              "color": "#EBF0F8"
             },
             "line": {
              "color": "white"
             }
            },
            "header": {
             "fill": {
              "color": "#C8D4E3"
             },
             "line": {
              "color": "white"
             }
            },
            "type": "table"
           }
          ]
         },
         "layout": {
          "annotationdefaults": {
           "arrowcolor": "#2a3f5f",
           "arrowhead": 0,
           "arrowwidth": 1
          },
          "autotypenumbers": "strict",
          "coloraxis": {
           "colorbar": {
            "outlinewidth": 0,
            "ticks": ""
           }
          },
          "colorscale": {
           "diverging": [
            [
             0,
             "#8e0152"
            ],
            [
             0.1,
             "#c51b7d"
            ],
            [
             0.2,
             "#de77ae"
            ],
            [
             0.3,
             "#f1b6da"
            ],
            [
             0.4,
             "#fde0ef"
            ],
            [
             0.5,
             "#f7f7f7"
            ],
            [
             0.6,
             "#e6f5d0"
            ],
            [
             0.7,
             "#b8e186"
            ],
            [
             0.8,
             "#7fbc41"
            ],
            [
             0.9,
             "#4d9221"
            ],
            [
             1,
             "#276419"
            ]
           ],
           "sequential": [
            [
             0,
             "#0d0887"
            ],
            [
             0.1111111111111111,
             "#46039f"
            ],
            [
             0.2222222222222222,
             "#7201a8"
            ],
            [
             0.3333333333333333,
             "#9c179e"
            ],
            [
             0.4444444444444444,
             "#bd3786"
            ],
            [
             0.5555555555555556,
             "#d8576b"
            ],
            [
             0.6666666666666666,
             "#ed7953"
            ],
            [
             0.7777777777777778,
             "#fb9f3a"
            ],
            [
             0.8888888888888888,
             "#fdca26"
            ],
            [
             1,
             "#f0f921"
            ]
           ],
           "sequentialminus": [
            [
             0,
             "#0d0887"
            ],
            [
             0.1111111111111111,
             "#46039f"
            ],
            [
             0.2222222222222222,
             "#7201a8"
            ],
            [
             0.3333333333333333,
             "#9c179e"
            ],
            [
             0.4444444444444444,
             "#bd3786"
            ],
            [
             0.5555555555555556,
             "#d8576b"
            ],
            [
             0.6666666666666666,
             "#ed7953"
            ],
            [
             0.7777777777777778,
             "#fb9f3a"
            ],
            [
             0.8888888888888888,
             "#fdca26"
            ],
            [
             1,
             "#f0f921"
            ]
           ]
          },
          "colorway": [
           "#636efa",
           "#EF553B",
           "#00cc96",
           "#ab63fa",
           "#FFA15A",
           "#19d3f3",
           "#FF6692",
           "#B6E880",
           "#FF97FF",
           "#FECB52"
          ],
          "font": {
           "color": "#2a3f5f"
          },
          "geo": {
           "bgcolor": "white",
           "lakecolor": "white",
           "landcolor": "#E5ECF6",
           "showlakes": true,
           "showland": true,
           "subunitcolor": "white"
          },
          "hoverlabel": {
           "align": "left"
          },
          "hovermode": "closest",
          "mapbox": {
           "style": "light"
          },
          "paper_bgcolor": "white",
          "plot_bgcolor": "#E5ECF6",
          "polar": {
           "angularaxis": {
            "gridcolor": "white",
            "linecolor": "white",
            "ticks": ""
           },
           "bgcolor": "#E5ECF6",
           "radialaxis": {
            "gridcolor": "white",
            "linecolor": "white",
            "ticks": ""
           }
          },
          "scene": {
           "xaxis": {
            "backgroundcolor": "#E5ECF6",
            "gridcolor": "white",
            "gridwidth": 2,
            "linecolor": "white",
            "showbackground": true,
            "ticks": "",
            "zerolinecolor": "white"
           },
           "yaxis": {
            "backgroundcolor": "#E5ECF6",
            "gridcolor": "white",
            "gridwidth": 2,
            "linecolor": "white",
            "showbackground": true,
            "ticks": "",
            "zerolinecolor": "white"
           },
           "zaxis": {
            "backgroundcolor": "#E5ECF6",
            "gridcolor": "white",
            "gridwidth": 2,
            "linecolor": "white",
            "showbackground": true,
            "ticks": "",
            "zerolinecolor": "white"
           }
          },
          "shapedefaults": {
           "line": {
            "color": "#2a3f5f"
           }
          },
          "ternary": {
           "aaxis": {
            "gridcolor": "white",
            "linecolor": "white",
            "ticks": ""
           },
           "baxis": {
            "gridcolor": "white",
            "linecolor": "white",
            "ticks": ""
           },
           "bgcolor": "#E5ECF6",
           "caxis": {
            "gridcolor": "white",
            "linecolor": "white",
            "ticks": ""
           }
          },
          "title": {
           "x": 0.05
          },
          "xaxis": {
           "automargin": true,
           "gridcolor": "white",
           "linecolor": "white",
           "ticks": "",
           "title": {
            "standoff": 15
           },
           "zerolinecolor": "white",
           "zerolinewidth": 2
          },
          "yaxis": {
           "automargin": true,
           "gridcolor": "white",
           "linecolor": "white",
           "ticks": "",
           "title": {
            "standoff": 15
           },
           "zerolinecolor": "white",
           "zerolinewidth": 2
          }
         }
        },
        "width": 800,
        "xaxis": {
         "title": {
          "text": "Ngày"
         }
        },
        "yaxis": {
         "range": [
          60,
          90
         ],
         "title": {
          "text": "Hiệu suất (Kw)"
         }
        }
       }
      }
     },
     "metadata": {},
     "output_type": "display_data"
    }
   ],
   "source": [
    "df3=df1[df1['month']>=6]\n",
    "print(df3)\n",
    "x3=df3['ngay']\n",
    "y3=df3['Hieu suat']\n",
    "mymodel3 = np.poly1d(np.polyfit(x3, y3, 1))\n",
    "\n",
    "myline3 = np.linspace(71, 154, 100)\n",
    "\n",
    "fig3 = go.Figure()\n",
    "fig3.add_trace(go.Scatter(\n",
    "    x=x3,\n",
    "    y=y3,\n",
    "    name=\"Hiệu suất\"))\n",
    "fig3.add_trace(go.Scatter(\n",
    "    x=myline3,\n",
    "    y=mymodel3(myline3),\n",
    "    name=\"Hiệu suất tuyến tính tháng 6,7,8\"))\n",
    "fig3.update_layout(yaxis_range=[60, 90])\n",
    "fig3.update_layout(height=600)\n",
    "fig3.update_layout(width=800)\n",
    "print(r2_score(y3, mymodel3(x3)))\n",
    "fig3.update_layout(\n",
    "    xaxis_title=\"Ngày\",\n",
    "    yaxis_title=\"Hiệu suất (%)\"\n",
    ")\n",
    "fig3.add_annotation(text=\"y=78.5794-0.0096x\", x=138.0707, y=77.93446,font=dict(color=\"red\", size=14))\n",
    "fig3.show()"
   ]
  },
  {
   "cell_type": "code",
   "execution_count": 29,
   "metadata": {},
   "outputs": [
    {
     "data": {
      "application/vnd.plotly.v1+json": {
       "config": {
        "plotlyServerURL": "https://plot.ly"
       },
       "data": [
        {
         "name": "Sản lượng",
         "showlegend": true,
         "type": "scatter",
         "x": [
          "2022-04-20T06:00:00",
          "2022-04-20T06:05:00",
          "2022-04-20T06:10:00",
          "2022-04-20T06:15:00",
          "2022-04-20T06:20:00",
          "2022-04-20T06:25:00",
          "2022-04-20T06:30:00",
          "2022-04-20T06:35:00",
          "2022-04-20T06:40:00",
          "2022-04-20T06:45:00",
          "2022-04-20T06:50:00",
          "2022-04-20T06:55:00",
          "2022-04-20T07:00:00",
          "2022-04-20T07:05:00",
          "2022-04-20T07:10:00",
          "2022-04-20T07:15:00",
          "2022-04-20T07:20:00",
          "2022-04-20T07:25:00",
          "2022-04-20T07:30:00",
          "2022-04-20T07:35:00",
          "2022-04-20T07:40:00",
          "2022-04-20T07:45:00",
          "2022-04-20T07:50:00",
          "2022-04-20T07:55:00",
          "2022-04-20T08:00:00",
          "2022-04-20T08:05:00",
          "2022-04-20T08:10:00",
          "2022-04-20T08:15:00",
          "2022-04-20T08:20:00",
          "2022-04-20T08:25:00",
          "2022-04-20T08:30:00",
          "2022-04-20T08:35:00",
          "2022-04-20T08:40:00",
          "2022-04-20T08:45:00",
          "2022-04-20T08:50:00",
          "2022-04-20T08:55:00",
          "2022-04-20T09:00:00",
          "2022-04-20T09:05:00",
          "2022-04-20T09:10:00",
          "2022-04-20T09:15:00",
          "2022-04-20T09:20:00",
          "2022-04-20T09:25:00",
          "2022-04-20T09:30:00",
          "2022-04-20T09:35:00",
          "2022-04-20T09:40:00",
          "2022-04-20T09:45:00",
          "2022-04-20T09:50:00",
          "2022-04-20T09:55:00",
          "2022-04-20T10:00:00",
          "2022-04-20T10:05:00",
          "2022-04-20T10:10:00",
          "2022-04-20T10:15:00",
          "2022-04-20T10:20:00",
          "2022-04-20T10:25:00",
          "2022-04-20T10:30:00",
          "2022-04-20T10:35:00",
          "2022-04-20T10:40:00",
          "2022-04-20T10:45:00",
          "2022-04-20T10:50:00",
          "2022-04-20T10:55:00",
          "2022-04-20T11:00:00",
          "2022-04-20T11:05:00",
          "2022-04-20T11:10:00",
          "2022-04-20T11:15:00",
          "2022-04-20T11:20:00",
          "2022-04-20T11:25:00",
          "2022-04-20T11:30:00",
          "2022-04-20T11:35:00",
          "2022-04-20T11:40:00",
          "2022-04-20T11:45:00",
          "2022-04-20T11:50:00",
          "2022-04-20T11:55:00",
          "2022-04-20T12:00:00",
          "2022-04-20T12:05:00",
          "2022-04-20T12:10:00",
          "2022-04-20T12:15:00",
          "2022-04-20T12:20:00",
          "2022-04-20T12:25:00",
          "2022-04-20T12:30:00",
          "2022-04-20T12:35:00",
          "2022-04-20T12:40:00",
          "2022-04-20T12:45:00",
          "2022-04-20T12:50:00",
          "2022-04-20T12:55:00",
          "2022-04-20T13:00:00",
          "2022-04-20T13:05:00",
          "2022-04-20T13:10:00",
          "2022-04-20T13:15:00",
          "2022-04-20T13:20:00",
          "2022-04-20T13:25:00",
          "2022-04-20T13:30:00",
          "2022-04-20T13:35:00",
          "2022-04-20T13:40:00",
          "2022-04-20T13:45:00",
          "2022-04-20T13:50:00",
          "2022-04-20T13:55:00",
          "2022-04-20T14:00:00",
          "2022-04-20T14:05:00",
          "2022-04-20T14:10:00",
          "2022-04-20T14:15:00",
          "2022-04-20T14:20:00",
          "2022-04-20T14:25:00",
          "2022-04-20T14:30:00",
          "2022-04-20T14:35:00",
          "2022-04-20T14:40:00",
          "2022-04-20T14:45:00",
          "2022-04-20T14:50:00",
          "2022-04-20T14:55:00",
          "2022-04-20T15:00:00",
          "2022-04-20T15:05:00",
          "2022-04-20T15:10:00",
          "2022-04-20T15:15:00",
          "2022-04-20T15:20:00",
          "2022-04-20T15:25:00",
          "2022-04-20T15:30:00",
          "2022-04-20T15:35:00",
          "2022-04-20T15:40:00",
          "2022-04-20T15:45:00",
          "2022-04-20T15:50:00",
          "2022-04-20T15:55:00",
          "2022-04-20T16:00:00",
          "2022-04-20T16:05:00",
          "2022-04-20T16:10:00",
          "2022-04-20T16:15:00",
          "2022-04-20T16:20:00",
          "2022-04-20T16:25:00",
          "2022-04-20T16:30:00",
          "2022-04-20T16:35:00",
          "2022-04-20T16:40:00",
          "2022-04-20T16:45:00",
          "2022-04-20T16:50:00",
          "2022-04-20T16:55:00",
          "2022-04-20T17:00:00",
          "2022-04-20T17:05:00",
          "2022-04-20T17:10:00",
          "2022-04-20T17:15:00",
          "2022-04-20T17:20:00",
          "2022-04-20T17:25:00",
          "2022-04-20T17:30:00",
          "2022-04-20T17:35:00",
          "2022-04-20T17:40:00"
         ],
         "y": [
          1.756,
          2.105,
          2.446,
          4.247,
          4.543,
          4.962,
          9.108,
          8.993,
          8.144,
          6.805,
          4.798,
          6.896,
          5.572,
          6.497,
          8.309,
          8.797,
          10.71,
          11.866,
          9.241,
          11.795,
          13.933,
          17.93,
          18.917,
          20.567,
          25.219,
          20.893,
          22.327,
          27.816,
          40.388,
          41.084,
          46.022,
          46.493,
          28.021,
          25.728,
          33.403,
          31.738,
          26.222,
          23.64,
          18.388,
          21.304,
          27.836,
          27.156,
          22.678,
          18.817,
          16.51,
          22.16,
          23.446,
          26.737,
          30.352,
          34.117,
          49.966,
          29.825,
          26.068,
          35.89,
          36.274,
          43.439,
          52.092,
          53.306,
          46.723,
          42.438,
          38.961,
          38.092,
          36.594,
          32.329,
          35.843,
          37.9,
          35.363,
          34.455,
          35.276,
          36.363,
          40.284,
          43.455,
          36.679,
          27.119,
          28.364,
          31.247,
          30.814,
          36.09,
          45.873,
          55.341,
          60.779,
          70.18,
          66.173,
          47.281,
          41.61,
          37.191,
          35.922,
          32.741,
          28.171,
          27.114,
          26.676,
          29.697,
          34.543,
          36.821,
          41.115,
          41.737,
          38.986,
          40.572,
          40.592,
          46.996,
          46.029,
          43.389,
          43.207,
          39.395,
          39.389,
          42.368,
          68.605,
          61.073,
          48.356,
          49.815,
          32.535,
          23.652,
          22.001,
          23.151,
          22.637,
          23.17,
          21.572,
          20.709,
          18.707,
          21.703,
          18.602,
          17.796,
          17.556,
          18.113,
          16.234,
          12.446,
          15.596,
          16.981,
          19.803,
          35.879,
          15.316,
          11.069,
          8.841,
          7.878,
          6.382,
          6.158,
          5.755,
          3.858,
          3.076,
          2.027,
          1.383
         ]
        },
        {
         "name": "Hiệu suất",
         "showlegend": true,
         "type": "scatter",
         "x": [
          "2022-04-20T06:00:00",
          "2022-04-20T06:05:00",
          "2022-04-20T06:10:00",
          "2022-04-20T06:15:00",
          "2022-04-20T06:20:00",
          "2022-04-20T06:25:00",
          "2022-04-20T06:30:00",
          "2022-04-20T06:35:00",
          "2022-04-20T06:40:00",
          "2022-04-20T06:45:00",
          "2022-04-20T06:50:00",
          "2022-04-20T06:55:00",
          "2022-04-20T07:00:00",
          "2022-04-20T07:05:00",
          "2022-04-20T07:10:00",
          "2022-04-20T07:15:00",
          "2022-04-20T07:20:00",
          "2022-04-20T07:25:00",
          "2022-04-20T07:30:00",
          "2022-04-20T07:35:00",
          "2022-04-20T07:40:00",
          "2022-04-20T07:45:00",
          "2022-04-20T07:50:00",
          "2022-04-20T07:55:00",
          "2022-04-20T08:00:00",
          "2022-04-20T08:05:00",
          "2022-04-20T08:10:00",
          "2022-04-20T08:15:00",
          "2022-04-20T08:20:00",
          "2022-04-20T08:25:00",
          "2022-04-20T08:30:00",
          "2022-04-20T08:35:00",
          "2022-04-20T08:40:00",
          "2022-04-20T08:45:00",
          "2022-04-20T08:50:00",
          "2022-04-20T08:55:00",
          "2022-04-20T09:00:00",
          "2022-04-20T09:05:00",
          "2022-04-20T09:10:00",
          "2022-04-20T09:15:00",
          "2022-04-20T09:20:00",
          "2022-04-20T09:25:00",
          "2022-04-20T09:30:00",
          "2022-04-20T09:35:00",
          "2022-04-20T09:40:00",
          "2022-04-20T09:45:00",
          "2022-04-20T09:50:00",
          "2022-04-20T09:55:00",
          "2022-04-20T10:00:00",
          "2022-04-20T10:05:00",
          "2022-04-20T10:10:00",
          "2022-04-20T10:15:00",
          "2022-04-20T10:20:00",
          "2022-04-20T10:25:00",
          "2022-04-20T10:30:00",
          "2022-04-20T10:35:00",
          "2022-04-20T10:40:00",
          "2022-04-20T10:45:00",
          "2022-04-20T10:50:00",
          "2022-04-20T10:55:00",
          "2022-04-20T11:00:00",
          "2022-04-20T11:05:00",
          "2022-04-20T11:10:00",
          "2022-04-20T11:15:00",
          "2022-04-20T11:20:00",
          "2022-04-20T11:25:00",
          "2022-04-20T11:30:00",
          "2022-04-20T11:35:00",
          "2022-04-20T11:40:00",
          "2022-04-20T11:45:00",
          "2022-04-20T11:50:00",
          "2022-04-20T11:55:00",
          "2022-04-20T12:00:00",
          "2022-04-20T12:05:00",
          "2022-04-20T12:10:00",
          "2022-04-20T12:15:00",
          "2022-04-20T12:20:00",
          "2022-04-20T12:25:00",
          "2022-04-20T12:30:00",
          "2022-04-20T12:35:00",
          "2022-04-20T12:40:00",
          "2022-04-20T12:45:00",
          "2022-04-20T12:50:00",
          "2022-04-20T12:55:00",
          "2022-04-20T13:00:00",
          "2022-04-20T13:05:00",
          "2022-04-20T13:10:00",
          "2022-04-20T13:15:00",
          "2022-04-20T13:20:00",
          "2022-04-20T13:25:00",
          "2022-04-20T13:30:00",
          "2022-04-20T13:35:00",
          "2022-04-20T13:40:00",
          "2022-04-20T13:45:00",
          "2022-04-20T13:50:00",
          "2022-04-20T13:55:00",
          "2022-04-20T14:00:00",
          "2022-04-20T14:05:00",
          "2022-04-20T14:10:00",
          "2022-04-20T14:15:00",
          "2022-04-20T14:20:00",
          "2022-04-20T14:25:00",
          "2022-04-20T14:30:00",
          "2022-04-20T14:35:00",
          "2022-04-20T14:40:00",
          "2022-04-20T14:45:00",
          "2022-04-20T14:50:00",
          "2022-04-20T14:55:00",
          "2022-04-20T15:00:00",
          "2022-04-20T15:05:00",
          "2022-04-20T15:10:00",
          "2022-04-20T15:15:00",
          "2022-04-20T15:20:00",
          "2022-04-20T15:25:00",
          "2022-04-20T15:30:00",
          "2022-04-20T15:35:00",
          "2022-04-20T15:40:00",
          "2022-04-20T15:45:00",
          "2022-04-20T15:50:00",
          "2022-04-20T15:55:00",
          "2022-04-20T16:00:00",
          "2022-04-20T16:05:00",
          "2022-04-20T16:10:00",
          "2022-04-20T16:15:00",
          "2022-04-20T16:20:00",
          "2022-04-20T16:25:00",
          "2022-04-20T16:30:00",
          "2022-04-20T16:35:00",
          "2022-04-20T16:40:00",
          "2022-04-20T16:45:00",
          "2022-04-20T16:50:00",
          "2022-04-20T16:55:00",
          "2022-04-20T17:00:00",
          "2022-04-20T17:05:00",
          "2022-04-20T17:10:00",
          "2022-04-20T17:15:00",
          "2022-04-20T17:20:00",
          "2022-04-20T17:25:00",
          "2022-04-20T17:30:00",
          "2022-04-20T17:35:00",
          "2022-04-20T17:40:00"
         ],
         "y": [
          71.3594837862512,
          71.90453960668563,
          73.63857765440912,
          73.72029122756562,
          74.91959022755925,
          75.42597631914407,
          78.41260853512966,
          79.84658722301799,
          78.78836494825438,
          78.65589163525625,
          75.21604627437411,
          76.75196140214004,
          76.02718998972915,
          77.7426971073431,
          77.58637639354342,
          78.70480488715111,
          79.91985878458608,
          81.59003226926652,
          80.6405557336669,
          80.43337584896747,
          81.86258751431866,
          82.14487218424202,
          80.79230154971324,
          81.81059728144204,
          81.02885606754187,
          79.87289866251754,
          79.81620241776149,
          80.47126465518268,
          81.41138096850091,
          81.7657292647897,
          83.74504501862646,
          82.9677906029086,
          80.18129421932268,
          79.71188820984477,
          81.99462580719495,
          80.96618401997918,
          81.50259550737098,
          80.14733337705121,
          78.92725833106337,
          80.6337705480198,
          82.12804103601687,
          81.84251117107227,
          81.7719110505136,
          82.1849115080164,
          79.72355840704577,
          80.18069984784182,
          80.87896722829133,
          82.04494069832374,
          82.05756802167853,
          81.62477980699072,
          81.84467598468184,
          81.44262890077415,
          79.41411731875921,
          81.7045972466447,
          82.14021381267422,
          82.62620830398724,
          82.11072891686683,
          81.67194959966108,
          82.2530659878816,
          82.12447767529862,
          81.69972249359448,
          81.63103062903278,
          81.21379689410301,
          81.27009860071959,
          80.6431341037814,
          81.5136995984581,
          81.83324003510616,
          81.34236161122656,
          81.5210052139915,
          82.1497293267619,
          83.65657232041185,
          83.92416313472452,
          82.7117719537923,
          81.21604171517964,
          80.86239807280387,
          81.41272409559731,
          82.45858408936375,
          83.7958726161277,
          83.60114682541136,
          82.50103288598525,
          74.84576676694577,
          82.51732193769577,
          82.65948918455534,
          80.60719863036356,
          80.5274994073157,
          81.10021602166908,
          82.2941898152859,
          82.17946013635022,
          81.23532923468359,
          80.99389214523367,
          80.71969260807754,
          82.26984373632564,
          83.21931525426906,
          83.38911182750871,
          82.99503346060312,
          82.31721970651155,
          82.31343575471364,
          82.45519289596533,
          82.48264494133848,
          81.79967438553611,
          81.70232098869741,
          81.86220210034608,
          81.19628790858943,
          81.26068356288363,
          81.94315357128244,
          81.71103869885248,
          80.81374133767206,
          82.0115597066086,
          83.80785531731368,
          81.89952857549562,
          81.37103597595234,
          79.69096739814363,
          80.7490727822544,
          81.06482765173055,
          83.1592673812742,
          83.02076776139486,
          82.19454330667197,
          80.54193042108304,
          80.07807252051668,
          80.60263390552508,
          79.83817173217615,
          79.98040399930456,
          80.84295546043926,
          81.23999947639918,
          80.50047715851107,
          79.97097490704903,
          80.00236498521576,
          81.44980271993772,
          83.68957323289584,
          94.50695780489899,
          83.72383569526193,
          81.40943713200164,
          80.17403571524608,
          79.41038538055464,
          78.7662362212924,
          81.10068767783572,
          82.96381192906317,
          78.23801397402127,
          77.74720392002386,
          73.58062232112195,
          71.2077527491896
         ]
        }
       ],
       "layout": {
        "template": {
         "data": {
          "bar": [
           {
            "error_x": {
             "color": "#2a3f5f"
            },
            "error_y": {
             "color": "#2a3f5f"
            },
            "marker": {
             "line": {
              "color": "#E5ECF6",
              "width": 0.5
             },
             "pattern": {
              "fillmode": "overlay",
              "size": 10,
              "solidity": 0.2
             }
            },
            "type": "bar"
           }
          ],
          "barpolar": [
           {
            "marker": {
             "line": {
              "color": "#E5ECF6",
              "width": 0.5
             },
             "pattern": {
              "fillmode": "overlay",
              "size": 10,
              "solidity": 0.2
             }
            },
            "type": "barpolar"
           }
          ],
          "carpet": [
           {
            "aaxis": {
             "endlinecolor": "#2a3f5f",
             "gridcolor": "white",
             "linecolor": "white",
             "minorgridcolor": "white",
             "startlinecolor": "#2a3f5f"
            },
            "baxis": {
             "endlinecolor": "#2a3f5f",
             "gridcolor": "white",
             "linecolor": "white",
             "minorgridcolor": "white",
             "startlinecolor": "#2a3f5f"
            },
            "type": "carpet"
           }
          ],
          "choropleth": [
           {
            "colorbar": {
             "outlinewidth": 0,
             "ticks": ""
            },
            "type": "choropleth"
           }
          ],
          "contour": [
           {
            "colorbar": {
             "outlinewidth": 0,
             "ticks": ""
            },
            "colorscale": [
             [
              0,
              "#0d0887"
             ],
             [
              0.1111111111111111,
              "#46039f"
             ],
             [
              0.2222222222222222,
              "#7201a8"
             ],
             [
              0.3333333333333333,
              "#9c179e"
             ],
             [
              0.4444444444444444,
              "#bd3786"
             ],
             [
              0.5555555555555556,
              "#d8576b"
             ],
             [
              0.6666666666666666,
              "#ed7953"
             ],
             [
              0.7777777777777778,
              "#fb9f3a"
             ],
             [
              0.8888888888888888,
              "#fdca26"
             ],
             [
              1,
              "#f0f921"
             ]
            ],
            "type": "contour"
           }
          ],
          "contourcarpet": [
           {
            "colorbar": {
             "outlinewidth": 0,
             "ticks": ""
            },
            "type": "contourcarpet"
           }
          ],
          "heatmap": [
           {
            "colorbar": {
             "outlinewidth": 0,
             "ticks": ""
            },
            "colorscale": [
             [
              0,
              "#0d0887"
             ],
             [
              0.1111111111111111,
              "#46039f"
             ],
             [
              0.2222222222222222,
              "#7201a8"
             ],
             [
              0.3333333333333333,
              "#9c179e"
             ],
             [
              0.4444444444444444,
              "#bd3786"
             ],
             [
              0.5555555555555556,
              "#d8576b"
             ],
             [
              0.6666666666666666,
              "#ed7953"
             ],
             [
              0.7777777777777778,
              "#fb9f3a"
             ],
             [
              0.8888888888888888,
              "#fdca26"
             ],
             [
              1,
              "#f0f921"
             ]
            ],
            "type": "heatmap"
           }
          ],
          "heatmapgl": [
           {
            "colorbar": {
             "outlinewidth": 0,
             "ticks": ""
            },
            "colorscale": [
             [
              0,
              "#0d0887"
             ],
             [
              0.1111111111111111,
              "#46039f"
             ],
             [
              0.2222222222222222,
              "#7201a8"
             ],
             [
              0.3333333333333333,
              "#9c179e"
             ],
             [
              0.4444444444444444,
              "#bd3786"
             ],
             [
              0.5555555555555556,
              "#d8576b"
             ],
             [
              0.6666666666666666,
              "#ed7953"
             ],
             [
              0.7777777777777778,
              "#fb9f3a"
             ],
             [
              0.8888888888888888,
              "#fdca26"
             ],
             [
              1,
              "#f0f921"
             ]
            ],
            "type": "heatmapgl"
           }
          ],
          "histogram": [
           {
            "marker": {
             "pattern": {
              "fillmode": "overlay",
              "size": 10,
              "solidity": 0.2
             }
            },
            "type": "histogram"
           }
          ],
          "histogram2d": [
           {
            "colorbar": {
             "outlinewidth": 0,
             "ticks": ""
            },
            "colorscale": [
             [
              0,
              "#0d0887"
             ],
             [
              0.1111111111111111,
              "#46039f"
             ],
             [
              0.2222222222222222,
              "#7201a8"
             ],
             [
              0.3333333333333333,
              "#9c179e"
             ],
             [
              0.4444444444444444,
              "#bd3786"
             ],
             [
              0.5555555555555556,
              "#d8576b"
             ],
             [
              0.6666666666666666,
              "#ed7953"
             ],
             [
              0.7777777777777778,
              "#fb9f3a"
             ],
             [
              0.8888888888888888,
              "#fdca26"
             ],
             [
              1,
              "#f0f921"
             ]
            ],
            "type": "histogram2d"
           }
          ],
          "histogram2dcontour": [
           {
            "colorbar": {
             "outlinewidth": 0,
             "ticks": ""
            },
            "colorscale": [
             [
              0,
              "#0d0887"
             ],
             [
              0.1111111111111111,
              "#46039f"
             ],
             [
              0.2222222222222222,
              "#7201a8"
             ],
             [
              0.3333333333333333,
              "#9c179e"
             ],
             [
              0.4444444444444444,
              "#bd3786"
             ],
             [
              0.5555555555555556,
              "#d8576b"
             ],
             [
              0.6666666666666666,
              "#ed7953"
             ],
             [
              0.7777777777777778,
              "#fb9f3a"
             ],
             [
              0.8888888888888888,
              "#fdca26"
             ],
             [
              1,
              "#f0f921"
             ]
            ],
            "type": "histogram2dcontour"
           }
          ],
          "mesh3d": [
           {
            "colorbar": {
             "outlinewidth": 0,
             "ticks": ""
            },
            "type": "mesh3d"
           }
          ],
          "parcoords": [
           {
            "line": {
             "colorbar": {
              "outlinewidth": 0,
              "ticks": ""
             }
            },
            "type": "parcoords"
           }
          ],
          "pie": [
           {
            "automargin": true,
            "type": "pie"
           }
          ],
          "scatter": [
           {
            "fillpattern": {
             "fillmode": "overlay",
             "size": 10,
             "solidity": 0.2
            },
            "type": "scatter"
           }
          ],
          "scatter3d": [
           {
            "line": {
             "colorbar": {
              "outlinewidth": 0,
              "ticks": ""
             }
            },
            "marker": {
             "colorbar": {
              "outlinewidth": 0,
              "ticks": ""
             }
            },
            "type": "scatter3d"
           }
          ],
          "scattercarpet": [
           {
            "marker": {
             "colorbar": {
              "outlinewidth": 0,
              "ticks": ""
             }
            },
            "type": "scattercarpet"
           }
          ],
          "scattergeo": [
           {
            "marker": {
             "colorbar": {
              "outlinewidth": 0,
              "ticks": ""
             }
            },
            "type": "scattergeo"
           }
          ],
          "scattergl": [
           {
            "marker": {
             "colorbar": {
              "outlinewidth": 0,
              "ticks": ""
             }
            },
            "type": "scattergl"
           }
          ],
          "scattermapbox": [
           {
            "marker": {
             "colorbar": {
              "outlinewidth": 0,
              "ticks": ""
             }
            },
            "type": "scattermapbox"
           }
          ],
          "scatterpolar": [
           {
            "marker": {
             "colorbar": {
              "outlinewidth": 0,
              "ticks": ""
             }
            },
            "type": "scatterpolar"
           }
          ],
          "scatterpolargl": [
           {
            "marker": {
             "colorbar": {
              "outlinewidth": 0,
              "ticks": ""
             }
            },
            "type": "scatterpolargl"
           }
          ],
          "scatterternary": [
           {
            "marker": {
             "colorbar": {
              "outlinewidth": 0,
              "ticks": ""
             }
            },
            "type": "scatterternary"
           }
          ],
          "surface": [
           {
            "colorbar": {
             "outlinewidth": 0,
             "ticks": ""
            },
            "colorscale": [
             [
              0,
              "#0d0887"
             ],
             [
              0.1111111111111111,
              "#46039f"
             ],
             [
              0.2222222222222222,
              "#7201a8"
             ],
             [
              0.3333333333333333,
              "#9c179e"
             ],
             [
              0.4444444444444444,
              "#bd3786"
             ],
             [
              0.5555555555555556,
              "#d8576b"
             ],
             [
              0.6666666666666666,
              "#ed7953"
             ],
             [
              0.7777777777777778,
              "#fb9f3a"
             ],
             [
              0.8888888888888888,
              "#fdca26"
             ],
             [
              1,
              "#f0f921"
             ]
            ],
            "type": "surface"
           }
          ],
          "table": [
           {
            "cells": {
             "fill": {
              "color": "#EBF0F8"
             },
             "line": {
              "color": "white"
             }
            },
            "header": {
             "fill": {
              "color": "#C8D4E3"
             },
             "line": {
              "color": "white"
             }
            },
            "type": "table"
           }
          ]
         },
         "layout": {
          "annotationdefaults": {
           "arrowcolor": "#2a3f5f",
           "arrowhead": 0,
           "arrowwidth": 1
          },
          "autotypenumbers": "strict",
          "coloraxis": {
           "colorbar": {
            "outlinewidth": 0,
            "ticks": ""
           }
          },
          "colorscale": {
           "diverging": [
            [
             0,
             "#8e0152"
            ],
            [
             0.1,
             "#c51b7d"
            ],
            [
             0.2,
             "#de77ae"
            ],
            [
             0.3,
             "#f1b6da"
            ],
            [
             0.4,
             "#fde0ef"
            ],
            [
             0.5,
             "#f7f7f7"
            ],
            [
             0.6,
             "#e6f5d0"
            ],
            [
             0.7,
             "#b8e186"
            ],
            [
             0.8,
             "#7fbc41"
            ],
            [
             0.9,
             "#4d9221"
            ],
            [
             1,
             "#276419"
            ]
           ],
           "sequential": [
            [
             0,
             "#0d0887"
            ],
            [
             0.1111111111111111,
             "#46039f"
            ],
            [
             0.2222222222222222,
             "#7201a8"
            ],
            [
             0.3333333333333333,
             "#9c179e"
            ],
            [
             0.4444444444444444,
             "#bd3786"
            ],
            [
             0.5555555555555556,
             "#d8576b"
            ],
            [
             0.6666666666666666,
             "#ed7953"
            ],
            [
             0.7777777777777778,
             "#fb9f3a"
            ],
            [
             0.8888888888888888,
             "#fdca26"
            ],
            [
             1,
             "#f0f921"
            ]
           ],
           "sequentialminus": [
            [
             0,
             "#0d0887"
            ],
            [
             0.1111111111111111,
             "#46039f"
            ],
            [
             0.2222222222222222,
             "#7201a8"
            ],
            [
             0.3333333333333333,
             "#9c179e"
            ],
            [
             0.4444444444444444,
             "#bd3786"
            ],
            [
             0.5555555555555556,
             "#d8576b"
            ],
            [
             0.6666666666666666,
             "#ed7953"
            ],
            [
             0.7777777777777778,
             "#fb9f3a"
            ],
            [
             0.8888888888888888,
             "#fdca26"
            ],
            [
             1,
             "#f0f921"
            ]
           ]
          },
          "colorway": [
           "#636efa",
           "#EF553B",
           "#00cc96",
           "#ab63fa",
           "#FFA15A",
           "#19d3f3",
           "#FF6692",
           "#B6E880",
           "#FF97FF",
           "#FECB52"
          ],
          "font": {
           "color": "#2a3f5f"
          },
          "geo": {
           "bgcolor": "white",
           "lakecolor": "white",
           "landcolor": "#E5ECF6",
           "showlakes": true,
           "showland": true,
           "subunitcolor": "white"
          },
          "hoverlabel": {
           "align": "left"
          },
          "hovermode": "closest",
          "mapbox": {
           "style": "light"
          },
          "paper_bgcolor": "white",
          "plot_bgcolor": "#E5ECF6",
          "polar": {
           "angularaxis": {
            "gridcolor": "white",
            "linecolor": "white",
            "ticks": ""
           },
           "bgcolor": "#E5ECF6",
           "radialaxis": {
            "gridcolor": "white",
            "linecolor": "white",
            "ticks": ""
           }
          },
          "scene": {
           "xaxis": {
            "backgroundcolor": "#E5ECF6",
            "gridcolor": "white",
            "gridwidth": 2,
            "linecolor": "white",
            "showbackground": true,
            "ticks": "",
            "zerolinecolor": "white"
           },
           "yaxis": {
            "backgroundcolor": "#E5ECF6",
            "gridcolor": "white",
            "gridwidth": 2,
            "linecolor": "white",
            "showbackground": true,
            "ticks": "",
            "zerolinecolor": "white"
           },
           "zaxis": {
            "backgroundcolor": "#E5ECF6",
            "gridcolor": "white",
            "gridwidth": 2,
            "linecolor": "white",
            "showbackground": true,
            "ticks": "",
            "zerolinecolor": "white"
           }
          },
          "shapedefaults": {
           "line": {
            "color": "#2a3f5f"
           }
          },
          "ternary": {
           "aaxis": {
            "gridcolor": "white",
            "linecolor": "white",
            "ticks": ""
           },
           "baxis": {
            "gridcolor": "white",
            "linecolor": "white",
            "ticks": ""
           },
           "bgcolor": "#E5ECF6",
           "caxis": {
            "gridcolor": "white",
            "linecolor": "white",
            "ticks": ""
           }
          },
          "title": {
           "x": 0.05
          },
          "xaxis": {
           "automargin": true,
           "gridcolor": "white",
           "linecolor": "white",
           "ticks": "",
           "title": {
            "standoff": 15
           },
           "zerolinecolor": "white",
           "zerolinewidth": 2
          },
          "yaxis": {
           "automargin": true,
           "gridcolor": "white",
           "linecolor": "white",
           "ticks": "",
           "title": {
            "standoff": 15
           },
           "zerolinecolor": "white",
           "zerolinewidth": 2
          }
         }
        },
        "xaxis": {
         "rangeslider": {
          "visible": true
         }
        }
       }
      }
     },
     "metadata": {},
     "output_type": "display_data"
    }
   ],
   "source": [
    "df1=df[df['ngay']==29]\n",
    "fig = go.Figure()\n",
    "fig.add_trace(go.Scatter(\n",
    "    x=df1.index,\n",
    "    y=df1['Total input power(kW)'],\n",
    "    name=\"Sản lượng\"))\n",
    "fig.add_trace(go.Scatter(\n",
    "    x=df1.index,\n",
    "    y=df1['Hieu suat'],\n",
    "    name=\"Hiệu suất\"))\n",
    "fig . update_traces (\n",
    "    showlegend = True \n",
    "    )\n",
    "fig.update_xaxes(\n",
    "    rangeslider_visible=True,\n",
    ")\n",
    "fig.show()"
   ]
  },
  {
   "cell_type": "code",
   "execution_count": 30,
   "metadata": {},
   "outputs": [
    {
     "name": "stderr",
     "output_type": "stream",
     "text": [
      "C:\\Users\\ADMIN\\AppData\\Local\\Temp\\ipykernel_3696\\2914376110.py:1: SettingWithCopyWarning:\n",
      "\n",
      "\n",
      "A value is trying to be set on a copy of a slice from a DataFrame.\n",
      "Try using .loc[row_indexer,col_indexer] = value instead\n",
      "\n",
      "See the caveats in the documentation: https://pandas.pydata.org/pandas-docs/stable/user_guide/indexing.html#returning-a-view-versus-a-copy\n",
      "\n",
      "C:\\Users\\ADMIN\\AppData\\Local\\Temp\\ipykernel_3696\\2914376110.py:2: SettingWithCopyWarning:\n",
      "\n",
      "\n",
      "A value is trying to be set on a copy of a slice from a DataFrame.\n",
      "Try using .loc[row_indexer,col_indexer] = value instead\n",
      "\n",
      "See the caveats in the documentation: https://pandas.pydata.org/pandas-docs/stable/user_guide/indexing.html#returning-a-view-versus-a-copy\n",
      "\n"
     ]
    },
    {
     "data": {
      "text/html": [
       "<div>\n",
       "<style scoped>\n",
       "    .dataframe tbody tr th:only-of-type {\n",
       "        vertical-align: middle;\n",
       "    }\n",
       "\n",
       "    .dataframe tbody tr th {\n",
       "        vertical-align: top;\n",
       "    }\n",
       "\n",
       "    .dataframe thead th {\n",
       "        text-align: right;\n",
       "    }\n",
       "</style>\n",
       "<table border=\"1\" class=\"dataframe\">\n",
       "  <thead>\n",
       "    <tr style=\"text-align: right;\">\n",
       "      <th></th>\n",
       "      <th>Unnamed: 0.1</th>\n",
       "      <th>Unnamed: 0</th>\n",
       "      <th>Site Name</th>\n",
       "      <th>Management Domain</th>\n",
       "      <th>ManageObject_x</th>\n",
       "      <th>Ambient temperature(℃)</th>\n",
       "      <th>PV Temperature(℃)</th>\n",
       "      <th>Wind speed(m/s)</th>\n",
       "      <th>Wind direction(°)</th>\n",
       "      <th>Daily irradiation(MJ/㎡)</th>\n",
       "      <th>...</th>\n",
       "      <th>hourofweek</th>\n",
       "      <th>hourofmonth</th>\n",
       "      <th>date</th>\n",
       "      <th>date_ordinal</th>\n",
       "      <th>ngay</th>\n",
       "      <th>Tcell</th>\n",
       "      <th>Pm</th>\n",
       "      <th>Hieu suat</th>\n",
       "      <th>ts</th>\n",
       "      <th>tg</th>\n",
       "    </tr>\n",
       "    <tr>\n",
       "      <th>datetime</th>\n",
       "      <th></th>\n",
       "      <th></th>\n",
       "      <th></th>\n",
       "      <th></th>\n",
       "      <th></th>\n",
       "      <th></th>\n",
       "      <th></th>\n",
       "      <th></th>\n",
       "      <th></th>\n",
       "      <th></th>\n",
       "      <th></th>\n",
       "      <th></th>\n",
       "      <th></th>\n",
       "      <th></th>\n",
       "      <th></th>\n",
       "      <th></th>\n",
       "      <th></th>\n",
       "      <th></th>\n",
       "      <th></th>\n",
       "      <th></th>\n",
       "      <th></th>\n",
       "    </tr>\n",
       "  </thead>\n",
       "  <tbody>\n",
       "    <tr>\n",
       "      <th>2022-04-20 06:00:00</th>\n",
       "      <td>7147</td>\n",
       "      <td>3015</td>\n",
       "      <td>VNM - Đà Nẵng - Nhà Máy</td>\n",
       "      <td>/BCG Energy</td>\n",
       "      <td>1020C0058922/EM001020C0058922</td>\n",
       "      <td>23.0</td>\n",
       "      <td>23.9</td>\n",
       "      <td>3.0</td>\n",
       "      <td>NaN</td>\n",
       "      <td>0.020</td>\n",
       "      <td>...</td>\n",
       "      <td>54</td>\n",
       "      <td>462</td>\n",
       "      <td>2022-04-20</td>\n",
       "      <td>738265</td>\n",
       "      <td>29</td>\n",
       "      <td>23.101250</td>\n",
       "      <td>2460.780133</td>\n",
       "      <td>71.359484</td>\n",
       "      <td>72.0</td>\n",
       "      <td>0.0</td>\n",
       "    </tr>\n",
       "    <tr>\n",
       "      <th>2022-04-20 06:05:00</th>\n",
       "      <td>7148</td>\n",
       "      <td>3016</td>\n",
       "      <td>VNM - Đà Nẵng - Nhà Máy</td>\n",
       "      <td>/BCG Energy</td>\n",
       "      <td>1020C0058922/EM001020C0058922</td>\n",
       "      <td>23.3</td>\n",
       "      <td>24.2</td>\n",
       "      <td>1.0</td>\n",
       "      <td>NaN</td>\n",
       "      <td>0.026</td>\n",
       "      <td>...</td>\n",
       "      <td>54</td>\n",
       "      <td>462</td>\n",
       "      <td>2022-04-20</td>\n",
       "      <td>738265</td>\n",
       "      <td>29</td>\n",
       "      <td>23.420625</td>\n",
       "      <td>2927.492494</td>\n",
       "      <td>71.904540</td>\n",
       "      <td>73.0</td>\n",
       "      <td>1.0</td>\n",
       "    </tr>\n",
       "    <tr>\n",
       "      <th>2022-04-20 06:10:00</th>\n",
       "      <td>7149</td>\n",
       "      <td>3017</td>\n",
       "      <td>VNM - Đà Nẵng - Nhà Máy</td>\n",
       "      <td>/BCG Energy</td>\n",
       "      <td>1020C0058922/EM001020C0058922</td>\n",
       "      <td>23.3</td>\n",
       "      <td>24.2</td>\n",
       "      <td>0.8</td>\n",
       "      <td>NaN</td>\n",
       "      <td>0.032</td>\n",
       "      <td>...</td>\n",
       "      <td>54</td>\n",
       "      <td>462</td>\n",
       "      <td>2022-04-20</td>\n",
       "      <td>738265</td>\n",
       "      <td>29</td>\n",
       "      <td>23.436875</td>\n",
       "      <td>3321.628524</td>\n",
       "      <td>73.638578</td>\n",
       "      <td>74.0</td>\n",
       "      <td>2.0</td>\n",
       "    </tr>\n",
       "    <tr>\n",
       "      <th>2022-04-20 06:15:00</th>\n",
       "      <td>7150</td>\n",
       "      <td>3018</td>\n",
       "      <td>VNM - Đà Nẵng - Nhà Máy</td>\n",
       "      <td>/BCG Energy</td>\n",
       "      <td>1020C0058922/EM001020C0058922</td>\n",
       "      <td>23.3</td>\n",
       "      <td>24.4</td>\n",
       "      <td>1.4</td>\n",
       "      <td>NaN</td>\n",
       "      <td>0.041</td>\n",
       "      <td>...</td>\n",
       "      <td>54</td>\n",
       "      <td>462</td>\n",
       "      <td>2022-04-20</td>\n",
       "      <td>738265</td>\n",
       "      <td>29</td>\n",
       "      <td>23.537500</td>\n",
       "      <td>5760.964762</td>\n",
       "      <td>73.720291</td>\n",
       "      <td>75.0</td>\n",
       "      <td>3.0</td>\n",
       "    </tr>\n",
       "    <tr>\n",
       "      <th>2022-04-20 06:20:00</th>\n",
       "      <td>7151</td>\n",
       "      <td>3019</td>\n",
       "      <td>VNM - Đà Nẵng - Nhà Máy</td>\n",
       "      <td>/BCG Energy</td>\n",
       "      <td>1020C0058922/EM001020C0058922</td>\n",
       "      <td>23.3</td>\n",
       "      <td>24.5</td>\n",
       "      <td>1.5</td>\n",
       "      <td>NaN</td>\n",
       "      <td>0.052</td>\n",
       "      <td>...</td>\n",
       "      <td>54</td>\n",
       "      <td>462</td>\n",
       "      <td>2022-04-20</td>\n",
       "      <td>738265</td>\n",
       "      <td>29</td>\n",
       "      <td>23.550000</td>\n",
       "      <td>6063.834554</td>\n",
       "      <td>74.919590</td>\n",
       "      <td>76.0</td>\n",
       "      <td>4.0</td>\n",
       "    </tr>\n",
       "    <tr>\n",
       "      <th>...</th>\n",
       "      <td>...</td>\n",
       "      <td>...</td>\n",
       "      <td>...</td>\n",
       "      <td>...</td>\n",
       "      <td>...</td>\n",
       "      <td>...</td>\n",
       "      <td>...</td>\n",
       "      <td>...</td>\n",
       "      <td>...</td>\n",
       "      <td>...</td>\n",
       "      <td>...</td>\n",
       "      <td>...</td>\n",
       "      <td>...</td>\n",
       "      <td>...</td>\n",
       "      <td>...</td>\n",
       "      <td>...</td>\n",
       "      <td>...</td>\n",
       "      <td>...</td>\n",
       "      <td>...</td>\n",
       "      <td>...</td>\n",
       "      <td>...</td>\n",
       "    </tr>\n",
       "    <tr>\n",
       "      <th>2022-04-20 17:20:00</th>\n",
       "      <td>7283</td>\n",
       "      <td>3151</td>\n",
       "      <td>VNM - Đà Nẵng - Nhà Máy</td>\n",
       "      <td>/BCG Energy</td>\n",
       "      <td>1020C0058922/EM001020C0058922</td>\n",
       "      <td>25.4</td>\n",
       "      <td>26.5</td>\n",
       "      <td>1.0</td>\n",
       "      <td>NaN</td>\n",
       "      <td>9.599</td>\n",
       "      <td>...</td>\n",
       "      <td>65</td>\n",
       "      <td>473</td>\n",
       "      <td>2022-04-20</td>\n",
       "      <td>738265</td>\n",
       "      <td>29</td>\n",
       "      <td>25.688750</td>\n",
       "      <td>6936.759373</td>\n",
       "      <td>82.963812</td>\n",
       "      <td>208.0</td>\n",
       "      <td>136.0</td>\n",
       "    </tr>\n",
       "    <tr>\n",
       "      <th>2022-04-20 17:25:00</th>\n",
       "      <td>7284</td>\n",
       "      <td>3152</td>\n",
       "      <td>VNM - Đà Nẵng - Nhà Máy</td>\n",
       "      <td>/BCG Energy</td>\n",
       "      <td>1020C0058922/EM001020C0058922</td>\n",
       "      <td>25.2</td>\n",
       "      <td>26.1</td>\n",
       "      <td>2.4</td>\n",
       "      <td>NaN</td>\n",
       "      <td>9.611</td>\n",
       "      <td>...</td>\n",
       "      <td>65</td>\n",
       "      <td>473</td>\n",
       "      <td>2022-04-20</td>\n",
       "      <td>738265</td>\n",
       "      <td>29</td>\n",
       "      <td>25.405000</td>\n",
       "      <td>4931.106765</td>\n",
       "      <td>78.238014</td>\n",
       "      <td>209.0</td>\n",
       "      <td>137.0</td>\n",
       "    </tr>\n",
       "    <tr>\n",
       "      <th>2022-04-20 17:30:00</th>\n",
       "      <td>7285</td>\n",
       "      <td>3153</td>\n",
       "      <td>VNM - Đà Nẵng - Nhà Máy</td>\n",
       "      <td>/BCG Energy</td>\n",
       "      <td>1020C0058922/EM001020C0058922</td>\n",
       "      <td>25.1</td>\n",
       "      <td>25.9</td>\n",
       "      <td>2.5</td>\n",
       "      <td>NaN</td>\n",
       "      <td>9.619</td>\n",
       "      <td>...</td>\n",
       "      <td>65</td>\n",
       "      <td>473</td>\n",
       "      <td>2022-04-20</td>\n",
       "      <td>738265</td>\n",
       "      <td>29</td>\n",
       "      <td>25.264375</td>\n",
       "      <td>3956.412379</td>\n",
       "      <td>77.747204</td>\n",
       "      <td>210.0</td>\n",
       "      <td>138.0</td>\n",
       "    </tr>\n",
       "    <tr>\n",
       "      <th>2022-04-20 17:35:00</th>\n",
       "      <td>7286</td>\n",
       "      <td>3154</td>\n",
       "      <td>VNM - Đà Nẵng - Nhà Máy</td>\n",
       "      <td>/BCG Energy</td>\n",
       "      <td>1020C0058922/EM001020C0058922</td>\n",
       "      <td>25.0</td>\n",
       "      <td>25.6</td>\n",
       "      <td>3.1</td>\n",
       "      <td>NaN</td>\n",
       "      <td>9.626</td>\n",
       "      <td>...</td>\n",
       "      <td>65</td>\n",
       "      <td>473</td>\n",
       "      <td>2022-04-20</td>\n",
       "      <td>738265</td>\n",
       "      <td>29</td>\n",
       "      <td>25.114375</td>\n",
       "      <td>2754.801381</td>\n",
       "      <td>73.580622</td>\n",
       "      <td>211.0</td>\n",
       "      <td>139.0</td>\n",
       "    </tr>\n",
       "    <tr>\n",
       "      <th>2022-04-20 17:40:00</th>\n",
       "      <td>7287</td>\n",
       "      <td>3155</td>\n",
       "      <td>VNM - Đà Nẵng - Nhà Máy</td>\n",
       "      <td>/BCG Energy</td>\n",
       "      <td>1020C0058922/EM001020C0058922</td>\n",
       "      <td>25.0</td>\n",
       "      <td>25.4</td>\n",
       "      <td>2.3</td>\n",
       "      <td>NaN</td>\n",
       "      <td>9.631</td>\n",
       "      <td>...</td>\n",
       "      <td>65</td>\n",
       "      <td>473</td>\n",
       "      <td>2022-04-20</td>\n",
       "      <td>738265</td>\n",
       "      <td>29</td>\n",
       "      <td>25.080625</td>\n",
       "      <td>1942.204250</td>\n",
       "      <td>71.207753</td>\n",
       "      <td>212.0</td>\n",
       "      <td>140.0</td>\n",
       "    </tr>\n",
       "  </tbody>\n",
       "</table>\n",
       "<p>141 rows × 106 columns</p>\n",
       "</div>"
      ],
      "text/plain": [
       "                     Unnamed: 0.1  Unnamed: 0                Site Name  \\\n",
       "datetime                                                                 \n",
       "2022-04-20 06:00:00          7147        3015  VNM - Đà Nẵng - Nhà Máy   \n",
       "2022-04-20 06:05:00          7148        3016  VNM - Đà Nẵng - Nhà Máy   \n",
       "2022-04-20 06:10:00          7149        3017  VNM - Đà Nẵng - Nhà Máy   \n",
       "2022-04-20 06:15:00          7150        3018  VNM - Đà Nẵng - Nhà Máy   \n",
       "2022-04-20 06:20:00          7151        3019  VNM - Đà Nẵng - Nhà Máy   \n",
       "...                           ...         ...                      ...   \n",
       "2022-04-20 17:20:00          7283        3151  VNM - Đà Nẵng - Nhà Máy   \n",
       "2022-04-20 17:25:00          7284        3152  VNM - Đà Nẵng - Nhà Máy   \n",
       "2022-04-20 17:30:00          7285        3153  VNM - Đà Nẵng - Nhà Máy   \n",
       "2022-04-20 17:35:00          7286        3154  VNM - Đà Nẵng - Nhà Máy   \n",
       "2022-04-20 17:40:00          7287        3155  VNM - Đà Nẵng - Nhà Máy   \n",
       "\n",
       "                    Management Domain                 ManageObject_x  \\\n",
       "datetime                                                               \n",
       "2022-04-20 06:00:00       /BCG Energy  1020C0058922/EM001020C0058922   \n",
       "2022-04-20 06:05:00       /BCG Energy  1020C0058922/EM001020C0058922   \n",
       "2022-04-20 06:10:00       /BCG Energy  1020C0058922/EM001020C0058922   \n",
       "2022-04-20 06:15:00       /BCG Energy  1020C0058922/EM001020C0058922   \n",
       "2022-04-20 06:20:00       /BCG Energy  1020C0058922/EM001020C0058922   \n",
       "...                               ...                            ...   \n",
       "2022-04-20 17:20:00       /BCG Energy  1020C0058922/EM001020C0058922   \n",
       "2022-04-20 17:25:00       /BCG Energy  1020C0058922/EM001020C0058922   \n",
       "2022-04-20 17:30:00       /BCG Energy  1020C0058922/EM001020C0058922   \n",
       "2022-04-20 17:35:00       /BCG Energy  1020C0058922/EM001020C0058922   \n",
       "2022-04-20 17:40:00       /BCG Energy  1020C0058922/EM001020C0058922   \n",
       "\n",
       "                     Ambient temperature(℃)  PV Temperature(℃)  \\\n",
       "datetime                                                         \n",
       "2022-04-20 06:00:00                    23.0               23.9   \n",
       "2022-04-20 06:05:00                    23.3               24.2   \n",
       "2022-04-20 06:10:00                    23.3               24.2   \n",
       "2022-04-20 06:15:00                    23.3               24.4   \n",
       "2022-04-20 06:20:00                    23.3               24.5   \n",
       "...                                     ...                ...   \n",
       "2022-04-20 17:20:00                    25.4               26.5   \n",
       "2022-04-20 17:25:00                    25.2               26.1   \n",
       "2022-04-20 17:30:00                    25.1               25.9   \n",
       "2022-04-20 17:35:00                    25.0               25.6   \n",
       "2022-04-20 17:40:00                    25.0               25.4   \n",
       "\n",
       "                     Wind speed(m/s)  Wind direction(°)  \\\n",
       "datetime                                                  \n",
       "2022-04-20 06:00:00              3.0                NaN   \n",
       "2022-04-20 06:05:00              1.0                NaN   \n",
       "2022-04-20 06:10:00              0.8                NaN   \n",
       "2022-04-20 06:15:00              1.4                NaN   \n",
       "2022-04-20 06:20:00              1.5                NaN   \n",
       "...                              ...                ...   \n",
       "2022-04-20 17:20:00              1.0                NaN   \n",
       "2022-04-20 17:25:00              2.4                NaN   \n",
       "2022-04-20 17:30:00              2.5                NaN   \n",
       "2022-04-20 17:35:00              3.1                NaN   \n",
       "2022-04-20 17:40:00              2.3                NaN   \n",
       "\n",
       "                     Daily irradiation(MJ/㎡)  ...  hourofweek hourofmonth  \\\n",
       "datetime                                      ...                           \n",
       "2022-04-20 06:00:00                    0.020  ...          54         462   \n",
       "2022-04-20 06:05:00                    0.026  ...          54         462   \n",
       "2022-04-20 06:10:00                    0.032  ...          54         462   \n",
       "2022-04-20 06:15:00                    0.041  ...          54         462   \n",
       "2022-04-20 06:20:00                    0.052  ...          54         462   \n",
       "...                                      ...  ...         ...         ...   \n",
       "2022-04-20 17:20:00                    9.599  ...          65         473   \n",
       "2022-04-20 17:25:00                    9.611  ...          65         473   \n",
       "2022-04-20 17:30:00                    9.619  ...          65         473   \n",
       "2022-04-20 17:35:00                    9.626  ...          65         473   \n",
       "2022-04-20 17:40:00                    9.631  ...          65         473   \n",
       "\n",
       "                           date date_ordinal  ngay      Tcell           Pm  \\\n",
       "datetime                                                                     \n",
       "2022-04-20 06:00:00  2022-04-20       738265    29  23.101250  2460.780133   \n",
       "2022-04-20 06:05:00  2022-04-20       738265    29  23.420625  2927.492494   \n",
       "2022-04-20 06:10:00  2022-04-20       738265    29  23.436875  3321.628524   \n",
       "2022-04-20 06:15:00  2022-04-20       738265    29  23.537500  5760.964762   \n",
       "2022-04-20 06:20:00  2022-04-20       738265    29  23.550000  6063.834554   \n",
       "...                         ...          ...   ...        ...          ...   \n",
       "2022-04-20 17:20:00  2022-04-20       738265    29  25.688750  6936.759373   \n",
       "2022-04-20 17:25:00  2022-04-20       738265    29  25.405000  4931.106765   \n",
       "2022-04-20 17:30:00  2022-04-20       738265    29  25.264375  3956.412379   \n",
       "2022-04-20 17:35:00  2022-04-20       738265    29  25.114375  2754.801381   \n",
       "2022-04-20 17:40:00  2022-04-20       738265    29  25.080625  1942.204250   \n",
       "\n",
       "                     Hieu suat     ts     tg  \n",
       "datetime                                      \n",
       "2022-04-20 06:00:00  71.359484   72.0    0.0  \n",
       "2022-04-20 06:05:00  71.904540   73.0    1.0  \n",
       "2022-04-20 06:10:00  73.638578   74.0    2.0  \n",
       "2022-04-20 06:15:00  73.720291   75.0    3.0  \n",
       "2022-04-20 06:20:00  74.919590   76.0    4.0  \n",
       "...                        ...    ...    ...  \n",
       "2022-04-20 17:20:00  82.963812  208.0  136.0  \n",
       "2022-04-20 17:25:00  78.238014  209.0  137.0  \n",
       "2022-04-20 17:30:00  77.747204  210.0  138.0  \n",
       "2022-04-20 17:35:00  73.580622  211.0  139.0  \n",
       "2022-04-20 17:40:00  71.207753  212.0  140.0  \n",
       "\n",
       "[141 rows x 106 columns]"
      ]
     },
     "execution_count": 30,
     "metadata": {},
     "output_type": "execute_result"
    }
   ],
   "source": [
    "df1.loc[:,'ts']=pd.Series(((df.index.hour*60+df.index.minute)/5), df.index)\n",
    "df1.loc[:,'tg']=pd.Series(((df.index.hour*60+df.index.minute)/5-df1['ts'][0]), df.index)\n",
    "df1.head(len(df1))\n"
   ]
  },
  {
   "cell_type": "code",
   "execution_count": 31,
   "metadata": {},
   "outputs": [
    {
     "data": {
      "application/vnd.plotly.v1+json": {
       "config": {
        "plotlyServerURL": "https://plot.ly"
       },
       "data": [
        {
         "name": "Hiệu suất",
         "type": "scatter",
         "x": [
          0,
          1,
          2,
          3,
          4,
          5,
          6,
          7,
          8,
          9,
          10,
          11,
          12,
          13,
          14,
          15,
          16,
          17,
          18,
          19,
          20,
          21,
          22,
          23,
          24,
          25,
          26,
          27,
          28,
          29,
          30,
          31,
          32,
          33,
          34,
          35,
          36,
          37,
          38,
          39,
          40,
          41,
          42,
          43,
          44,
          45,
          46,
          47,
          48,
          49,
          50,
          51,
          52,
          53,
          54,
          55,
          56,
          57,
          58,
          59,
          60,
          61,
          62,
          63,
          64,
          65,
          66,
          67,
          68,
          69,
          70,
          71,
          72,
          73,
          74,
          75,
          76,
          77,
          78,
          79,
          80,
          81,
          82,
          83,
          84,
          85,
          86,
          87,
          88,
          89,
          90,
          91,
          92,
          93,
          94,
          95,
          96,
          97,
          98,
          99,
          100,
          101,
          102,
          103,
          104,
          105,
          106,
          107,
          108,
          109,
          110,
          111,
          112,
          113,
          114,
          115,
          116,
          117,
          118,
          119,
          120,
          121,
          122,
          123,
          124,
          125,
          126,
          127,
          128,
          129,
          130,
          131,
          132,
          133,
          134,
          135,
          136,
          137,
          138,
          139,
          140
         ],
         "y": [
          71.3594837862512,
          71.90453960668563,
          73.63857765440912,
          73.72029122756562,
          74.91959022755925,
          75.42597631914407,
          78.41260853512966,
          79.84658722301799,
          78.78836494825438,
          78.65589163525625,
          75.21604627437411,
          76.75196140214004,
          76.02718998972915,
          77.7426971073431,
          77.58637639354342,
          78.70480488715111,
          79.91985878458608,
          81.59003226926652,
          80.6405557336669,
          80.43337584896747,
          81.86258751431866,
          82.14487218424202,
          80.79230154971324,
          81.81059728144204,
          81.02885606754187,
          79.87289866251754,
          79.81620241776149,
          80.47126465518268,
          81.41138096850091,
          81.7657292647897,
          83.74504501862646,
          82.9677906029086,
          80.18129421932268,
          79.71188820984477,
          81.99462580719495,
          80.96618401997918,
          81.50259550737098,
          80.14733337705121,
          78.92725833106337,
          80.6337705480198,
          82.12804103601687,
          81.84251117107227,
          81.7719110505136,
          82.1849115080164,
          79.72355840704577,
          80.18069984784182,
          80.87896722829133,
          82.04494069832374,
          82.05756802167853,
          81.62477980699072,
          81.84467598468184,
          81.44262890077415,
          79.41411731875921,
          81.7045972466447,
          82.14021381267422,
          82.62620830398724,
          82.11072891686683,
          81.67194959966108,
          82.2530659878816,
          82.12447767529862,
          81.69972249359448,
          81.63103062903278,
          81.21379689410301,
          81.27009860071959,
          80.6431341037814,
          81.5136995984581,
          81.83324003510616,
          81.34236161122656,
          81.5210052139915,
          82.1497293267619,
          83.65657232041185,
          83.92416313472452,
          82.7117719537923,
          81.21604171517964,
          80.86239807280387,
          81.41272409559731,
          82.45858408936375,
          83.7958726161277,
          83.60114682541136,
          82.50103288598525,
          74.84576676694577,
          82.51732193769577,
          82.65948918455534,
          80.60719863036356,
          80.5274994073157,
          81.10021602166908,
          82.2941898152859,
          82.17946013635022,
          81.23532923468359,
          80.99389214523367,
          80.71969260807754,
          82.26984373632564,
          83.21931525426906,
          83.38911182750871,
          82.99503346060312,
          82.31721970651155,
          82.31343575471364,
          82.45519289596533,
          82.48264494133848,
          81.79967438553611,
          81.70232098869741,
          81.86220210034608,
          81.19628790858943,
          81.26068356288363,
          81.94315357128244,
          81.71103869885248,
          80.81374133767206,
          82.0115597066086,
          83.80785531731368,
          81.89952857549562,
          81.37103597595234,
          79.69096739814363,
          80.7490727822544,
          81.06482765173055,
          83.1592673812742,
          83.02076776139486,
          82.19454330667197,
          80.54193042108304,
          80.07807252051668,
          80.60263390552508,
          79.83817173217615,
          79.98040399930456,
          80.84295546043926,
          81.23999947639918,
          80.50047715851107,
          79.97097490704903,
          80.00236498521576,
          81.44980271993772,
          83.68957323289584,
          94.50695780489899,
          83.72383569526193,
          81.40943713200164,
          80.17403571524608,
          79.41038538055464,
          78.7662362212924,
          81.10068767783572,
          82.96381192906317,
          78.23801397402127,
          77.74720392002386,
          73.58062232112195,
          71.2077527491896
         ]
        },
        {
         "name": "Hiệu suất khớp",
         "type": "scatter",
         "x": [
          0,
          1.404040404040404,
          2.808080808080808,
          4.212121212121212,
          5.616161616161616,
          7.02020202020202,
          8.424242424242424,
          9.828282828282827,
          11.232323232323232,
          12.636363636363637,
          14.04040404040404,
          15.444444444444443,
          16.848484848484848,
          18.252525252525253,
          19.656565656565654,
          21.06060606060606,
          22.464646464646464,
          23.86868686868687,
          25.272727272727273,
          26.676767676767675,
          28.08080808080808,
          29.484848484848484,
          30.888888888888886,
          32.292929292929294,
          33.696969696969695,
          35.1010101010101,
          36.505050505050505,
          37.90909090909091,
          39.31313131313131,
          40.717171717171716,
          42.12121212121212,
          43.525252525252526,
          44.92929292929293,
          46.33333333333333,
          47.73737373737374,
          49.14141414141414,
          50.54545454545455,
          51.94949494949495,
          53.35353535353535,
          54.75757575757576,
          56.16161616161616,
          57.56565656565656,
          58.96969696969697,
          60.37373737373737,
          61.77777777777777,
          63.18181818181818,
          64.58585858585859,
          65.98989898989899,
          67.39393939393939,
          68.79797979797979,
          70.2020202020202,
          71.60606060606061,
          73.01010101010101,
          74.41414141414141,
          75.81818181818181,
          77.22222222222221,
          78.62626262626262,
          80.03030303030303,
          81.43434343434343,
          82.83838383838383,
          84.24242424242424,
          85.64646464646464,
          87.05050505050505,
          88.45454545454545,
          89.85858585858585,
          91.26262626262626,
          92.66666666666666,
          94.07070707070707,
          95.47474747474747,
          96.87878787878788,
          98.28282828282828,
          99.68686868686868,
          101.0909090909091,
          102.4949494949495,
          103.8989898989899,
          105.3030303030303,
          106.7070707070707,
          108.1111111111111,
          109.51515151515152,
          110.91919191919192,
          112.32323232323232,
          113.72727272727272,
          115.13131313131312,
          116.53535353535354,
          117.93939393939394,
          119.34343434343434,
          120.74747474747474,
          122.15151515151514,
          123.55555555555554,
          124.95959595959596,
          126.36363636363636,
          127.76767676767676,
          129.17171717171718,
          130.57575757575756,
          131.97979797979798,
          133.38383838383837,
          134.78787878787878,
          136.1919191919192,
          137.59595959595958,
          139
         ],
         "y": [
          71.22927675524132,
          72.97189035237678,
          74.30897934126247,
          75.35096137059607,
          76.18126733003352,
          76.86160254452824,
          77.43642295102978,
          77.93671312546444,
          78.38314626084278,
          78.7886997638007,
          79.16079402901012,
          79.50301616082024,
          79.81648493133831,
          80.10090808605982,
          80.35537822423802,
          80.5789488835712,
          80.7710281396114,
          80.93162298168701,
          81.06146394121458,
          81.1620359171772,
          81.23553785939946,
          81.28479092517716,
          81.31311191095514,
          81.32416617021354,
          81.32181185365289,
          81.3099451402867,
          81.29235416028881,
          81.27258753452345,
          81.25384186374703,
          81.23887108462671,
          81.22991936211329,
          81.22867810045618,
          81.23626672038124,
          81.25323605980674,
          81.27959260206362,
          81.31484121105585,
          81.3580436492583,
          81.40788986404543,
          81.46277884268773,
          81.52090574859825,
          81.58035205313867,
          81.6391754606893,
          81.695496581852,
          81.74757953267714,
          81.79390391891155,
          81.83322599547564,
          81.86462716489034,
          81.887548386288,
          81.90180950111096,
          81.90761293471945,
          81.9055316970248,
          81.89648207213702,
          81.88168184888346,
          81.862595393096,
          81.8408672910106,
          81.81824669281845,
          81.79650484893969,
          81.77734865041647,
          81.76233325195209,
          81.75277706281925,
          81.7496825297051,
          81.75366619878329,
          81.76490152377302,
          81.7830777744376,
          81.8073781886471,
          81.83648019224316,
          81.86858007718608,
          81.90144397093835,
          81.93248624301191,
          81.9588756671109,
          81.97766868435214,
          81.9859679858335,
          81.98110334099363,
          81.96083014007161,
          81.92353947784223,
          81.8684717835844,
          81.79592398190343,
          81.70743795018552,
          81.60595560731971,
          81.4959233227701,
          81.38332546028852,
          81.2756237665747,
          81.18157596657515,
          81.110903333029,
          81.07377314216806,
          81.08005781346945,
          81.13832813775217,
          81.25453333045328,
          81.43031568437806,
          81.66090234580831,
          81.93251117308183,
          82.21920176998316,
          82.47909659384756,
          82.64989051841152,
          82.64356037815763,
          82.34017882409643,
          81.58072927071979,
          80.15881080534089,
          77.8111136539564,
          74.20653715849247
         ]
        },
        {
         "name": "Sản lượng",
         "type": "scatter",
         "x": [
          0,
          1,
          2,
          3,
          4,
          5,
          6,
          7,
          8,
          9,
          10,
          11,
          12,
          13,
          14,
          15,
          16,
          17,
          18,
          19,
          20,
          21,
          22,
          23,
          24,
          25,
          26,
          27,
          28,
          29,
          30,
          31,
          32,
          33,
          34,
          35,
          36,
          37,
          38,
          39,
          40,
          41,
          42,
          43,
          44,
          45,
          46,
          47,
          48,
          49,
          50,
          51,
          52,
          53,
          54,
          55,
          56,
          57,
          58,
          59,
          60,
          61,
          62,
          63,
          64,
          65,
          66,
          67,
          68,
          69,
          70,
          71,
          72,
          73,
          74,
          75,
          76,
          77,
          78,
          79,
          80,
          81,
          82,
          83,
          84,
          85,
          86,
          87,
          88,
          89,
          90,
          91,
          92,
          93,
          94,
          95,
          96,
          97,
          98,
          99,
          100,
          101,
          102,
          103,
          104,
          105,
          106,
          107,
          108,
          109,
          110,
          111,
          112,
          113,
          114,
          115,
          116,
          117,
          118,
          119,
          120,
          121,
          122,
          123,
          124,
          125,
          126,
          127,
          128,
          129,
          130,
          131,
          132,
          133,
          134,
          135,
          136,
          137,
          138,
          139,
          140
         ],
         "y": [
          1.756,
          2.105,
          2.446,
          4.247,
          4.543,
          4.962,
          9.108,
          8.993,
          8.144,
          6.805,
          4.798,
          6.896,
          5.572,
          6.497,
          8.309,
          8.797,
          10.71,
          11.866,
          9.241,
          11.795,
          13.933,
          17.93,
          18.917,
          20.567,
          25.219,
          20.893,
          22.327,
          27.816,
          40.388,
          41.084,
          46.022,
          46.493,
          28.021,
          25.728,
          33.403,
          31.738,
          26.222,
          23.64,
          18.388,
          21.304,
          27.836,
          27.156,
          22.678,
          18.817,
          16.51,
          22.16,
          23.446,
          26.737,
          30.352,
          34.117,
          49.966,
          29.825,
          26.068,
          35.89,
          36.274,
          43.439,
          52.092,
          53.306,
          46.723,
          42.438,
          38.961,
          38.092,
          36.594,
          32.329,
          35.843,
          37.9,
          35.363,
          34.455,
          35.276,
          36.363,
          40.284,
          43.455,
          36.679,
          27.119,
          28.364,
          31.247,
          30.814,
          36.09,
          45.873,
          55.341,
          60.779,
          70.18,
          66.173,
          47.281,
          41.61,
          37.191,
          35.922,
          32.741,
          28.171,
          27.114,
          26.676,
          29.697,
          34.543,
          36.821,
          41.115,
          41.737,
          38.986,
          40.572,
          40.592,
          46.996,
          46.029,
          43.389,
          43.207,
          39.395,
          39.389,
          42.368,
          68.605,
          61.073,
          48.356,
          49.815,
          32.535,
          23.652,
          22.001,
          23.151,
          22.637,
          23.17,
          21.572,
          20.709,
          18.707,
          21.703,
          18.602,
          17.796,
          17.556,
          18.113,
          16.234,
          12.446,
          15.596,
          16.981,
          19.803,
          35.879,
          15.316,
          11.069,
          8.841,
          7.878,
          6.382,
          6.158,
          5.755,
          3.858,
          3.076,
          2.027,
          1.383
         ]
        }
       ],
       "layout": {
        "template": {
         "data": {
          "bar": [
           {
            "error_x": {
             "color": "#2a3f5f"
            },
            "error_y": {
             "color": "#2a3f5f"
            },
            "marker": {
             "line": {
              "color": "#E5ECF6",
              "width": 0.5
             },
             "pattern": {
              "fillmode": "overlay",
              "size": 10,
              "solidity": 0.2
             }
            },
            "type": "bar"
           }
          ],
          "barpolar": [
           {
            "marker": {
             "line": {
              "color": "#E5ECF6",
              "width": 0.5
             },
             "pattern": {
              "fillmode": "overlay",
              "size": 10,
              "solidity": 0.2
             }
            },
            "type": "barpolar"
           }
          ],
          "carpet": [
           {
            "aaxis": {
             "endlinecolor": "#2a3f5f",
             "gridcolor": "white",
             "linecolor": "white",
             "minorgridcolor": "white",
             "startlinecolor": "#2a3f5f"
            },
            "baxis": {
             "endlinecolor": "#2a3f5f",
             "gridcolor": "white",
             "linecolor": "white",
             "minorgridcolor": "white",
             "startlinecolor": "#2a3f5f"
            },
            "type": "carpet"
           }
          ],
          "choropleth": [
           {
            "colorbar": {
             "outlinewidth": 0,
             "ticks": ""
            },
            "type": "choropleth"
           }
          ],
          "contour": [
           {
            "colorbar": {
             "outlinewidth": 0,
             "ticks": ""
            },
            "colorscale": [
             [
              0,
              "#0d0887"
             ],
             [
              0.1111111111111111,
              "#46039f"
             ],
             [
              0.2222222222222222,
              "#7201a8"
             ],
             [
              0.3333333333333333,
              "#9c179e"
             ],
             [
              0.4444444444444444,
              "#bd3786"
             ],
             [
              0.5555555555555556,
              "#d8576b"
             ],
             [
              0.6666666666666666,
              "#ed7953"
             ],
             [
              0.7777777777777778,
              "#fb9f3a"
             ],
             [
              0.8888888888888888,
              "#fdca26"
             ],
             [
              1,
              "#f0f921"
             ]
            ],
            "type": "contour"
           }
          ],
          "contourcarpet": [
           {
            "colorbar": {
             "outlinewidth": 0,
             "ticks": ""
            },
            "type": "contourcarpet"
           }
          ],
          "heatmap": [
           {
            "colorbar": {
             "outlinewidth": 0,
             "ticks": ""
            },
            "colorscale": [
             [
              0,
              "#0d0887"
             ],
             [
              0.1111111111111111,
              "#46039f"
             ],
             [
              0.2222222222222222,
              "#7201a8"
             ],
             [
              0.3333333333333333,
              "#9c179e"
             ],
             [
              0.4444444444444444,
              "#bd3786"
             ],
             [
              0.5555555555555556,
              "#d8576b"
             ],
             [
              0.6666666666666666,
              "#ed7953"
             ],
             [
              0.7777777777777778,
              "#fb9f3a"
             ],
             [
              0.8888888888888888,
              "#fdca26"
             ],
             [
              1,
              "#f0f921"
             ]
            ],
            "type": "heatmap"
           }
          ],
          "heatmapgl": [
           {
            "colorbar": {
             "outlinewidth": 0,
             "ticks": ""
            },
            "colorscale": [
             [
              0,
              "#0d0887"
             ],
             [
              0.1111111111111111,
              "#46039f"
             ],
             [
              0.2222222222222222,
              "#7201a8"
             ],
             [
              0.3333333333333333,
              "#9c179e"
             ],
             [
              0.4444444444444444,
              "#bd3786"
             ],
             [
              0.5555555555555556,
              "#d8576b"
             ],
             [
              0.6666666666666666,
              "#ed7953"
             ],
             [
              0.7777777777777778,
              "#fb9f3a"
             ],
             [
              0.8888888888888888,
              "#fdca26"
             ],
             [
              1,
              "#f0f921"
             ]
            ],
            "type": "heatmapgl"
           }
          ],
          "histogram": [
           {
            "marker": {
             "pattern": {
              "fillmode": "overlay",
              "size": 10,
              "solidity": 0.2
             }
            },
            "type": "histogram"
           }
          ],
          "histogram2d": [
           {
            "colorbar": {
             "outlinewidth": 0,
             "ticks": ""
            },
            "colorscale": [
             [
              0,
              "#0d0887"
             ],
             [
              0.1111111111111111,
              "#46039f"
             ],
             [
              0.2222222222222222,
              "#7201a8"
             ],
             [
              0.3333333333333333,
              "#9c179e"
             ],
             [
              0.4444444444444444,
              "#bd3786"
             ],
             [
              0.5555555555555556,
              "#d8576b"
             ],
             [
              0.6666666666666666,
              "#ed7953"
             ],
             [
              0.7777777777777778,
              "#fb9f3a"
             ],
             [
              0.8888888888888888,
              "#fdca26"
             ],
             [
              1,
              "#f0f921"
             ]
            ],
            "type": "histogram2d"
           }
          ],
          "histogram2dcontour": [
           {
            "colorbar": {
             "outlinewidth": 0,
             "ticks": ""
            },
            "colorscale": [
             [
              0,
              "#0d0887"
             ],
             [
              0.1111111111111111,
              "#46039f"
             ],
             [
              0.2222222222222222,
              "#7201a8"
             ],
             [
              0.3333333333333333,
              "#9c179e"
             ],
             [
              0.4444444444444444,
              "#bd3786"
             ],
             [
              0.5555555555555556,
              "#d8576b"
             ],
             [
              0.6666666666666666,
              "#ed7953"
             ],
             [
              0.7777777777777778,
              "#fb9f3a"
             ],
             [
              0.8888888888888888,
              "#fdca26"
             ],
             [
              1,
              "#f0f921"
             ]
            ],
            "type": "histogram2dcontour"
           }
          ],
          "mesh3d": [
           {
            "colorbar": {
             "outlinewidth": 0,
             "ticks": ""
            },
            "type": "mesh3d"
           }
          ],
          "parcoords": [
           {
            "line": {
             "colorbar": {
              "outlinewidth": 0,
              "ticks": ""
             }
            },
            "type": "parcoords"
           }
          ],
          "pie": [
           {
            "automargin": true,
            "type": "pie"
           }
          ],
          "scatter": [
           {
            "fillpattern": {
             "fillmode": "overlay",
             "size": 10,
             "solidity": 0.2
            },
            "type": "scatter"
           }
          ],
          "scatter3d": [
           {
            "line": {
             "colorbar": {
              "outlinewidth": 0,
              "ticks": ""
             }
            },
            "marker": {
             "colorbar": {
              "outlinewidth": 0,
              "ticks": ""
             }
            },
            "type": "scatter3d"
           }
          ],
          "scattercarpet": [
           {
            "marker": {
             "colorbar": {
              "outlinewidth": 0,
              "ticks": ""
             }
            },
            "type": "scattercarpet"
           }
          ],
          "scattergeo": [
           {
            "marker": {
             "colorbar": {
              "outlinewidth": 0,
              "ticks": ""
             }
            },
            "type": "scattergeo"
           }
          ],
          "scattergl": [
           {
            "marker": {
             "colorbar": {
              "outlinewidth": 0,
              "ticks": ""
             }
            },
            "type": "scattergl"
           }
          ],
          "scattermapbox": [
           {
            "marker": {
             "colorbar": {
              "outlinewidth": 0,
              "ticks": ""
             }
            },
            "type": "scattermapbox"
           }
          ],
          "scatterpolar": [
           {
            "marker": {
             "colorbar": {
              "outlinewidth": 0,
              "ticks": ""
             }
            },
            "type": "scatterpolar"
           }
          ],
          "scatterpolargl": [
           {
            "marker": {
             "colorbar": {
              "outlinewidth": 0,
              "ticks": ""
             }
            },
            "type": "scatterpolargl"
           }
          ],
          "scatterternary": [
           {
            "marker": {
             "colorbar": {
              "outlinewidth": 0,
              "ticks": ""
             }
            },
            "type": "scatterternary"
           }
          ],
          "surface": [
           {
            "colorbar": {
             "outlinewidth": 0,
             "ticks": ""
            },
            "colorscale": [
             [
              0,
              "#0d0887"
             ],
             [
              0.1111111111111111,
              "#46039f"
             ],
             [
              0.2222222222222222,
              "#7201a8"
             ],
             [
              0.3333333333333333,
              "#9c179e"
             ],
             [
              0.4444444444444444,
              "#bd3786"
             ],
             [
              0.5555555555555556,
              "#d8576b"
             ],
             [
              0.6666666666666666,
              "#ed7953"
             ],
             [
              0.7777777777777778,
              "#fb9f3a"
             ],
             [
              0.8888888888888888,
              "#fdca26"
             ],
             [
              1,
              "#f0f921"
             ]
            ],
            "type": "surface"
           }
          ],
          "table": [
           {
            "cells": {
             "fill": {
              "color": "#EBF0F8"
             },
             "line": {
              "color": "white"
             }
            },
            "header": {
             "fill": {
              "color": "#C8D4E3"
             },
             "line": {
              "color": "white"
             }
            },
            "type": "table"
           }
          ]
         },
         "layout": {
          "annotationdefaults": {
           "arrowcolor": "#2a3f5f",
           "arrowhead": 0,
           "arrowwidth": 1
          },
          "autotypenumbers": "strict",
          "coloraxis": {
           "colorbar": {
            "outlinewidth": 0,
            "ticks": ""
           }
          },
          "colorscale": {
           "diverging": [
            [
             0,
             "#8e0152"
            ],
            [
             0.1,
             "#c51b7d"
            ],
            [
             0.2,
             "#de77ae"
            ],
            [
             0.3,
             "#f1b6da"
            ],
            [
             0.4,
             "#fde0ef"
            ],
            [
             0.5,
             "#f7f7f7"
            ],
            [
             0.6,
             "#e6f5d0"
            ],
            [
             0.7,
             "#b8e186"
            ],
            [
             0.8,
             "#7fbc41"
            ],
            [
             0.9,
             "#4d9221"
            ],
            [
             1,
             "#276419"
            ]
           ],
           "sequential": [
            [
             0,
             "#0d0887"
            ],
            [
             0.1111111111111111,
             "#46039f"
            ],
            [
             0.2222222222222222,
             "#7201a8"
            ],
            [
             0.3333333333333333,
             "#9c179e"
            ],
            [
             0.4444444444444444,
             "#bd3786"
            ],
            [
             0.5555555555555556,
             "#d8576b"
            ],
            [
             0.6666666666666666,
             "#ed7953"
            ],
            [
             0.7777777777777778,
             "#fb9f3a"
            ],
            [
             0.8888888888888888,
             "#fdca26"
            ],
            [
             1,
             "#f0f921"
            ]
           ],
           "sequentialminus": [
            [
             0,
             "#0d0887"
            ],
            [
             0.1111111111111111,
             "#46039f"
            ],
            [
             0.2222222222222222,
             "#7201a8"
            ],
            [
             0.3333333333333333,
             "#9c179e"
            ],
            [
             0.4444444444444444,
             "#bd3786"
            ],
            [
             0.5555555555555556,
             "#d8576b"
            ],
            [
             0.6666666666666666,
             "#ed7953"
            ],
            [
             0.7777777777777778,
             "#fb9f3a"
            ],
            [
             0.8888888888888888,
             "#fdca26"
            ],
            [
             1,
             "#f0f921"
            ]
           ]
          },
          "colorway": [
           "#636efa",
           "#EF553B",
           "#00cc96",
           "#ab63fa",
           "#FFA15A",
           "#19d3f3",
           "#FF6692",
           "#B6E880",
           "#FF97FF",
           "#FECB52"
          ],
          "font": {
           "color": "#2a3f5f"
          },
          "geo": {
           "bgcolor": "white",
           "lakecolor": "white",
           "landcolor": "#E5ECF6",
           "showlakes": true,
           "showland": true,
           "subunitcolor": "white"
          },
          "hoverlabel": {
           "align": "left"
          },
          "hovermode": "closest",
          "mapbox": {
           "style": "light"
          },
          "paper_bgcolor": "white",
          "plot_bgcolor": "#E5ECF6",
          "polar": {
           "angularaxis": {
            "gridcolor": "white",
            "linecolor": "white",
            "ticks": ""
           },
           "bgcolor": "#E5ECF6",
           "radialaxis": {
            "gridcolor": "white",
            "linecolor": "white",
            "ticks": ""
           }
          },
          "scene": {
           "xaxis": {
            "backgroundcolor": "#E5ECF6",
            "gridcolor": "white",
            "gridwidth": 2,
            "linecolor": "white",
            "showbackground": true,
            "ticks": "",
            "zerolinecolor": "white"
           },
           "yaxis": {
            "backgroundcolor": "#E5ECF6",
            "gridcolor": "white",
            "gridwidth": 2,
            "linecolor": "white",
            "showbackground": true,
            "ticks": "",
            "zerolinecolor": "white"
           },
           "zaxis": {
            "backgroundcolor": "#E5ECF6",
            "gridcolor": "white",
            "gridwidth": 2,
            "linecolor": "white",
            "showbackground": true,
            "ticks": "",
            "zerolinecolor": "white"
           }
          },
          "shapedefaults": {
           "line": {
            "color": "#2a3f5f"
           }
          },
          "ternary": {
           "aaxis": {
            "gridcolor": "white",
            "linecolor": "white",
            "ticks": ""
           },
           "baxis": {
            "gridcolor": "white",
            "linecolor": "white",
            "ticks": ""
           },
           "bgcolor": "#E5ECF6",
           "caxis": {
            "gridcolor": "white",
            "linecolor": "white",
            "ticks": ""
           }
          },
          "title": {
           "x": 0.05
          },
          "xaxis": {
           "automargin": true,
           "gridcolor": "white",
           "linecolor": "white",
           "ticks": "",
           "title": {
            "standoff": 15
           },
           "zerolinecolor": "white",
           "zerolinewidth": 2
          },
          "yaxis": {
           "automargin": true,
           "gridcolor": "white",
           "linecolor": "white",
           "ticks": "",
           "title": {
            "standoff": 15
           },
           "zerolinecolor": "white",
           "zerolinewidth": 2
          }
         }
        }
       }
      }
     },
     "metadata": {},
     "output_type": "display_data"
    }
   ],
   "source": [
    "x=df1['tg']\n",
    "y=df1['Hieu suat']\n",
    "mymodel = np.poly1d(np.polyfit(x, y, 10))\n",
    "\n",
    "myline = np.linspace(0, len(df1)-2, 100)\n",
    "\n",
    "fig1 = go.Figure()\n",
    "fig1.add_trace(go.Scatter(\n",
    "    x=x,\n",
    "    y=y,\n",
    "    name=\"Hiệu suất\"))\n",
    "fig1.add_trace(go.Scatter(\n",
    "    x=myline,\n",
    "    y=mymodel(myline),\n",
    "    name=\"Hiệu suất khớp\"))\n",
    "fig1.add_trace(go.Scatter(\n",
    "    x=x,\n",
    "    y=df1['Total input power(kW)'],\n",
    "    name=\"Sản lượng\"))"
   ]
  },
  {
   "cell_type": "code",
   "execution_count": 32,
   "metadata": {},
   "outputs": [
    {
     "data": {
      "application/vnd.plotly.v1+json": {
       "config": {
        "plotlyServerURL": "https://plot.ly"
       },
       "data": [
        {
         "name": "Hiệu suất",
         "type": "scatter",
         "x": [
          0,
          1,
          2,
          3,
          4,
          5,
          6,
          7,
          8,
          9,
          10,
          11,
          12,
          13,
          14,
          15,
          16,
          17,
          18,
          19,
          20,
          21,
          22,
          23,
          24,
          25,
          26,
          27,
          28,
          29,
          30,
          31,
          32,
          33,
          34,
          35,
          36,
          37,
          38,
          39,
          40,
          41,
          42,
          43,
          44,
          45,
          46,
          47,
          48,
          49,
          50,
          51,
          52,
          53,
          54,
          55,
          56,
          57,
          58,
          59,
          60,
          61,
          62,
          63,
          64,
          65,
          66,
          67,
          68,
          69,
          70,
          71,
          72,
          73,
          74,
          75,
          76,
          77,
          78,
          79,
          80,
          81,
          82,
          83,
          84,
          85,
          86,
          87,
          88,
          89,
          90,
          91,
          92,
          93,
          94,
          95,
          96,
          97,
          98,
          99,
          100,
          101,
          102,
          103,
          104,
          105,
          106,
          107,
          108,
          109,
          110,
          111,
          112,
          113,
          114,
          115,
          116,
          117,
          118,
          119,
          120,
          121,
          122,
          123,
          124,
          125,
          126,
          127,
          128,
          129,
          130,
          131,
          132,
          133,
          134,
          135,
          136,
          137,
          138,
          139,
          140
         ],
         "y": [
          71.3594837862512,
          71.90453960668563,
          73.63857765440912,
          73.72029122756562,
          74.91959022755925,
          75.42597631914407,
          78.41260853512966,
          79.84658722301799,
          78.78836494825438,
          78.65589163525625,
          75.21604627437411,
          76.75196140214004,
          76.02718998972915,
          77.7426971073431,
          77.58637639354342,
          78.70480488715111,
          79.91985878458608,
          81.59003226926652,
          80.6405557336669,
          80.43337584896747,
          81.86258751431866,
          82.14487218424202,
          80.79230154971324,
          81.81059728144204,
          81.02885606754187,
          79.87289866251754,
          79.81620241776149,
          80.47126465518268,
          81.41138096850091,
          81.7657292647897,
          83.74504501862646,
          82.9677906029086,
          80.18129421932268,
          79.71188820984477,
          81.99462580719495,
          80.96618401997918,
          81.50259550737098,
          80.14733337705121,
          78.92725833106337,
          80.6337705480198,
          82.12804103601687,
          81.84251117107227,
          81.7719110505136,
          82.1849115080164,
          79.72355840704577,
          80.18069984784182,
          80.87896722829133,
          82.04494069832374,
          82.05756802167853,
          81.62477980699072,
          81.84467598468184,
          81.44262890077415,
          79.41411731875921,
          81.7045972466447,
          82.14021381267422,
          82.62620830398724,
          82.11072891686683,
          81.67194959966108,
          82.2530659878816,
          82.12447767529862,
          81.69972249359448,
          81.63103062903278,
          81.21379689410301,
          81.27009860071959,
          80.6431341037814,
          81.5136995984581,
          81.83324003510616,
          81.34236161122656,
          81.5210052139915,
          82.1497293267619,
          83.65657232041185,
          83.92416313472452,
          82.7117719537923,
          81.21604171517964,
          80.86239807280387,
          81.41272409559731,
          82.45858408936375,
          83.7958726161277,
          83.60114682541136,
          82.50103288598525,
          74.84576676694577,
          82.51732193769577,
          82.65948918455534,
          80.60719863036356,
          80.5274994073157,
          81.10021602166908,
          82.2941898152859,
          82.17946013635022,
          81.23532923468359,
          80.99389214523367,
          80.71969260807754,
          82.26984373632564,
          83.21931525426906,
          83.38911182750871,
          82.99503346060312,
          82.31721970651155,
          82.31343575471364,
          82.45519289596533,
          82.48264494133848,
          81.79967438553611,
          81.70232098869741,
          81.86220210034608,
          81.19628790858943,
          81.26068356288363,
          81.94315357128244,
          81.71103869885248,
          80.81374133767206,
          82.0115597066086,
          83.80785531731368,
          81.89952857549562,
          81.37103597595234,
          79.69096739814363,
          80.7490727822544,
          81.06482765173055,
          83.1592673812742,
          83.02076776139486,
          82.19454330667197,
          80.54193042108304,
          80.07807252051668,
          80.60263390552508,
          79.83817173217615,
          79.98040399930456,
          80.84295546043926,
          81.23999947639918,
          80.50047715851107,
          79.97097490704903,
          80.00236498521576,
          81.44980271993772,
          83.68957323289584,
          94.50695780489899,
          83.72383569526193,
          81.40943713200164,
          80.17403571524608,
          79.41038538055464,
          78.7662362212924,
          81.10068767783572,
          82.96381192906317,
          78.23801397402127,
          77.74720392002386,
          73.58062232112195,
          71.2077527491896
         ]
        },
        {
         "name": "Hiệu suất khớp",
         "type": "scatter",
         "x": [
          0,
          1.404040404040404,
          2.808080808080808,
          4.212121212121212,
          5.616161616161616,
          7.02020202020202,
          8.424242424242424,
          9.828282828282827,
          11.232323232323232,
          12.636363636363637,
          14.04040404040404,
          15.444444444444443,
          16.848484848484848,
          18.252525252525253,
          19.656565656565654,
          21.06060606060606,
          22.464646464646464,
          23.86868686868687,
          25.272727272727273,
          26.676767676767675,
          28.08080808080808,
          29.484848484848484,
          30.888888888888886,
          32.292929292929294,
          33.696969696969695,
          35.1010101010101,
          36.505050505050505,
          37.90909090909091,
          39.31313131313131,
          40.717171717171716,
          42.12121212121212,
          43.525252525252526,
          44.92929292929293,
          46.33333333333333,
          47.73737373737374,
          49.14141414141414,
          50.54545454545455,
          51.94949494949495,
          53.35353535353535,
          54.75757575757576,
          56.16161616161616,
          57.56565656565656,
          58.96969696969697,
          60.37373737373737,
          61.77777777777777,
          63.18181818181818,
          64.58585858585859,
          65.98989898989899,
          67.39393939393939,
          68.79797979797979,
          70.2020202020202,
          71.60606060606061,
          73.01010101010101,
          74.41414141414141,
          75.81818181818181,
          77.22222222222221,
          78.62626262626262,
          80.03030303030303,
          81.43434343434343,
          82.83838383838383,
          84.24242424242424,
          85.64646464646464,
          87.05050505050505,
          88.45454545454545,
          89.85858585858585,
          91.26262626262626,
          92.66666666666666,
          94.07070707070707,
          95.47474747474747,
          96.87878787878788,
          98.28282828282828,
          99.68686868686868,
          101.0909090909091,
          102.4949494949495,
          103.8989898989899,
          105.3030303030303,
          106.7070707070707,
          108.1111111111111,
          109.51515151515152,
          110.91919191919192,
          112.32323232323232,
          113.72727272727272,
          115.13131313131312,
          116.53535353535354,
          117.93939393939394,
          119.34343434343434,
          120.74747474747474,
          122.15151515151514,
          123.55555555555554,
          124.95959595959596,
          126.36363636363636,
          127.76767676767676,
          129.17171717171718,
          130.57575757575756,
          131.97979797979798,
          133.38383838383837,
          134.78787878787878,
          136.1919191919192,
          137.59595959595958,
          139
         ],
         "y": [
          71.22927675524132,
          72.97189035237678,
          74.30897934126247,
          75.35096137059607,
          76.18126733003352,
          76.86160254452824,
          77.43642295102978,
          77.93671312546444,
          78.38314626084278,
          78.7886997638007,
          79.16079402901012,
          79.50301616082024,
          79.81648493133831,
          80.10090808605982,
          80.35537822423802,
          80.5789488835712,
          80.7710281396114,
          80.93162298168701,
          81.06146394121458,
          81.1620359171772,
          81.23553785939946,
          81.28479092517716,
          81.31311191095514,
          81.32416617021354,
          81.32181185365289,
          81.3099451402867,
          81.29235416028881,
          81.27258753452345,
          81.25384186374703,
          81.23887108462671,
          81.22991936211329,
          81.22867810045618,
          81.23626672038124,
          81.25323605980674,
          81.27959260206362,
          81.31484121105585,
          81.3580436492583,
          81.40788986404543,
          81.46277884268773,
          81.52090574859825,
          81.58035205313867,
          81.6391754606893,
          81.695496581852,
          81.74757953267714,
          81.79390391891155,
          81.83322599547564,
          81.86462716489034,
          81.887548386288,
          81.90180950111096,
          81.90761293471945,
          81.9055316970248,
          81.89648207213702,
          81.88168184888346,
          81.862595393096,
          81.8408672910106,
          81.81824669281845,
          81.79650484893969,
          81.77734865041647,
          81.76233325195209,
          81.75277706281925,
          81.7496825297051,
          81.75366619878329,
          81.76490152377302,
          81.7830777744376,
          81.8073781886471,
          81.83648019224316,
          81.86858007718608,
          81.90144397093835,
          81.93248624301191,
          81.9588756671109,
          81.97766868435214,
          81.9859679858335,
          81.98110334099363,
          81.96083014007161,
          81.92353947784223,
          81.8684717835844,
          81.79592398190343,
          81.70743795018552,
          81.60595560731971,
          81.4959233227701,
          81.38332546028852,
          81.2756237665747,
          81.18157596657515,
          81.110903333029,
          81.07377314216806,
          81.08005781346945,
          81.13832813775217,
          81.25453333045328,
          81.43031568437806,
          81.66090234580831,
          81.93251117308183,
          82.21920176998316,
          82.47909659384756,
          82.64989051841152,
          82.64356037815763,
          82.34017882409643,
          81.58072927071979,
          80.15881080534089,
          77.8111136539564,
          74.20653715849247
         ]
        },
        {
         "name": "Sản lượng",
         "type": "scatter",
         "x": [
          0,
          1,
          2,
          3,
          4,
          5,
          6,
          7,
          8,
          9,
          10,
          11,
          12,
          13,
          14,
          15,
          16,
          17,
          18,
          19,
          20,
          21,
          22,
          23,
          24,
          25,
          26,
          27,
          28,
          29,
          30,
          31,
          32,
          33,
          34,
          35,
          36,
          37,
          38,
          39,
          40,
          41,
          42,
          43,
          44,
          45,
          46,
          47,
          48,
          49,
          50,
          51,
          52,
          53,
          54,
          55,
          56,
          57,
          58,
          59,
          60,
          61,
          62,
          63,
          64,
          65,
          66,
          67,
          68,
          69,
          70,
          71,
          72,
          73,
          74,
          75,
          76,
          77,
          78,
          79,
          80,
          81,
          82,
          83,
          84,
          85,
          86,
          87,
          88,
          89,
          90,
          91,
          92,
          93,
          94,
          95,
          96,
          97,
          98,
          99,
          100,
          101,
          102,
          103,
          104,
          105,
          106,
          107,
          108,
          109,
          110,
          111,
          112,
          113,
          114,
          115,
          116,
          117,
          118,
          119,
          120,
          121,
          122,
          123,
          124,
          125,
          126,
          127,
          128,
          129,
          130,
          131,
          132,
          133,
          134,
          135,
          136,
          137,
          138,
          139,
          140
         ],
         "y": [
          1.756,
          2.105,
          2.446,
          4.247,
          4.543,
          4.962,
          9.108,
          8.993,
          8.144,
          6.805,
          4.798,
          6.896,
          5.572,
          6.497,
          8.309,
          8.797,
          10.71,
          11.866,
          9.241,
          11.795,
          13.933,
          17.93,
          18.917,
          20.567,
          25.219,
          20.893,
          22.327,
          27.816,
          40.388,
          41.084,
          46.022,
          46.493,
          28.021,
          25.728,
          33.403,
          31.738,
          26.222,
          23.64,
          18.388,
          21.304,
          27.836,
          27.156,
          22.678,
          18.817,
          16.51,
          22.16,
          23.446,
          26.737,
          30.352,
          34.117,
          49.966,
          29.825,
          26.068,
          35.89,
          36.274,
          43.439,
          52.092,
          53.306,
          46.723,
          42.438,
          38.961,
          38.092,
          36.594,
          32.329,
          35.843,
          37.9,
          35.363,
          34.455,
          35.276,
          36.363,
          40.284,
          43.455,
          36.679,
          27.119,
          28.364,
          31.247,
          30.814,
          36.09,
          45.873,
          55.341,
          60.779,
          70.18,
          66.173,
          47.281,
          41.61,
          37.191,
          35.922,
          32.741,
          28.171,
          27.114,
          26.676,
          29.697,
          34.543,
          36.821,
          41.115,
          41.737,
          38.986,
          40.572,
          40.592,
          46.996,
          46.029,
          43.389,
          43.207,
          39.395,
          39.389,
          42.368,
          68.605,
          61.073,
          48.356,
          49.815,
          32.535,
          23.652,
          22.001,
          23.151,
          22.637,
          23.17,
          21.572,
          20.709,
          18.707,
          21.703,
          18.602,
          17.796,
          17.556,
          18.113,
          16.234,
          12.446,
          15.596,
          16.981,
          19.803,
          35.879,
          15.316,
          11.069,
          8.841,
          7.878,
          6.382,
          6.158,
          5.755,
          3.858,
          3.076,
          2.027,
          1.383
         ]
        }
       ],
       "layout": {
        "template": {
         "data": {
          "bar": [
           {
            "error_x": {
             "color": "#2a3f5f"
            },
            "error_y": {
             "color": "#2a3f5f"
            },
            "marker": {
             "line": {
              "color": "#E5ECF6",
              "width": 0.5
             },
             "pattern": {
              "fillmode": "overlay",
              "size": 10,
              "solidity": 0.2
             }
            },
            "type": "bar"
           }
          ],
          "barpolar": [
           {
            "marker": {
             "line": {
              "color": "#E5ECF6",
              "width": 0.5
             },
             "pattern": {
              "fillmode": "overlay",
              "size": 10,
              "solidity": 0.2
             }
            },
            "type": "barpolar"
           }
          ],
          "carpet": [
           {
            "aaxis": {
             "endlinecolor": "#2a3f5f",
             "gridcolor": "white",
             "linecolor": "white",
             "minorgridcolor": "white",
             "startlinecolor": "#2a3f5f"
            },
            "baxis": {
             "endlinecolor": "#2a3f5f",
             "gridcolor": "white",
             "linecolor": "white",
             "minorgridcolor": "white",
             "startlinecolor": "#2a3f5f"
            },
            "type": "carpet"
           }
          ],
          "choropleth": [
           {
            "colorbar": {
             "outlinewidth": 0,
             "ticks": ""
            },
            "type": "choropleth"
           }
          ],
          "contour": [
           {
            "colorbar": {
             "outlinewidth": 0,
             "ticks": ""
            },
            "colorscale": [
             [
              0,
              "#0d0887"
             ],
             [
              0.1111111111111111,
              "#46039f"
             ],
             [
              0.2222222222222222,
              "#7201a8"
             ],
             [
              0.3333333333333333,
              "#9c179e"
             ],
             [
              0.4444444444444444,
              "#bd3786"
             ],
             [
              0.5555555555555556,
              "#d8576b"
             ],
             [
              0.6666666666666666,
              "#ed7953"
             ],
             [
              0.7777777777777778,
              "#fb9f3a"
             ],
             [
              0.8888888888888888,
              "#fdca26"
             ],
             [
              1,
              "#f0f921"
             ]
            ],
            "type": "contour"
           }
          ],
          "contourcarpet": [
           {
            "colorbar": {
             "outlinewidth": 0,
             "ticks": ""
            },
            "type": "contourcarpet"
           }
          ],
          "heatmap": [
           {
            "colorbar": {
             "outlinewidth": 0,
             "ticks": ""
            },
            "colorscale": [
             [
              0,
              "#0d0887"
             ],
             [
              0.1111111111111111,
              "#46039f"
             ],
             [
              0.2222222222222222,
              "#7201a8"
             ],
             [
              0.3333333333333333,
              "#9c179e"
             ],
             [
              0.4444444444444444,
              "#bd3786"
             ],
             [
              0.5555555555555556,
              "#d8576b"
             ],
             [
              0.6666666666666666,
              "#ed7953"
             ],
             [
              0.7777777777777778,
              "#fb9f3a"
             ],
             [
              0.8888888888888888,
              "#fdca26"
             ],
             [
              1,
              "#f0f921"
             ]
            ],
            "type": "heatmap"
           }
          ],
          "heatmapgl": [
           {
            "colorbar": {
             "outlinewidth": 0,
             "ticks": ""
            },
            "colorscale": [
             [
              0,
              "#0d0887"
             ],
             [
              0.1111111111111111,
              "#46039f"
             ],
             [
              0.2222222222222222,
              "#7201a8"
             ],
             [
              0.3333333333333333,
              "#9c179e"
             ],
             [
              0.4444444444444444,
              "#bd3786"
             ],
             [
              0.5555555555555556,
              "#d8576b"
             ],
             [
              0.6666666666666666,
              "#ed7953"
             ],
             [
              0.7777777777777778,
              "#fb9f3a"
             ],
             [
              0.8888888888888888,
              "#fdca26"
             ],
             [
              1,
              "#f0f921"
             ]
            ],
            "type": "heatmapgl"
           }
          ],
          "histogram": [
           {
            "marker": {
             "pattern": {
              "fillmode": "overlay",
              "size": 10,
              "solidity": 0.2
             }
            },
            "type": "histogram"
           }
          ],
          "histogram2d": [
           {
            "colorbar": {
             "outlinewidth": 0,
             "ticks": ""
            },
            "colorscale": [
             [
              0,
              "#0d0887"
             ],
             [
              0.1111111111111111,
              "#46039f"
             ],
             [
              0.2222222222222222,
              "#7201a8"
             ],
             [
              0.3333333333333333,
              "#9c179e"
             ],
             [
              0.4444444444444444,
              "#bd3786"
             ],
             [
              0.5555555555555556,
              "#d8576b"
             ],
             [
              0.6666666666666666,
              "#ed7953"
             ],
             [
              0.7777777777777778,
              "#fb9f3a"
             ],
             [
              0.8888888888888888,
              "#fdca26"
             ],
             [
              1,
              "#f0f921"
             ]
            ],
            "type": "histogram2d"
           }
          ],
          "histogram2dcontour": [
           {
            "colorbar": {
             "outlinewidth": 0,
             "ticks": ""
            },
            "colorscale": [
             [
              0,
              "#0d0887"
             ],
             [
              0.1111111111111111,
              "#46039f"
             ],
             [
              0.2222222222222222,
              "#7201a8"
             ],
             [
              0.3333333333333333,
              "#9c179e"
             ],
             [
              0.4444444444444444,
              "#bd3786"
             ],
             [
              0.5555555555555556,
              "#d8576b"
             ],
             [
              0.6666666666666666,
              "#ed7953"
             ],
             [
              0.7777777777777778,
              "#fb9f3a"
             ],
             [
              0.8888888888888888,
              "#fdca26"
             ],
             [
              1,
              "#f0f921"
             ]
            ],
            "type": "histogram2dcontour"
           }
          ],
          "mesh3d": [
           {
            "colorbar": {
             "outlinewidth": 0,
             "ticks": ""
            },
            "type": "mesh3d"
           }
          ],
          "parcoords": [
           {
            "line": {
             "colorbar": {
              "outlinewidth": 0,
              "ticks": ""
             }
            },
            "type": "parcoords"
           }
          ],
          "pie": [
           {
            "automargin": true,
            "type": "pie"
           }
          ],
          "scatter": [
           {
            "fillpattern": {
             "fillmode": "overlay",
             "size": 10,
             "solidity": 0.2
            },
            "type": "scatter"
           }
          ],
          "scatter3d": [
           {
            "line": {
             "colorbar": {
              "outlinewidth": 0,
              "ticks": ""
             }
            },
            "marker": {
             "colorbar": {
              "outlinewidth": 0,
              "ticks": ""
             }
            },
            "type": "scatter3d"
           }
          ],
          "scattercarpet": [
           {
            "marker": {
             "colorbar": {
              "outlinewidth": 0,
              "ticks": ""
             }
            },
            "type": "scattercarpet"
           }
          ],
          "scattergeo": [
           {
            "marker": {
             "colorbar": {
              "outlinewidth": 0,
              "ticks": ""
             }
            },
            "type": "scattergeo"
           }
          ],
          "scattergl": [
           {
            "marker": {
             "colorbar": {
              "outlinewidth": 0,
              "ticks": ""
             }
            },
            "type": "scattergl"
           }
          ],
          "scattermapbox": [
           {
            "marker": {
             "colorbar": {
              "outlinewidth": 0,
              "ticks": ""
             }
            },
            "type": "scattermapbox"
           }
          ],
          "scatterpolar": [
           {
            "marker": {
             "colorbar": {
              "outlinewidth": 0,
              "ticks": ""
             }
            },
            "type": "scatterpolar"
           }
          ],
          "scatterpolargl": [
           {
            "marker": {
             "colorbar": {
              "outlinewidth": 0,
              "ticks": ""
             }
            },
            "type": "scatterpolargl"
           }
          ],
          "scatterternary": [
           {
            "marker": {
             "colorbar": {
              "outlinewidth": 0,
              "ticks": ""
             }
            },
            "type": "scatterternary"
           }
          ],
          "surface": [
           {
            "colorbar": {
             "outlinewidth": 0,
             "ticks": ""
            },
            "colorscale": [
             [
              0,
              "#0d0887"
             ],
             [
              0.1111111111111111,
              "#46039f"
             ],
             [
              0.2222222222222222,
              "#7201a8"
             ],
             [
              0.3333333333333333,
              "#9c179e"
             ],
             [
              0.4444444444444444,
              "#bd3786"
             ],
             [
              0.5555555555555556,
              "#d8576b"
             ],
             [
              0.6666666666666666,
              "#ed7953"
             ],
             [
              0.7777777777777778,
              "#fb9f3a"
             ],
             [
              0.8888888888888888,
              "#fdca26"
             ],
             [
              1,
              "#f0f921"
             ]
            ],
            "type": "surface"
           }
          ],
          "table": [
           {
            "cells": {
             "fill": {
              "color": "#EBF0F8"
             },
             "line": {
              "color": "white"
             }
            },
            "header": {
             "fill": {
              "color": "#C8D4E3"
             },
             "line": {
              "color": "white"
             }
            },
            "type": "table"
           }
          ]
         },
         "layout": {
          "annotationdefaults": {
           "arrowcolor": "#2a3f5f",
           "arrowhead": 0,
           "arrowwidth": 1
          },
          "autotypenumbers": "strict",
          "coloraxis": {
           "colorbar": {
            "outlinewidth": 0,
            "ticks": ""
           }
          },
          "colorscale": {
           "diverging": [
            [
             0,
             "#8e0152"
            ],
            [
             0.1,
             "#c51b7d"
            ],
            [
             0.2,
             "#de77ae"
            ],
            [
             0.3,
             "#f1b6da"
            ],
            [
             0.4,
             "#fde0ef"
            ],
            [
             0.5,
             "#f7f7f7"
            ],
            [
             0.6,
             "#e6f5d0"
            ],
            [
             0.7,
             "#b8e186"
            ],
            [
             0.8,
             "#7fbc41"
            ],
            [
             0.9,
             "#4d9221"
            ],
            [
             1,
             "#276419"
            ]
           ],
           "sequential": [
            [
             0,
             "#0d0887"
            ],
            [
             0.1111111111111111,
             "#46039f"
            ],
            [
             0.2222222222222222,
             "#7201a8"
            ],
            [
             0.3333333333333333,
             "#9c179e"
            ],
            [
             0.4444444444444444,
             "#bd3786"
            ],
            [
             0.5555555555555556,
             "#d8576b"
            ],
            [
             0.6666666666666666,
             "#ed7953"
            ],
            [
             0.7777777777777778,
             "#fb9f3a"
            ],
            [
             0.8888888888888888,
             "#fdca26"
            ],
            [
             1,
             "#f0f921"
            ]
           ],
           "sequentialminus": [
            [
             0,
             "#0d0887"
            ],
            [
             0.1111111111111111,
             "#46039f"
            ],
            [
             0.2222222222222222,
             "#7201a8"
            ],
            [
             0.3333333333333333,
             "#9c179e"
            ],
            [
             0.4444444444444444,
             "#bd3786"
            ],
            [
             0.5555555555555556,
             "#d8576b"
            ],
            [
             0.6666666666666666,
             "#ed7953"
            ],
            [
             0.7777777777777778,
             "#fb9f3a"
            ],
            [
             0.8888888888888888,
             "#fdca26"
            ],
            [
             1,
             "#f0f921"
            ]
           ]
          },
          "colorway": [
           "#636efa",
           "#EF553B",
           "#00cc96",
           "#ab63fa",
           "#FFA15A",
           "#19d3f3",
           "#FF6692",
           "#B6E880",
           "#FF97FF",
           "#FECB52"
          ],
          "font": {
           "color": "#2a3f5f"
          },
          "geo": {
           "bgcolor": "white",
           "lakecolor": "white",
           "landcolor": "#E5ECF6",
           "showlakes": true,
           "showland": true,
           "subunitcolor": "white"
          },
          "hoverlabel": {
           "align": "left"
          },
          "hovermode": "closest",
          "mapbox": {
           "style": "light"
          },
          "paper_bgcolor": "white",
          "plot_bgcolor": "#E5ECF6",
          "polar": {
           "angularaxis": {
            "gridcolor": "white",
            "linecolor": "white",
            "ticks": ""
           },
           "bgcolor": "#E5ECF6",
           "radialaxis": {
            "gridcolor": "white",
            "linecolor": "white",
            "ticks": ""
           }
          },
          "scene": {
           "xaxis": {
            "backgroundcolor": "#E5ECF6",
            "gridcolor": "white",
            "gridwidth": 2,
            "linecolor": "white",
            "showbackground": true,
            "ticks": "",
            "zerolinecolor": "white"
           },
           "yaxis": {
            "backgroundcolor": "#E5ECF6",
            "gridcolor": "white",
            "gridwidth": 2,
            "linecolor": "white",
            "showbackground": true,
            "ticks": "",
            "zerolinecolor": "white"
           },
           "zaxis": {
            "backgroundcolor": "#E5ECF6",
            "gridcolor": "white",
            "gridwidth": 2,
            "linecolor": "white",
            "showbackground": true,
            "ticks": "",
            "zerolinecolor": "white"
           }
          },
          "shapedefaults": {
           "line": {
            "color": "#2a3f5f"
           }
          },
          "ternary": {
           "aaxis": {
            "gridcolor": "white",
            "linecolor": "white",
            "ticks": ""
           },
           "baxis": {
            "gridcolor": "white",
            "linecolor": "white",
            "ticks": ""
           },
           "bgcolor": "#E5ECF6",
           "caxis": {
            "gridcolor": "white",
            "linecolor": "white",
            "ticks": ""
           }
          },
          "title": {
           "x": 0.05
          },
          "xaxis": {
           "automargin": true,
           "gridcolor": "white",
           "linecolor": "white",
           "ticks": "",
           "title": {
            "standoff": 15
           },
           "zerolinecolor": "white",
           "zerolinewidth": 2
          },
          "yaxis": {
           "automargin": true,
           "gridcolor": "white",
           "linecolor": "white",
           "ticks": "",
           "title": {
            "standoff": 15
           },
           "zerolinecolor": "white",
           "zerolinewidth": 2
          }
         }
        }
       }
      }
     },
     "metadata": {},
     "output_type": "display_data"
    }
   ],
   "source": [
    "fig1 = go.Figure()\n",
    "fig1.add_trace(go.Scatter(\n",
    "    x=x,\n",
    "    y=y,\n",
    "    name=\"Hiệu suất\"))\n",
    "fig1.add_trace(go.Scatter(\n",
    "    x=myline,\n",
    "    y=mymodel(myline),\n",
    "    name=\"Hiệu suất khớp\"))\n",
    "fig1.add_trace(go.Scatter(\n",
    "    x=x,\n",
    "    y=df1['Total input power(kW)'],\n",
    "    name=\"Sản lượng\"))"
   ]
  }
 ],
 "metadata": {
  "kernelspec": {
   "display_name": ".venv",
   "language": "python",
   "name": "python3"
  },
  "language_info": {
   "codemirror_mode": {
    "name": "ipython",
    "version": 3
   },
   "file_extension": ".py",
   "mimetype": "text/x-python",
   "name": "python",
   "nbconvert_exporter": "python",
   "pygments_lexer": "ipython3",
   "version": "3.10.11"
  },
  "orig_nbformat": 4
 },
 "nbformat": 4,
 "nbformat_minor": 2
}
