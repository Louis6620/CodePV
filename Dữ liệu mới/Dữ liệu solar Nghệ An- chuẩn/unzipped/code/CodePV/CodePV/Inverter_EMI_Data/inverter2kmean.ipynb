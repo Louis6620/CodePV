{
 "cells": [
  {
   "cell_type": "code",
   "execution_count": 1,
   "metadata": {},
   "outputs": [],
   "source": [
    "import numpy as np # linear algebra\n",
    "import pandas as pd # data processing, CSV file I/O (e.g. pd.read_csv)\n",
    "import matplotlib.pyplot as plt\n",
    "import seaborn as sns\n",
    "from scipy.stats import stats\n",
    "from datetime import datetime\n",
    "dateparse = lambda x: datetime.strptime(x, '%m/%d/%Y %H:%M')\n",
    "import plotly.express as px\n",
    "import plotly.graph_objects as go\n",
    "from sklearn.cluster import KMeans\n",
    "import kmeans1d\n",
    "from sklearn import preprocessing, svm \n",
    "from sklearn.model_selection import train_test_split \n",
    "from sklearn.linear_model import LinearRegression "
   ]
  },
  {
   "cell_type": "code",
   "execution_count": 2,
   "metadata": {},
   "outputs": [],
   "source": [
    "df = pd.read_csv('./inv2_emi_data_t345678.csv',\n",
    "                encoding=\"utf-8-sig\",\n",
    "                header=0,\n",
    "                infer_datetime_format=True,\n",
    "                parse_dates={'datetime':[5]},\n",
    "                index_col=['datetime']\n",
    "                )"
   ]
  },
  {
   "cell_type": "code",
   "execution_count": 3,
   "metadata": {},
   "outputs": [
    {
     "data": {
      "text/html": [
       "<div>\n",
       "<style scoped>\n",
       "    .dataframe tbody tr th:only-of-type {\n",
       "        vertical-align: middle;\n",
       "    }\n",
       "\n",
       "    .dataframe tbody tr th {\n",
       "        vertical-align: top;\n",
       "    }\n",
       "\n",
       "    .dataframe thead th {\n",
       "        text-align: right;\n",
       "    }\n",
       "</style>\n",
       "<table border=\"1\" class=\"dataframe\">\n",
       "  <thead>\n",
       "    <tr style=\"text-align: right;\">\n",
       "      <th></th>\n",
       "      <th>Unnamed: 0.1</th>\n",
       "      <th>Unnamed: 0</th>\n",
       "      <th>Site Name</th>\n",
       "      <th>Management Domain</th>\n",
       "      <th>ManageObject_x</th>\n",
       "      <th>Ambient temperature(℃)</th>\n",
       "      <th>PV Temperature(℃)</th>\n",
       "      <th>Wind speed(m/s)</th>\n",
       "      <th>Wind direction(°)</th>\n",
       "      <th>Daily irradiation(MJ/㎡)</th>\n",
       "      <th>...</th>\n",
       "      <th>day</th>\n",
       "      <th>hour</th>\n",
       "      <th>dayofweek</th>\n",
       "      <th>dayname</th>\n",
       "      <th>hourofweek</th>\n",
       "      <th>hourofmonth</th>\n",
       "      <th>Tcell</th>\n",
       "      <th>Pm</th>\n",
       "      <th>Hieu suat</th>\n",
       "      <th>date</th>\n",
       "    </tr>\n",
       "    <tr>\n",
       "      <th>datetime</th>\n",
       "      <th></th>\n",
       "      <th></th>\n",
       "      <th></th>\n",
       "      <th></th>\n",
       "      <th></th>\n",
       "      <th></th>\n",
       "      <th></th>\n",
       "      <th></th>\n",
       "      <th></th>\n",
       "      <th></th>\n",
       "      <th></th>\n",
       "      <th></th>\n",
       "      <th></th>\n",
       "      <th></th>\n",
       "      <th></th>\n",
       "      <th></th>\n",
       "      <th></th>\n",
       "      <th></th>\n",
       "      <th></th>\n",
       "      <th></th>\n",
       "      <th></th>\n",
       "    </tr>\n",
       "  </thead>\n",
       "  <tbody>\n",
       "    <tr>\n",
       "      <th>2022-03-04 10:20:00</th>\n",
       "      <td>104</td>\n",
       "      <td>104</td>\n",
       "      <td>VNM - Đà Nẵng - Nhà Máy</td>\n",
       "      <td>/BCG Energy</td>\n",
       "      <td>1020C0058922/EM001020C0058922</td>\n",
       "      <td>29.4</td>\n",
       "      <td>41.2</td>\n",
       "      <td>1.4</td>\n",
       "      <td>NaN</td>\n",
       "      <td>4.039</td>\n",
       "      <td>...</td>\n",
       "      <td>4</td>\n",
       "      <td>10</td>\n",
       "      <td>4</td>\n",
       "      <td>Friday</td>\n",
       "      <td>106</td>\n",
       "      <td>82</td>\n",
       "      <td>33.389375</td>\n",
       "      <td>99765.707730</td>\n",
       "      <td>89.783355</td>\n",
       "      <td>2022-03-04</td>\n",
       "    </tr>\n",
       "    <tr>\n",
       "      <th>2022-03-04 10:25:00</th>\n",
       "      <td>105</td>\n",
       "      <td>105</td>\n",
       "      <td>VNM - Đà Nẵng - Nhà Máy</td>\n",
       "      <td>/BCG Energy</td>\n",
       "      <td>1020C0058922/EM001020C0058922</td>\n",
       "      <td>29.3</td>\n",
       "      <td>42.0</td>\n",
       "      <td>2.4</td>\n",
       "      <td>NaN</td>\n",
       "      <td>4.252</td>\n",
       "      <td>...</td>\n",
       "      <td>4</td>\n",
       "      <td>10</td>\n",
       "      <td>4</td>\n",
       "      <td>Friday</td>\n",
       "      <td>106</td>\n",
       "      <td>82</td>\n",
       "      <td>34.078750</td>\n",
       "      <td>119863.526665</td>\n",
       "      <td>76.805683</td>\n",
       "      <td>2022-03-04</td>\n",
       "    </tr>\n",
       "    <tr>\n",
       "      <th>2022-03-04 10:30:00</th>\n",
       "      <td>106</td>\n",
       "      <td>106</td>\n",
       "      <td>VNM - Đà Nẵng - Nhà Máy</td>\n",
       "      <td>/BCG Energy</td>\n",
       "      <td>1020C0058922/EM001020C0058922</td>\n",
       "      <td>29.3</td>\n",
       "      <td>42.9</td>\n",
       "      <td>4.5</td>\n",
       "      <td>NaN</td>\n",
       "      <td>4.197</td>\n",
       "      <td>...</td>\n",
       "      <td>4</td>\n",
       "      <td>10</td>\n",
       "      <td>4</td>\n",
       "      <td>Friday</td>\n",
       "      <td>106</td>\n",
       "      <td>82</td>\n",
       "      <td>34.449375</td>\n",
       "      <td>129366.728410</td>\n",
       "      <td>72.081130</td>\n",
       "      <td>2022-03-04</td>\n",
       "    </tr>\n",
       "    <tr>\n",
       "      <th>2022-03-04 10:35:00</th>\n",
       "      <td>107</td>\n",
       "      <td>107</td>\n",
       "      <td>VNM - Đà Nẵng - Nhà Máy</td>\n",
       "      <td>/BCG Energy</td>\n",
       "      <td>1020C0058922/EM001020C0058922</td>\n",
       "      <td>29.7</td>\n",
       "      <td>44.7</td>\n",
       "      <td>0.8</td>\n",
       "      <td>NaN</td>\n",
       "      <td>4.444</td>\n",
       "      <td>...</td>\n",
       "      <td>4</td>\n",
       "      <td>10</td>\n",
       "      <td>4</td>\n",
       "      <td>Friday</td>\n",
       "      <td>106</td>\n",
       "      <td>82</td>\n",
       "      <td>34.868125</td>\n",
       "      <td>130072.464747</td>\n",
       "      <td>71.713871</td>\n",
       "      <td>2022-03-04</td>\n",
       "    </tr>\n",
       "    <tr>\n",
       "      <th>2022-03-04 10:40:00</th>\n",
       "      <td>108</td>\n",
       "      <td>108</td>\n",
       "      <td>VNM - Đà Nẵng - Nhà Máy</td>\n",
       "      <td>/BCG Energy</td>\n",
       "      <td>1020C0058922/EM001020C0058922</td>\n",
       "      <td>29.7</td>\n",
       "      <td>45.6</td>\n",
       "      <td>2.0</td>\n",
       "      <td>NaN</td>\n",
       "      <td>4.692</td>\n",
       "      <td>...</td>\n",
       "      <td>4</td>\n",
       "      <td>10</td>\n",
       "      <td>4</td>\n",
       "      <td>Friday</td>\n",
       "      <td>106</td>\n",
       "      <td>82</td>\n",
       "      <td>34.773750</td>\n",
       "      <td>127645.289181</td>\n",
       "      <td>72.532250</td>\n",
       "      <td>2022-03-04</td>\n",
       "    </tr>\n",
       "  </tbody>\n",
       "</table>\n",
       "<p>5 rows × 102 columns</p>\n",
       "</div>"
      ],
      "text/plain": [
       "                     Unnamed: 0.1  Unnamed: 0                Site Name  \\\n",
       "datetime                                                                 \n",
       "2022-03-04 10:20:00           104         104  VNM - Đà Nẵng - Nhà Máy   \n",
       "2022-03-04 10:25:00           105         105  VNM - Đà Nẵng - Nhà Máy   \n",
       "2022-03-04 10:30:00           106         106  VNM - Đà Nẵng - Nhà Máy   \n",
       "2022-03-04 10:35:00           107         107  VNM - Đà Nẵng - Nhà Máy   \n",
       "2022-03-04 10:40:00           108         108  VNM - Đà Nẵng - Nhà Máy   \n",
       "\n",
       "                    Management Domain                 ManageObject_x  \\\n",
       "datetime                                                               \n",
       "2022-03-04 10:20:00       /BCG Energy  1020C0058922/EM001020C0058922   \n",
       "2022-03-04 10:25:00       /BCG Energy  1020C0058922/EM001020C0058922   \n",
       "2022-03-04 10:30:00       /BCG Energy  1020C0058922/EM001020C0058922   \n",
       "2022-03-04 10:35:00       /BCG Energy  1020C0058922/EM001020C0058922   \n",
       "2022-03-04 10:40:00       /BCG Energy  1020C0058922/EM001020C0058922   \n",
       "\n",
       "                     Ambient temperature(℃)  PV Temperature(℃)  \\\n",
       "datetime                                                         \n",
       "2022-03-04 10:20:00                    29.4               41.2   \n",
       "2022-03-04 10:25:00                    29.3               42.0   \n",
       "2022-03-04 10:30:00                    29.3               42.9   \n",
       "2022-03-04 10:35:00                    29.7               44.7   \n",
       "2022-03-04 10:40:00                    29.7               45.6   \n",
       "\n",
       "                     Wind speed(m/s)  Wind direction(°)  \\\n",
       "datetime                                                  \n",
       "2022-03-04 10:20:00              1.4                NaN   \n",
       "2022-03-04 10:25:00              2.4                NaN   \n",
       "2022-03-04 10:30:00              4.5                NaN   \n",
       "2022-03-04 10:35:00              0.8                NaN   \n",
       "2022-03-04 10:40:00              2.0                NaN   \n",
       "\n",
       "                     Daily irradiation(MJ/㎡)  ...  day hour dayofweek dayname  \\\n",
       "datetime                                      ...                               \n",
       "2022-03-04 10:20:00                    4.039  ...    4   10         4  Friday   \n",
       "2022-03-04 10:25:00                    4.252  ...    4   10         4  Friday   \n",
       "2022-03-04 10:30:00                    4.197  ...    4   10         4  Friday   \n",
       "2022-03-04 10:35:00                    4.444  ...    4   10         4  Friday   \n",
       "2022-03-04 10:40:00                    4.692  ...    4   10         4  Friday   \n",
       "\n",
       "                     hourofweek  hourofmonth      Tcell             Pm  \\\n",
       "datetime                                                                 \n",
       "2022-03-04 10:20:00         106           82  33.389375   99765.707730   \n",
       "2022-03-04 10:25:00         106           82  34.078750  119863.526665   \n",
       "2022-03-04 10:30:00         106           82  34.449375  129366.728410   \n",
       "2022-03-04 10:35:00         106           82  34.868125  130072.464747   \n",
       "2022-03-04 10:40:00         106           82  34.773750  127645.289181   \n",
       "\n",
       "                     Hieu suat        date  \n",
       "datetime                                    \n",
       "2022-03-04 10:20:00  89.783355  2022-03-04  \n",
       "2022-03-04 10:25:00  76.805683  2022-03-04  \n",
       "2022-03-04 10:30:00  72.081130  2022-03-04  \n",
       "2022-03-04 10:35:00  71.713871  2022-03-04  \n",
       "2022-03-04 10:40:00  72.532250  2022-03-04  \n",
       "\n",
       "[5 rows x 102 columns]"
      ]
     },
     "execution_count": 3,
     "metadata": {},
     "output_type": "execute_result"
    }
   ],
   "source": [
    "df['time'] = df.index\n",
    "df.loc[:,'year'] = pd.Series(df.index.year, df.index)\n",
    "df.loc[:,'month'] = pd.Series(df.index.month, df.index)\n",
    "df.loc[:,'day'] = pd.Series(df.index.day, df.index)\n",
    "df.loc[:,'hour'] = pd.Series(df.index.hour, df.index)\n",
    "df.loc[:,'dayofweek'] = pd.Series(df.index.dayofweek, df.index)\n",
    "df.loc[:,'dayname'] = pd.Series(df.index.day_name(), df.index)\n",
    "df.loc[:,'hourofweek'] = pd.Series((df.hour+24*df.dayofweek), df.index)\n",
    "df.loc[:,'hourofmonth'] = pd.Series((df.hour+24*(df.day-1)), df.index)\n",
    "df.loc[:,'Tcell']=pd.Series((df['Ambient temperature(℃)']+df['Irradiance(W/㎡)']/800*(25-20)), df.index)\n",
    "df.loc[:,'Pm']=pd.Series((2.172*1.303*220*2*590*df['Irradiance(W/㎡)']/1000*(1+0.0045*(df['Tcell']-25))*20.5/100), df.index)\n",
    "df.loc[:,'Hieu suat']=pd.Series((df['Total input power(kW)']*1000/df['Pm']*100), df.index)\n",
    "df.loc[:,'date'] = pd.Series(df.index.date, df.index)\n",
    "df=df[df['Ambient temperature(℃)']>6]\n",
    "df=df[df['Irradiance(W/㎡)']>300]\n",
    "df=df[df['Total input power(kW)']>76]\n",
    "df=df[df['Hieu suat']<100]\n",
    "df.head()"
   ]
  },
  {
   "cell_type": "code",
   "execution_count": 4,
   "metadata": {},
   "outputs": [],
   "source": [
    "ngay=[1]\n",
    "dem=1\n",
    "i=1\n",
    "while i!=len(df['time']):\n",
    "    if (df['day'][i]!=df['day'][i-1]):\n",
    "        dem=dem+1\n",
    "    ngay.append(dem)\n",
    "    i=i+1"
   ]
  },
  {
   "cell_type": "code",
   "execution_count": 5,
   "metadata": {},
   "outputs": [],
   "source": [
    "def find_most_frequent(arr):\n",
    "    counts = {}\n",
    "    max_count = 0\n",
    "    max_item = None\n",
    "    for item in arr:\n",
    "        if item not in counts:\n",
    "            counts[item] = 1\n",
    "        else:\n",
    "            counts[item] += 1\n",
    "        if counts[item] > max_count:\n",
    "            max_count = counts[item]\n",
    "            max_item = item\n",
    "    return max_item"
   ]
  },
  {
   "cell_type": "code",
   "execution_count": 6,
   "metadata": {},
   "outputs": [
    {
     "data": {
      "application/vnd.plotly.v1+json": {
       "config": {
        "plotlyServerURL": "https://plot.ly"
       },
       "data": [
        {
         "hovertemplate": "x=%{x}<br>y=%{y}<extra></extra>",
         "legendgroup": "",
         "line": {
          "color": "#636efa",
          "dash": "solid"
         },
         "marker": {
          "symbol": "circle"
         },
         "mode": "lines",
         "name": "",
         "orientation": "v",
         "showlegend": false,
         "type": "scatter",
         "x": [
          0,
          1,
          2,
          3,
          4,
          5,
          6,
          7,
          8,
          9,
          10,
          11,
          12,
          13,
          14,
          15,
          16,
          17,
          18,
          19,
          20,
          21,
          22,
          23,
          24,
          25,
          26,
          27,
          28,
          29,
          30,
          31,
          32,
          33,
          34,
          35,
          36,
          37,
          38,
          39,
          40,
          41,
          42,
          43,
          44,
          45,
          46,
          47,
          48,
          49,
          50,
          51,
          52,
          53,
          54,
          55,
          56,
          57,
          58,
          59,
          60,
          61,
          62,
          63,
          64,
          65,
          66,
          67,
          68,
          69,
          70,
          71,
          72,
          73,
          74,
          75,
          76,
          77,
          78,
          79,
          80,
          81,
          82,
          83,
          84,
          85,
          86,
          87,
          88,
          89,
          90,
          91,
          92,
          93,
          94,
          95,
          96,
          97,
          98,
          99,
          100,
          101,
          102,
          103,
          104,
          105,
          106,
          107,
          108,
          109,
          110,
          111,
          112,
          113,
          114,
          115,
          116,
          117,
          118,
          119,
          120,
          121,
          122,
          123,
          124,
          125,
          126,
          127,
          128,
          129,
          130,
          131,
          132,
          133,
          134,
          135,
          136,
          137,
          138,
          139,
          140,
          141,
          142
         ],
         "xaxis": "x",
         "y": [
          71.85093599028987,
          75.10266255701772,
          79.70618572470553,
          65.8213912752079,
          66.77860801529577,
          69.443141642141,
          65.96659694209654,
          67.68117062053635,
          72.40572087790036,
          75.78498454496706,
          70.8909701222172,
          74.42674449018723,
          76.65675801036231,
          94.3389176646232,
          75.11669628031503,
          71.79470943856086,
          71.41270804106628,
          70.17174413953659,
          71.89221828999428,
          74.48651616195788,
          72.98735927664963,
          70.45157997949384,
          68.9923229413507,
          69.97190745627992,
          70.53877353577955,
          67.00588731561437,
          66.87708642301638,
          69.0187425662801,
          66.96527293687944,
          67.54441357572732,
          66.9050169579826,
          66.0434718438891,
          65.11120108556524,
          65.76771760778358,
          66.44736682056767,
          66.8248983631276,
          79.45365798137021,
          75.72888085955827,
          73.91191974885871,
          73.21493225982076,
          68.29953302880989,
          74.15610197218221,
          72.84777786719042,
          69.28210177221858,
          68.30361930915858,
          69.38184688625381,
          63.14533373265229,
          62.52366259019931,
          70.49757921945357,
          75.54687835599194,
          75.53623336854537,
          75.19820300724956,
          65.44835144338003,
          68.30080245662225,
          67.48994011518457,
          65.8971329342214,
          67.91218233790536,
          72.02027952126858,
          64.75703811801975,
          69.31314429957109,
          69.97923108949101,
          64.22358152460222,
          64.7399388709243,
          66.44079486888027,
          64.74490840024214,
          66.2184073679594,
          65.83854261268152,
          64.07327848390673,
          62.54690597268881,
          64.32187865581527,
          64.28437748014854,
          65.37974855609855,
          64.41272201113013,
          63.00416311840345,
          63.24087801252915,
          65.95203790750246,
          64.398321400467,
          64.54205482842053,
          63.653752481749855,
          64.9622880791746,
          69.25448387758534,
          64.51655998048473,
          64.09169867446782,
          61.760101041605864,
          61.09836992398937,
          60.61018070198661,
          61.69486992686398,
          63.31550392787096,
          65.07292667513036,
          66.13307996020012,
          67.3880293444605,
          63.834728206035514,
          64.89971074165307,
          63.1076241039876,
          64.18082275562558,
          64.12503654577723,
          66.24312984457222,
          63.725881140666736,
          65.58544715892157,
          63.151598484762594,
          66.40806857216796,
          72.4476447189178,
          70.34931166326147,
          65.58769748358272,
          64.12721144969075,
          66.96752395086412,
          65.28198566681198,
          65.1626089556619,
          63.826027382101415,
          64.30438910176973,
          64.24346932820734,
          70.37109696612698,
          66.7361756341025,
          64.3788359964765,
          68.00776083976955,
          64.88538217433678,
          64.82999031964502,
          63.74141418876776,
          65.04877701276487,
          65.48312897276995,
          64.71266097510684,
          62.33620992148526,
          64.20182714351327,
          66.54384292105561,
          66.27473056869994,
          64.88634989283771,
          63.830166734642965,
          60.16337571567451,
          67.5627609834691,
          68.03701171808814,
          66.78982942441654,
          64.91051524229697,
          64.3555798317584,
          65.28164759155779,
          65.53615181177413,
          65.92881320196743,
          63.79710031583357,
          63.86408566210137,
          64.1400454368885,
          65.06589197848811,
          64.34804231108555,
          67.45123738053942,
          68.63679017056356
         ],
         "yaxis": "y"
        }
       ],
       "layout": {
        "legend": {
         "tracegroupgap": 0
        },
        "margin": {
         "t": 60
        },
        "template": {
         "data": {
          "bar": [
           {
            "error_x": {
             "color": "#2a3f5f"
            },
            "error_y": {
             "color": "#2a3f5f"
            },
            "marker": {
             "line": {
              "color": "#E5ECF6",
              "width": 0.5
             },
             "pattern": {
              "fillmode": "overlay",
              "size": 10,
              "solidity": 0.2
             }
            },
            "type": "bar"
           }
          ],
          "barpolar": [
           {
            "marker": {
             "line": {
              "color": "#E5ECF6",
              "width": 0.5
             },
             "pattern": {
              "fillmode": "overlay",
              "size": 10,
              "solidity": 0.2
             }
            },
            "type": "barpolar"
           }
          ],
          "carpet": [
           {
            "aaxis": {
             "endlinecolor": "#2a3f5f",
             "gridcolor": "white",
             "linecolor": "white",
             "minorgridcolor": "white",
             "startlinecolor": "#2a3f5f"
            },
            "baxis": {
             "endlinecolor": "#2a3f5f",
             "gridcolor": "white",
             "linecolor": "white",
             "minorgridcolor": "white",
             "startlinecolor": "#2a3f5f"
            },
            "type": "carpet"
           }
          ],
          "choropleth": [
           {
            "colorbar": {
             "outlinewidth": 0,
             "ticks": ""
            },
            "type": "choropleth"
           }
          ],
          "contour": [
           {
            "colorbar": {
             "outlinewidth": 0,
             "ticks": ""
            },
            "colorscale": [
             [
              0,
              "#0d0887"
             ],
             [
              0.1111111111111111,
              "#46039f"
             ],
             [
              0.2222222222222222,
              "#7201a8"
             ],
             [
              0.3333333333333333,
              "#9c179e"
             ],
             [
              0.4444444444444444,
              "#bd3786"
             ],
             [
              0.5555555555555556,
              "#d8576b"
             ],
             [
              0.6666666666666666,
              "#ed7953"
             ],
             [
              0.7777777777777778,
              "#fb9f3a"
             ],
             [
              0.8888888888888888,
              "#fdca26"
             ],
             [
              1,
              "#f0f921"
             ]
            ],
            "type": "contour"
           }
          ],
          "contourcarpet": [
           {
            "colorbar": {
             "outlinewidth": 0,
             "ticks": ""
            },
            "type": "contourcarpet"
           }
          ],
          "heatmap": [
           {
            "colorbar": {
             "outlinewidth": 0,
             "ticks": ""
            },
            "colorscale": [
             [
              0,
              "#0d0887"
             ],
             [
              0.1111111111111111,
              "#46039f"
             ],
             [
              0.2222222222222222,
              "#7201a8"
             ],
             [
              0.3333333333333333,
              "#9c179e"
             ],
             [
              0.4444444444444444,
              "#bd3786"
             ],
             [
              0.5555555555555556,
              "#d8576b"
             ],
             [
              0.6666666666666666,
              "#ed7953"
             ],
             [
              0.7777777777777778,
              "#fb9f3a"
             ],
             [
              0.8888888888888888,
              "#fdca26"
             ],
             [
              1,
              "#f0f921"
             ]
            ],
            "type": "heatmap"
           }
          ],
          "heatmapgl": [
           {
            "colorbar": {
             "outlinewidth": 0,
             "ticks": ""
            },
            "colorscale": [
             [
              0,
              "#0d0887"
             ],
             [
              0.1111111111111111,
              "#46039f"
             ],
             [
              0.2222222222222222,
              "#7201a8"
             ],
             [
              0.3333333333333333,
              "#9c179e"
             ],
             [
              0.4444444444444444,
              "#bd3786"
             ],
             [
              0.5555555555555556,
              "#d8576b"
             ],
             [
              0.6666666666666666,
              "#ed7953"
             ],
             [
              0.7777777777777778,
              "#fb9f3a"
             ],
             [
              0.8888888888888888,
              "#fdca26"
             ],
             [
              1,
              "#f0f921"
             ]
            ],
            "type": "heatmapgl"
           }
          ],
          "histogram": [
           {
            "marker": {
             "pattern": {
              "fillmode": "overlay",
              "size": 10,
              "solidity": 0.2
             }
            },
            "type": "histogram"
           }
          ],
          "histogram2d": [
           {
            "colorbar": {
             "outlinewidth": 0,
             "ticks": ""
            },
            "colorscale": [
             [
              0,
              "#0d0887"
             ],
             [
              0.1111111111111111,
              "#46039f"
             ],
             [
              0.2222222222222222,
              "#7201a8"
             ],
             [
              0.3333333333333333,
              "#9c179e"
             ],
             [
              0.4444444444444444,
              "#bd3786"
             ],
             [
              0.5555555555555556,
              "#d8576b"
             ],
             [
              0.6666666666666666,
              "#ed7953"
             ],
             [
              0.7777777777777778,
              "#fb9f3a"
             ],
             [
              0.8888888888888888,
              "#fdca26"
             ],
             [
              1,
              "#f0f921"
             ]
            ],
            "type": "histogram2d"
           }
          ],
          "histogram2dcontour": [
           {
            "colorbar": {
             "outlinewidth": 0,
             "ticks": ""
            },
            "colorscale": [
             [
              0,
              "#0d0887"
             ],
             [
              0.1111111111111111,
              "#46039f"
             ],
             [
              0.2222222222222222,
              "#7201a8"
             ],
             [
              0.3333333333333333,
              "#9c179e"
             ],
             [
              0.4444444444444444,
              "#bd3786"
             ],
             [
              0.5555555555555556,
              "#d8576b"
             ],
             [
              0.6666666666666666,
              "#ed7953"
             ],
             [
              0.7777777777777778,
              "#fb9f3a"
             ],
             [
              0.8888888888888888,
              "#fdca26"
             ],
             [
              1,
              "#f0f921"
             ]
            ],
            "type": "histogram2dcontour"
           }
          ],
          "mesh3d": [
           {
            "colorbar": {
             "outlinewidth": 0,
             "ticks": ""
            },
            "type": "mesh3d"
           }
          ],
          "parcoords": [
           {
            "line": {
             "colorbar": {
              "outlinewidth": 0,
              "ticks": ""
             }
            },
            "type": "parcoords"
           }
          ],
          "pie": [
           {
            "automargin": true,
            "type": "pie"
           }
          ],
          "scatter": [
           {
            "fillpattern": {
             "fillmode": "overlay",
             "size": 10,
             "solidity": 0.2
            },
            "type": "scatter"
           }
          ],
          "scatter3d": [
           {
            "line": {
             "colorbar": {
              "outlinewidth": 0,
              "ticks": ""
             }
            },
            "marker": {
             "colorbar": {
              "outlinewidth": 0,
              "ticks": ""
             }
            },
            "type": "scatter3d"
           }
          ],
          "scattercarpet": [
           {
            "marker": {
             "colorbar": {
              "outlinewidth": 0,
              "ticks": ""
             }
            },
            "type": "scattercarpet"
           }
          ],
          "scattergeo": [
           {
            "marker": {
             "colorbar": {
              "outlinewidth": 0,
              "ticks": ""
             }
            },
            "type": "scattergeo"
           }
          ],
          "scattergl": [
           {
            "marker": {
             "colorbar": {
              "outlinewidth": 0,
              "ticks": ""
             }
            },
            "type": "scattergl"
           }
          ],
          "scattermapbox": [
           {
            "marker": {
             "colorbar": {
              "outlinewidth": 0,
              "ticks": ""
             }
            },
            "type": "scattermapbox"
           }
          ],
          "scatterpolar": [
           {
            "marker": {
             "colorbar": {
              "outlinewidth": 0,
              "ticks": ""
             }
            },
            "type": "scatterpolar"
           }
          ],
          "scatterpolargl": [
           {
            "marker": {
             "colorbar": {
              "outlinewidth": 0,
              "ticks": ""
             }
            },
            "type": "scatterpolargl"
           }
          ],
          "scatterternary": [
           {
            "marker": {
             "colorbar": {
              "outlinewidth": 0,
              "ticks": ""
             }
            },
            "type": "scatterternary"
           }
          ],
          "surface": [
           {
            "colorbar": {
             "outlinewidth": 0,
             "ticks": ""
            },
            "colorscale": [
             [
              0,
              "#0d0887"
             ],
             [
              0.1111111111111111,
              "#46039f"
             ],
             [
              0.2222222222222222,
              "#7201a8"
             ],
             [
              0.3333333333333333,
              "#9c179e"
             ],
             [
              0.4444444444444444,
              "#bd3786"
             ],
             [
              0.5555555555555556,
              "#d8576b"
             ],
             [
              0.6666666666666666,
              "#ed7953"
             ],
             [
              0.7777777777777778,
              "#fb9f3a"
             ],
             [
              0.8888888888888888,
              "#fdca26"
             ],
             [
              1,
              "#f0f921"
             ]
            ],
            "type": "surface"
           }
          ],
          "table": [
           {
            "cells": {
             "fill": {
              "color": "#EBF0F8"
             },
             "line": {
              "color": "white"
             }
            },
            "header": {
             "fill": {
              "color": "#C8D4E3"
             },
             "line": {
              "color": "white"
             }
            },
            "type": "table"
           }
          ]
         },
         "layout": {
          "annotationdefaults": {
           "arrowcolor": "#2a3f5f",
           "arrowhead": 0,
           "arrowwidth": 1
          },
          "autotypenumbers": "strict",
          "coloraxis": {
           "colorbar": {
            "outlinewidth": 0,
            "ticks": ""
           }
          },
          "colorscale": {
           "diverging": [
            [
             0,
             "#8e0152"
            ],
            [
             0.1,
             "#c51b7d"
            ],
            [
             0.2,
             "#de77ae"
            ],
            [
             0.3,
             "#f1b6da"
            ],
            [
             0.4,
             "#fde0ef"
            ],
            [
             0.5,
             "#f7f7f7"
            ],
            [
             0.6,
             "#e6f5d0"
            ],
            [
             0.7,
             "#b8e186"
            ],
            [
             0.8,
             "#7fbc41"
            ],
            [
             0.9,
             "#4d9221"
            ],
            [
             1,
             "#276419"
            ]
           ],
           "sequential": [
            [
             0,
             "#0d0887"
            ],
            [
             0.1111111111111111,
             "#46039f"
            ],
            [
             0.2222222222222222,
             "#7201a8"
            ],
            [
             0.3333333333333333,
             "#9c179e"
            ],
            [
             0.4444444444444444,
             "#bd3786"
            ],
            [
             0.5555555555555556,
             "#d8576b"
            ],
            [
             0.6666666666666666,
             "#ed7953"
            ],
            [
             0.7777777777777778,
             "#fb9f3a"
            ],
            [
             0.8888888888888888,
             "#fdca26"
            ],
            [
             1,
             "#f0f921"
            ]
           ],
           "sequentialminus": [
            [
             0,
             "#0d0887"
            ],
            [
             0.1111111111111111,
             "#46039f"
            ],
            [
             0.2222222222222222,
             "#7201a8"
            ],
            [
             0.3333333333333333,
             "#9c179e"
            ],
            [
             0.4444444444444444,
             "#bd3786"
            ],
            [
             0.5555555555555556,
             "#d8576b"
            ],
            [
             0.6666666666666666,
             "#ed7953"
            ],
            [
             0.7777777777777778,
             "#fb9f3a"
            ],
            [
             0.8888888888888888,
             "#fdca26"
            ],
            [
             1,
             "#f0f921"
            ]
           ]
          },
          "colorway": [
           "#636efa",
           "#EF553B",
           "#00cc96",
           "#ab63fa",
           "#FFA15A",
           "#19d3f3",
           "#FF6692",
           "#B6E880",
           "#FF97FF",
           "#FECB52"
          ],
          "font": {
           "color": "#2a3f5f"
          },
          "geo": {
           "bgcolor": "white",
           "lakecolor": "white",
           "landcolor": "#E5ECF6",
           "showlakes": true,
           "showland": true,
           "subunitcolor": "white"
          },
          "hoverlabel": {
           "align": "left"
          },
          "hovermode": "closest",
          "mapbox": {
           "style": "light"
          },
          "paper_bgcolor": "white",
          "plot_bgcolor": "#E5ECF6",
          "polar": {
           "angularaxis": {
            "gridcolor": "white",
            "linecolor": "white",
            "ticks": ""
           },
           "bgcolor": "#E5ECF6",
           "radialaxis": {
            "gridcolor": "white",
            "linecolor": "white",
            "ticks": ""
           }
          },
          "scene": {
           "xaxis": {
            "backgroundcolor": "#E5ECF6",
            "gridcolor": "white",
            "gridwidth": 2,
            "linecolor": "white",
            "showbackground": true,
            "ticks": "",
            "zerolinecolor": "white"
           },
           "yaxis": {
            "backgroundcolor": "#E5ECF6",
            "gridcolor": "white",
            "gridwidth": 2,
            "linecolor": "white",
            "showbackground": true,
            "ticks": "",
            "zerolinecolor": "white"
           },
           "zaxis": {
            "backgroundcolor": "#E5ECF6",
            "gridcolor": "white",
            "gridwidth": 2,
            "linecolor": "white",
            "showbackground": true,
            "ticks": "",
            "zerolinecolor": "white"
           }
          },
          "shapedefaults": {
           "line": {
            "color": "#2a3f5f"
           }
          },
          "ternary": {
           "aaxis": {
            "gridcolor": "white",
            "linecolor": "white",
            "ticks": ""
           },
           "baxis": {
            "gridcolor": "white",
            "linecolor": "white",
            "ticks": ""
           },
           "bgcolor": "#E5ECF6",
           "caxis": {
            "gridcolor": "white",
            "linecolor": "white",
            "ticks": ""
           }
          },
          "title": {
           "x": 0.05
          },
          "xaxis": {
           "automargin": true,
           "gridcolor": "white",
           "linecolor": "white",
           "ticks": "",
           "title": {
            "standoff": 15
           },
           "zerolinecolor": "white",
           "zerolinewidth": 2
          },
          "yaxis": {
           "automargin": true,
           "gridcolor": "white",
           "linecolor": "white",
           "ticks": "",
           "title": {
            "standoff": 15
           },
           "zerolinecolor": "white",
           "zerolinewidth": 2
          }
         }
        },
        "xaxis": {
         "anchor": "y",
         "domain": [
          0,
          1
         ],
         "title": {
          "text": "x"
         }
        },
        "yaxis": {
         "anchor": "x",
         "domain": [
          0,
          1
         ],
         "title": {
          "text": "y"
         }
        }
       }
      }
     },
     "metadata": {},
     "output_type": "display_data"
    }
   ],
   "source": [
    "hieusuattb=[]\n",
    "i=1\n",
    "while i<=dem:\n",
    "    hieusuat=df['Hieu suat'].tolist()\n",
    "    df1=pd.DataFrame({'Hieu suat':hieusuat})\n",
    "    df1['ngay']=ngay\n",
    "    df1=df1[df1['ngay']==i]\n",
    "    arr=df1['Hieu suat'].tolist()\n",
    "    k=len(arr)//2\n",
    "    if k==0:\n",
    "        k=1\n",
    "    kclusters, centroids = kmeans1d.cluster(arr,k)\n",
    "    a=find_most_frequent(kclusters)\n",
    "    hieusuattb.append(centroids[a])\n",
    "    i=i+1\n",
    "fig = px.line(df, x=list(range(0,len(hieusuattb))), y=hieusuattb)\n",
    "fig.show()\n",
    "\n"
   ]
  },
  {
   "cell_type": "code",
   "execution_count": 7,
   "metadata": {},
   "outputs": [
    {
     "name": "stdout",
     "output_type": "stream",
     "text": [
      "     Hieu suat  stt\n",
      "0    71.850936    0\n",
      "1    75.102663    1\n",
      "2    79.706186    2\n",
      "3    65.821391    3\n",
      "4    66.778608    4\n",
      "..         ...  ...\n",
      "138  64.140045  138\n",
      "139  65.065892  139\n",
      "140  64.348042  140\n",
      "141  67.451237  141\n",
      "142  68.636790  142\n",
      "\n",
      "[143 rows x 2 columns]\n"
     ]
    }
   ],
   "source": [
    "df_binary=pd.DataFrame({'Hieu suat':hieusuattb})\n",
    "df_binary=df_binary[df_binary['Hieu suat']>60]\n",
    "df_binary['stt']=df_binary.index\n",
    "print(df_binary)\n"
   ]
  },
  {
   "cell_type": "code",
   "execution_count": 8,
   "metadata": {},
   "outputs": [
    {
     "name": "stdout",
     "output_type": "stream",
     "text": [
      "0.2597678784028129\n"
     ]
    },
    {
     "data": {
      "image/png": "[encoded data removed]",
      "text/plain": [
       "<Figure size 500x500 with 1 Axes>"
      ]
     },
     "metadata": {},
     "output_type": "display_data"
    }
   ],
   "source": [
    "sns.lmplot(x =\"stt\", y =\"Hieu suat\", data = df_binary, order = 2, ci = None)\n",
    "# Eliminating NaN or missing input numbers \n",
    "df_binary.fillna(method ='ffill', inplace = True)\n",
    "X = np.array(df_binary['stt']).reshape(-1, 1) \n",
    "y = np.array(df_binary['Hieu suat']).reshape(-1, 1) \n",
    "  \n",
    "# Separating the data into independent and dependent variables \n",
    "# Converting each dataframe into a numpy array  \n",
    "# since each dataframe contains only one column \n",
    "df_binary.dropna(inplace = True) \n",
    "  \n",
    "# Dropping any rows with Nan values \n",
    "X_train, X_test, y_train, y_test = train_test_split(X, y, test_size = 0.25) \n",
    "  \n",
    "# Splitting the data into training and testing data \n",
    "regr = LinearRegression() \n",
    "  \n",
    "regr.fit(X_train, y_train) \n",
    "print(regr.score(X_test, y_test))"
   ]
  },
  {
   "cell_type": "code",
   "execution_count": 9,
   "metadata": {},
   "outputs": [
    {
     "data": {
      "image/png": "[encoded data removed]",
      "text/plain": [
       "<Figure size 640x480 with 1 Axes>"
      ]
     },
     "metadata": {},
     "output_type": "display_data"
    }
   ],
   "source": [
    "y_pred = regr.predict(X_test) \n",
    "plt.scatter(X_test, y_test, color ='b') \n",
    "plt.plot(X_test, y_pred, color ='k') \n",
    "  \n",
    "plt.show() "
   ]
  },
  {
   "cell_type": "code",
   "execution_count": 10,
   "metadata": {},
   "outputs": [
    {
     "data": {
      "text/plain": [
       "<seaborn.axisgrid.FacetGrid at 0x20038a35960>"
      ]
     },
     "execution_count": 10,
     "metadata": {},
     "output_type": "execute_result"
    },
    {
     "data": {
      "image/png": "[encoded data removed]",
      "text/plain": [
       "<Figure size 500x500 with 1 Axes>"
      ]
     },
     "metadata": {},
     "output_type": "display_data"
    }
   ],
   "source": [
    "df_binary1 = df_binary[:][:70]\n",
    "  \n",
    "# Selecting the 1st 500 rows of the data \n",
    "sns.lmplot(x =\"stt\", y =\"Hieu suat\", data = df_binary1, \n",
    "                               order = 2, ci = None)"
   ]
  },
  {
   "cell_type": "code",
   "execution_count": 11,
   "metadata": {},
   "outputs": [
    {
     "name": "stdout",
     "output_type": "stream",
     "text": [
      "0.04246002049696307\n"
     ]
    }
   ],
   "source": [
    "df_binary1.fillna(method ='ffill', inplace = True) \n",
    "  \n",
    "X = np.array(df_binary1['stt']).reshape(-1, 1) \n",
    "y = np.array(df_binary1['Hieu suat']).reshape(-1, 1) \n",
    "  \n",
    "df_binary1.dropna(inplace = True) \n",
    "X_train, X_test, y_train, y_test = train_test_split(X, y, test_size = 0.25) \n",
    "  \n",
    "regr = LinearRegression() \n",
    "regr.fit(X_train, y_train) \n",
    "print(regr.score(X_test, y_test))"
   ]
  },
  {
   "cell_type": "code",
   "execution_count": 12,
   "metadata": {},
   "outputs": [
    {
     "data": {
      "image/png": "[encoded data removed]",
      "text/plain": [
       "<Figure size 640x480 with 1 Axes>"
      ]
     },
     "metadata": {},
     "output_type": "display_data"
    }
   ],
   "source": [
    "y_pred = regr.predict(X_test) \n",
    "plt.scatter(X_test, y_test, color ='b') \n",
    "plt.plot(X_test, y_pred, color ='k') \n",
    "  \n",
    "plt.show() "
   ]
  },
  {
   "cell_type": "code",
   "execution_count": 13,
   "metadata": {},
   "outputs": [
    {
     "data": {
      "text/plain": [
       "<seaborn.axisgrid.FacetGrid at 0x20038adc0d0>"
      ]
     },
     "execution_count": 13,
     "metadata": {},
     "output_type": "execute_result"
    },
    {
     "data": {
      "image/png": "[encoded data removed]",
      "text/plain": [
       "<Figure size 500x500 with 1 Axes>"
      ]
     },
     "metadata": {},
     "output_type": "display_data"
    }
   ],
   "source": [
    "df_binary2 = df_binary[:][70:142]\n",
    "  \n",
    "# Selecting the 1st 500 rows of the data \n",
    "sns.lmplot(x =\"stt\", y =\"Hieu suat\", data = df_binary2, \n",
    "                               order = 2, ci = None)"
   ]
  },
  {
   "cell_type": "code",
   "execution_count": 14,
   "metadata": {},
   "outputs": [
    {
     "name": "stdout",
     "output_type": "stream",
     "text": [
      "0.01944985513657349\n"
     ]
    }
   ],
   "source": [
    "df_binary2.fillna(method ='ffill', inplace = True) \n",
    "  \n",
    "X = np.array(df_binary2['stt']).reshape(-1, 1) \n",
    "y = np.array(df_binary2['Hieu suat']).reshape(-1, 1) \n",
    "  \n",
    "df_binary2.dropna(inplace = True) \n",
    "X_train, X_test, y_train, y_test = train_test_split(X, y, test_size = 0.25) \n",
    "  \n",
    "regr = LinearRegression() \n",
    "regr.fit(X_train, y_train) \n",
    "print(regr.score(X_test, y_test))"
   ]
  },
  {
   "cell_type": "code",
   "execution_count": 15,
   "metadata": {},
   "outputs": [
    {
     "data": {
      "image/png": "[encoded data removed]",
      "text/plain": [
       "<Figure size 640x480 with 1 Axes>"
      ]
     },
     "metadata": {},
     "output_type": "display_data"
    }
   ],
   "source": [
    "y_pred = regr.predict(X_test) \n",
    "plt.scatter(X_test, y_test, color ='b') \n",
    "plt.plot(X_test, y_pred, color ='k') \n",
    "  \n",
    "plt.show() "
   ]
  }
 ],
 "metadata": {
  "kernelspec": {
   "display_name": ".venv",
   "language": "python",
   "name": "python3"
  },
  "language_info": {
   "codemirror_mode": {
    "name": "ipython",
    "version": 3
   },
   "file_extension": ".py",
   "mimetype": "text/x-python",
   "name": "python",
   "nbconvert_exporter": "python",
   "pygments_lexer": "ipython3",
   "version": "3.10.11"
  },
  "orig_nbformat": 4,
  "vscode": {
   "interpreter": {
    "hash": "1caf4c6e0ce1a72d0aecf3c6075121046f4822bd3242e96633cd6287669e6d08"
   }
  }
 },
 "nbformat": 4,
 "nbformat_minor": 2
}
