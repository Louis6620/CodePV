{
 "cells": [
  {
   "cell_type": "code",
   "execution_count": 1,
   "metadata": {},
   "outputs": [
    {
     "name": "stderr",
     "output_type": "stream",
     "text": [
      "c:\\python\\project\\.venv\\lib\\site-packages\\numpy\\_distributor_init.py:30: UserWarning: loaded more than 1 DLL from .libs:\n",
      "c:\\python\\project\\.venv\\lib\\site-packages\\numpy\\.libs\\libopenblas.FB5AE2TYXYH2IJRDKGDGQ3XBKLKTF43H.gfortran-win_amd64.dll\n",
      "c:\\python\\project\\.venv\\lib\\site-packages\\numpy\\.libs\\libopenblas64__v0.3.21-gcc_10_3_0.dll\n",
      "  warnings.warn(\"loaded more than 1 DLL from .libs:\"\n"
     ]
    }
   ],
   "source": [
    "import numpy as np # linear algebra\n",
    "import pandas as pd # data processing, CSV file I/O (e.g. pd.read_csv)\n",
    "import matplotlib.pyplot as plt\n",
    "import seaborn as sns\n",
    "from scipy.stats import stats\n",
    "from datetime import datetime\n",
    "dateparse = lambda x: datetime.strptime(x, '%m/%d/%Y %H:%M')\n",
    "import plotly.express as px\n",
    "import plotly.graph_objects as go\n",
    "from mpl_toolkits import mplot3d\n",
    "from sklearn import preprocessing, svm \n",
    "from sklearn.model_selection import train_test_split \n",
    "from sklearn.linear_model import LinearRegression "
   ]
  },
  {
   "cell_type": "code",
   "execution_count": 2,
   "metadata": {},
   "outputs": [],
   "source": [
    "df = pd.read_csv('./inv1_emi_data_t345678.csv',\n",
    "                encoding=\"utf-8-sig\",\n",
    "                header=0,\n",
    "                infer_datetime_format=True,\n",
    "                parse_dates={'datetime':[5]},\n",
    "                index_col=['datetime']\n",
    "                )"
   ]
  },
  {
   "cell_type": "code",
   "execution_count": 3,
   "metadata": {},
   "outputs": [],
   "source": [
    "df['time'] = df.index\n",
    "df.loc[:,'year'] = pd.Series(df.index.year, df.index)\n",
    "df.loc[:,'month'] = pd.Series(df.index.month, df.index)\n",
    "df.loc[:,'day'] = pd.Series(df.index.day, df.index)\n",
    "df.loc[:,'hour'] = pd.Series(df.index.hour, df.index)\n",
    "df.loc[:,'dayofweek'] = pd.Series(df.index.dayofweek, df.index)\n",
    "df.loc[:,'dayname'] = pd.Series(df.index.day_name(), df.index)\n",
    "df.loc[:,'hourofweek'] = pd.Series((df.hour+24*df.dayofweek), df.index)\n",
    "df.loc[:,'hourofmonth'] = pd.Series((df.hour+24*(df.day-1)), df.index)\n",
    "df.loc[:,'Tcell']=pd.Series((df['Ambient temperature(℃)']+df['Irradiance(W/㎡)']/800*(25-20)), df.index)\n",
    "df.loc[:,'Pm']=pd.Series((2.172*1.303*220*2*590*df['Irradiance(W/㎡)']/1000*(1+0.0045*(df['Tcell']-25))*20.5/100), df.index)\n",
    "df.loc[:,'Hieu suat']=pd.Series((df['Total input power(kW)']*1000/df['Pm']*100), df.index)\n",
    "df.loc[:,'date'] = pd.Series(df.index.date, df.index)\n",
    "df=df[df['Ambient temperature(℃)']>6]\n",
    "df=df[df['Irradiance(W/㎡)']>300]\n",
    "df=df[df['Total input power(kW)']>76]"
   ]
  },
  {
   "cell_type": "code",
   "execution_count": 4,
   "metadata": {},
   "outputs": [
    {
     "name": "stdout",
     "output_type": "stream",
     "text": [
      "     index  month        date  hour  Hieu suat  Total input power(kW)\n",
      "0        0      3  2022-03-04    10  77.559708              90.436333\n",
      "1        2      3  2022-03-19    12  76.075859              87.386500\n",
      "2        9      3  2022-03-22    14  74.112901              82.825286\n",
      "3       10      3  2022-03-23     9  76.147247              82.211800\n",
      "4       20      3  2022-03-24    14  75.076001              82.101286\n",
      "..     ...    ...         ...   ...        ...                    ...\n",
      "136    750      8  2022-08-19    11  65.694256             100.359000\n",
      "137    759      8  2022-08-21    15  79.736302              79.152000\n",
      "138    765      8  2022-08-22    14  70.947101              81.149714\n",
      "139    771      8  2022-08-23    14  71.845824              81.204000\n",
      "140    777      8  2022-08-24    15  74.114419              85.237500\n",
      "\n",
      "[136 rows x 6 columns]\n"
     ]
    },
    {
     "name": "stderr",
     "output_type": "stream",
     "text": [
      "C:\\Users\\ADMIN\\AppData\\Local\\Temp\\ipykernel_6696\\3129581317.py:1: FutureWarning: Indexing with multiple keys (implicitly converted to a tuple of keys) will be deprecated, use a list instead.\n",
      "  df1=df.groupby(['month','date','hour'])['Hieu suat','Total input power(kW)'].mean()\n"
     ]
    },
    {
     "data": {
      "application/vnd.plotly.v1+json": {
       "config": {
        "plotlyServerURL": "https://plot.ly"
       },
       "data": [
        {
         "name": "Sản lượng điện trung bình cao nhất theo khung giờ mỗi ngày inverter 1 ",
         "showlegend": true,
         "type": "scatter",
         "x": [
          "2022-03-04",
          "2022-03-19",
          "2022-03-22",
          "2022-03-23",
          "2022-03-24",
          "2022-03-25",
          "2022-03-26",
          "2022-03-29",
          "2022-03-30",
          "2022-04-04",
          "2022-04-06",
          "2022-04-07",
          "2022-04-08",
          "2022-04-09",
          "2022-04-10",
          "2022-04-11",
          "2022-04-12",
          "2022-04-13",
          "2022-04-14",
          "2022-04-15",
          "2022-04-16",
          "2022-04-17",
          "2022-04-18",
          "2022-04-21",
          "2022-04-22",
          "2022-04-23",
          "2022-04-24",
          "2022-04-25",
          "2022-04-26",
          "2022-04-27",
          "2022-04-28",
          "2022-04-29",
          "2022-05-01",
          "2022-05-02",
          "2022-05-05",
          "2022-05-06",
          "2022-05-07",
          "2022-05-08",
          "2022-05-09",
          "2022-05-10",
          "2022-05-11",
          "2022-05-12",
          "2022-05-13",
          "2022-05-14",
          "2022-05-15",
          "2022-05-16",
          "2022-05-17",
          "2022-05-18",
          "2022-05-19",
          "2022-05-20",
          "2022-05-21",
          "2022-05-22",
          "2022-05-23",
          "2022-05-24",
          "2022-05-25",
          "2022-05-26",
          "2022-05-27",
          "2022-05-28",
          "2022-05-29",
          "2022-05-30",
          "2022-05-31",
          "2022-06-01",
          "2022-06-02",
          "2022-06-03",
          "2022-06-04",
          "2022-06-05",
          "2022-06-06",
          "2022-06-07",
          "2022-06-08",
          "2022-06-09",
          "2022-06-10",
          "2022-06-11",
          "2022-06-12",
          "2022-06-13",
          "2022-06-14",
          "2022-06-15",
          "2022-06-16",
          "2022-06-17",
          "2022-06-18",
          "2022-06-19",
          "2022-06-20",
          "2022-06-21",
          "2022-06-22",
          "2022-06-23",
          "2022-06-24",
          "2022-06-25",
          "2022-06-27",
          "2022-06-28",
          "2022-06-29",
          "2022-06-30",
          "2022-07-03",
          "2022-07-04",
          "2022-07-05",
          "2022-07-06",
          "2022-07-07",
          "2022-07-08",
          "2022-07-09",
          "2022-07-11",
          "2022-07-12",
          "2022-07-13",
          "2022-07-14",
          "2022-07-15",
          "2022-07-16",
          "2022-07-17",
          "2022-07-18",
          "2022-07-19",
          "2022-07-20",
          "2022-07-21",
          "2022-07-22",
          "2022-07-23",
          "2022-07-24",
          "2022-07-25",
          "2022-07-26",
          "2022-07-27",
          "2022-07-28",
          "2022-07-29",
          "2022-07-30",
          "2022-07-31",
          "2022-08-01",
          "2022-08-02",
          "2022-08-03",
          "2022-08-04",
          "2022-08-06",
          "2022-08-10",
          "2022-08-12",
          "2022-08-13",
          "2022-08-14",
          "2022-08-15",
          "2022-08-16",
          "2022-08-17",
          "2022-08-18",
          "2022-08-19",
          "2022-08-21",
          "2022-08-22",
          "2022-08-23",
          "2022-08-24"
         ],
         "y": [
          90.43633333333334,
          87.3865,
          82.82528571428573,
          82.2118,
          82.10128571428572,
          80.0515,
          79.6478,
          80.339,
          96.53466666666667,
          78.3605,
          86.54733333333333,
          77.58675,
          81.388125,
          84.334,
          80.96483333333333,
          78.6265,
          81.01011111111112,
          84.1665,
          77.7825,
          76.093,
          97.081,
          80.90050000000001,
          84.47300000000001,
          81.73466666666667,
          84.16433333333333,
          80.9672,
          79.42166666666667,
          79.08959999999999,
          77.48,
          77.46633333333334,
          78.8222,
          86.937,
          81.914,
          80.42066666666666,
          79.6388,
          85.5266,
          84.36122222222222,
          78.288,
          90.55971428571429,
          78.77799999999999,
          82.03622222222222,
          85.69842857142858,
          82.68633333333334,
          90.3895,
          77.881,
          90.57025,
          96.8024,
          85.86114285714287,
          83.9868,
          79.746,
          83.95025,
          83.5411111111111,
          85.437875,
          92.220375,
          80.62533333333333,
          78.086,
          90.4096,
          76.976,
          87.82974999999999,
          81.71544444444444,
          86.85275,
          80.95177777777778,
          94.79,
          87.20066666666666,
          79.742,
          91.4438,
          87.61833333333334,
          100.768,
          79.106,
          82.31225,
          81.853,
          84.4495,
          81.3684,
          78.56316666666667,
          85.1454,
          83.9674,
          80.551,
          78.26416666666667,
          80.622,
          81.77666666666666,
          79.001,
          82.15366666666667,
          82.57833333333333,
          81.16955555555556,
          79.76775,
          80.49871428571429,
          79.05266666666667,
          83.142,
          78.124,
          76.292,
          88.80745454545455,
          81.55099999999999,
          80.6926,
          79.18780000000001,
          85.0275,
          82.1485,
          80.33500000000001,
          83.77766666666668,
          85.17825,
          78.8565,
          84.57557142857142,
          84.77644444444445,
          83.5815,
          82.28020000000001,
          81.83322222222222,
          82.53516666666667,
          79.41766666666666,
          89.1945,
          83.07227272727272,
          82.71549999999999,
          82.6568,
          83.0066,
          82.1502,
          82.3755,
          82.9572,
          80.98222222222222,
          76.508,
          81.38666666666667,
          83.43836363636363,
          83.907,
          87.87433333333333,
          78.719,
          77.263,
          82.317,
          77.8916,
          91.16877777777778,
          83.062,
          79.256,
          89.21366666666667,
          90.74199999999999,
          93.03057142857142,
          100.359,
          79.152,
          81.14971428571428,
          81.20400000000001,
          85.2375
         ]
        },
        {
         "name": "Hiệu suất trung bình cao nhất theo khung giờ mỗi ngày inverter 1 ",
         "showlegend": true,
         "type": "scatter",
         "x": [
          "2022-03-04",
          "2022-03-19",
          "2022-03-22",
          "2022-03-23",
          "2022-03-24",
          "2022-03-25",
          "2022-03-26",
          "2022-03-29",
          "2022-03-30",
          "2022-04-04",
          "2022-04-06",
          "2022-04-07",
          "2022-04-08",
          "2022-04-09",
          "2022-04-10",
          "2022-04-11",
          "2022-04-12",
          "2022-04-13",
          "2022-04-14",
          "2022-04-15",
          "2022-04-16",
          "2022-04-17",
          "2022-04-18",
          "2022-04-21",
          "2022-04-22",
          "2022-04-23",
          "2022-04-24",
          "2022-04-25",
          "2022-04-26",
          "2022-04-27",
          "2022-04-28",
          "2022-04-29",
          "2022-05-01",
          "2022-05-02",
          "2022-05-05",
          "2022-05-06",
          "2022-05-07",
          "2022-05-08",
          "2022-05-09",
          "2022-05-10",
          "2022-05-11",
          "2022-05-12",
          "2022-05-13",
          "2022-05-14",
          "2022-05-15",
          "2022-05-16",
          "2022-05-17",
          "2022-05-18",
          "2022-05-19",
          "2022-05-20",
          "2022-05-21",
          "2022-05-22",
          "2022-05-23",
          "2022-05-24",
          "2022-05-25",
          "2022-05-26",
          "2022-05-27",
          "2022-05-28",
          "2022-05-29",
          "2022-05-30",
          "2022-05-31",
          "2022-06-01",
          "2022-06-02",
          "2022-06-03",
          "2022-06-04",
          "2022-06-05",
          "2022-06-06",
          "2022-06-07",
          "2022-06-08",
          "2022-06-09",
          "2022-06-10",
          "2022-06-11",
          "2022-06-12",
          "2022-06-13",
          "2022-06-14",
          "2022-06-15",
          "2022-06-16",
          "2022-06-17",
          "2022-06-18",
          "2022-06-19",
          "2022-06-20",
          "2022-06-21",
          "2022-06-22",
          "2022-06-23",
          "2022-06-24",
          "2022-06-25",
          "2022-06-27",
          "2022-06-28",
          "2022-06-29",
          "2022-06-30",
          "2022-07-03",
          "2022-07-04",
          "2022-07-05",
          "2022-07-06",
          "2022-07-07",
          "2022-07-08",
          "2022-07-09",
          "2022-07-11",
          "2022-07-12",
          "2022-07-13",
          "2022-07-14",
          "2022-07-15",
          "2022-07-16",
          "2022-07-17",
          "2022-07-18",
          "2022-07-19",
          "2022-07-20",
          "2022-07-21",
          "2022-07-22",
          "2022-07-23",
          "2022-07-24",
          "2022-07-25",
          "2022-07-26",
          "2022-07-27",
          "2022-07-28",
          "2022-07-29",
          "2022-07-30",
          "2022-07-31",
          "2022-08-01",
          "2022-08-02",
          "2022-08-03",
          "2022-08-04",
          "2022-08-06",
          "2022-08-10",
          "2022-08-12",
          "2022-08-13",
          "2022-08-14",
          "2022-08-15",
          "2022-08-16",
          "2022-08-17",
          "2022-08-18",
          "2022-08-19",
          "2022-08-21",
          "2022-08-22",
          "2022-08-23",
          "2022-08-24"
         ],
         "y": [
          77.55970761689873,
          76.07585868149212,
          74.11290065410846,
          76.14724675315384,
          75.07600137342911,
          73.56632647787053,
          71.7585840812004,
          79.7319925487018,
          79.44318988467333,
          77.0773814421328,
          74.77390331252634,
          77.9867646448694,
          77.98095498526911,
          77.53111104652825,
          75.30335309892847,
          74.462808605601,
          73.34694338035632,
          73.3298844070609,
          73.18940063160039,
          73.18743942031625,
          77.991695157095,
          73.98930536574927,
          76.52277808478614,
          75.7485847197333,
          74.31070431154747,
          72.34428692804913,
          72.58338327913391,
          71.68510388813623,
          69.95528205704917,
          71.28709112967918,
          72.58724607952186,
          73.08923414113238,
          72.32425691834852,
          73.73348503060124,
          72.93011882516416,
          73.73262346966698,
          75.46991340872842,
          73.27032396995676,
          73.45170487634921,
          67.1880271578026,
          72.50437736792213,
          73.32711291457693,
          75.48898281152071,
          71.48914498050691,
          71.87825490181548,
          76.84121875715444,
          70.92106803004205,
          71.63446755803555,
          78.98813614797442,
          76.85057507293578,
          71.66048752919309,
          70.8722859236295,
          72.51197728918393,
          70.2237987688162,
          68.68921599289068,
          70.15032699307002,
          69.22768104033837,
          65.99110757077747,
          77.89939035413886,
          73.31565879131749,
          70.38568227627712,
          71.62068930603533,
          67.00946375365747,
          70.84822716224481,
          77.50919551218338,
          68.83581355407982,
          70.51003857798453,
          72.1539841598441,
          74.45647551365101,
          72.01555929689947,
          66.75804151275777,
          67.8346204476095,
          71.44832165353833,
          69.5163616236619,
          67.23204256930731,
          70.18452114787678,
          69.04468350427692,
          69.65347565234305,
          69.64231692810661,
          68.55263244398148,
          69.363802356788,
          68.82435812163403,
          71.53819287441775,
          69.89000395830507,
          70.13270042409404,
          68.29804314719269,
          68.13379308141175,
          66.93196665683043,
          68.39030320214165,
          66.84453260216294,
          68.94427312356738,
          65.68554195774625,
          70.66840772658581,
          67.69818153799547,
          68.59928235175825,
          72.06685388674501,
          73.12389174420629,
          72.3276519952782,
          72.36080123695119,
          74.63750751003931,
          72.59792376731473,
          72.83816518427989,
          71.36361036222962,
          71.79054403528816,
          70.95174643379569,
          69.68804161093165,
          77.09533430061627,
          70.4654803870819,
          71.36703406225998,
          70.87473660306,
          70.13464723058755,
          70.30356598554434,
          71.17177644477519,
          71.2071620978045,
          70.6860878242106,
          71.42900956827037,
          77.83760883789238,
          70.80058478182852,
          71.47211868585553,
          71.42178971143886,
          71.5671415355064,
          73.98209982083453,
          68.21952705204632,
          69.59579125331383,
          69.57840753145368,
          71.21512895165613,
          71.71117526294829,
          74.43650986163985,
          68.92588700308563,
          67.56054083259917,
          67.29615820989359,
          65.69425647437697,
          79.7363015004008,
          70.94710145388332,
          71.84582375533898,
          74.11441941777271
         ]
        }
       ],
       "layout": {
        "template": {
         "data": {
          "bar": [
           {
            "error_x": {
             "color": "#2a3f5f"
            },
            "error_y": {
             "color": "#2a3f5f"
            },
            "marker": {
             "line": {
              "color": "#E5ECF6",
              "width": 0.5
             },
             "pattern": {
              "fillmode": "overlay",
              "size": 10,
              "solidity": 0.2
             }
            },
            "type": "bar"
           }
          ],
          "barpolar": [
           {
            "marker": {
             "line": {
              "color": "#E5ECF6",
              "width": 0.5
             },
             "pattern": {
              "fillmode": "overlay",
              "size": 10,
              "solidity": 0.2
             }
            },
            "type": "barpolar"
           }
          ],
          "carpet": [
           {
            "aaxis": {
             "endlinecolor": "#2a3f5f",
             "gridcolor": "white",
             "linecolor": "white",
             "minorgridcolor": "white",
             "startlinecolor": "#2a3f5f"
            },
            "baxis": {
             "endlinecolor": "#2a3f5f",
             "gridcolor": "white",
             "linecolor": "white",
             "minorgridcolor": "white",
             "startlinecolor": "#2a3f5f"
            },
            "type": "carpet"
           }
          ],
          "choropleth": [
           {
            "colorbar": {
             "outlinewidth": 0,
             "ticks": ""
            },
            "type": "choropleth"
           }
          ],
          "contour": [
           {
            "colorbar": {
             "outlinewidth": 0,
             "ticks": ""
            },
            "colorscale": [
             [
              0,
              "#0d0887"
             ],
             [
              0.1111111111111111,
              "#46039f"
             ],
             [
              0.2222222222222222,
              "#7201a8"
             ],
             [
              0.3333333333333333,
              "#9c179e"
             ],
             [
              0.4444444444444444,
              "#bd3786"
             ],
             [
              0.5555555555555556,
              "#d8576b"
             ],
             [
              0.6666666666666666,
              "#ed7953"
             ],
             [
              0.7777777777777778,
              "#fb9f3a"
             ],
             [
              0.8888888888888888,
              "#fdca26"
             ],
             [
              1,
              "#f0f921"
             ]
            ],
            "type": "contour"
           }
          ],
          "contourcarpet": [
           {
            "colorbar": {
             "outlinewidth": 0,
             "ticks": ""
            },
            "type": "contourcarpet"
           }
          ],
          "heatmap": [
           {
            "colorbar": {
             "outlinewidth": 0,
             "ticks": ""
            },
            "colorscale": [
             [
              0,
              "#0d0887"
             ],
             [
              0.1111111111111111,
              "#46039f"
             ],
             [
              0.2222222222222222,
              "#7201a8"
             ],
             [
              0.3333333333333333,
              "#9c179e"
             ],
             [
              0.4444444444444444,
              "#bd3786"
             ],
             [
              0.5555555555555556,
              "#d8576b"
             ],
             [
              0.6666666666666666,
              "#ed7953"
             ],
             [
              0.7777777777777778,
              "#fb9f3a"
             ],
             [
              0.8888888888888888,
              "#fdca26"
             ],
             [
              1,
              "#f0f921"
             ]
            ],
            "type": "heatmap"
           }
          ],
          "heatmapgl": [
           {
            "colorbar": {
             "outlinewidth": 0,
             "ticks": ""
            },
            "colorscale": [
             [
              0,
              "#0d0887"
             ],
             [
              0.1111111111111111,
              "#46039f"
             ],
             [
              0.2222222222222222,
              "#7201a8"
             ],
             [
              0.3333333333333333,
              "#9c179e"
             ],
             [
              0.4444444444444444,
              "#bd3786"
             ],
             [
              0.5555555555555556,
              "#d8576b"
             ],
             [
              0.6666666666666666,
              "#ed7953"
             ],
             [
              0.7777777777777778,
              "#fb9f3a"
             ],
             [
              0.8888888888888888,
              "#fdca26"
             ],
             [
              1,
              "#f0f921"
             ]
            ],
            "type": "heatmapgl"
           }
          ],
          "histogram": [
           {
            "marker": {
             "pattern": {
              "fillmode": "overlay",
              "size": 10,
              "solidity": 0.2
             }
            },
            "type": "histogram"
           }
          ],
          "histogram2d": [
           {
            "colorbar": {
             "outlinewidth": 0,
             "ticks": ""
            },
            "colorscale": [
             [
              0,
              "#0d0887"
             ],
             [
              0.1111111111111111,
              "#46039f"
             ],
             [
              0.2222222222222222,
              "#7201a8"
             ],
             [
              0.3333333333333333,
              "#9c179e"
             ],
             [
              0.4444444444444444,
              "#bd3786"
             ],
             [
              0.5555555555555556,
              "#d8576b"
             ],
             [
              0.6666666666666666,
              "#ed7953"
             ],
             [
              0.7777777777777778,
              "#fb9f3a"
             ],
             [
              0.8888888888888888,
              "#fdca26"
             ],
             [
              1,
              "#f0f921"
             ]
            ],
            "type": "histogram2d"
           }
          ],
          "histogram2dcontour": [
           {
            "colorbar": {
             "outlinewidth": 0,
             "ticks": ""
            },
            "colorscale": [
             [
              0,
              "#0d0887"
             ],
             [
              0.1111111111111111,
              "#46039f"
             ],
             [
              0.2222222222222222,
              "#7201a8"
             ],
             [
              0.3333333333333333,
              "#9c179e"
             ],
             [
              0.4444444444444444,
              "#bd3786"
             ],
             [
              0.5555555555555556,
              "#d8576b"
             ],
             [
              0.6666666666666666,
              "#ed7953"
             ],
             [
              0.7777777777777778,
              "#fb9f3a"
             ],
             [
              0.8888888888888888,
              "#fdca26"
             ],
             [
              1,
              "#f0f921"
             ]
            ],
            "type": "histogram2dcontour"
           }
          ],
          "mesh3d": [
           {
            "colorbar": {
             "outlinewidth": 0,
             "ticks": ""
            },
            "type": "mesh3d"
           }
          ],
          "parcoords": [
           {
            "line": {
             "colorbar": {
              "outlinewidth": 0,
              "ticks": ""
             }
            },
            "type": "parcoords"
           }
          ],
          "pie": [
           {
            "automargin": true,
            "type": "pie"
           }
          ],
          "scatter": [
           {
            "fillpattern": {
             "fillmode": "overlay",
             "size": 10,
             "solidity": 0.2
            },
            "type": "scatter"
           }
          ],
          "scatter3d": [
           {
            "line": {
             "colorbar": {
              "outlinewidth": 0,
              "ticks": ""
             }
            },
            "marker": {
             "colorbar": {
              "outlinewidth": 0,
              "ticks": ""
             }
            },
            "type": "scatter3d"
           }
          ],
          "scattercarpet": [
           {
            "marker": {
             "colorbar": {
              "outlinewidth": 0,
              "ticks": ""
             }
            },
            "type": "scattercarpet"
           }
          ],
          "scattergeo": [
           {
            "marker": {
             "colorbar": {
              "outlinewidth": 0,
              "ticks": ""
             }
            },
            "type": "scattergeo"
           }
          ],
          "scattergl": [
           {
            "marker": {
             "colorbar": {
              "outlinewidth": 0,
              "ticks": ""
             }
            },
            "type": "scattergl"
           }
          ],
          "scattermapbox": [
           {
            "marker": {
             "colorbar": {
              "outlinewidth": 0,
              "ticks": ""
             }
            },
            "type": "scattermapbox"
           }
          ],
          "scatterpolar": [
           {
            "marker": {
             "colorbar": {
              "outlinewidth": 0,
              "ticks": ""
             }
            },
            "type": "scatterpolar"
           }
          ],
          "scatterpolargl": [
           {
            "marker": {
             "colorbar": {
              "outlinewidth": 0,
              "ticks": ""
             }
            },
            "type": "scatterpolargl"
           }
          ],
          "scatterternary": [
           {
            "marker": {
             "colorbar": {
              "outlinewidth": 0,
              "ticks": ""
             }
            },
            "type": "scatterternary"
           }
          ],
          "surface": [
           {
            "colorbar": {
             "outlinewidth": 0,
             "ticks": ""
            },
            "colorscale": [
             [
              0,
              "#0d0887"
             ],
             [
              0.1111111111111111,
              "#46039f"
             ],
             [
              0.2222222222222222,
              "#7201a8"
             ],
             [
              0.3333333333333333,
              "#9c179e"
             ],
             [
              0.4444444444444444,
              "#bd3786"
             ],
             [
              0.5555555555555556,
              "#d8576b"
             ],
             [
              0.6666666666666666,
              "#ed7953"
             ],
             [
              0.7777777777777778,
              "#fb9f3a"
             ],
             [
              0.8888888888888888,
              "#fdca26"
             ],
             [
              1,
              "#f0f921"
             ]
            ],
            "type": "surface"
           }
          ],
          "table": [
           {
            "cells": {
             "fill": {
              "color": "#EBF0F8"
             },
             "line": {
              "color": "white"
             }
            },
            "header": {
             "fill": {
              "color": "#C8D4E3"
             },
             "line": {
              "color": "white"
             }
            },
            "type": "table"
           }
          ]
         },
         "layout": {
          "annotationdefaults": {
           "arrowcolor": "#2a3f5f",
           "arrowhead": 0,
           "arrowwidth": 1
          },
          "autotypenumbers": "strict",
          "coloraxis": {
           "colorbar": {
            "outlinewidth": 0,
            "ticks": ""
           }
          },
          "colorscale": {
           "diverging": [
            [
             0,
             "#8e0152"
            ],
            [
             0.1,
             "#c51b7d"
            ],
            [
             0.2,
             "#de77ae"
            ],
            [
             0.3,
             "#f1b6da"
            ],
            [
             0.4,
             "#fde0ef"
            ],
            [
             0.5,
             "#f7f7f7"
            ],
            [
             0.6,
             "#e6f5d0"
            ],
            [
             0.7,
             "#b8e186"
            ],
            [
             0.8,
             "#7fbc41"
            ],
            [
             0.9,
             "#4d9221"
            ],
            [
             1,
             "#276419"
            ]
           ],
           "sequential": [
            [
             0,
             "#0d0887"
            ],
            [
             0.1111111111111111,
             "#46039f"
            ],
            [
             0.2222222222222222,
             "#7201a8"
            ],
            [
             0.3333333333333333,
             "#9c179e"
            ],
            [
             0.4444444444444444,
             "#bd3786"
            ],
            [
             0.5555555555555556,
             "#d8576b"
            ],
            [
             0.6666666666666666,
             "#ed7953"
            ],
            [
             0.7777777777777778,
             "#fb9f3a"
            ],
            [
             0.8888888888888888,
             "#fdca26"
            ],
            [
             1,
             "#f0f921"
            ]
           ],
           "sequentialminus": [
            [
             0,
             "#0d0887"
            ],
            [
             0.1111111111111111,
             "#46039f"
            ],
            [
             0.2222222222222222,
             "#7201a8"
            ],
            [
             0.3333333333333333,
             "#9c179e"
            ],
            [
             0.4444444444444444,
             "#bd3786"
            ],
            [
             0.5555555555555556,
             "#d8576b"
            ],
            [
             0.6666666666666666,
             "#ed7953"
            ],
            [
             0.7777777777777778,
             "#fb9f3a"
            ],
            [
             0.8888888888888888,
             "#fdca26"
            ],
            [
             1,
             "#f0f921"
            ]
           ]
          },
          "colorway": [
           "#636efa",
           "#EF553B",
           "#00cc96",
           "#ab63fa",
           "#FFA15A",
           "#19d3f3",
           "#FF6692",
           "#B6E880",
           "#FF97FF",
           "#FECB52"
          ],
          "font": {
           "color": "#2a3f5f"
          },
          "geo": {
           "bgcolor": "white",
           "lakecolor": "white",
           "landcolor": "#E5ECF6",
           "showlakes": true,
           "showland": true,
           "subunitcolor": "white"
          },
          "hoverlabel": {
           "align": "left"
          },
          "hovermode": "closest",
          "mapbox": {
           "style": "light"
          },
          "paper_bgcolor": "white",
          "plot_bgcolor": "#E5ECF6",
          "polar": {
           "angularaxis": {
            "gridcolor": "white",
            "linecolor": "white",
            "ticks": ""
           },
           "bgcolor": "#E5ECF6",
           "radialaxis": {
            "gridcolor": "white",
            "linecolor": "white",
            "ticks": ""
           }
          },
          "scene": {
           "xaxis": {
            "backgroundcolor": "#E5ECF6",
            "gridcolor": "white",
            "gridwidth": 2,
            "linecolor": "white",
            "showbackground": true,
            "ticks": "",
            "zerolinecolor": "white"
           },
           "yaxis": {
            "backgroundcolor": "#E5ECF6",
            "gridcolor": "white",
            "gridwidth": 2,
            "linecolor": "white",
            "showbackground": true,
            "ticks": "",
            "zerolinecolor": "white"
           },
           "zaxis": {
            "backgroundcolor": "#E5ECF6",
            "gridcolor": "white",
            "gridwidth": 2,
            "linecolor": "white",
            "showbackground": true,
            "ticks": "",
            "zerolinecolor": "white"
           }
          },
          "shapedefaults": {
           "line": {
            "color": "#2a3f5f"
           }
          },
          "ternary": {
           "aaxis": {
            "gridcolor": "white",
            "linecolor": "white",
            "ticks": ""
           },
           "baxis": {
            "gridcolor": "white",
            "linecolor": "white",
            "ticks": ""
           },
           "bgcolor": "#E5ECF6",
           "caxis": {
            "gridcolor": "white",
            "linecolor": "white",
            "ticks": ""
           }
          },
          "title": {
           "x": 0.05
          },
          "xaxis": {
           "automargin": true,
           "gridcolor": "white",
           "linecolor": "white",
           "ticks": "",
           "title": {
            "standoff": 15
           },
           "zerolinecolor": "white",
           "zerolinewidth": 2
          },
          "yaxis": {
           "automargin": true,
           "gridcolor": "white",
           "linecolor": "white",
           "ticks": "",
           "title": {
            "standoff": 15
           },
           "zerolinecolor": "white",
           "zerolinewidth": 2
          }
         }
        },
        "xaxis": {
         "rangeslider": {
          "visible": true
         }
        }
       }
      }
     },
     "metadata": {},
     "output_type": "display_data"
    }
   ],
   "source": [
    "df1=df.groupby(['month','date','hour'])['Hieu suat','Total input power(kW)'].mean()\n",
    "df1=df1.reset_index()\n",
    "df1=df1[df1.groupby(['month','date'])['Hieu suat'].transform(max)==df1['Hieu suat']]\n",
    "df1=df1.reset_index()\n",
    "df1=df1[df1['Hieu suat']<80]\n",
    "df1=df1[df1['Hieu suat']>65]\n",
    "print(df1)\n",
    "fig = go.Figure()\n",
    "fig.add_trace(go.Scatter(\n",
    "    x=df1['date'],\n",
    "    y=df1['Total input power(kW)'],\n",
    "    name=\"Sản lượng điện trung bình cao nhất theo khung giờ mỗi ngày inverter 1 \"))\n",
    "fig.add_trace(go.Scatter(\n",
    "    x=df1['date'],\n",
    "    y=df1['Hieu suat'],\n",
    "    name=\"Hiệu suất trung bình cao nhất theo khung giờ mỗi ngày inverter 1 \"))\n",
    "fig . update_traces (\n",
    "    showlegend = True \n",
    "    )\n",
    "fig.update_xaxes(\n",
    "    rangeslider_visible=True,\n",
    ")\n",
    "fig.show()"
   ]
  },
  {
   "cell_type": "code",
   "execution_count": 5,
   "metadata": {},
   "outputs": [
    {
     "data": {
      "text/html": [
       "<div>\n",
       "<style scoped>\n",
       "    .dataframe tbody tr th:only-of-type {\n",
       "        vertical-align: middle;\n",
       "    }\n",
       "\n",
       "    .dataframe tbody tr th {\n",
       "        vertical-align: top;\n",
       "    }\n",
       "\n",
       "    .dataframe thead th {\n",
       "        text-align: right;\n",
       "    }\n",
       "</style>\n",
       "<table border=\"1\" class=\"dataframe\">\n",
       "  <thead>\n",
       "    <tr style=\"text-align: right;\">\n",
       "      <th></th>\n",
       "      <th>stt</th>\n",
       "      <th>Hieu suat</th>\n",
       "    </tr>\n",
       "  </thead>\n",
       "  <tbody>\n",
       "    <tr>\n",
       "      <th>0</th>\n",
       "      <td>0</td>\n",
       "      <td>77.559708</td>\n",
       "    </tr>\n",
       "    <tr>\n",
       "      <th>1</th>\n",
       "      <td>1</td>\n",
       "      <td>76.075859</td>\n",
       "    </tr>\n",
       "    <tr>\n",
       "      <th>2</th>\n",
       "      <td>2</td>\n",
       "      <td>74.112901</td>\n",
       "    </tr>\n",
       "    <tr>\n",
       "      <th>3</th>\n",
       "      <td>3</td>\n",
       "      <td>76.147247</td>\n",
       "    </tr>\n",
       "    <tr>\n",
       "      <th>4</th>\n",
       "      <td>4</td>\n",
       "      <td>75.076001</td>\n",
       "    </tr>\n",
       "  </tbody>\n",
       "</table>\n",
       "</div>"
      ],
      "text/plain": [
       "   stt  Hieu suat\n",
       "0    0  77.559708\n",
       "1    1  76.075859\n",
       "2    2  74.112901\n",
       "3    3  76.147247\n",
       "4    4  75.076001"
      ]
     },
     "execution_count": 5,
     "metadata": {},
     "output_type": "execute_result"
    }
   ],
   "source": [
    "df1['stt']=df1.index\n",
    "df_binary = df1[['stt', 'Hieu suat']] \n",
    "  \n",
    "# Taking only the selected two attributes from the dataset \n",
    "df_binary.columns = ['stt', 'Hieu suat'] \n",
    "  \n",
    "# Renaming the columns for easier writing of the code \n",
    "df_binary.head() \n",
    "  \n",
    "# Displaying only the 1st  rows along with the column names "
   ]
  },
  {
   "cell_type": "code",
   "execution_count": 6,
   "metadata": {},
   "outputs": [
    {
     "name": "stdout",
     "output_type": "stream",
     "text": [
      "0.3390689046862204\n"
     ]
    },
    {
     "name": "stderr",
     "output_type": "stream",
     "text": [
      "C:\\Users\\ADMIN\\AppData\\Local\\Temp\\ipykernel_6696\\3909986184.py:3: SettingWithCopyWarning:\n",
      "\n",
      "\n",
      "A value is trying to be set on a copy of a slice from a DataFrame\n",
      "\n",
      "See the caveats in the documentation: https://pandas.pydata.org/pandas-docs/stable/user_guide/indexing.html#returning-a-view-versus-a-copy\n",
      "\n",
      "C:\\Users\\ADMIN\\AppData\\Local\\Temp\\ipykernel_6696\\3909986184.py:10: SettingWithCopyWarning:\n",
      "\n",
      "\n",
      "A value is trying to be set on a copy of a slice from a DataFrame\n",
      "\n",
      "See the caveats in the documentation: https://pandas.pydata.org/pandas-docs/stable/user_guide/indexing.html#returning-a-view-versus-a-copy\n",
      "\n"
     ]
    },
    {
     "data": {
      "image/png": "[encoded data removed]",
      "text/plain": [
       "<Figure size 500x500 with 1 Axes>"
      ]
     },
     "metadata": {},
     "output_type": "display_data"
    }
   ],
   "source": [
    "sns.lmplot(x =\"stt\", y =\"Hieu suat\", data = df_binary, order = 2, ci = None)\n",
    "# Eliminating NaN or missing input numbers \n",
    "df_binary.fillna(method ='ffill', inplace = True)\n",
    "X = np.array(df_binary['stt']).reshape(-1, 1) \n",
    "y = np.array(df_binary['Hieu suat']).reshape(-1, 1) \n",
    "  \n",
    "# Separating the data into independent and dependent variables \n",
    "# Converting each dataframe into a numpy array  \n",
    "# since each dataframe contains only one column \n",
    "df_binary.dropna(inplace = True) \n",
    "  \n",
    "# Dropping any rows with Nan values \n",
    "X_train, X_test, y_train, y_test = train_test_split(X, y, test_size = 0.25) \n",
    "  \n",
    "# Splitting the data into training and testing data \n",
    "regr = LinearRegression() \n",
    "  \n",
    "regr.fit(X_train, y_train) \n",
    "print(regr.score(X_test, y_test))"
   ]
  },
  {
   "cell_type": "code",
   "execution_count": 7,
   "metadata": {},
   "outputs": [
    {
     "data": {
      "image/png": "[encoded data removed]",
      "text/plain": [
       "<Figure size 640x480 with 1 Axes>"
      ]
     },
     "metadata": {},
     "output_type": "display_data"
    }
   ],
   "source": [
    "y_pred = regr.predict(X_test) \n",
    "plt.scatter(X_test, y_test, color ='b') \n",
    "plt.plot(X_test, y_pred, color ='k') \n",
    "  \n",
    "plt.show() "
   ]
  },
  {
   "cell_type": "code",
   "execution_count": 8,
   "metadata": {},
   "outputs": [
    {
     "data": {
      "text/plain": [
       "<seaborn.axisgrid.FacetGrid at 0x171c5c9d6c0>"
      ]
     },
     "execution_count": 8,
     "metadata": {},
     "output_type": "execute_result"
    },
    {
     "data": {
      "image/png": "[encoded data removed]",
      "text/plain": [
       "<Figure size 500x500 with 1 Axes>"
      ]
     },
     "metadata": {},
     "output_type": "display_data"
    }
   ],
   "source": [
    "df_binary1 = df_binary[:][:70]\n",
    "  \n",
    "# Selecting the 1st 500 rows of the data \n",
    "sns.lmplot(x =\"stt\", y =\"Hieu suat\", data = df_binary1, \n",
    "                               order = 2, ci = None)"
   ]
  },
  {
   "cell_type": "code",
   "execution_count": 9,
   "metadata": {},
   "outputs": [
    {
     "name": "stdout",
     "output_type": "stream",
     "text": [
      "0.5496632225394751\n"
     ]
    }
   ],
   "source": [
    "df_binary1.fillna(method ='ffill', inplace = True) \n",
    "  \n",
    "X = np.array(df_binary1['stt']).reshape(-1, 1) \n",
    "y = np.array(df_binary1['Hieu suat']).reshape(-1, 1) \n",
    "  \n",
    "df_binary1.dropna(inplace = True) \n",
    "X_train, X_test, y_train, y_test = train_test_split(X, y, test_size = 0.25) \n",
    "  \n",
    "regr = LinearRegression() \n",
    "regr.fit(X_train, y_train) \n",
    "print(regr.score(X_test, y_test))"
   ]
  },
  {
   "cell_type": "code",
   "execution_count": 10,
   "metadata": {},
   "outputs": [
    {
     "data": {
      "image/png": "[encoded data removed]",
      "text/plain": [
       "<Figure size 640x480 with 1 Axes>"
      ]
     },
     "metadata": {},
     "output_type": "display_data"
    }
   ],
   "source": [
    "y_pred = regr.predict(X_test) \n",
    "plt.scatter(X_test, y_test, color ='b') \n",
    "plt.plot(X_test, y_pred, color ='k') \n",
    "  \n",
    "plt.show() "
   ]
  },
  {
   "cell_type": "code",
   "execution_count": 11,
   "metadata": {},
   "outputs": [
    {
     "data": {
      "text/plain": [
       "<seaborn.axisgrid.FacetGrid at 0x171d54228c0>"
      ]
     },
     "execution_count": 11,
     "metadata": {},
     "output_type": "execute_result"
    },
    {
     "data": {
      "image/png": "[encoded data removed]",
      "text/plain": [
       "<Figure size 500x500 with 1 Axes>"
      ]
     },
     "metadata": {},
     "output_type": "display_data"
    }
   ],
   "source": [
    "df_binary2 = df_binary[:][70:142]\n",
    "  \n",
    "# Selecting the 1st 500 rows of the data \n",
    "sns.lmplot(x =\"stt\", y =\"Hieu suat\", data = df_binary2, \n",
    "                               order = 2, ci = None)"
   ]
  },
  {
   "cell_type": "code",
   "execution_count": 12,
   "metadata": {},
   "outputs": [
    {
     "name": "stdout",
     "output_type": "stream",
     "text": [
      "0.029159674603900898\n"
     ]
    }
   ],
   "source": [
    "df_binary2.fillna(method ='ffill', inplace = True) \n",
    "  \n",
    "X = np.array(df_binary2['stt']).reshape(-1, 1) \n",
    "y = np.array(df_binary2['Hieu suat']).reshape(-1, 1) \n",
    "  \n",
    "df_binary2.dropna(inplace = True) \n",
    "X_train, X_test, y_train, y_test = train_test_split(X, y, test_size = 0.25) \n",
    "  \n",
    "regr = LinearRegression() \n",
    "regr.fit(X_train, y_train) \n",
    "print(regr.score(X_test, y_test))"
   ]
  },
  {
   "cell_type": "code",
   "execution_count": 13,
   "metadata": {},
   "outputs": [
    {
     "data": {
      "image/png": "[encoded data removed]",
      "text/plain": [
       "<Figure size 640x480 with 1 Axes>"
      ]
     },
     "metadata": {},
     "output_type": "display_data"
    }
   ],
   "source": [
    "y_pred = regr.predict(X_test) \n",
    "plt.scatter(X_test, y_test, color ='b') \n",
    "plt.plot(X_test, y_pred, color ='k') \n",
    "  \n",
    "plt.show() "
   ]
  }
 ],
 "metadata": {
  "kernelspec": {
   "display_name": "Python 3",
   "language": "python",
   "name": "python3"
  },
  "language_info": {
   "codemirror_mode": {
    "name": "ipython",
    "version": 3
   },
   "file_extension": ".py",
   "mimetype": "text/x-python",
   "name": "python",
   "nbconvert_exporter": "python",
   "pygments_lexer": "ipython3",
   "version": "3.10.11"
  },
  "orig_nbformat": 4
 },
 "nbformat": 4,
 "nbformat_minor": 2
}
